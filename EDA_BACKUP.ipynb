{
 "cells": [
  {
   "cell_type": "markdown",
   "metadata": {},
   "source": [
    "## Libraries and Definitions"
   ]
  },
  {
   "cell_type": "code",
   "execution_count": 2,
   "metadata": {},
   "outputs": [],
   "source": [
    "import pandas as pd\n",
    "import seaborn as sns\n",
    "import matplotlib.pyplot as plt\n",
    "import numpy as np"
   ]
  },
  {
   "cell_type": "code",
   "execution_count": 3,
   "metadata": {},
   "outputs": [],
   "source": [
    "sns.set(style=\"darkgrid\", context=\"talk\")\n",
    "plt.rcParams.update({\"grid.linewidth\":0.5, \"grid.alpha\":0.5})\n",
    "plt.style.use(\"dark_background\")"
   ]
  },
  {
   "cell_type": "markdown",
   "metadata": {},
   "source": [
    "## Data Exploration"
   ]
  },
  {
   "cell_type": "code",
   "execution_count": 4,
   "metadata": {},
   "outputs": [],
   "source": [
    "file_path = 'data/conversation_nps.csv'"
   ]
  },
  {
   "cell_type": "markdown",
   "metadata": {},
   "source": [
    "Fix JSON and CSV filenames"
   ]
  },
  {
   "cell_type": "code",
   "execution_count": 5,
   "metadata": {},
   "outputs": [],
   "source": [
    "import os\n",
    "path = 'data/'\n",
    "separator = '__'\n",
    "items = [ name for name in os.listdir(path) if os.path.isdir(os.path.join(path, name))]"
   ]
  },
  {
   "cell_type": "code",
   "execution_count": 6,
   "metadata": {},
   "outputs": [],
   "source": [
    "for i in items:\n",
    "    path_to_items = path + i + '/'\n",
    "    files = os.listdir(path_to_items)\n",
    "    for filename in files:\n",
    "        os.rename(path_to_items + filename, path_to_items + filename.replace('1_conversation_', '').split(separator,1)[0] + '.' + i)"
   ]
  },
  {
   "cell_type": "markdown",
   "metadata": {},
   "source": [
    "Now we have all items with the same id pattern"
   ]
  },
  {
   "cell_type": "code",
   "execution_count": 7,
   "metadata": {},
   "outputs": [],
   "source": [
    "for i in items:\n",
    "    path_to_items = path + i + '/'\n",
    "    files = os.listdir(path_to_items)\n",
    "    #print(files)"
   ]
  },
  {
   "cell_type": "code",
   "execution_count": 8,
   "metadata": {},
   "outputs": [],
   "source": [
    "df = pd.read_csv(file_path, header=None, usecols=[0,1], delimiter=';')\n",
    "df = df.rename(columns={0: 'id', 1: 'rating'})"
   ]
  },
  {
   "cell_type": "code",
   "execution_count": 9,
   "metadata": {},
   "outputs": [
    {
     "data": {
      "text/plain": [
       "'data/output/'"
      ]
     },
     "execution_count": 9,
     "metadata": {},
     "output_type": "execute_result"
    }
   ],
   "source": [
    "path_to_items"
   ]
  },
  {
   "cell_type": "code",
   "execution_count": 10,
   "metadata": {},
   "outputs": [],
   "source": [
    "vals = df.id.unique()\n",
    "result = []\n",
    "for root, dir, files in os.walk(path_to_items):\n",
    "    for i in vals:\n",
    "        if any(i in f for f in files):\n",
    "            result.append(i)"
   ]
  },
  {
   "cell_type": "code",
   "execution_count": 11,
   "metadata": {},
   "outputs": [
    {
     "data": {
      "text/plain": [
       "0"
      ]
     },
     "execution_count": 11,
     "metadata": {},
     "output_type": "execute_result"
    }
   ],
   "source": [
    "len(result)"
   ]
  },
  {
   "cell_type": "markdown",
   "metadata": {},
   "source": [
    "We have 988 files loaded in df that contains a phone register"
   ]
  },
  {
   "cell_type": "code",
   "execution_count": 12,
   "metadata": {},
   "outputs": [
    {
     "data": {
      "text/html": [
       "<div>\n",
       "<style scoped>\n",
       "    .dataframe tbody tr th:only-of-type {\n",
       "        vertical-align: middle;\n",
       "    }\n",
       "\n",
       "    .dataframe tbody tr th {\n",
       "        vertical-align: top;\n",
       "    }\n",
       "\n",
       "    .dataframe thead th {\n",
       "        text-align: right;\n",
       "    }\n",
       "</style>\n",
       "<table border=\"1\" class=\"dataframe\">\n",
       "  <thead>\n",
       "    <tr style=\"text-align: right;\">\n",
       "      <th></th>\n",
       "      <th>id</th>\n",
       "      <th>rating</th>\n",
       "    </tr>\n",
       "  </thead>\n",
       "  <tbody>\n",
       "    <tr>\n",
       "      <th>0</th>\n",
       "      <td>265e5551-7fc3-40d4-b4e5-18e15b1f714b</td>\n",
       "      <td>5.0</td>\n",
       "    </tr>\n",
       "    <tr>\n",
       "      <th>1</th>\n",
       "      <td>265f3b20-d426-4bcc-b46d-375b0e920532</td>\n",
       "      <td>5.0</td>\n",
       "    </tr>\n",
       "    <tr>\n",
       "      <th>2</th>\n",
       "      <td>26614192-7d2d-4518-b315-c0ca74014461</td>\n",
       "      <td>5.0</td>\n",
       "    </tr>\n",
       "    <tr>\n",
       "      <th>3</th>\n",
       "      <td>266580c7-5f96-428b-bfc9-1749a490cf35</td>\n",
       "      <td>5.0</td>\n",
       "    </tr>\n",
       "    <tr>\n",
       "      <th>4</th>\n",
       "      <td>26670455-d46e-4a03-9e70-1560992ff04f</td>\n",
       "      <td>NaN</td>\n",
       "    </tr>\n",
       "    <tr>\n",
       "      <th>...</th>\n",
       "      <td>...</td>\n",
       "      <td>...</td>\n",
       "    </tr>\n",
       "    <tr>\n",
       "      <th>996</th>\n",
       "      <td>3f333e1f-67b5-48db-9112-1fd036f952c8</td>\n",
       "      <td>NaN</td>\n",
       "    </tr>\n",
       "    <tr>\n",
       "      <th>997</th>\n",
       "      <td>3f363ffb-ce63-439c-a3dd-0458f25476b7</td>\n",
       "      <td>NaN</td>\n",
       "    </tr>\n",
       "    <tr>\n",
       "      <th>998</th>\n",
       "      <td>3f41cbb4-3d15-4134-8eac-97506e2cf340</td>\n",
       "      <td>NaN</td>\n",
       "    </tr>\n",
       "    <tr>\n",
       "      <th>999</th>\n",
       "      <td>3f59dd32-bd7c-47ed-a8ac-59af63a43a66</td>\n",
       "      <td>5.0</td>\n",
       "    </tr>\n",
       "    <tr>\n",
       "      <th>1000</th>\n",
       "      <td>3f59dd32-bd7c-47ed-a8ac-59af63a43a66</td>\n",
       "      <td>5.0</td>\n",
       "    </tr>\n",
       "  </tbody>\n",
       "</table>\n",
       "<p>1001 rows × 2 columns</p>\n",
       "</div>"
      ],
      "text/plain": [
       "                                        id  rating\n",
       "0     265e5551-7fc3-40d4-b4e5-18e15b1f714b     5.0\n",
       "1     265f3b20-d426-4bcc-b46d-375b0e920532     5.0\n",
       "2     26614192-7d2d-4518-b315-c0ca74014461     5.0\n",
       "3     266580c7-5f96-428b-bfc9-1749a490cf35     5.0\n",
       "4     26670455-d46e-4a03-9e70-1560992ff04f     NaN\n",
       "...                                    ...     ...\n",
       "996   3f333e1f-67b5-48db-9112-1fd036f952c8     NaN\n",
       "997   3f363ffb-ce63-439c-a3dd-0458f25476b7     NaN\n",
       "998   3f41cbb4-3d15-4134-8eac-97506e2cf340     NaN\n",
       "999   3f59dd32-bd7c-47ed-a8ac-59af63a43a66     5.0\n",
       "1000  3f59dd32-bd7c-47ed-a8ac-59af63a43a66     5.0\n",
       "\n",
       "[1001 rows x 2 columns]"
      ]
     },
     "execution_count": 12,
     "metadata": {},
     "output_type": "execute_result"
    }
   ],
   "source": [
    "df"
   ]
  },
  {
   "cell_type": "code",
   "execution_count": 13,
   "metadata": {},
   "outputs": [
    {
     "data": {
      "text/plain": [
       "5.0    272\n",
       "4.0     19\n",
       "1.0      9\n",
       "3.0      4\n",
       "2.0      2\n",
       "Name: rating, dtype: int64"
      ]
     },
     "execution_count": 13,
     "metadata": {},
     "output_type": "execute_result"
    }
   ],
   "source": [
    "df.rating.value_counts()"
   ]
  },
  {
   "cell_type": "markdown",
   "metadata": {},
   "source": [
    "Merging CSV Files"
   ]
  },
  {
   "cell_type": "code",
   "execution_count": 14,
   "metadata": {},
   "outputs": [
    {
     "data": {
      "text/plain": [
       "'data/csv/'"
      ]
     },
     "execution_count": 14,
     "metadata": {},
     "output_type": "execute_result"
    }
   ],
   "source": [
    "path_to_csv = path + 'csv/'\n",
    "path_to_csv"
   ]
  },
  {
   "cell_type": "code",
   "execution_count": 15,
   "metadata": {},
   "outputs": [],
   "source": [
    "csv_files = os.listdir(path_to_csv)"
   ]
  },
  {
   "cell_type": "code",
   "execution_count": 16,
   "metadata": {},
   "outputs": [],
   "source": [
    "filtered = []\n",
    "\n",
    "for f in csv_files:\n",
    "    data = pd.read_csv(\n",
    "        path_to_csv + f,\n",
    "        index_col=[0]\n",
    "    )\n",
    "    data['id'] = f.replace('.csv', '')\n",
    "    filtered.append(data)"
   ]
  },
  {
   "cell_type": "code",
   "execution_count": 17,
   "metadata": {},
   "outputs": [],
   "source": [
    "concated = pd.concat(filtered, ignore_index=True)"
   ]
  },
  {
   "cell_type": "code",
   "execution_count": 18,
   "metadata": {},
   "outputs": [
    {
     "data": {
      "text/html": [
       "<div>\n",
       "<style scoped>\n",
       "    .dataframe tbody tr th:only-of-type {\n",
       "        vertical-align: middle;\n",
       "    }\n",
       "\n",
       "    .dataframe tbody tr th {\n",
       "        vertical-align: top;\n",
       "    }\n",
       "\n",
       "    .dataframe thead th {\n",
       "        text-align: right;\n",
       "    }\n",
       "</style>\n",
       "<table border=\"1\" class=\"dataframe\">\n",
       "  <thead>\n",
       "    <tr style=\"text-align: right;\">\n",
       "      <th></th>\n",
       "      <th>id</th>\n",
       "      <th>rating</th>\n",
       "    </tr>\n",
       "  </thead>\n",
       "  <tbody>\n",
       "    <tr>\n",
       "      <th>445</th>\n",
       "      <td>316aef5c-3da7-4a53-948a-076c8454fe66</td>\n",
       "      <td>NaN</td>\n",
       "    </tr>\n",
       "    <tr>\n",
       "      <th>829</th>\n",
       "      <td>3b03d9d8-1fde-49ac-83ef-63d1e58d54db</td>\n",
       "      <td>5.0</td>\n",
       "    </tr>\n",
       "    <tr>\n",
       "      <th>930</th>\n",
       "      <td>3d5e01fc-d84f-4d0b-a1c3-7d58d4431499</td>\n",
       "      <td>NaN</td>\n",
       "    </tr>\n",
       "  </tbody>\n",
       "</table>\n",
       "</div>"
      ],
      "text/plain": [
       "                                       id  rating\n",
       "445  316aef5c-3da7-4a53-948a-076c8454fe66     NaN\n",
       "829  3b03d9d8-1fde-49ac-83ef-63d1e58d54db     5.0\n",
       "930  3d5e01fc-d84f-4d0b-a1c3-7d58d4431499     NaN"
      ]
     },
     "execution_count": 18,
     "metadata": {},
     "output_type": "execute_result"
    }
   ],
   "source": [
    "df.sample(3)"
   ]
  },
  {
   "cell_type": "code",
   "execution_count": 19,
   "metadata": {},
   "outputs": [
    {
     "data": {
      "text/html": [
       "<div>\n",
       "<style scoped>\n",
       "    .dataframe tbody tr th:only-of-type {\n",
       "        vertical-align: middle;\n",
       "    }\n",
       "\n",
       "    .dataframe tbody tr th {\n",
       "        vertical-align: top;\n",
       "    }\n",
       "\n",
       "    .dataframe thead th {\n",
       "        text-align: right;\n",
       "    }\n",
       "</style>\n",
       "<table border=\"1\" class=\"dataframe\">\n",
       "  <thead>\n",
       "    <tr style=\"text-align: right;\">\n",
       "      <th></th>\n",
       "      <th>start_time</th>\n",
       "      <th>end_time</th>\n",
       "      <th>speaker</th>\n",
       "      <th>comment</th>\n",
       "      <th>id</th>\n",
       "    </tr>\n",
       "  </thead>\n",
       "  <tbody>\n",
       "    <tr>\n",
       "      <th>29963</th>\n",
       "      <td>0:18:36</td>\n",
       "      <td>0:18:37</td>\n",
       "      <td>ch_1</td>\n",
       "      <td>desculpa é #### número #### e o #### ou é duas...</td>\n",
       "      <td>3100a031-76bb-41f3-95ca-5be46fe20496</td>\n",
       "    </tr>\n",
       "    <tr>\n",
       "      <th>16191</th>\n",
       "      <td>0:13:32</td>\n",
       "      <td>0:13:32</td>\n",
       "      <td>ch_0</td>\n",
       "      <td>é porque eu não sei. Eu até posso falar com o ...</td>\n",
       "      <td>2bf1e70e-de7e-4fe4-807f-db88d55a4e44</td>\n",
       "    </tr>\n",
       "    <tr>\n",
       "      <th>1269</th>\n",
       "      <td>0:01:58</td>\n",
       "      <td>0:01:58</td>\n",
       "      <td>ch_0</td>\n",
       "      <td>Ah, então tá sim, pode! Pode me dizer o número</td>\n",
       "      <td>26e39d7e-ba66-44af-8346-23e806e8e97b</td>\n",
       "    </tr>\n",
       "  </tbody>\n",
       "</table>\n",
       "</div>"
      ],
      "text/plain": [
       "      start_time end_time speaker  \\\n",
       "29963    0:18:36  0:18:37    ch_1   \n",
       "16191    0:13:32  0:13:32    ch_0   \n",
       "1269     0:01:58  0:01:58    ch_0   \n",
       "\n",
       "                                                 comment  \\\n",
       "29963  desculpa é #### número #### e o #### ou é duas...   \n",
       "16191  é porque eu não sei. Eu até posso falar com o ...   \n",
       "1269      Ah, então tá sim, pode! Pode me dizer o número   \n",
       "\n",
       "                                         id  \n",
       "29963  3100a031-76bb-41f3-95ca-5be46fe20496  \n",
       "16191  2bf1e70e-de7e-4fe4-807f-db88d55a4e44  \n",
       "1269   26e39d7e-ba66-44af-8346-23e806e8e97b  "
      ]
     },
     "execution_count": 19,
     "metadata": {},
     "output_type": "execute_result"
    }
   ],
   "source": [
    "concated.sample(3)"
   ]
  },
  {
   "cell_type": "code",
   "execution_count": 20,
   "metadata": {},
   "outputs": [],
   "source": [
    "inner_df = pd.merge(df, concated, how='inner', on='id')"
   ]
  },
  {
   "cell_type": "code",
   "execution_count": 21,
   "metadata": {},
   "outputs": [
    {
     "data": {
      "text/html": [
       "<div>\n",
       "<style scoped>\n",
       "    .dataframe tbody tr th:only-of-type {\n",
       "        vertical-align: middle;\n",
       "    }\n",
       "\n",
       "    .dataframe tbody tr th {\n",
       "        vertical-align: top;\n",
       "    }\n",
       "\n",
       "    .dataframe thead th {\n",
       "        text-align: right;\n",
       "    }\n",
       "</style>\n",
       "<table border=\"1\" class=\"dataframe\">\n",
       "  <thead>\n",
       "    <tr style=\"text-align: right;\">\n",
       "      <th></th>\n",
       "      <th>id</th>\n",
       "      <th>rating</th>\n",
       "      <th>start_time</th>\n",
       "      <th>end_time</th>\n",
       "      <th>speaker</th>\n",
       "      <th>comment</th>\n",
       "    </tr>\n",
       "  </thead>\n",
       "  <tbody>\n",
       "    <tr>\n",
       "      <th>0</th>\n",
       "      <td>265e5551-7fc3-40d4-b4e5-18e15b1f714b</td>\n",
       "      <td>5.0</td>\n",
       "      <td>0:00:01</td>\n",
       "      <td>0:00:01</td>\n",
       "      <td>ch_1</td>\n",
       "      <td>sua chamada será encaminhada para ## de nossos...</td>\n",
       "    </tr>\n",
       "    <tr>\n",
       "      <th>1</th>\n",
       "      <td>265e5551-7fc3-40d4-b4e5-18e15b1f714b</td>\n",
       "      <td>5.0</td>\n",
       "      <td>0:00:12</td>\n",
       "      <td>0:00:13</td>\n",
       "      <td>ch_0</td>\n",
       "      <td>bom dia! Meu nome é #######</td>\n",
       "    </tr>\n",
       "    <tr>\n",
       "      <th>2</th>\n",
       "      <td>265e5551-7fc3-40d4-b4e5-18e15b1f714b</td>\n",
       "      <td>5.0</td>\n",
       "      <td>0:00:14</td>\n",
       "      <td>0:00:14</td>\n",
       "      <td>ch_1</td>\n",
       "      <td>tudo bem. ######! Como eu posso te ajudar?</td>\n",
       "    </tr>\n",
       "    <tr>\n",
       "      <th>3</th>\n",
       "      <td>265e5551-7fc3-40d4-b4e5-18e15b1f714b</td>\n",
       "      <td>5.0</td>\n",
       "      <td>0:00:18</td>\n",
       "      <td>0:00:19</td>\n",
       "      <td>ch_0</td>\n",
       "      <td>O cartão, esse cartão ou conta jurídica? Ele t...</td>\n",
       "    </tr>\n",
       "    <tr>\n",
       "      <th>4</th>\n",
       "      <td>265e5551-7fc3-40d4-b4e5-18e15b1f714b</td>\n",
       "      <td>5.0</td>\n",
       "      <td>0:00:31</td>\n",
       "      <td>0:00:31</td>\n",
       "      <td>ch_1</td>\n",
       "      <td>É Vamos dar uma olhadinha. Qual é o teu CPF?</td>\n",
       "    </tr>\n",
       "    <tr>\n",
       "      <th>...</th>\n",
       "      <td>...</td>\n",
       "      <td>...</td>\n",
       "      <td>...</td>\n",
       "      <td>...</td>\n",
       "      <td>...</td>\n",
       "      <td>...</td>\n",
       "    </tr>\n",
       "    <tr>\n",
       "      <th>68755</th>\n",
       "      <td>3f59dd32-bd7c-47ed-a8ac-59af63a43a66</td>\n",
       "      <td>5.0</td>\n",
       "      <td>0:27:04</td>\n",
       "      <td>0:27:04</td>\n",
       "      <td>ch_1</td>\n",
       "      <td>##### e #### ###### ####.</td>\n",
       "    </tr>\n",
       "    <tr>\n",
       "      <th>68756</th>\n",
       "      <td>3f59dd32-bd7c-47ed-a8ac-59af63a43a66</td>\n",
       "      <td>5.0</td>\n",
       "      <td>0:27:06</td>\n",
       "      <td>0:27:07</td>\n",
       "      <td>ch_0</td>\n",
       "      <td>##### e #### ###### Muito obrigado pela sua at...</td>\n",
       "    </tr>\n",
       "    <tr>\n",
       "      <th>68757</th>\n",
       "      <td>3f59dd32-bd7c-47ed-a8ac-59af63a43a66</td>\n",
       "      <td>5.0</td>\n",
       "      <td>0:27:08</td>\n",
       "      <td>0:27:10</td>\n",
       "      <td>ch_1</td>\n",
       "      <td>Eu que agradeço se puder no final ## ligação. ...</td>\n",
       "    </tr>\n",
       "    <tr>\n",
       "      <th>68758</th>\n",
       "      <td>3f59dd32-bd7c-47ed-a8ac-59af63a43a66</td>\n",
       "      <td>5.0</td>\n",
       "      <td>0:27:16</td>\n",
       "      <td>0:27:16</td>\n",
       "      <td>ch_0</td>\n",
       "      <td>Tá, pode deixar que vou avaliá Muito obrigada,...</td>\n",
       "    </tr>\n",
       "    <tr>\n",
       "      <th>68759</th>\n",
       "      <td>3f59dd32-bd7c-47ed-a8ac-59af63a43a66</td>\n",
       "      <td>5.0</td>\n",
       "      <td>0:27:17</td>\n",
       "      <td>0:27:18</td>\n",
       "      <td>ch_1</td>\n",
       "      <td>##### e agora convido você para responder a no...</td>\n",
       "    </tr>\n",
       "  </tbody>\n",
       "</table>\n",
       "<p>68760 rows × 6 columns</p>\n",
       "</div>"
      ],
      "text/plain": [
       "                                         id  rating start_time end_time  \\\n",
       "0      265e5551-7fc3-40d4-b4e5-18e15b1f714b     5.0    0:00:01  0:00:01   \n",
       "1      265e5551-7fc3-40d4-b4e5-18e15b1f714b     5.0    0:00:12  0:00:13   \n",
       "2      265e5551-7fc3-40d4-b4e5-18e15b1f714b     5.0    0:00:14  0:00:14   \n",
       "3      265e5551-7fc3-40d4-b4e5-18e15b1f714b     5.0    0:00:18  0:00:19   \n",
       "4      265e5551-7fc3-40d4-b4e5-18e15b1f714b     5.0    0:00:31  0:00:31   \n",
       "...                                     ...     ...        ...      ...   \n",
       "68755  3f59dd32-bd7c-47ed-a8ac-59af63a43a66     5.0    0:27:04  0:27:04   \n",
       "68756  3f59dd32-bd7c-47ed-a8ac-59af63a43a66     5.0    0:27:06  0:27:07   \n",
       "68757  3f59dd32-bd7c-47ed-a8ac-59af63a43a66     5.0    0:27:08  0:27:10   \n",
       "68758  3f59dd32-bd7c-47ed-a8ac-59af63a43a66     5.0    0:27:16  0:27:16   \n",
       "68759  3f59dd32-bd7c-47ed-a8ac-59af63a43a66     5.0    0:27:17  0:27:18   \n",
       "\n",
       "      speaker                                            comment  \n",
       "0        ch_1  sua chamada será encaminhada para ## de nossos...  \n",
       "1        ch_0                        bom dia! Meu nome é #######  \n",
       "2        ch_1         tudo bem. ######! Como eu posso te ajudar?  \n",
       "3        ch_0  O cartão, esse cartão ou conta jurídica? Ele t...  \n",
       "4        ch_1       É Vamos dar uma olhadinha. Qual é o teu CPF?  \n",
       "...       ...                                                ...  \n",
       "68755    ch_1                          ##### e #### ###### ####.  \n",
       "68756    ch_0  ##### e #### ###### Muito obrigado pela sua at...  \n",
       "68757    ch_1  Eu que agradeço se puder no final ## ligação. ...  \n",
       "68758    ch_0  Tá, pode deixar que vou avaliá Muito obrigada,...  \n",
       "68759    ch_1  ##### e agora convido você para responder a no...  \n",
       "\n",
       "[68760 rows x 6 columns]"
      ]
     },
     "execution_count": 21,
     "metadata": {},
     "output_type": "execute_result"
    }
   ],
   "source": [
    "inner_df"
   ]
  },
  {
   "cell_type": "markdown",
   "metadata": {},
   "source": [
    "## General NPS Analysis"
   ]
  },
  {
   "cell_type": "markdown",
   "metadata": {},
   "source": [
    "In all dataset we just have 306 not-null values for nps-rating"
   ]
  },
  {
   "cell_type": "code",
   "execution_count": 22,
   "metadata": {},
   "outputs": [
    {
     "data": {
      "text/plain": [
       "306"
      ]
     },
     "execution_count": 22,
     "metadata": {},
     "output_type": "execute_result"
    }
   ],
   "source": [
    "df.rating.value_counts().sum()"
   ]
  },
  {
   "cell_type": "code",
   "execution_count": 23,
   "metadata": {},
   "outputs": [
    {
     "data": {
      "text/plain": [
       "305"
      ]
     },
     "execution_count": 23,
     "metadata": {},
     "output_type": "execute_result"
    }
   ],
   "source": [
    "inner_df.groupby('id').rating.first().value_counts().sum()"
   ]
  },
  {
   "cell_type": "markdown",
   "metadata": {},
   "source": [
    "We have A LOT of 5 stars rating for our customer service"
   ]
  },
  {
   "cell_type": "code",
   "execution_count": 90,
   "metadata": {},
   "outputs": [],
   "source": [
    "exp = df.copy()\n",
    "exp2 = exp.copy()"
   ]
  },
  {
   "cell_type": "code",
   "execution_count": 91,
   "metadata": {},
   "outputs": [],
   "source": [
    "exp.rating = exp.rating.fillna('No Review')\n",
    "exp2.dropna(subset='rating', inplace=True)"
   ]
  },
  {
   "cell_type": "code",
   "execution_count": 78,
   "metadata": {},
   "outputs": [
    {
     "data": {
      "text/html": [
       "<div>\n",
       "<style scoped>\n",
       "    .dataframe tbody tr th:only-of-type {\n",
       "        vertical-align: middle;\n",
       "    }\n",
       "\n",
       "    .dataframe tbody tr th {\n",
       "        vertical-align: top;\n",
       "    }\n",
       "\n",
       "    .dataframe thead th {\n",
       "        text-align: right;\n",
       "    }\n",
       "</style>\n",
       "<table border=\"1\" class=\"dataframe\">\n",
       "  <thead>\n",
       "    <tr style=\"text-align: right;\">\n",
       "      <th></th>\n",
       "      <th>id</th>\n",
       "      <th>rating</th>\n",
       "    </tr>\n",
       "  </thead>\n",
       "  <tbody>\n",
       "    <tr>\n",
       "      <th>742</th>\n",
       "      <td>38840a79-eff9-45e2-a958-fa5d6b4e0b8b</td>\n",
       "      <td>5.0</td>\n",
       "    </tr>\n",
       "    <tr>\n",
       "      <th>583</th>\n",
       "      <td>34a41f58-91aa-4a32-972f-c18d96dfa16d</td>\n",
       "      <td>No Review</td>\n",
       "    </tr>\n",
       "    <tr>\n",
       "      <th>456</th>\n",
       "      <td>31ae3027-a760-4f5f-ba2d-6e1093595e0d</td>\n",
       "      <td>5.0</td>\n",
       "    </tr>\n",
       "    <tr>\n",
       "      <th>834</th>\n",
       "      <td>3b25273a-173e-4f03-b032-ef26e0bae0af</td>\n",
       "      <td>No Review</td>\n",
       "    </tr>\n",
       "    <tr>\n",
       "      <th>480</th>\n",
       "      <td>325795bf-5f67-4b10-94ff-41efac63cf1e</td>\n",
       "      <td>No Review</td>\n",
       "    </tr>\n",
       "  </tbody>\n",
       "</table>\n",
       "</div>"
      ],
      "text/plain": [
       "                                       id     rating\n",
       "742  38840a79-eff9-45e2-a958-fa5d6b4e0b8b        5.0\n",
       "583  34a41f58-91aa-4a32-972f-c18d96dfa16d  No Review\n",
       "456  31ae3027-a760-4f5f-ba2d-6e1093595e0d        5.0\n",
       "834  3b25273a-173e-4f03-b032-ef26e0bae0af  No Review\n",
       "480  325795bf-5f67-4b10-94ff-41efac63cf1e  No Review"
      ]
     },
     "execution_count": 78,
     "metadata": {},
     "output_type": "execute_result"
    }
   ],
   "source": [
    "exp.sample(5)"
   ]
  },
  {
   "cell_type": "code",
   "execution_count": 79,
   "metadata": {},
   "outputs": [
    {
     "data": {
      "text/plain": [
       "Text(0.5, 1.0, 'Customers vs Rating')"
      ]
     },
     "execution_count": 79,
     "metadata": {},
     "output_type": "execute_result"
    },
    {
     "data": {
      "image/png": "[encoded data removed]",
      "text/plain": [
       "<Figure size 1300x700 with 1 Axes>"
      ]
     },
     "metadata": {},
     "output_type": "display_data"
    }
   ],
   "source": [
    "fig, ax = plt.subplots(figsize = (13,7))\n",
    "sns.countplot(x='rating', data=exp, palette=\"pastel\")\n",
    "ax.set_xlabel( \"Rating Category\" , size = 12)\n",
    "ax.set_ylabel( \"Number of Customers\" , size = 12)\n",
    "ax.set_title( \"Customers vs Rating\" , size = 24 )"
   ]
  },
  {
   "cell_type": "code",
   "execution_count": 80,
   "metadata": {},
   "outputs": [],
   "source": [
    "new_rating = []\n",
    "for row in exp['rating']:\n",
    "    \n",
    "    if row == 'No Review':\n",
    "        new_rating.append('No Review')\n",
    "    elif row < 5.0:\n",
    "        new_rating.append('Others')\n",
    "    else:\n",
    "        new_rating.append(5.0)\n",
    "        \n",
    "exp['unbalanced_rating'] = new_rating"
   ]
  },
  {
   "cell_type": "code",
   "execution_count": 81,
   "metadata": {},
   "outputs": [
    {
     "data": {
      "text/plain": [
       "No Review    695\n",
       "5.0          272\n",
       "Others        34\n",
       "Name: unbalanced_rating, dtype: int64"
      ]
     },
     "execution_count": 81,
     "metadata": {},
     "output_type": "execute_result"
    }
   ],
   "source": [
    "exp.unbalanced_rating.value_counts()"
   ]
  },
  {
   "cell_type": "code",
   "execution_count": 82,
   "metadata": {},
   "outputs": [
    {
     "data": {
      "text/plain": [
       "Text(0.5, 1.0, 'Customers vs Rating Classification')"
      ]
     },
     "execution_count": 82,
     "metadata": {},
     "output_type": "execute_result"
    },
    {
     "data": {
      "image/png": "[encoded data removed]",
      "text/plain": [
       "<Figure size 1300x700 with 1 Axes>"
      ]
     },
     "metadata": {},
     "output_type": "display_data"
    }
   ],
   "source": [
    "fig, ax = plt.subplots(figsize = (13,7))\n",
    "sns.countplot(x='unbalanced_rating', data=exp, palette=\"pastel\")\n",
    "ax.set_xlabel( \"Rating Category\" , size = 12)\n",
    "ax.set_ylabel( \"Number of Customers\" , size = 12)\n",
    "ax.set_title( \"Customers vs Rating Classification\" , size = 24 )"
   ]
  },
  {
   "cell_type": "code",
   "execution_count": 93,
   "metadata": {},
   "outputs": [],
   "source": [
    "nps_rating = []\n",
    "for row in exp2['rating']:\n",
    "    if (row >= 4.0):\n",
    "        nps_rating.append('Promoters')\n",
    "    elif (row >= 3.0):\n",
    "        nps_rating.append('Passive')\n",
    "    else:\n",
    "        nps_rating.append('Detractors')\n",
    "exp2['nps_rating'] = nps_rating"
   ]
  },
  {
   "cell_type": "code",
   "execution_count": 94,
   "metadata": {},
   "outputs": [
    {
     "data": {
      "image/png": "[encoded data removed]",
      "text/plain": [
       "<Figure size 1300x700 with 1 Axes>"
      ]
     },
     "metadata": {},
     "output_type": "display_data"
    }
   ],
   "source": [
    "fig, ax = plt.subplots(figsize = (13,7))\n",
    "sns.countplot(x='nps_rating', data=exp2, palette=\"pastel\")\n",
    "ax.set_xlabel( \"NPS Category\" , size = 12)\n",
    "ax.set_ylabel( \"Number of Customers\" , size = 12)\n",
    "ax.set_title( \"Customers vs NPS Classification\" , size = 24 )\n",
    "plt.show()\n"
   ]
  },
  {
   "cell_type": "code",
   "execution_count": 95,
   "metadata": {},
   "outputs": [
    {
     "data": {
      "text/plain": [
       "id                0\n",
       "rating        45923\n",
       "start_time        0\n",
       "end_time          0\n",
       "speaker           0\n",
       "comment           0\n",
       "dtype: int64"
      ]
     },
     "execution_count": 95,
     "metadata": {},
     "output_type": "execute_result"
    }
   ],
   "source": [
    "inner_df.isna().sum()"
   ]
  },
  {
   "cell_type": "code",
   "execution_count": 33,
   "metadata": {},
   "outputs": [],
   "source": [
    "agg_funcs = {'rating' : 'first',\n",
    "            'comment' : 'size', \n",
    "            'end_time': 'last' }"
   ]
  },
  {
   "cell_type": "code",
   "execution_count": 98,
   "metadata": {},
   "outputs": [],
   "source": [
    "relation_rating_comment = inner_df.groupby('id').agg(agg_funcs).reset_index().rename(columns={'comment': 'number_comments', 'end_time': 'minutes'})\n",
    "relation_rating_comment.minutes = pd.to_datetime(relation_rating_comment.minutes, format='%H:%M:%S').dt.minute"
   ]
  },
  {
   "cell_type": "code",
   "execution_count": 101,
   "metadata": {},
   "outputs": [
    {
     "data": {
      "text/plain": [
       "id                   0\n",
       "rating             683\n",
       "number_comments      0\n",
       "minutes              0\n",
       "dtype: int64"
      ]
     },
     "execution_count": 101,
     "metadata": {},
     "output_type": "execute_result"
    }
   ],
   "source": [
    "relation_rating_comment.isna().sum()"
   ]
  },
  {
   "cell_type": "code",
   "execution_count": 102,
   "metadata": {},
   "outputs": [],
   "source": [
    "relation_rating_comment.rating.fillna('No Review', inplace=True)"
   ]
  },
  {
   "cell_type": "code",
   "execution_count": 103,
   "metadata": {},
   "outputs": [
    {
     "data": {
      "image/png": "[encoded data removed]",
      "text/plain": [
       "<Figure size 1200x500 with 1 Axes>"
      ]
     },
     "metadata": {},
     "output_type": "display_data"
    }
   ],
   "source": [
    "fig, ax = plt.subplots(figsize = (12,5))\n",
    "sns.pointplot(data=relation_rating_comment, x='rating', y='number_comments', estimator='median')\n",
    "ax.set_ylabel( \"Comments\" , size = 12)\n",
    "ax.set_xlabel( \"Rating\" , size = 12)\n",
    "ax.set_title( \"Comments vs Rating\" , size = 20 )\n",
    "plt.show()"
   ]
  },
  {
   "cell_type": "code",
   "execution_count": 104,
   "metadata": {},
   "outputs": [
    {
     "data": {
      "image/png": "[encoded data removed]",
      "text/plain": [
       "<Figure size 1200x500 with 1 Axes>"
      ]
     },
     "metadata": {},
     "output_type": "display_data"
    }
   ],
   "source": [
    "fig, ax = plt.subplots(figsize = (12,5))\n",
    "sns.pointplot(data=relation_rating_comment, x='rating', y='minutes', estimator='median')\n",
    "ax.set_ylabel( \"Minutes\" , size = 12)\n",
    "ax.set_xlabel( \"Rating\" , size = 12)\n",
    "ax.set_title( \"Minutes vs Rating\" , size = 20 )\n",
    "plt.show()"
   ]
  },
  {
   "cell_type": "code",
   "execution_count": 38,
   "metadata": {},
   "outputs": [
    {
     "data": {
      "text/html": [
       "<div>\n",
       "<style scoped>\n",
       "    .dataframe tbody tr th:only-of-type {\n",
       "        vertical-align: middle;\n",
       "    }\n",
       "\n",
       "    .dataframe tbody tr th {\n",
       "        vertical-align: top;\n",
       "    }\n",
       "\n",
       "    .dataframe thead th {\n",
       "        text-align: right;\n",
       "    }\n",
       "</style>\n",
       "<table border=\"1\" class=\"dataframe\">\n",
       "  <thead>\n",
       "    <tr style=\"text-align: right;\">\n",
       "      <th></th>\n",
       "      <th>id</th>\n",
       "      <th>rating</th>\n",
       "      <th>start_time</th>\n",
       "      <th>end_time</th>\n",
       "      <th>speaker</th>\n",
       "      <th>comment</th>\n",
       "    </tr>\n",
       "  </thead>\n",
       "  <tbody>\n",
       "    <tr>\n",
       "      <th>0</th>\n",
       "      <td>265e5551-7fc3-40d4-b4e5-18e15b1f714b</td>\n",
       "      <td>5.0</td>\n",
       "      <td>0:00:01</td>\n",
       "      <td>0:00:01</td>\n",
       "      <td>ch_1</td>\n",
       "      <td>sua chamada será encaminhada para ## de nossos...</td>\n",
       "    </tr>\n",
       "    <tr>\n",
       "      <th>1</th>\n",
       "      <td>265e5551-7fc3-40d4-b4e5-18e15b1f714b</td>\n",
       "      <td>5.0</td>\n",
       "      <td>0:00:12</td>\n",
       "      <td>0:00:13</td>\n",
       "      <td>ch_0</td>\n",
       "      <td>bom dia! Meu nome é #######</td>\n",
       "    </tr>\n",
       "    <tr>\n",
       "      <th>2</th>\n",
       "      <td>265e5551-7fc3-40d4-b4e5-18e15b1f714b</td>\n",
       "      <td>5.0</td>\n",
       "      <td>0:00:14</td>\n",
       "      <td>0:00:14</td>\n",
       "      <td>ch_1</td>\n",
       "      <td>tudo bem. ######! Como eu posso te ajudar?</td>\n",
       "    </tr>\n",
       "    <tr>\n",
       "      <th>3</th>\n",
       "      <td>265e5551-7fc3-40d4-b4e5-18e15b1f714b</td>\n",
       "      <td>5.0</td>\n",
       "      <td>0:00:18</td>\n",
       "      <td>0:00:19</td>\n",
       "      <td>ch_0</td>\n",
       "      <td>O cartão, esse cartão ou conta jurídica? Ele t...</td>\n",
       "    </tr>\n",
       "    <tr>\n",
       "      <th>4</th>\n",
       "      <td>265e5551-7fc3-40d4-b4e5-18e15b1f714b</td>\n",
       "      <td>5.0</td>\n",
       "      <td>0:00:31</td>\n",
       "      <td>0:00:31</td>\n",
       "      <td>ch_1</td>\n",
       "      <td>É Vamos dar uma olhadinha. Qual é o teu CPF?</td>\n",
       "    </tr>\n",
       "    <tr>\n",
       "      <th>...</th>\n",
       "      <td>...</td>\n",
       "      <td>...</td>\n",
       "      <td>...</td>\n",
       "      <td>...</td>\n",
       "      <td>...</td>\n",
       "      <td>...</td>\n",
       "    </tr>\n",
       "    <tr>\n",
       "      <th>80</th>\n",
       "      <td>265e5551-7fc3-40d4-b4e5-18e15b1f714b</td>\n",
       "      <td>5.0</td>\n",
       "      <td>0:10:58</td>\n",
       "      <td>0:10:58</td>\n",
       "      <td>ch_1</td>\n",
       "      <td>Então, tá, Se tu puder aguardar pra avaliar o ...</td>\n",
       "    </tr>\n",
       "    <tr>\n",
       "      <th>81</th>\n",
       "      <td>265e5551-7fc3-40d4-b4e5-18e15b1f714b</td>\n",
       "      <td>5.0</td>\n",
       "      <td>0:11:03</td>\n",
       "      <td>0:11:04</td>\n",
       "      <td>ch_0</td>\n",
       "      <td>tá jóia Brigada</td>\n",
       "    </tr>\n",
       "    <tr>\n",
       "      <th>82</th>\n",
       "      <td>265e5551-7fc3-40d4-b4e5-18e15b1f714b</td>\n",
       "      <td>5.0</td>\n",
       "      <td>0:11:04</td>\n",
       "      <td>0:11:05</td>\n",
       "      <td>ch_1</td>\n",
       "      <td>Obrigada. Tchau. Tchau</td>\n",
       "    </tr>\n",
       "    <tr>\n",
       "      <th>83</th>\n",
       "      <td>265e5551-7fc3-40d4-b4e5-18e15b1f714b</td>\n",
       "      <td>5.0</td>\n",
       "      <td>0:11:06</td>\n",
       "      <td>0:11:07</td>\n",
       "      <td>ch_0</td>\n",
       "      <td>Tchau</td>\n",
       "    </tr>\n",
       "    <tr>\n",
       "      <th>84</th>\n",
       "      <td>265e5551-7fc3-40d4-b4e5-18e15b1f714b</td>\n",
       "      <td>5.0</td>\n",
       "      <td>0:11:11</td>\n",
       "      <td>0:11:11</td>\n",
       "      <td>ch_1</td>\n",
       "      <td>e agora? Convido você para responder. A nossa ...</td>\n",
       "    </tr>\n",
       "  </tbody>\n",
       "</table>\n",
       "<p>85 rows × 6 columns</p>\n",
       "</div>"
      ],
      "text/plain": [
       "                                      id  rating start_time end_time speaker  \\\n",
       "0   265e5551-7fc3-40d4-b4e5-18e15b1f714b     5.0    0:00:01  0:00:01    ch_1   \n",
       "1   265e5551-7fc3-40d4-b4e5-18e15b1f714b     5.0    0:00:12  0:00:13    ch_0   \n",
       "2   265e5551-7fc3-40d4-b4e5-18e15b1f714b     5.0    0:00:14  0:00:14    ch_1   \n",
       "3   265e5551-7fc3-40d4-b4e5-18e15b1f714b     5.0    0:00:18  0:00:19    ch_0   \n",
       "4   265e5551-7fc3-40d4-b4e5-18e15b1f714b     5.0    0:00:31  0:00:31    ch_1   \n",
       "..                                   ...     ...        ...      ...     ...   \n",
       "80  265e5551-7fc3-40d4-b4e5-18e15b1f714b     5.0    0:10:58  0:10:58    ch_1   \n",
       "81  265e5551-7fc3-40d4-b4e5-18e15b1f714b     5.0    0:11:03  0:11:04    ch_0   \n",
       "82  265e5551-7fc3-40d4-b4e5-18e15b1f714b     5.0    0:11:04  0:11:05    ch_1   \n",
       "83  265e5551-7fc3-40d4-b4e5-18e15b1f714b     5.0    0:11:06  0:11:07    ch_0   \n",
       "84  265e5551-7fc3-40d4-b4e5-18e15b1f714b     5.0    0:11:11  0:11:11    ch_1   \n",
       "\n",
       "                                              comment  \n",
       "0   sua chamada será encaminhada para ## de nossos...  \n",
       "1                         bom dia! Meu nome é #######  \n",
       "2          tudo bem. ######! Como eu posso te ajudar?  \n",
       "3   O cartão, esse cartão ou conta jurídica? Ele t...  \n",
       "4        É Vamos dar uma olhadinha. Qual é o teu CPF?  \n",
       "..                                                ...  \n",
       "80  Então, tá, Se tu puder aguardar pra avaliar o ...  \n",
       "81                                    tá jóia Brigada  \n",
       "82                             Obrigada. Tchau. Tchau  \n",
       "83                                              Tchau  \n",
       "84  e agora? Convido você para responder. A nossa ...  \n",
       "\n",
       "[85 rows x 6 columns]"
      ]
     },
     "execution_count": 38,
     "metadata": {},
     "output_type": "execute_result"
    }
   ],
   "source": [
    "inner_df[inner_df.id == '265e5551-7fc3-40d4-b4e5-18e15b1f714b']"
   ]
  },
  {
   "cell_type": "markdown",
   "metadata": {},
   "source": [
    "## NLP Analysis"
   ]
  },
  {
   "cell_type": "code",
   "execution_count": 112,
   "metadata": {},
   "outputs": [],
   "source": [
    "import nltk\n",
    "#nltk.download('stopwords')\n",
    "from collections import Counter\n",
    "import re\n",
    "from nltk import ngrams"
   ]
  },
  {
   "cell_type": "code",
   "execution_count": 40,
   "metadata": {},
   "outputs": [],
   "source": [
    "stopwords = nltk.corpus.stopwords.words('portuguese')"
   ]
  },
  {
   "cell_type": "code",
   "execution_count": 107,
   "metadata": {},
   "outputs": [],
   "source": [
    "extra_list = ['t','pra','a','aqui','ento', 'no', 'eu', 'carto', 'n']\n",
    "stopwords.append(extra_list)"
   ]
  },
  {
   "cell_type": "code",
   "execution_count": 41,
   "metadata": {},
   "outputs": [],
   "source": [
    "import re\n",
    "def clean_text(data, column):\n",
    "    data[column] = data[column].apply(lambda x: ' '.join([word for word in x.split() if word not in (stopwords)])\\\n",
    "        .lower().encode('ascii', errors='ignore').decode('utf-8'))\n",
    "    data[column] = data[column].apply(lambda x: re.sub('\\W+',' ', x)) \n",
    "    return data"
   ]
  },
  {
   "cell_type": "code",
   "execution_count": 114,
   "metadata": {},
   "outputs": [],
   "source": [
    "def return_most_common(df, n_words, column, n_gram):\n",
    "    all_text = [' '.join(df[column])]\n",
    "    output_words = all_text[0].split()\n",
    "    ctr = Counter(ngrams(output_words, n_gram))\n",
    "    most_occur = ctr.most_common(n_words)\n",
    "    return most_occur"
   ]
  },
  {
   "cell_type": "markdown",
   "metadata": {},
   "source": [
    "98% of our conversation_id has actual data of comments and time "
   ]
  },
  {
   "cell_type": "code",
   "execution_count": 43,
   "metadata": {},
   "outputs": [
    {
     "data": {
      "text/plain": [
       "0.987012987012987"
      ]
     },
     "execution_count": 43,
     "metadata": {},
     "output_type": "execute_result"
    }
   ],
   "source": [
    "len(inner_df.id.unique())/len(df)"
   ]
  },
  {
   "cell_type": "markdown",
   "metadata": {},
   "source": [
    "Here we have all ratings with minutes of call and all customer comments in a string"
   ]
  },
  {
   "cell_type": "code",
   "execution_count": 44,
   "metadata": {},
   "outputs": [
    {
     "data": {
      "text/html": [
       "<div>\n",
       "<style scoped>\n",
       "    .dataframe tbody tr th:only-of-type {\n",
       "        vertical-align: middle;\n",
       "    }\n",
       "\n",
       "    .dataframe tbody tr th {\n",
       "        vertical-align: top;\n",
       "    }\n",
       "\n",
       "    .dataframe thead th {\n",
       "        text-align: right;\n",
       "    }\n",
       "</style>\n",
       "<table border=\"1\" class=\"dataframe\">\n",
       "  <thead>\n",
       "    <tr style=\"text-align: right;\">\n",
       "      <th></th>\n",
       "      <th>id</th>\n",
       "      <th>rating</th>\n",
       "      <th>speaker</th>\n",
       "      <th>comment</th>\n",
       "      <th>minutes</th>\n",
       "    </tr>\n",
       "  </thead>\n",
       "  <tbody>\n",
       "    <tr>\n",
       "      <th>0</th>\n",
       "      <td>265e5551-7fc3-40d4-b4e5-18e15b1f714b</td>\n",
       "      <td>5.0</td>\n",
       "      <td>ch_0</td>\n",
       "      <td>senha ah sim u pode falar t u sim u ento t jia...</td>\n",
       "      <td>11</td>\n",
       "    </tr>\n",
       "    <tr>\n",
       "      <th>1</th>\n",
       "      <td>265f3b20-d426-4bcc-b46d-375b0e920532</td>\n",
       "      <td>5.0</td>\n",
       "      <td>ch_0</td>\n",
       "      <td>sim t deixa perguntar outra coisa vai nmero c...</td>\n",
       "      <td>9</td>\n",
       "    </tr>\n",
       "    <tr>\n",
       "      <th>2</th>\n",
       "      <td>26614192-7d2d-4518-b315-c0ca74014461</td>\n",
       "      <td>5.0</td>\n",
       "      <td>ch_0</td>\n",
       "      <td>diminui valor parcela okay agradecer a caso ac...</td>\n",
       "      <td>11</td>\n",
       "    </tr>\n",
       "    <tr>\n",
       "      <th>3</th>\n",
       "      <td>266580c7-5f96-428b-bfc9-1749a490cf35</td>\n",
       "      <td>5.0</td>\n",
       "      <td>ch_0</td>\n",
       "      <td>queria saber detalhes caso fazer lance n cont...</td>\n",
       "      <td>4</td>\n",
       "    </tr>\n",
       "    <tr>\n",
       "      <th>4</th>\n",
       "      <td>26670455-d46e-4a03-9e70-1560992ff04f</td>\n",
       "      <td>NaN</td>\n",
       "      <td>ch_0</td>\n",
       "      <td>isso crdito carto n que dinheiro meu u existe ...</td>\n",
       "      <td>11</td>\n",
       "    </tr>\n",
       "    <tr>\n",
       "      <th>...</th>\n",
       "      <td>...</td>\n",
       "      <td>...</td>\n",
       "      <td>...</td>\n",
       "      <td>...</td>\n",
       "      <td>...</td>\n",
       "    </tr>\n",
       "    <tr>\n",
       "      <th>973</th>\n",
       "      <td>3f327a25-e87d-4c61-9327-9aa9f35a6ce7</td>\n",
       "      <td>4.0</td>\n",
       "      <td>ch_0</td>\n",
       "      <td>voc telefone isso t okay nome t jia eu fico ag...</td>\n",
       "      <td>16</td>\n",
       "    </tr>\n",
       "    <tr>\n",
       "      <th>974</th>\n",
       "      <td>3f333e1f-67b5-48db-9112-1fd036f952c8</td>\n",
       "      <td>NaN</td>\n",
       "      <td>ch_0</td>\n",
       "      <td>resumindo consegue fazer nada bloqueei meu car...</td>\n",
       "      <td>48</td>\n",
       "    </tr>\n",
       "    <tr>\n",
       "      <th>975</th>\n",
       "      <td>3f363ffb-ce63-439c-a3dd-0458f25476b7</td>\n",
       "      <td>NaN</td>\n",
       "      <td>ch_0</td>\n",
       "      <td>ah t obrigado hum faz assim pode conta poupana...</td>\n",
       "      <td>18</td>\n",
       "    </tr>\n",
       "    <tr>\n",
       "      <th>976</th>\n",
       "      <td>3f41cbb4-3d15-4134-8eac-97506e2cf340</td>\n",
       "      <td>NaN</td>\n",
       "      <td>ch_0</td>\n",
       "      <td>acha vou vou pra l mobi porque servio l lavour...</td>\n",
       "      <td>15</td>\n",
       "    </tr>\n",
       "    <tr>\n",
       "      <th>977</th>\n",
       "      <td>3f59dd32-bd7c-47ed-a8ac-59af63a43a66</td>\n",
       "      <td>5.0</td>\n",
       "      <td>ch_0</td>\n",
       "      <td>manivela isso isso mesmo quinta eh tinha foi f...</td>\n",
       "      <td>27</td>\n",
       "    </tr>\n",
       "  </tbody>\n",
       "</table>\n",
       "<p>978 rows × 5 columns</p>\n",
       "</div>"
      ],
      "text/plain": [
       "                                       id  rating speaker  \\\n",
       "0    265e5551-7fc3-40d4-b4e5-18e15b1f714b     5.0    ch_0   \n",
       "1    265f3b20-d426-4bcc-b46d-375b0e920532     5.0    ch_0   \n",
       "2    26614192-7d2d-4518-b315-c0ca74014461     5.0    ch_0   \n",
       "3    266580c7-5f96-428b-bfc9-1749a490cf35     5.0    ch_0   \n",
       "4    26670455-d46e-4a03-9e70-1560992ff04f     NaN    ch_0   \n",
       "..                                    ...     ...     ...   \n",
       "973  3f327a25-e87d-4c61-9327-9aa9f35a6ce7     4.0    ch_0   \n",
       "974  3f333e1f-67b5-48db-9112-1fd036f952c8     NaN    ch_0   \n",
       "975  3f363ffb-ce63-439c-a3dd-0458f25476b7     NaN    ch_0   \n",
       "976  3f41cbb4-3d15-4134-8eac-97506e2cf340     NaN    ch_0   \n",
       "977  3f59dd32-bd7c-47ed-a8ac-59af63a43a66     5.0    ch_0   \n",
       "\n",
       "                                               comment  minutes  \n",
       "0    senha ah sim u pode falar t u sim u ento t jia...       11  \n",
       "1     sim t deixa perguntar outra coisa vai nmero c...        9  \n",
       "2    diminui valor parcela okay agradecer a caso ac...       11  \n",
       "3     queria saber detalhes caso fazer lance n cont...        4  \n",
       "4    isso crdito carto n que dinheiro meu u existe ...       11  \n",
       "..                                                 ...      ...  \n",
       "973  voc telefone isso t okay nome t jia eu fico ag...       16  \n",
       "974  resumindo consegue fazer nada bloqueei meu car...       48  \n",
       "975  ah t obrigado hum faz assim pode conta poupana...       18  \n",
       "976  acha vou vou pra l mobi porque servio l lavour...       15  \n",
       "977  manivela isso isso mesmo quinta eh tinha foi f...       27  \n",
       "\n",
       "[978 rows x 5 columns]"
      ]
     },
     "execution_count": 44,
     "metadata": {},
     "output_type": "execute_result"
    }
   ],
   "source": [
    "sentiment_df = inner_df.query(\"speaker == 'ch_0'\").drop(columns=['start_time']).rename(columns={'end_time' : 'duration'})\n",
    "g = sentiment_df.groupby('id')\n",
    "sentiment_df.duration = (g['duration'].transform('last'))\n",
    "sentiment_df['minutes'] = pd.to_datetime(sentiment_df.duration, format='%H:%M:%S').dt.minute\n",
    "sentiment_df.drop(columns=['duration'], inplace=True)\n",
    "\n",
    "sentiment_df = sentiment_df.groupby('id').tail(10)\n",
    "\n",
    "sentiment_df = sentiment_df.groupby('id').agg({'rating' : 'first',\n",
    "                                'speaker': 'first',\n",
    "                                'comment': ' '.join,\n",
    "                                 'minutes': 'first' }).reset_index()\n",
    "sentiment_df = clean_text(sentiment_df, 'comment')\n",
    "\n",
    "\n",
    "sentiment_df"
   ]
  },
  {
   "cell_type": "code",
   "execution_count": 45,
   "metadata": {},
   "outputs": [
    {
     "data": {
      "text/plain": [
       "<AxesSubplot: >"
      ]
     },
     "execution_count": 45,
     "metadata": {},
     "output_type": "execute_result"
    },
    {
     "data": {
      "image/png": "[encoded data removed]",
      "text/plain": [
       "<Figure size 640x480 with 1 Axes>"
      ]
     },
     "metadata": {},
     "output_type": "display_data"
    }
   ],
   "source": [
    "sentiment_df.minutes.plot(kind='box')"
   ]
  },
  {
   "cell_type": "markdown",
   "metadata": {},
   "source": [
    "Sorting our dataset by comment len"
   ]
  },
  {
   "cell_type": "code",
   "execution_count": 46,
   "metadata": {},
   "outputs": [
    {
     "data": {
      "text/html": [
       "<div>\n",
       "<style scoped>\n",
       "    .dataframe tbody tr th:only-of-type {\n",
       "        vertical-align: middle;\n",
       "    }\n",
       "\n",
       "    .dataframe tbody tr th {\n",
       "        vertical-align: top;\n",
       "    }\n",
       "\n",
       "    .dataframe thead th {\n",
       "        text-align: right;\n",
       "    }\n",
       "</style>\n",
       "<table border=\"1\" class=\"dataframe\">\n",
       "  <thead>\n",
       "    <tr style=\"text-align: right;\">\n",
       "      <th></th>\n",
       "      <th>id</th>\n",
       "      <th>rating</th>\n",
       "      <th>speaker</th>\n",
       "      <th>comment</th>\n",
       "      <th>minutes</th>\n",
       "      <th>len</th>\n",
       "    </tr>\n",
       "  </thead>\n",
       "  <tbody>\n",
       "    <tr>\n",
       "      <th>650</th>\n",
       "      <td>36a651ee-cd6d-49cf-a849-7eb661e3d8a2</td>\n",
       "      <td>NaN</td>\n",
       "      <td>ch_0</td>\n",
       "      <td>al al al</td>\n",
       "      <td>6</td>\n",
       "      <td>9</td>\n",
       "    </tr>\n",
       "    <tr>\n",
       "      <th>248</th>\n",
       "      <td>2ca33a2a-ab95-469b-b0c7-139564891653</td>\n",
       "      <td>NaN</td>\n",
       "      <td>ch_0</td>\n",
       "      <td>t entendeu</td>\n",
       "      <td>1</td>\n",
       "      <td>11</td>\n",
       "    </tr>\n",
       "    <tr>\n",
       "      <th>306</th>\n",
       "      <td>2e63c84f-6c1f-4a15-a2b2-4a0aa2cfab4c</td>\n",
       "      <td>NaN</td>\n",
       "      <td>ch_0</td>\n",
       "      <td>ai desgraa</td>\n",
       "      <td>2</td>\n",
       "      <td>12</td>\n",
       "    </tr>\n",
       "  </tbody>\n",
       "</table>\n",
       "</div>"
      ],
      "text/plain": [
       "                                       id  rating speaker       comment  \\\n",
       "650  36a651ee-cd6d-49cf-a849-7eb661e3d8a2     NaN    ch_0     al al al    \n",
       "248  2ca33a2a-ab95-469b-b0c7-139564891653     NaN    ch_0   t entendeu    \n",
       "306  2e63c84f-6c1f-4a15-a2b2-4a0aa2cfab4c     NaN    ch_0   ai desgraa    \n",
       "\n",
       "     minutes  len  \n",
       "650        6    9  \n",
       "248        1   11  \n",
       "306        2   12  "
      ]
     },
     "execution_count": 46,
     "metadata": {},
     "output_type": "execute_result"
    }
   ],
   "source": [
    "sentiment_df['len'] = sentiment_df['comment'].str.len() \n",
    "sentiment_df = sentiment_df.sort_values(['len'], ascending=True)\n",
    "sentiment_df = sentiment_df.query(\"len > 5\").query(\"minutes >= 1\")\n",
    "sentiment_df.head(3)"
   ]
  },
  {
   "cell_type": "markdown",
   "metadata": {},
   "source": [
    "Checking for Gramatical Errors"
   ]
  },
  {
   "cell_type": "code",
   "execution_count": 47,
   "metadata": {},
   "outputs": [
    {
     "data": {
      "text/plain": [
       "966    sim boa tarde fala t certo amigo eu fiz agenda...\n",
       "417    consegui desbloquear outros cartes aparecer db...\n",
       "592    deixa ver minutinho ah sim t certo t bom obrig...\n",
       "549    no precisa no eu fiz portabilidade pixel pixel...\n",
       "108     quiser obrigado t anunciando aqui minutinho s...\n",
       "Name: comment, dtype: object"
      ]
     },
     "execution_count": 47,
     "metadata": {},
     "output_type": "execute_result"
    }
   ],
   "source": [
    "sentiment_df.comment.sample(5)"
   ]
  },
  {
   "cell_type": "markdown",
   "metadata": {},
   "source": [
    "Tokenization"
   ]
  },
  {
   "cell_type": "code",
   "execution_count": 48,
   "metadata": {},
   "outputs": [],
   "source": [
    "from gensim.parsing.porter import PorterStemmer\n",
    "from gensim.utils import simple_preprocess\n",
    "\n",
    "sentiment_df['tokenized_text'] = [simple_preprocess(line, deacc=True) for line in sentiment_df['comment']] "
   ]
  },
  {
   "cell_type": "code",
   "execution_count": 49,
   "metadata": {},
   "outputs": [
    {
     "data": {
      "text/html": [
       "<div>\n",
       "<style scoped>\n",
       "    .dataframe tbody tr th:only-of-type {\n",
       "        vertical-align: middle;\n",
       "    }\n",
       "\n",
       "    .dataframe tbody tr th {\n",
       "        vertical-align: top;\n",
       "    }\n",
       "\n",
       "    .dataframe thead th {\n",
       "        text-align: right;\n",
       "    }\n",
       "</style>\n",
       "<table border=\"1\" class=\"dataframe\">\n",
       "  <thead>\n",
       "    <tr style=\"text-align: right;\">\n",
       "      <th></th>\n",
       "      <th>id</th>\n",
       "      <th>rating</th>\n",
       "      <th>speaker</th>\n",
       "      <th>comment</th>\n",
       "      <th>minutes</th>\n",
       "      <th>len</th>\n",
       "      <th>tokenized_text</th>\n",
       "    </tr>\n",
       "  </thead>\n",
       "  <tbody>\n",
       "    <tr>\n",
       "      <th>650</th>\n",
       "      <td>36a651ee-cd6d-49cf-a849-7eb661e3d8a2</td>\n",
       "      <td>NaN</td>\n",
       "      <td>ch_0</td>\n",
       "      <td>al al al</td>\n",
       "      <td>6</td>\n",
       "      <td>9</td>\n",
       "      <td>[al, al, al]</td>\n",
       "    </tr>\n",
       "    <tr>\n",
       "      <th>248</th>\n",
       "      <td>2ca33a2a-ab95-469b-b0c7-139564891653</td>\n",
       "      <td>NaN</td>\n",
       "      <td>ch_0</td>\n",
       "      <td>t entendeu</td>\n",
       "      <td>1</td>\n",
       "      <td>11</td>\n",
       "      <td>[entendeu]</td>\n",
       "    </tr>\n",
       "    <tr>\n",
       "      <th>306</th>\n",
       "      <td>2e63c84f-6c1f-4a15-a2b2-4a0aa2cfab4c</td>\n",
       "      <td>NaN</td>\n",
       "      <td>ch_0</td>\n",
       "      <td>ai desgraa</td>\n",
       "      <td>2</td>\n",
       "      <td>12</td>\n",
       "      <td>[ai, desgraa]</td>\n",
       "    </tr>\n",
       "    <tr>\n",
       "      <th>927</th>\n",
       "      <td>3e0230ea-a9d8-4a57-a2aa-993753943927</td>\n",
       "      <td>NaN</td>\n",
       "      <td>ch_0</td>\n",
       "      <td>boa noite boa noite</td>\n",
       "      <td>2</td>\n",
       "      <td>20</td>\n",
       "      <td>[boa, noite, boa, noite]</td>\n",
       "    </tr>\n",
       "    <tr>\n",
       "      <th>322</th>\n",
       "      <td>2ea8ad9e-1dac-4d89-a17a-4f2c90b20a22</td>\n",
       "      <td>NaN</td>\n",
       "      <td>ch_0</td>\n",
       "      <td>foi t certo certo pode</td>\n",
       "      <td>4</td>\n",
       "      <td>23</td>\n",
       "      <td>[foi, certo, certo, pode]</td>\n",
       "    </tr>\n",
       "    <tr>\n",
       "      <th>...</th>\n",
       "      <td>...</td>\n",
       "      <td>...</td>\n",
       "      <td>...</td>\n",
       "      <td>...</td>\n",
       "      <td>...</td>\n",
       "      <td>...</td>\n",
       "      <td>...</td>\n",
       "    </tr>\n",
       "    <tr>\n",
       "      <th>430</th>\n",
       "      <td>314cdcdc-ab58-4e5e-a307-71ff78e383dd</td>\n",
       "      <td>5.0</td>\n",
       "      <td>ch_0</td>\n",
       "      <td>pois t vendo t dando t dando t dando exatament...</td>\n",
       "      <td>22</td>\n",
       "      <td>1638</td>\n",
       "      <td>[pois, vendo, dando, dando, dando, exatamente,...</td>\n",
       "    </tr>\n",
       "    <tr>\n",
       "      <th>229</th>\n",
       "      <td>2c22d9b8-751d-472b-a48a-7dba4944da5c</td>\n",
       "      <td>NaN</td>\n",
       "      <td>ch_0</td>\n",
       "      <td>t entendendo ver alterar horrio entendendo a b...</td>\n",
       "      <td>11</td>\n",
       "      <td>1646</td>\n",
       "      <td>[entendendo, ver, alterar, horrio, entendendo,...</td>\n",
       "    </tr>\n",
       "    <tr>\n",
       "      <th>79</th>\n",
       "      <td>282f055d-33b3-4aa8-a213-17f71e5dd564</td>\n",
       "      <td>NaN</td>\n",
       "      <td>ch_0</td>\n",
       "      <td>entendeu s assim vanice esperaria prxima respo...</td>\n",
       "      <td>48</td>\n",
       "      <td>1766</td>\n",
       "      <td>[entendeu, assim, vanice, esperaria, prxima, r...</td>\n",
       "    </tr>\n",
       "    <tr>\n",
       "      <th>614</th>\n",
       "      <td>35c1650e-eaa5-4c62-a9f3-ae5d653f5a66</td>\n",
       "      <td>NaN</td>\n",
       "      <td>ch_0</td>\n",
       "      <td>eu quero ter tem ter nmero sorteio eu conferir...</td>\n",
       "      <td>13</td>\n",
       "      <td>1924</td>\n",
       "      <td>[eu, quero, ter, tem, ter, nmero, sorteio, eu,...</td>\n",
       "    </tr>\n",
       "    <tr>\n",
       "      <th>182</th>\n",
       "      <td>2af6b27e-654d-4053-b855-8f804301715a</td>\n",
       "      <td>NaN</td>\n",
       "      <td>ch_0</td>\n",
       "      <td>eu entendi vender vida entendo conta vou pegar...</td>\n",
       "      <td>25</td>\n",
       "      <td>3300</td>\n",
       "      <td>[eu, entendi, vender, vida, entendo, conta, vo...</td>\n",
       "    </tr>\n",
       "  </tbody>\n",
       "</table>\n",
       "<p>949 rows × 7 columns</p>\n",
       "</div>"
      ],
      "text/plain": [
       "                                       id  rating speaker  \\\n",
       "650  36a651ee-cd6d-49cf-a849-7eb661e3d8a2     NaN    ch_0   \n",
       "248  2ca33a2a-ab95-469b-b0c7-139564891653     NaN    ch_0   \n",
       "306  2e63c84f-6c1f-4a15-a2b2-4a0aa2cfab4c     NaN    ch_0   \n",
       "927  3e0230ea-a9d8-4a57-a2aa-993753943927     NaN    ch_0   \n",
       "322  2ea8ad9e-1dac-4d89-a17a-4f2c90b20a22     NaN    ch_0   \n",
       "..                                    ...     ...     ...   \n",
       "430  314cdcdc-ab58-4e5e-a307-71ff78e383dd     5.0    ch_0   \n",
       "229  2c22d9b8-751d-472b-a48a-7dba4944da5c     NaN    ch_0   \n",
       "79   282f055d-33b3-4aa8-a213-17f71e5dd564     NaN    ch_0   \n",
       "614  35c1650e-eaa5-4c62-a9f3-ae5d653f5a66     NaN    ch_0   \n",
       "182  2af6b27e-654d-4053-b855-8f804301715a     NaN    ch_0   \n",
       "\n",
       "                                               comment  minutes   len  \\\n",
       "650                                          al al al         6     9   \n",
       "248                                        t entendeu         1    11   \n",
       "306                                        ai desgraa         2    12   \n",
       "927                               boa noite boa noite         2    20   \n",
       "322                            foi t certo certo pode         4    23   \n",
       "..                                                 ...      ...   ...   \n",
       "430  pois t vendo t dando t dando t dando exatament...       22  1638   \n",
       "229  t entendendo ver alterar horrio entendendo a b...       11  1646   \n",
       "79   entendeu s assim vanice esperaria prxima respo...       48  1766   \n",
       "614  eu quero ter tem ter nmero sorteio eu conferir...       13  1924   \n",
       "182  eu entendi vender vida entendo conta vou pegar...       25  3300   \n",
       "\n",
       "                                        tokenized_text  \n",
       "650                                       [al, al, al]  \n",
       "248                                         [entendeu]  \n",
       "306                                      [ai, desgraa]  \n",
       "927                           [boa, noite, boa, noite]  \n",
       "322                          [foi, certo, certo, pode]  \n",
       "..                                                 ...  \n",
       "430  [pois, vendo, dando, dando, dando, exatamente,...  \n",
       "229  [entendendo, ver, alterar, horrio, entendendo,...  \n",
       "79   [entendeu, assim, vanice, esperaria, prxima, r...  \n",
       "614  [eu, quero, ter, tem, ter, nmero, sorteio, eu,...  \n",
       "182  [eu, entendi, vender, vida, entendo, conta, vo...  \n",
       "\n",
       "[949 rows x 7 columns]"
      ]
     },
     "execution_count": 49,
     "metadata": {},
     "output_type": "execute_result"
    }
   ],
   "source": [
    "sentiment_df"
   ]
  },
  {
   "cell_type": "markdown",
   "metadata": {},
   "source": [
    "### Using Word2Vec"
   ]
  },
  {
   "cell_type": "code",
   "execution_count": 50,
   "metadata": {},
   "outputs": [],
   "source": [
    "from gensim.models import Word2Vec\n",
    "import time"
   ]
  },
  {
   "cell_type": "code",
   "execution_count": 51,
   "metadata": {},
   "outputs": [],
   "source": [
    "size = 100\n",
    "window = 4\n",
    "min_count = 1\n",
    "sg = 0"
   ]
  },
  {
   "cell_type": "code",
   "execution_count": 52,
   "metadata": {},
   "outputs": [],
   "source": [
    "OUTPUT_PATH = 'output/'"
   ]
  },
  {
   "cell_type": "code",
   "execution_count": 53,
   "metadata": {},
   "outputs": [
    {
     "name": "stdout",
     "output_type": "stream",
     "text": [
      "Time taken to train word2vec model: 0.14636445045471191\n"
     ]
    }
   ],
   "source": [
    "word2vec_model_file = OUTPUT_PATH + 'word2vec_' + str(size) + '.model'\n",
    "start_time = time.time()\n",
    "tokenized = pd.Series(sentiment_df['tokenized_text']).values\n",
    "# Train the Word2Vec Model\n",
    "w2v_model = Word2Vec(tokenized , min_count = min_count,  window = window, sg = sg)\n",
    "print(\"Time taken to train word2vec model: \" + str(time.time() - start_time))\n",
    "w2v_model.save('word2vec_.model')"
   ]
  },
  {
   "cell_type": "markdown",
   "metadata": {},
   "source": [
    "Generating a csv file encoded with Word2Vec"
   ]
  },
  {
   "cell_type": "code",
   "execution_count": 54,
   "metadata": {},
   "outputs": [
    {
     "ename": "NameError",
     "evalue": "name 'train_df' is not defined",
     "output_type": "error",
     "traceback": [
      "\u001b[1;31m---------------------------------------------------------------------------\u001b[0m",
      "\u001b[1;31mNameError\u001b[0m                                 Traceback (most recent call last)",
      "Cell \u001b[1;32mIn [54], line 1\u001b[0m\n\u001b[1;32m----> 1\u001b[0m train_df\n",
      "\u001b[1;31mNameError\u001b[0m: name 'train_df' is not defined"
     ]
    }
   ],
   "source": [
    "train_df"
   ]
  },
  {
   "cell_type": "code",
   "execution_count": null,
   "metadata": {},
   "outputs": [],
   "source": [
    "from sklearn.model_selection import train_test_split"
   ]
  },
  {
   "cell_type": "code",
   "execution_count": null,
   "metadata": {},
   "outputs": [],
   "source": [
    "train_df = sentiment_df[~sentiment_df.rating.isna()]\n",
    "X = train_df.iloc[ :, 4:6]\n",
    "y = train_df.rating.values\n",
    "X_train, X_test, y_train, y_test = train_test_split(X, y, test_size=0.1, random_state=42 )\n",
    "validation_df = sentiment_df[sentiment_df.rating.isna()]"
   ]
  },
  {
   "cell_type": "code",
   "execution_count": null,
   "metadata": {},
   "outputs": [
    {
     "data": {
      "text/plain": [
       "array([5., 5., 5., 5., 5., 1., 5., 5., 5., 5., 5., 4., 5., 5., 5., 4., 5.,\n",
       "       5., 5., 5., 5., 1., 5., 5., 5., 5., 5., 5., 4., 5., 5., 4., 5., 5.,\n",
       "       5., 5., 4., 5., 5., 1., 4., 3., 5., 5., 5., 1., 1., 5., 5., 5., 5.,\n",
       "       5., 5., 5., 5., 5., 5., 5., 5., 5., 5., 2., 5., 4., 5., 5., 2., 5.,\n",
       "       5., 5., 5., 5., 5., 5., 5., 5., 5., 5., 4., 5., 5., 5., 5., 5., 5.,\n",
       "       5., 5., 5., 5., 5., 5., 5., 4., 5., 5., 5., 5., 5., 5., 5., 5., 5.,\n",
       "       5., 5., 1., 5., 5., 5., 5., 5., 5., 5., 5., 5., 5., 5., 5., 5., 4.,\n",
       "       5., 5., 5., 5., 3., 5., 5., 3., 5., 5., 5., 5., 5., 5., 5., 5., 5.,\n",
       "       5., 4., 5., 5., 5., 5., 5., 5., 4., 5., 5., 5., 5., 5., 5., 5., 5.,\n",
       "       5., 5., 5., 1., 5., 5., 5., 5., 5., 5., 5., 4., 5., 5., 5., 5., 5.,\n",
       "       5., 5., 5., 5., 1., 5., 5., 5., 5., 5., 5., 5., 5., 5., 5., 5., 5.,\n",
       "       5., 4., 5., 5., 5., 5., 5., 1., 5., 5., 5., 5., 5., 5., 5., 5., 5.,\n",
       "       5., 5., 5., 5., 5., 5., 5., 5., 5., 5., 5., 5., 5., 5., 5., 5., 5.,\n",
       "       5., 5., 5., 5., 5., 5., 5., 5., 5., 5., 5., 5., 5., 5., 5., 5., 5.,\n",
       "       5., 5., 4., 5., 5., 5., 5., 5., 5., 5., 4., 5., 5., 5., 5., 4., 5.,\n",
       "       5., 5., 5., 5., 5., 5., 5., 5., 5., 5., 5., 5., 5., 5., 4., 5., 5.,\n",
       "       5., 5.])"
      ]
     },
     "execution_count": 304,
     "metadata": {},
     "output_type": "execute_result"
    }
   ],
   "source": [
    "y_train"
   ]
  },
  {
   "cell_type": "code",
   "execution_count": null,
   "metadata": {},
   "outputs": [
    {
     "data": {
      "text/plain": [
       "'train_review_word2vec.csv'"
      ]
     },
     "execution_count": 305,
     "metadata": {},
     "output_type": "execute_result"
    }
   ],
   "source": [
    "word2vec_filename = 'train_review_word2vec.csv'\n",
    "word2vec_filename"
   ]
  },
  {
   "cell_type": "code",
   "execution_count": null,
   "metadata": {},
   "outputs": [
    {
     "data": {
      "text/plain": [
       "array([-3.78870927e-02,  4.96748000e-01, -8.13546404e-02,  1.01547882e-01,\n",
       "        1.04021456e-03, -6.48142338e-01,  2.61507690e-01,  1.07613647e+00,\n",
       "       -4.32356596e-01, -2.85059988e-01, -1.85660675e-01, -7.78895497e-01,\n",
       "       -4.30283919e-02,  2.39418089e-01,  5.11148386e-02, -3.74349952e-01,\n",
       "        3.92411679e-01, -4.37225223e-01,  3.28598656e-02, -1.00378585e+00,\n",
       "        3.33530575e-01,  2.29152024e-01,  3.61594707e-01, -2.57111102e-01,\n",
       "       -1.06957950e-01, -1.36817783e-01, -3.54277164e-01, -8.26237798e-02,\n",
       "       -5.23542106e-01,  4.82788570e-02,  5.19354284e-01, -1.33582324e-01,\n",
       "        2.37425819e-01, -6.20735407e-01, -3.02030921e-01,  4.43900198e-01,\n",
       "        2.37895936e-01, -2.90323228e-01, -3.29508483e-01, -7.62672663e-01,\n",
       "       -9.10154805e-02, -4.04000819e-01, -1.73094124e-01, -1.66086197e-01,\n",
       "        4.59817201e-01, -4.93484199e-01, -3.19152921e-01, -1.73858151e-01,\n",
       "        2.64698565e-01,  5.39133787e-01,  1.26276881e-01, -4.26939577e-01,\n",
       "       -1.22087806e-01, -4.37634028e-02, -2.54036754e-01,  1.43695354e-01,\n",
       "        4.08160031e-01, -3.83717157e-02, -4.25022125e-01,  1.28455132e-01,\n",
       "        7.09869191e-02,  1.09671295e-01,  1.43534869e-01,  4.97393459e-02,\n",
       "       -5.20420551e-01,  5.85374653e-01,  2.45022088e-01,  4.25257057e-01,\n",
       "       -6.95076466e-01,  5.37620485e-01, -2.17175722e-01,  3.03340942e-01,\n",
       "        6.13609076e-01, -1.08108267e-01,  5.62918186e-01,  1.08205691e-01,\n",
       "        4.99600321e-02,  2.04664692e-02, -4.79469031e-01, -3.44965309e-02,\n",
       "       -2.74189711e-01,  1.49894044e-01, -4.44249600e-01,  5.34506440e-01,\n",
       "       -1.08267434e-01, -1.96225882e-01,  5.00653386e-02,  3.65694821e-01,\n",
       "        5.64223349e-01,  2.68138707e-01,  7.01999366e-01,  3.21041197e-01,\n",
       "       -1.69774089e-02, -4.03263271e-02,  6.64750695e-01,  4.18946475e-01,\n",
       "        2.68471658e-01, -4.21232522e-01,  1.30255833e-01, -1.33314863e-01],\n",
       "      dtype=float32)"
      ]
     },
     "execution_count": 326,
     "metadata": {},
     "output_type": "execute_result"
    }
   ],
   "source": [
    "w2v_model.wv[0]"
   ]
  },
  {
   "cell_type": "code",
   "execution_count": null,
   "metadata": {},
   "outputs": [],
   "source": [
    "with open(word2vec_filename, 'w+') as word2vec_file:\n",
    "    for index, row in X_train.iterrows():\n",
    "        model_vector = (np.mean([w2v_model.wv[token] for token in row['tokenized_text']], axis=0)).tolist()\n",
    "        if index == 0:\n",
    "            header = \",\".join(str(ele) for ele in range(1000))\n",
    "            word2vec_file.write(header)\n",
    "            word2vec_file.write(\"\\n\")\n",
    "        # Check if the line exists else it is vector of zeros\n",
    "        if type(model_vector) is list:  \n",
    "            line1 = \",\".join( [str(vector_element) for vector_element in model_vector] )\n",
    "        else:\n",
    "            line1 = \",\".join([str(0) for i in range(1000)])\n",
    "        word2vec_file.write(line1)\n",
    "        word2vec_file.write('\\n')"
   ]
  },
  {
   "cell_type": "markdown",
   "metadata": {},
   "source": [
    "Training the Model"
   ]
  },
  {
   "cell_type": "code",
   "execution_count": null,
   "metadata": {},
   "outputs": [],
   "source": [
    "from sklearn.tree import DecisionTreeClassifier"
   ]
  },
  {
   "cell_type": "code",
   "execution_count": null,
   "metadata": {},
   "outputs": [],
   "source": [
    "word2vec_df = pd.read_csv(word2vec_filename, on_bad_lines='skip', header=None)"
   ]
  },
  {
   "cell_type": "code",
   "execution_count": null,
   "metadata": {},
   "outputs": [
    {
     "data": {
      "text/html": [
       "<div>\n",
       "<style scoped>\n",
       "    .dataframe tbody tr th:only-of-type {\n",
       "        vertical-align: middle;\n",
       "    }\n",
       "\n",
       "    .dataframe tbody tr th {\n",
       "        vertical-align: top;\n",
       "    }\n",
       "\n",
       "    .dataframe thead th {\n",
       "        text-align: right;\n",
       "    }\n",
       "</style>\n",
       "<table border=\"1\" class=\"dataframe\">\n",
       "  <thead>\n",
       "    <tr style=\"text-align: right;\">\n",
       "      <th></th>\n",
       "      <th>0</th>\n",
       "      <th>1</th>\n",
       "      <th>2</th>\n",
       "      <th>3</th>\n",
       "      <th>4</th>\n",
       "      <th>5</th>\n",
       "      <th>6</th>\n",
       "      <th>7</th>\n",
       "      <th>8</th>\n",
       "      <th>9</th>\n",
       "      <th>...</th>\n",
       "      <th>90</th>\n",
       "      <th>91</th>\n",
       "      <th>92</th>\n",
       "      <th>93</th>\n",
       "      <th>94</th>\n",
       "      <th>95</th>\n",
       "      <th>96</th>\n",
       "      <th>97</th>\n",
       "      <th>98</th>\n",
       "      <th>99</th>\n",
       "    </tr>\n",
       "  </thead>\n",
       "  <tbody>\n",
       "    <tr>\n",
       "      <th>0</th>\n",
       "      <td>-0.022668</td>\n",
       "      <td>0.379893</td>\n",
       "      <td>-0.031711</td>\n",
       "      <td>-0.006952</td>\n",
       "      <td>0.072488</td>\n",
       "      <td>-0.517230</td>\n",
       "      <td>0.143644</td>\n",
       "      <td>0.787028</td>\n",
       "      <td>-0.309155</td>\n",
       "      <td>-0.209407</td>\n",
       "      <td>...</td>\n",
       "      <td>0.557417</td>\n",
       "      <td>0.265097</td>\n",
       "      <td>0.025805</td>\n",
       "      <td>0.033108</td>\n",
       "      <td>0.477271</td>\n",
       "      <td>0.375044</td>\n",
       "      <td>0.219378</td>\n",
       "      <td>-0.328598</td>\n",
       "      <td>0.051790</td>\n",
       "      <td>-0.116472</td>\n",
       "    </tr>\n",
       "    <tr>\n",
       "      <th>1</th>\n",
       "      <td>-0.021377</td>\n",
       "      <td>0.380650</td>\n",
       "      <td>-0.033799</td>\n",
       "      <td>0.008511</td>\n",
       "      <td>0.055713</td>\n",
       "      <td>-0.503260</td>\n",
       "      <td>0.149666</td>\n",
       "      <td>0.784577</td>\n",
       "      <td>-0.311338</td>\n",
       "      <td>-0.201504</td>\n",
       "      <td>...</td>\n",
       "      <td>0.549092</td>\n",
       "      <td>0.256837</td>\n",
       "      <td>0.014864</td>\n",
       "      <td>0.020641</td>\n",
       "      <td>0.474756</td>\n",
       "      <td>0.359317</td>\n",
       "      <td>0.216273</td>\n",
       "      <td>-0.319196</td>\n",
       "      <td>0.058398</td>\n",
       "      <td>-0.112670</td>\n",
       "    </tr>\n",
       "    <tr>\n",
       "      <th>2</th>\n",
       "      <td>-0.025666</td>\n",
       "      <td>0.427940</td>\n",
       "      <td>-0.032132</td>\n",
       "      <td>-0.013167</td>\n",
       "      <td>0.085499</td>\n",
       "      <td>-0.581332</td>\n",
       "      <td>0.157314</td>\n",
       "      <td>0.884786</td>\n",
       "      <td>-0.348743</td>\n",
       "      <td>-0.229851</td>\n",
       "      <td>...</td>\n",
       "      <td>0.630008</td>\n",
       "      <td>0.299127</td>\n",
       "      <td>0.036255</td>\n",
       "      <td>0.038755</td>\n",
       "      <td>0.537943</td>\n",
       "      <td>0.426671</td>\n",
       "      <td>0.251310</td>\n",
       "      <td>-0.369132</td>\n",
       "      <td>0.057499</td>\n",
       "      <td>-0.133255</td>\n",
       "    </tr>\n",
       "    <tr>\n",
       "      <th>3</th>\n",
       "      <td>-0.020243</td>\n",
       "      <td>0.342564</td>\n",
       "      <td>-0.022693</td>\n",
       "      <td>-0.013499</td>\n",
       "      <td>0.068834</td>\n",
       "      <td>-0.468733</td>\n",
       "      <td>0.124935</td>\n",
       "      <td>0.708177</td>\n",
       "      <td>-0.279898</td>\n",
       "      <td>-0.183758</td>\n",
       "      <td>...</td>\n",
       "      <td>0.506606</td>\n",
       "      <td>0.241593</td>\n",
       "      <td>0.029281</td>\n",
       "      <td>0.034338</td>\n",
       "      <td>0.427689</td>\n",
       "      <td>0.344646</td>\n",
       "      <td>0.202213</td>\n",
       "      <td>-0.296523</td>\n",
       "      <td>0.042707</td>\n",
       "      <td>-0.105278</td>\n",
       "    </tr>\n",
       "    <tr>\n",
       "      <th>4</th>\n",
       "      <td>-0.020957</td>\n",
       "      <td>0.382200</td>\n",
       "      <td>-0.035113</td>\n",
       "      <td>-0.000457</td>\n",
       "      <td>0.066698</td>\n",
       "      <td>-0.515257</td>\n",
       "      <td>0.150408</td>\n",
       "      <td>0.793494</td>\n",
       "      <td>-0.311884</td>\n",
       "      <td>-0.209114</td>\n",
       "      <td>...</td>\n",
       "      <td>0.559571</td>\n",
       "      <td>0.264481</td>\n",
       "      <td>0.025745</td>\n",
       "      <td>0.028276</td>\n",
       "      <td>0.483129</td>\n",
       "      <td>0.370630</td>\n",
       "      <td>0.223074</td>\n",
       "      <td>-0.327294</td>\n",
       "      <td>0.056749</td>\n",
       "      <td>-0.117382</td>\n",
       "    </tr>\n",
       "    <tr>\n",
       "      <th>...</th>\n",
       "      <td>...</td>\n",
       "      <td>...</td>\n",
       "      <td>...</td>\n",
       "      <td>...</td>\n",
       "      <td>...</td>\n",
       "      <td>...</td>\n",
       "      <td>...</td>\n",
       "      <td>...</td>\n",
       "      <td>...</td>\n",
       "      <td>...</td>\n",
       "      <td>...</td>\n",
       "      <td>...</td>\n",
       "      <td>...</td>\n",
       "      <td>...</td>\n",
       "      <td>...</td>\n",
       "      <td>...</td>\n",
       "      <td>...</td>\n",
       "      <td>...</td>\n",
       "      <td>...</td>\n",
       "      <td>...</td>\n",
       "      <td>...</td>\n",
       "    </tr>\n",
       "    <tr>\n",
       "      <th>269</th>\n",
       "      <td>-0.026707</td>\n",
       "      <td>0.391533</td>\n",
       "      <td>-0.045328</td>\n",
       "      <td>0.022643</td>\n",
       "      <td>0.050601</td>\n",
       "      <td>-0.517923</td>\n",
       "      <td>0.166535</td>\n",
       "      <td>0.817188</td>\n",
       "      <td>-0.326894</td>\n",
       "      <td>-0.212863</td>\n",
       "      <td>...</td>\n",
       "      <td>0.562385</td>\n",
       "      <td>0.263687</td>\n",
       "      <td>0.011358</td>\n",
       "      <td>0.013695</td>\n",
       "      <td>0.498673</td>\n",
       "      <td>0.360576</td>\n",
       "      <td>0.224447</td>\n",
       "      <td>-0.332419</td>\n",
       "      <td>0.071803</td>\n",
       "      <td>-0.117439</td>\n",
       "    </tr>\n",
       "    <tr>\n",
       "      <th>270</th>\n",
       "      <td>-0.037770</td>\n",
       "      <td>0.480366</td>\n",
       "      <td>-0.053947</td>\n",
       "      <td>0.030446</td>\n",
       "      <td>0.049678</td>\n",
       "      <td>-0.634990</td>\n",
       "      <td>0.214275</td>\n",
       "      <td>1.013306</td>\n",
       "      <td>-0.401252</td>\n",
       "      <td>-0.266920</td>\n",
       "      <td>...</td>\n",
       "      <td>0.700058</td>\n",
       "      <td>0.323449</td>\n",
       "      <td>0.007685</td>\n",
       "      <td>-0.004232</td>\n",
       "      <td>0.615384</td>\n",
       "      <td>0.436244</td>\n",
       "      <td>0.277103</td>\n",
       "      <td>-0.401826</td>\n",
       "      <td>0.090456</td>\n",
       "      <td>-0.137816</td>\n",
       "    </tr>\n",
       "    <tr>\n",
       "      <th>271</th>\n",
       "      <td>-0.018615</td>\n",
       "      <td>0.330613</td>\n",
       "      <td>-0.044735</td>\n",
       "      <td>0.022263</td>\n",
       "      <td>0.035718</td>\n",
       "      <td>-0.436994</td>\n",
       "      <td>0.143944</td>\n",
       "      <td>0.691336</td>\n",
       "      <td>-0.272764</td>\n",
       "      <td>-0.180742</td>\n",
       "      <td>...</td>\n",
       "      <td>0.472789</td>\n",
       "      <td>0.221626</td>\n",
       "      <td>0.005405</td>\n",
       "      <td>0.005838</td>\n",
       "      <td>0.422020</td>\n",
       "      <td>0.293563</td>\n",
       "      <td>0.187363</td>\n",
       "      <td>-0.278285</td>\n",
       "      <td>0.063978</td>\n",
       "      <td>-0.098943</td>\n",
       "    </tr>\n",
       "    <tr>\n",
       "      <th>272</th>\n",
       "      <td>-0.020560</td>\n",
       "      <td>0.341047</td>\n",
       "      <td>-0.027641</td>\n",
       "      <td>-0.001196</td>\n",
       "      <td>0.063196</td>\n",
       "      <td>-0.459479</td>\n",
       "      <td>0.131961</td>\n",
       "      <td>0.708284</td>\n",
       "      <td>-0.280174</td>\n",
       "      <td>-0.182770</td>\n",
       "      <td>...</td>\n",
       "      <td>0.495838</td>\n",
       "      <td>0.237179</td>\n",
       "      <td>0.021869</td>\n",
       "      <td>0.028977</td>\n",
       "      <td>0.430584</td>\n",
       "      <td>0.332849</td>\n",
       "      <td>0.197147</td>\n",
       "      <td>-0.292868</td>\n",
       "      <td>0.050119</td>\n",
       "      <td>-0.103762</td>\n",
       "    </tr>\n",
       "    <tr>\n",
       "      <th>273</th>\n",
       "      <td>-0.024878</td>\n",
       "      <td>0.386402</td>\n",
       "      <td>-0.030699</td>\n",
       "      <td>0.001111</td>\n",
       "      <td>0.067076</td>\n",
       "      <td>-0.519368</td>\n",
       "      <td>0.148613</td>\n",
       "      <td>0.797791</td>\n",
       "      <td>-0.317093</td>\n",
       "      <td>-0.207723</td>\n",
       "      <td>...</td>\n",
       "      <td>0.562531</td>\n",
       "      <td>0.269641</td>\n",
       "      <td>0.025674</td>\n",
       "      <td>0.027272</td>\n",
       "      <td>0.485213</td>\n",
       "      <td>0.377419</td>\n",
       "      <td>0.223126</td>\n",
       "      <td>-0.327305</td>\n",
       "      <td>0.054895</td>\n",
       "      <td>-0.117139</td>\n",
       "    </tr>\n",
       "  </tbody>\n",
       "</table>\n",
       "<p>274 rows × 100 columns</p>\n",
       "</div>"
      ],
      "text/plain": [
       "           0         1         2         3         4         5         6   \\\n",
       "0   -0.022668  0.379893 -0.031711 -0.006952  0.072488 -0.517230  0.143644   \n",
       "1   -0.021377  0.380650 -0.033799  0.008511  0.055713 -0.503260  0.149666   \n",
       "2   -0.025666  0.427940 -0.032132 -0.013167  0.085499 -0.581332  0.157314   \n",
       "3   -0.020243  0.342564 -0.022693 -0.013499  0.068834 -0.468733  0.124935   \n",
       "4   -0.020957  0.382200 -0.035113 -0.000457  0.066698 -0.515257  0.150408   \n",
       "..        ...       ...       ...       ...       ...       ...       ...   \n",
       "269 -0.026707  0.391533 -0.045328  0.022643  0.050601 -0.517923  0.166535   \n",
       "270 -0.037770  0.480366 -0.053947  0.030446  0.049678 -0.634990  0.214275   \n",
       "271 -0.018615  0.330613 -0.044735  0.022263  0.035718 -0.436994  0.143944   \n",
       "272 -0.020560  0.341047 -0.027641 -0.001196  0.063196 -0.459479  0.131961   \n",
       "273 -0.024878  0.386402 -0.030699  0.001111  0.067076 -0.519368  0.148613   \n",
       "\n",
       "           7         8         9   ...        90        91        92  \\\n",
       "0    0.787028 -0.309155 -0.209407  ...  0.557417  0.265097  0.025805   \n",
       "1    0.784577 -0.311338 -0.201504  ...  0.549092  0.256837  0.014864   \n",
       "2    0.884786 -0.348743 -0.229851  ...  0.630008  0.299127  0.036255   \n",
       "3    0.708177 -0.279898 -0.183758  ...  0.506606  0.241593  0.029281   \n",
       "4    0.793494 -0.311884 -0.209114  ...  0.559571  0.264481  0.025745   \n",
       "..        ...       ...       ...  ...       ...       ...       ...   \n",
       "269  0.817188 -0.326894 -0.212863  ...  0.562385  0.263687  0.011358   \n",
       "270  1.013306 -0.401252 -0.266920  ...  0.700058  0.323449  0.007685   \n",
       "271  0.691336 -0.272764 -0.180742  ...  0.472789  0.221626  0.005405   \n",
       "272  0.708284 -0.280174 -0.182770  ...  0.495838  0.237179  0.021869   \n",
       "273  0.797791 -0.317093 -0.207723  ...  0.562531  0.269641  0.025674   \n",
       "\n",
       "           93        94        95        96        97        98        99  \n",
       "0    0.033108  0.477271  0.375044  0.219378 -0.328598  0.051790 -0.116472  \n",
       "1    0.020641  0.474756  0.359317  0.216273 -0.319196  0.058398 -0.112670  \n",
       "2    0.038755  0.537943  0.426671  0.251310 -0.369132  0.057499 -0.133255  \n",
       "3    0.034338  0.427689  0.344646  0.202213 -0.296523  0.042707 -0.105278  \n",
       "4    0.028276  0.483129  0.370630  0.223074 -0.327294  0.056749 -0.117382  \n",
       "..        ...       ...       ...       ...       ...       ...       ...  \n",
       "269  0.013695  0.498673  0.360576  0.224447 -0.332419  0.071803 -0.117439  \n",
       "270 -0.004232  0.615384  0.436244  0.277103 -0.401826  0.090456 -0.137816  \n",
       "271  0.005838  0.422020  0.293563  0.187363 -0.278285  0.063978 -0.098943  \n",
       "272  0.028977  0.430584  0.332849  0.197147 -0.292868  0.050119 -0.103762  \n",
       "273  0.027272  0.485213  0.377419  0.223126 -0.327305  0.054895 -0.117139  \n",
       "\n",
       "[274 rows x 100 columns]"
      ]
     },
     "execution_count": 310,
     "metadata": {},
     "output_type": "execute_result"
    }
   ],
   "source": [
    "word2vec_df"
   ]
  },
  {
   "cell_type": "code",
   "execution_count": null,
   "metadata": {},
   "outputs": [],
   "source": [
    "dsc_word2vec = DecisionTreeClassifier()"
   ]
  },
  {
   "cell_type": "code",
   "execution_count": null,
   "metadata": {},
   "outputs": [
    {
     "data": {
      "text/plain": [
       "(274, 2)"
      ]
     },
     "execution_count": 321,
     "metadata": {},
     "output_type": "execute_result"
    }
   ],
   "source": [
    "X_train.shape"
   ]
  },
  {
   "cell_type": "code",
   "execution_count": null,
   "metadata": {},
   "outputs": [
    {
     "data": {
      "text/html": [
       "<style>#sk-container-id-2 {color: black;background-color: white;}#sk-container-id-2 pre{padding: 0;}#sk-container-id-2 div.sk-toggleable {background-color: white;}#sk-container-id-2 label.sk-toggleable__label {cursor: pointer;display: block;width: 100%;margin-bottom: 0;padding: 0.3em;box-sizing: border-box;text-align: center;}#sk-container-id-2 label.sk-toggleable__label-arrow:before {content: \"▸\";float: left;margin-right: 0.25em;color: #696969;}#sk-container-id-2 label.sk-toggleable__label-arrow:hover:before {color: black;}#sk-container-id-2 div.sk-estimator:hover label.sk-toggleable__label-arrow:before {color: black;}#sk-container-id-2 div.sk-toggleable__content {max-height: 0;max-width: 0;overflow: hidden;text-align: left;background-color: #f0f8ff;}#sk-container-id-2 div.sk-toggleable__content pre {margin: 0.2em;color: black;border-radius: 0.25em;background-color: #f0f8ff;}#sk-container-id-2 input.sk-toggleable__control:checked~div.sk-toggleable__content {max-height: 200px;max-width: 100%;overflow: auto;}#sk-container-id-2 input.sk-toggleable__control:checked~label.sk-toggleable__label-arrow:before {content: \"▾\";}#sk-container-id-2 div.sk-estimator input.sk-toggleable__control:checked~label.sk-toggleable__label {background-color: #d4ebff;}#sk-container-id-2 div.sk-label input.sk-toggleable__control:checked~label.sk-toggleable__label {background-color: #d4ebff;}#sk-container-id-2 input.sk-hidden--visually {border: 0;clip: rect(1px 1px 1px 1px);clip: rect(1px, 1px, 1px, 1px);height: 1px;margin: -1px;overflow: hidden;padding: 0;position: absolute;width: 1px;}#sk-container-id-2 div.sk-estimator {font-family: monospace;background-color: #f0f8ff;border: 1px dotted black;border-radius: 0.25em;box-sizing: border-box;margin-bottom: 0.5em;}#sk-container-id-2 div.sk-estimator:hover {background-color: #d4ebff;}#sk-container-id-2 div.sk-parallel-item::after {content: \"\";width: 100%;border-bottom: 1px solid gray;flex-grow: 1;}#sk-container-id-2 div.sk-label:hover label.sk-toggleable__label {background-color: #d4ebff;}#sk-container-id-2 div.sk-serial::before {content: \"\";position: absolute;border-left: 1px solid gray;box-sizing: border-box;top: 0;bottom: 0;left: 50%;z-index: 0;}#sk-container-id-2 div.sk-serial {display: flex;flex-direction: column;align-items: center;background-color: white;padding-right: 0.2em;padding-left: 0.2em;position: relative;}#sk-container-id-2 div.sk-item {position: relative;z-index: 1;}#sk-container-id-2 div.sk-parallel {display: flex;align-items: stretch;justify-content: center;background-color: white;position: relative;}#sk-container-id-2 div.sk-item::before, #sk-container-id-2 div.sk-parallel-item::before {content: \"\";position: absolute;border-left: 1px solid gray;box-sizing: border-box;top: 0;bottom: 0;left: 50%;z-index: -1;}#sk-container-id-2 div.sk-parallel-item {display: flex;flex-direction: column;z-index: 1;position: relative;background-color: white;}#sk-container-id-2 div.sk-parallel-item:first-child::after {align-self: flex-end;width: 50%;}#sk-container-id-2 div.sk-parallel-item:last-child::after {align-self: flex-start;width: 50%;}#sk-container-id-2 div.sk-parallel-item:only-child::after {width: 0;}#sk-container-id-2 div.sk-dashed-wrapped {border: 1px dashed gray;margin: 0 0.4em 0.5em 0.4em;box-sizing: border-box;padding-bottom: 0.4em;background-color: white;}#sk-container-id-2 div.sk-label label {font-family: monospace;font-weight: bold;display: inline-block;line-height: 1.2em;}#sk-container-id-2 div.sk-label-container {text-align: center;}#sk-container-id-2 div.sk-container {/* jupyter's `normalize.less` sets `[hidden] { display: none; }` but bootstrap.min.css set `[hidden] { display: none !important; }` so we also need the `!important` here to be able to override the default hidden behavior on the sphinx rendered scikit-learn.org. See: https://github.com/scikit-learn/scikit-learn/issues/21755 */display: inline-block !important;position: relative;}#sk-container-id-2 div.sk-text-repr-fallback {display: none;}</style><div id=\"sk-container-id-2\" class=\"sk-top-container\"><div class=\"sk-text-repr-fallback\"><pre>DecisionTreeClassifier()</pre><b>In a Jupyter environment, please rerun this cell to show the HTML representation or trust the notebook. <br />On GitHub, the HTML representation is unable to render, please try loading this page with nbviewer.org.</b></div><div class=\"sk-container\" hidden><div class=\"sk-item\"><div class=\"sk-estimator sk-toggleable\"><input class=\"sk-toggleable__control sk-hidden--visually\" id=\"sk-estimator-id-2\" type=\"checkbox\" checked><label for=\"sk-estimator-id-2\" class=\"sk-toggleable__label sk-toggleable__label-arrow\">DecisionTreeClassifier</label><div class=\"sk-toggleable__content\"><pre>DecisionTreeClassifier()</pre></div></div></div></div></div>"
      ],
      "text/plain": [
       "DecisionTreeClassifier()"
      ]
     },
     "execution_count": 313,
     "metadata": {},
     "output_type": "execute_result"
    }
   ],
   "source": [
    "dsc_word2vec.fit(word2vec_df, y_train )"
   ]
  },
  {
   "cell_type": "code",
   "execution_count": null,
   "metadata": {},
   "outputs": [
    {
     "name": "stdout",
     "output_type": "stream",
     "text": [
      "              precision    recall  f1-score   support\n",
      "\n",
      "         3.0       0.00      0.00      0.00         1\n",
      "         4.0       0.00      0.00      0.00         1\n",
      "         5.0       0.94      1.00      0.97        29\n",
      "\n",
      "    accuracy                           0.94        31\n",
      "   macro avg       0.31      0.33      0.32        31\n",
      "weighted avg       0.88      0.94      0.90        31\n",
      "\n"
     ]
    },
    {
     "name": "stderr",
     "output_type": "stream",
     "text": [
      "c:\\Users\\victo\\anaconda3\\envs\\dev\\lib\\site-packages\\sklearn\\metrics\\_classification.py:1334: UndefinedMetricWarning: Precision and F-score are ill-defined and being set to 0.0 in labels with no predicted samples. Use `zero_division` parameter to control this behavior.\n",
      "  _warn_prf(average, modifier, msg_start, len(result))\n",
      "c:\\Users\\victo\\anaconda3\\envs\\dev\\lib\\site-packages\\sklearn\\metrics\\_classification.py:1334: UndefinedMetricWarning: Precision and F-score are ill-defined and being set to 0.0 in labels with no predicted samples. Use `zero_division` parameter to control this behavior.\n",
      "  _warn_prf(average, modifier, msg_start, len(result))\n",
      "c:\\Users\\victo\\anaconda3\\envs\\dev\\lib\\site-packages\\sklearn\\metrics\\_classification.py:1334: UndefinedMetricWarning: Precision and F-score are ill-defined and being set to 0.0 in labels with no predicted samples. Use `zero_division` parameter to control this behavior.\n",
      "  _warn_prf(average, modifier, msg_start, len(result))\n"
     ]
    }
   ],
   "source": [
    "from sklearn.metrics import classification_report\n",
    "test_features_word2vec = []\n",
    "for index, row in X_test.iterrows():\n",
    "    model_vector = np.mean([w2v_model.wv[token] for token in row['tokenized_text']], axis=0)\n",
    "    if type(model_vector) is list:\n",
    "        test_features_word2vec.append(model_vector)\n",
    "    else:\n",
    "        test_features_word2vec.append(np.array([0 for i in range(100)]))\n",
    "test_predictions_word2vec = dsc_word2vec.predict(test_features_word2vec)\n",
    "print(classification_report(y_test,test_predictions_word2vec))"
   ]
  },
  {
   "cell_type": "code",
   "execution_count": null,
   "metadata": {},
   "outputs": [],
   "source": [
    "testing_df = inner_df[inner_df.rating.isna()].query(\"speaker == 'ch_0'\").groupby(id).tail(5).head(5).tail(1)\n",
    "testing_df = clean_text(testing_df,'comment')\n",
    "testing_df['tokenized_text'] = [simple_preprocess(line, deacc=True) for line in testing_df['comment']] "
   ]
  },
  {
   "cell_type": "code",
   "execution_count": null,
   "metadata": {},
   "outputs": [
    {
     "data": {
      "text/plain": [
       "array([5., 5., 5., 5., 5., 5., 5., 5., 4., 5., 5., 5., 5., 5., 5., 5., 5.,\n",
       "       5., 5.])"
      ]
     },
     "execution_count": 368,
     "metadata": {},
     "output_type": "execute_result"
    }
   ],
   "source": [
    "dsc_word2vec.predict(np.mean([w2v_model.wv[token] for token in testing_df.tokenized_text.values], axis=0))"
   ]
  },
  {
   "cell_type": "markdown",
   "metadata": {},
   "source": [
    "### Using TF-IDF"
   ]
  },
  {
   "cell_type": "code",
   "execution_count": 108,
   "metadata": {},
   "outputs": [],
   "source": [
    "clean_df = clean_text(inner_df, column='comment')"
   ]
  },
  {
   "cell_type": "code",
   "execution_count": 116,
   "metadata": {},
   "outputs": [
    {
     "data": {
      "text/plain": [
       "[(('tempo', 'espera', 'estimado'), 281),\n",
       " (('fazemos', 'juntos', 'desde'), 277),\n",
       " (('juntos', 'desde', 'incio'), 277),\n",
       " (('desde', 'incio', 'tempos'), 277),\n",
       " (('incio', 'tempos', 'fazemos'), 275),\n",
       " (('tempos', 'fazemos', 'juntos'), 274),\n",
       " (('fazemos', 'juntos', 'amizade'), 271),\n",
       " (('juntos', 'amizade', 'amor'), 271),\n",
       " (('amizade', 'amor', 'tradio'), 271),\n",
       " (('amor', 'tradio', 'ideal'), 269)]"
      ]
     },
     "execution_count": 116,
     "metadata": {},
     "output_type": "execute_result"
    }
   ],
   "source": [
    "return_most_common(clean_df.query('rating >= 5'), 10, 'comment', 3)"
   ]
  },
  {
   "cell_type": "code",
   "execution_count": 117,
   "metadata": {},
   "outputs": [
    {
     "data": {
      "text/plain": [
       "[(('pessoa', 'fsica', 'jurdica'), 15),\n",
       " (('chamada', 'encaminhada', 'atendentes'), 15),\n",
       " (('encaminhada', 'atendentes', 'favor'), 15),\n",
       " (('atendentes', 'favor', 'aguarde'), 15),\n",
       " (('fsica', 'jurdica', 'informe'), 14),\n",
       " (('jurdica', 'informe', 'nmero'), 13),\n",
       " (('vamos', 'l', 'experincia'), 13),\n",
       " (('ol', 'hotel', 'inteligncia'), 12),\n",
       " (('hotel', 'inteligncia', 'artificial'), 12),\n",
       " (('bom', 'ter', 'gente'), 12)]"
      ]
     },
     "execution_count": 117,
     "metadata": {},
     "output_type": "execute_result"
    }
   ],
   "source": [
    "return_most_common(clean_df.query('rating <= 3'), 10, 'comment', 3)"
   ]
  },
  {
   "cell_type": "code",
   "execution_count": 64,
   "metadata": {},
   "outputs": [
    {
     "data": {
      "text/plain": [
       "5.0    0.884617\n",
       "4.0    0.058195\n",
       "1.0    0.032053\n",
       "3.0    0.016902\n",
       "2.0    0.008232\n",
       "Name: rating, dtype: float64"
      ]
     },
     "execution_count": 64,
     "metadata": {},
     "output_type": "execute_result"
    }
   ],
   "source": [
    "clean_df.rating.value_counts(normalize=True)"
   ]
  },
  {
   "cell_type": "code",
   "execution_count": null,
   "metadata": {},
   "outputs": [
    {
     "data": {
      "text/plain": [
       "rating\n",
       "5.0       271\n",
       "4.0        19\n",
       "1.0         9\n",
       "3.0         4\n",
       "2.0         2\n",
       "dtype: int64"
      ]
     },
     "execution_count": 145,
     "metadata": {},
     "output_type": "execute_result"
    }
   ],
   "source": [
    "inner_df.groupby('id').agg({'rating':'first'}).value_counts()"
   ]
  },
  {
   "cell_type": "markdown",
   "metadata": {},
   "source": [
    "We have here more than 60k lines of textual content from 2 speakers per ID \n",
    "\n",
    "***ch_1 = bot or attendant***\n",
    "\n",
    "***ch_2 = customer***"
   ]
  },
  {
   "cell_type": "code",
   "execution_count": null,
   "metadata": {},
   "outputs": [],
   "source": [
    "inner_df_2 = inner_df.copy()"
   ]
  },
  {
   "cell_type": "code",
   "execution_count": null,
   "metadata": {},
   "outputs": [
    {
     "data": {
      "text/html": [
       "<div>\n",
       "<style scoped>\n",
       "    .dataframe tbody tr th:only-of-type {\n",
       "        vertical-align: middle;\n",
       "    }\n",
       "\n",
       "    .dataframe tbody tr th {\n",
       "        vertical-align: top;\n",
       "    }\n",
       "\n",
       "    .dataframe thead th {\n",
       "        text-align: right;\n",
       "    }\n",
       "</style>\n",
       "<table border=\"1\" class=\"dataframe\">\n",
       "  <thead>\n",
       "    <tr style=\"text-align: right;\">\n",
       "      <th></th>\n",
       "      <th>id</th>\n",
       "      <th>rating</th>\n",
       "      <th>start_time</th>\n",
       "      <th>end_time</th>\n",
       "      <th>speaker</th>\n",
       "      <th>comment</th>\n",
       "    </tr>\n",
       "  </thead>\n",
       "  <tbody>\n",
       "    <tr>\n",
       "      <th>7255</th>\n",
       "      <td>28d0657d-d1fe-4fe9-9ea6-21359c604bae</td>\n",
       "      <td>NaN</td>\n",
       "      <td>0:08:51</td>\n",
       "      <td>0:08:51</td>\n",
       "      <td>ch_1</td>\n",
       "      <td>Entendi, era dia ####. Você realizou alteração...</td>\n",
       "    </tr>\n",
       "    <tr>\n",
       "      <th>68126</th>\n",
       "      <td>3f27f20d-2bac-4828-a914-796482d141fe</td>\n",
       "      <td>NaN</td>\n",
       "      <td>0:04:19</td>\n",
       "      <td>0:04:19</td>\n",
       "      <td>ch_0</td>\n",
       "      <td>Okay</td>\n",
       "    </tr>\n",
       "    <tr>\n",
       "      <th>38906</th>\n",
       "      <td>34323ec9-bccd-4db7-8a74-cb0a21a9fcb2</td>\n",
       "      <td>5.0</td>\n",
       "      <td>0:03:40</td>\n",
       "      <td>0:03:40</td>\n",
       "      <td>ch_0</td>\n",
       "      <td>é, só ######## e #### anos, já deu pra conhece...</td>\n",
       "    </tr>\n",
       "  </tbody>\n",
       "</table>\n",
       "</div>"
      ],
      "text/plain": [
       "                                         id  rating start_time end_time  \\\n",
       "7255   28d0657d-d1fe-4fe9-9ea6-21359c604bae     NaN    0:08:51  0:08:51   \n",
       "68126  3f27f20d-2bac-4828-a914-796482d141fe     NaN    0:04:19  0:04:19   \n",
       "38906  34323ec9-bccd-4db7-8a74-cb0a21a9fcb2     5.0    0:03:40  0:03:40   \n",
       "\n",
       "      speaker                                            comment  \n",
       "7255     ch_1  Entendi, era dia ####. Você realizou alteração...  \n",
       "68126    ch_0                                               Okay  \n",
       "38906    ch_0  é, só ######## e #### anos, já deu pra conhece...  "
      ]
     },
     "execution_count": 135,
     "metadata": {},
     "output_type": "execute_result"
    }
   ],
   "source": [
    "inner_df.sample(3)"
   ]
  },
  {
   "cell_type": "code",
   "execution_count": null,
   "metadata": {},
   "outputs": [
    {
     "data": {
      "text/html": [
       "<div>\n",
       "<style scoped>\n",
       "    .dataframe tbody tr th:only-of-type {\n",
       "        vertical-align: middle;\n",
       "    }\n",
       "\n",
       "    .dataframe tbody tr th {\n",
       "        vertical-align: top;\n",
       "    }\n",
       "\n",
       "    .dataframe thead th {\n",
       "        text-align: right;\n",
       "    }\n",
       "</style>\n",
       "<table border=\"1\" class=\"dataframe\">\n",
       "  <thead>\n",
       "    <tr style=\"text-align: right;\">\n",
       "      <th></th>\n",
       "      <th>id</th>\n",
       "      <th>rating</th>\n",
       "      <th>start_time</th>\n",
       "      <th>end_time</th>\n",
       "      <th>speaker</th>\n",
       "      <th>comment</th>\n",
       "    </tr>\n",
       "  </thead>\n",
       "  <tbody>\n",
       "    <tr>\n",
       "      <th>46297</th>\n",
       "      <td>36dbe7ca-aca6-4744-af4c-44dce0076a9c</td>\n",
       "      <td>NaN</td>\n",
       "      <td>0:02:56</td>\n",
       "      <td>0:02:56</td>\n",
       "      <td>ch_1</td>\n",
       "      <td>me passa teu c P f Por favor</td>\n",
       "    </tr>\n",
       "    <tr>\n",
       "      <th>37931</th>\n",
       "      <td>33d10100-477e-45ac-8103-7ea2755016e8</td>\n",
       "      <td>5.0</td>\n",
       "      <td>0:05:59</td>\n",
       "      <td>0:06:00</td>\n",
       "      <td>ch_1</td>\n",
       "      <td>sim, é a cota. ######. #### #### ela é #######...</td>\n",
       "    </tr>\n",
       "    <tr>\n",
       "      <th>51953</th>\n",
       "      <td>38b4ea06-8d15-41f5-b182-743c3d2013dc</td>\n",
       "      <td>NaN</td>\n",
       "      <td>0:08:11</td>\n",
       "      <td>0:08:12</td>\n",
       "      <td>ch_1</td>\n",
       "      <td>Isso agora quanto com</td>\n",
       "    </tr>\n",
       "  </tbody>\n",
       "</table>\n",
       "</div>"
      ],
      "text/plain": [
       "                                         id  rating start_time end_time  \\\n",
       "46297  36dbe7ca-aca6-4744-af4c-44dce0076a9c     NaN    0:02:56  0:02:56   \n",
       "37931  33d10100-477e-45ac-8103-7ea2755016e8     5.0    0:05:59  0:06:00   \n",
       "51953  38b4ea06-8d15-41f5-b182-743c3d2013dc     NaN    0:08:11  0:08:12   \n",
       "\n",
       "      speaker                                            comment  \n",
       "46297    ch_1                       me passa teu c P f Por favor  \n",
       "37931    ch_1  sim, é a cota. ######. #### #### ela é #######...  \n",
       "51953    ch_1                              Isso agora quanto com  "
      ]
     },
     "execution_count": 134,
     "metadata": {},
     "output_type": "execute_result"
    }
   ],
   "source": [
    "inner_df_2.sample(3)"
   ]
  },
  {
   "cell_type": "code",
   "execution_count": null,
   "metadata": {},
   "outputs": [
    {
     "name": "stderr",
     "output_type": "stream",
     "text": [
      "C:\\Users\\victo\\AppData\\Local\\Temp\\ipykernel_15116\\3622667897.py:1: UserWarning: Boolean Series key will be reindexed to match DataFrame index.\n",
      "  inner_df[inner_df.id == '265e5551-7fc3-40d4-b4e5-18e15b1f714b'][inner_df.speaker == 'ch_0'].tail(5)\n"
     ]
    },
    {
     "data": {
      "text/html": [
       "<div>\n",
       "<style scoped>\n",
       "    .dataframe tbody tr th:only-of-type {\n",
       "        vertical-align: middle;\n",
       "    }\n",
       "\n",
       "    .dataframe tbody tr th {\n",
       "        vertical-align: top;\n",
       "    }\n",
       "\n",
       "    .dataframe thead th {\n",
       "        text-align: right;\n",
       "    }\n",
       "</style>\n",
       "<table border=\"1\" class=\"dataframe\">\n",
       "  <thead>\n",
       "    <tr style=\"text-align: right;\">\n",
       "      <th></th>\n",
       "      <th>id</th>\n",
       "      <th>rating</th>\n",
       "      <th>start_time</th>\n",
       "      <th>end_time</th>\n",
       "      <th>speaker</th>\n",
       "      <th>comment</th>\n",
       "    </tr>\n",
       "  </thead>\n",
       "  <tbody>\n",
       "    <tr>\n",
       "      <th>75</th>\n",
       "      <td>265e5551-7fc3-40d4-b4e5-18e15b1f714b</td>\n",
       "      <td>5.0</td>\n",
       "      <td>0:10:28</td>\n",
       "      <td>0:10:29</td>\n",
       "      <td>ch_0</td>\n",
       "      <td>tá</td>\n",
       "    </tr>\n",
       "    <tr>\n",
       "      <th>77</th>\n",
       "      <td>265e5551-7fc3-40d4-b4e5-18e15b1f714b</td>\n",
       "      <td>5.0</td>\n",
       "      <td>0:10:37</td>\n",
       "      <td>0:10:38</td>\n",
       "      <td>ch_0</td>\n",
       "      <td>ué Sim, ué, então tá jóia</td>\n",
       "    </tr>\n",
       "    <tr>\n",
       "      <th>79</th>\n",
       "      <td>265e5551-7fc3-40d4-b4e5-18e15b1f714b</td>\n",
       "      <td>5.0</td>\n",
       "      <td>0:10:56</td>\n",
       "      <td>0:10:57</td>\n",
       "      <td>ch_0</td>\n",
       "      <td>só isso</td>\n",
       "    </tr>\n",
       "    <tr>\n",
       "      <th>81</th>\n",
       "      <td>265e5551-7fc3-40d4-b4e5-18e15b1f714b</td>\n",
       "      <td>5.0</td>\n",
       "      <td>0:11:03</td>\n",
       "      <td>0:11:04</td>\n",
       "      <td>ch_0</td>\n",
       "      <td>tá jóia Brigada</td>\n",
       "    </tr>\n",
       "    <tr>\n",
       "      <th>83</th>\n",
       "      <td>265e5551-7fc3-40d4-b4e5-18e15b1f714b</td>\n",
       "      <td>5.0</td>\n",
       "      <td>0:11:06</td>\n",
       "      <td>0:11:07</td>\n",
       "      <td>ch_0</td>\n",
       "      <td>Tchau</td>\n",
       "    </tr>\n",
       "  </tbody>\n",
       "</table>\n",
       "</div>"
      ],
      "text/plain": [
       "                                      id  rating start_time end_time speaker  \\\n",
       "75  265e5551-7fc3-40d4-b4e5-18e15b1f714b     5.0    0:10:28  0:10:29    ch_0   \n",
       "77  265e5551-7fc3-40d4-b4e5-18e15b1f714b     5.0    0:10:37  0:10:38    ch_0   \n",
       "79  265e5551-7fc3-40d4-b4e5-18e15b1f714b     5.0    0:10:56  0:10:57    ch_0   \n",
       "81  265e5551-7fc3-40d4-b4e5-18e15b1f714b     5.0    0:11:03  0:11:04    ch_0   \n",
       "83  265e5551-7fc3-40d4-b4e5-18e15b1f714b     5.0    0:11:06  0:11:07    ch_0   \n",
       "\n",
       "                      comment  \n",
       "75                         tá  \n",
       "77  ué Sim, ué, então tá jóia  \n",
       "79                    só isso  \n",
       "81            tá jóia Brigada  \n",
       "83                      Tchau  "
      ]
     },
     "execution_count": 45,
     "metadata": {},
     "output_type": "execute_result"
    }
   ],
   "source": [
    "inner_df[inner_df.id == '265e5551-7fc3-40d4-b4e5-18e15b1f714b'][inner_df.speaker == 'ch_0'].tail(5)"
   ]
  },
  {
   "cell_type": "code",
   "execution_count": null,
   "metadata": {},
   "outputs": [],
   "source": []
  }
 ],
 "metadata": {
  "kernelspec": {
   "display_name": "Python 3.9.13 ('dev')",
   "language": "python",
   "name": "python3"
  },
  "language_info": {
   "codemirror_mode": {
    "name": "ipython",
    "version": 3
   },
   "file_extension": ".py",
   "mimetype": "text/x-python",
   "name": "python",
   "nbconvert_exporter": "python",
   "pygments_lexer": "ipython3",
   "version": "3.9.13"
  },
  "orig_nbformat": 4,
  "vscode": {
   "interpreter": {
    "hash": "6ec50e2dddca2376d90d7f852e4579e00459be64bf68dd155a4947fa3ea19e2b"
   }
  }
 },
 "nbformat": 4,
 "nbformat_minor": 2
}
