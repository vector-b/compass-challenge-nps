{
 "cells": [
  {
   "cell_type": "code",
   "execution_count": 25,
   "metadata": {},
   "outputs": [],
   "source": [
    "#!pip install seaborn"
   ]
  },
  {
   "cell_type": "code",
   "execution_count": 148,
   "metadata": {},
   "outputs": [],
   "source": [
    "import pandas as pd\n",
    "import seaborn as sns\n",
    "import matplotlib.pyplot as plt"
   ]
  },
  {
   "cell_type": "code",
   "execution_count": 163,
   "metadata": {},
   "outputs": [],
   "source": [
    "sns.set(style=\"darkgrid\", context=\"talk\")\n",
    "plt.rcParams.update({\"grid.linewidth\":0.5, \"grid.alpha\":0.5})\n",
    "plt.style.use(\"dark_background\")\n",
    "\n"
   ]
  },
  {
   "cell_type": "code",
   "execution_count": 27,
   "metadata": {},
   "outputs": [],
   "source": [
    "file_path = 'data/conversation_nps.csv'"
   ]
  },
  {
   "cell_type": "markdown",
   "metadata": {},
   "source": [
    "Fix JSON and CSV filenames"
   ]
  },
  {
   "cell_type": "code",
   "execution_count": 28,
   "metadata": {},
   "outputs": [],
   "source": [
    "import os\n",
    "path = 'data/'\n",
    "separator = '__'\n",
    "items = [ name for name in os.listdir(path) if os.path.isdir(os.path.join(path, name))]"
   ]
  },
  {
   "cell_type": "code",
   "execution_count": 29,
   "metadata": {},
   "outputs": [],
   "source": [
    "for i in items:\n",
    "    path_to_items = path + i + '/'\n",
    "    files = os.listdir(path_to_items)\n",
    "    for filename in files:\n",
    "        os.rename(path_to_items + filename, path_to_items + filename.replace('1_conversation_', '').split(separator,1)[0] + '.' + i)"
   ]
  },
  {
   "cell_type": "markdown",
   "metadata": {},
   "source": [
    "Now we have all items with the same id pattern"
   ]
  },
  {
   "cell_type": "code",
   "execution_count": 30,
   "metadata": {},
   "outputs": [],
   "source": [
    "for i in items:\n",
    "    path_to_items = path + i + '/'\n",
    "    files = os.listdir(path_to_items)\n",
    "    #print(files)"
   ]
  },
  {
   "cell_type": "code",
   "execution_count": 31,
   "metadata": {},
   "outputs": [],
   "source": [
    "df = pd.read_csv(file_path, header=None, usecols=[0,1], delimiter=';')\n",
    "df = df.rename(columns={0: 'id', 1: 'rating'})"
   ]
  },
  {
   "cell_type": "code",
   "execution_count": 32,
   "metadata": {},
   "outputs": [
    {
     "data": {
      "text/plain": [
       "'data/json/'"
      ]
     },
     "execution_count": 32,
     "metadata": {},
     "output_type": "execute_result"
    }
   ],
   "source": [
    "path_to_items"
   ]
  },
  {
   "cell_type": "code",
   "execution_count": 33,
   "metadata": {},
   "outputs": [],
   "source": [
    "vals = df.id.unique()\n",
    "result = []\n",
    "for root, dir, files in os.walk(path_to_items):\n",
    "    for i in vals:\n",
    "        if any(i in f for f in files):\n",
    "            result.append(i)"
   ]
  },
  {
   "cell_type": "code",
   "execution_count": 34,
   "metadata": {},
   "outputs": [
    {
     "data": {
      "text/plain": [
       "988"
      ]
     },
     "execution_count": 34,
     "metadata": {},
     "output_type": "execute_result"
    }
   ],
   "source": [
    "len(result)"
   ]
  },
  {
   "cell_type": "markdown",
   "metadata": {},
   "source": [
    "We have 988 files loaded in df that contains a phone register"
   ]
  },
  {
   "cell_type": "code",
   "execution_count": 35,
   "metadata": {},
   "outputs": [
    {
     "data": {
      "text/html": [
       "<div>\n",
       "<style scoped>\n",
       "    .dataframe tbody tr th:only-of-type {\n",
       "        vertical-align: middle;\n",
       "    }\n",
       "\n",
       "    .dataframe tbody tr th {\n",
       "        vertical-align: top;\n",
       "    }\n",
       "\n",
       "    .dataframe thead th {\n",
       "        text-align: right;\n",
       "    }\n",
       "</style>\n",
       "<table border=\"1\" class=\"dataframe\">\n",
       "  <thead>\n",
       "    <tr style=\"text-align: right;\">\n",
       "      <th></th>\n",
       "      <th>id</th>\n",
       "      <th>rating</th>\n",
       "    </tr>\n",
       "  </thead>\n",
       "  <tbody>\n",
       "    <tr>\n",
       "      <th>0</th>\n",
       "      <td>265e5551-7fc3-40d4-b4e5-18e15b1f714b</td>\n",
       "      <td>5.0</td>\n",
       "    </tr>\n",
       "    <tr>\n",
       "      <th>1</th>\n",
       "      <td>265f3b20-d426-4bcc-b46d-375b0e920532</td>\n",
       "      <td>5.0</td>\n",
       "    </tr>\n",
       "    <tr>\n",
       "      <th>2</th>\n",
       "      <td>26614192-7d2d-4518-b315-c0ca74014461</td>\n",
       "      <td>5.0</td>\n",
       "    </tr>\n",
       "    <tr>\n",
       "      <th>3</th>\n",
       "      <td>266580c7-5f96-428b-bfc9-1749a490cf35</td>\n",
       "      <td>5.0</td>\n",
       "    </tr>\n",
       "    <tr>\n",
       "      <th>4</th>\n",
       "      <td>26670455-d46e-4a03-9e70-1560992ff04f</td>\n",
       "      <td>NaN</td>\n",
       "    </tr>\n",
       "    <tr>\n",
       "      <th>...</th>\n",
       "      <td>...</td>\n",
       "      <td>...</td>\n",
       "    </tr>\n",
       "    <tr>\n",
       "      <th>996</th>\n",
       "      <td>3f333e1f-67b5-48db-9112-1fd036f952c8</td>\n",
       "      <td>NaN</td>\n",
       "    </tr>\n",
       "    <tr>\n",
       "      <th>997</th>\n",
       "      <td>3f363ffb-ce63-439c-a3dd-0458f25476b7</td>\n",
       "      <td>NaN</td>\n",
       "    </tr>\n",
       "    <tr>\n",
       "      <th>998</th>\n",
       "      <td>3f41cbb4-3d15-4134-8eac-97506e2cf340</td>\n",
       "      <td>NaN</td>\n",
       "    </tr>\n",
       "    <tr>\n",
       "      <th>999</th>\n",
       "      <td>3f59dd32-bd7c-47ed-a8ac-59af63a43a66</td>\n",
       "      <td>5.0</td>\n",
       "    </tr>\n",
       "    <tr>\n",
       "      <th>1000</th>\n",
       "      <td>3f59dd32-bd7c-47ed-a8ac-59af63a43a66</td>\n",
       "      <td>5.0</td>\n",
       "    </tr>\n",
       "  </tbody>\n",
       "</table>\n",
       "<p>1001 rows × 2 columns</p>\n",
       "</div>"
      ],
      "text/plain": [
       "                                        id  rating\n",
       "0     265e5551-7fc3-40d4-b4e5-18e15b1f714b     5.0\n",
       "1     265f3b20-d426-4bcc-b46d-375b0e920532     5.0\n",
       "2     26614192-7d2d-4518-b315-c0ca74014461     5.0\n",
       "3     266580c7-5f96-428b-bfc9-1749a490cf35     5.0\n",
       "4     26670455-d46e-4a03-9e70-1560992ff04f     NaN\n",
       "...                                    ...     ...\n",
       "996   3f333e1f-67b5-48db-9112-1fd036f952c8     NaN\n",
       "997   3f363ffb-ce63-439c-a3dd-0458f25476b7     NaN\n",
       "998   3f41cbb4-3d15-4134-8eac-97506e2cf340     NaN\n",
       "999   3f59dd32-bd7c-47ed-a8ac-59af63a43a66     5.0\n",
       "1000  3f59dd32-bd7c-47ed-a8ac-59af63a43a66     5.0\n",
       "\n",
       "[1001 rows x 2 columns]"
      ]
     },
     "execution_count": 35,
     "metadata": {},
     "output_type": "execute_result"
    }
   ],
   "source": [
    "df"
   ]
  },
  {
   "cell_type": "code",
   "execution_count": 36,
   "metadata": {},
   "outputs": [
    {
     "data": {
      "text/plain": [
       "5.0    272\n",
       "4.0     19\n",
       "1.0      9\n",
       "3.0      4\n",
       "2.0      2\n",
       "Name: rating, dtype: int64"
      ]
     },
     "execution_count": 36,
     "metadata": {},
     "output_type": "execute_result"
    }
   ],
   "source": [
    "df.rating.value_counts()"
   ]
  },
  {
   "cell_type": "markdown",
   "metadata": {},
   "source": [
    "Merging CSV Files"
   ]
  },
  {
   "cell_type": "code",
   "execution_count": 37,
   "metadata": {},
   "outputs": [
    {
     "data": {
      "text/plain": [
       "'data/csv/'"
      ]
     },
     "execution_count": 37,
     "metadata": {},
     "output_type": "execute_result"
    }
   ],
   "source": [
    "path_to_csv = path + 'csv/'\n",
    "path_to_csv"
   ]
  },
  {
   "cell_type": "code",
   "execution_count": 38,
   "metadata": {},
   "outputs": [],
   "source": [
    "csv_files = os.listdir(path_to_csv)"
   ]
  },
  {
   "cell_type": "code",
   "execution_count": 39,
   "metadata": {},
   "outputs": [],
   "source": [
    "filtered = []\n",
    "\n",
    "for f in csv_files:\n",
    "    data = pd.read_csv(\n",
    "        path_to_csv + f,\n",
    "        index_col=[0]\n",
    "    )\n",
    "    data['id'] = f.replace('.csv', '')\n",
    "    filtered.append(data)"
   ]
  },
  {
   "cell_type": "code",
   "execution_count": 40,
   "metadata": {},
   "outputs": [],
   "source": [
    "concated = pd.concat(filtered, ignore_index=True)"
   ]
  },
  {
   "cell_type": "code",
   "execution_count": 41,
   "metadata": {},
   "outputs": [
    {
     "data": {
      "text/html": [
       "<div>\n",
       "<style scoped>\n",
       "    .dataframe tbody tr th:only-of-type {\n",
       "        vertical-align: middle;\n",
       "    }\n",
       "\n",
       "    .dataframe tbody tr th {\n",
       "        vertical-align: top;\n",
       "    }\n",
       "\n",
       "    .dataframe thead th {\n",
       "        text-align: right;\n",
       "    }\n",
       "</style>\n",
       "<table border=\"1\" class=\"dataframe\">\n",
       "  <thead>\n",
       "    <tr style=\"text-align: right;\">\n",
       "      <th></th>\n",
       "      <th>id</th>\n",
       "      <th>rating</th>\n",
       "    </tr>\n",
       "  </thead>\n",
       "  <tbody>\n",
       "    <tr>\n",
       "      <th>351</th>\n",
       "      <td>2f514895-37e1-4606-a5da-0bc6cb1ca4af</td>\n",
       "      <td>5.0</td>\n",
       "    </tr>\n",
       "    <tr>\n",
       "      <th>42</th>\n",
       "      <td>276d0fa8-5cd1-47aa-a5a8-b63308e9374b</td>\n",
       "      <td>NaN</td>\n",
       "    </tr>\n",
       "    <tr>\n",
       "      <th>576</th>\n",
       "      <td>34723b35-ec5f-48c4-a16a-942ee3ec5e34</td>\n",
       "      <td>5.0</td>\n",
       "    </tr>\n",
       "  </tbody>\n",
       "</table>\n",
       "</div>"
      ],
      "text/plain": [
       "                                       id  rating\n",
       "351  2f514895-37e1-4606-a5da-0bc6cb1ca4af     5.0\n",
       "42   276d0fa8-5cd1-47aa-a5a8-b63308e9374b     NaN\n",
       "576  34723b35-ec5f-48c4-a16a-942ee3ec5e34     5.0"
      ]
     },
     "execution_count": 41,
     "metadata": {},
     "output_type": "execute_result"
    }
   ],
   "source": [
    "df.sample(3)"
   ]
  },
  {
   "cell_type": "code",
   "execution_count": 42,
   "metadata": {},
   "outputs": [
    {
     "data": {
      "text/html": [
       "<div>\n",
       "<style scoped>\n",
       "    .dataframe tbody tr th:only-of-type {\n",
       "        vertical-align: middle;\n",
       "    }\n",
       "\n",
       "    .dataframe tbody tr th {\n",
       "        vertical-align: top;\n",
       "    }\n",
       "\n",
       "    .dataframe thead th {\n",
       "        text-align: right;\n",
       "    }\n",
       "</style>\n",
       "<table border=\"1\" class=\"dataframe\">\n",
       "  <thead>\n",
       "    <tr style=\"text-align: right;\">\n",
       "      <th></th>\n",
       "      <th>start_time</th>\n",
       "      <th>end_time</th>\n",
       "      <th>speaker</th>\n",
       "      <th>comment</th>\n",
       "      <th>id</th>\n",
       "    </tr>\n",
       "  </thead>\n",
       "  <tbody>\n",
       "    <tr>\n",
       "      <th>11422</th>\n",
       "      <td>0:03:57</td>\n",
       "      <td>0:03:57</td>\n",
       "      <td>ch_0</td>\n",
       "      <td>é ### Brasil #### #### ###</td>\n",
       "      <td>2a12164a-5e2b-4004-82a6-798173b37e53</td>\n",
       "    </tr>\n",
       "    <tr>\n",
       "      <th>34757</th>\n",
       "      <td>0:15:15</td>\n",
       "      <td>0:15:16</td>\n",
       "      <td>ch_1</td>\n",
       "      <td>Então tá certo. ## ótimo dia pra ti! Viu tudo ...</td>\n",
       "      <td>32cb9b8b-09f4-4778-888b-dba267767f33</td>\n",
       "    </tr>\n",
       "    <tr>\n",
       "      <th>1788</th>\n",
       "      <td>0:02:13</td>\n",
       "      <td>0:02:14</td>\n",
       "      <td>ch_1</td>\n",
       "      <td>certo?</td>\n",
       "      <td>272ae6a3-e61b-443c-bafd-5ff9cc074b6b</td>\n",
       "    </tr>\n",
       "  </tbody>\n",
       "</table>\n",
       "</div>"
      ],
      "text/plain": [
       "      start_time end_time speaker  \\\n",
       "11422    0:03:57  0:03:57    ch_0   \n",
       "34757    0:15:15  0:15:16    ch_1   \n",
       "1788     0:02:13  0:02:14    ch_1   \n",
       "\n",
       "                                                 comment  \\\n",
       "11422                         é ### Brasil #### #### ###   \n",
       "34757  Então tá certo. ## ótimo dia pra ti! Viu tudo ...   \n",
       "1788                                              certo?   \n",
       "\n",
       "                                         id  \n",
       "11422  2a12164a-5e2b-4004-82a6-798173b37e53  \n",
       "34757  32cb9b8b-09f4-4778-888b-dba267767f33  \n",
       "1788   272ae6a3-e61b-443c-bafd-5ff9cc074b6b  "
      ]
     },
     "execution_count": 42,
     "metadata": {},
     "output_type": "execute_result"
    }
   ],
   "source": [
    "concated.sample(3)"
   ]
  },
  {
   "cell_type": "code",
   "execution_count": 43,
   "metadata": {},
   "outputs": [],
   "source": [
    "inner_df = pd.merge(df, concated, how='inner', on='id')"
   ]
  },
  {
   "cell_type": "code",
   "execution_count": 44,
   "metadata": {},
   "outputs": [
    {
     "data": {
      "text/html": [
       "<div>\n",
       "<style scoped>\n",
       "    .dataframe tbody tr th:only-of-type {\n",
       "        vertical-align: middle;\n",
       "    }\n",
       "\n",
       "    .dataframe tbody tr th {\n",
       "        vertical-align: top;\n",
       "    }\n",
       "\n",
       "    .dataframe thead th {\n",
       "        text-align: right;\n",
       "    }\n",
       "</style>\n",
       "<table border=\"1\" class=\"dataframe\">\n",
       "  <thead>\n",
       "    <tr style=\"text-align: right;\">\n",
       "      <th></th>\n",
       "      <th>id</th>\n",
       "      <th>rating</th>\n",
       "      <th>start_time</th>\n",
       "      <th>end_time</th>\n",
       "      <th>speaker</th>\n",
       "      <th>comment</th>\n",
       "    </tr>\n",
       "  </thead>\n",
       "  <tbody>\n",
       "    <tr>\n",
       "      <th>0</th>\n",
       "      <td>265e5551-7fc3-40d4-b4e5-18e15b1f714b</td>\n",
       "      <td>5.0</td>\n",
       "      <td>0:00:01</td>\n",
       "      <td>0:00:01</td>\n",
       "      <td>ch_1</td>\n",
       "      <td>sua chamada será encaminhada para ## de nossos...</td>\n",
       "    </tr>\n",
       "    <tr>\n",
       "      <th>1</th>\n",
       "      <td>265e5551-7fc3-40d4-b4e5-18e15b1f714b</td>\n",
       "      <td>5.0</td>\n",
       "      <td>0:00:12</td>\n",
       "      <td>0:00:13</td>\n",
       "      <td>ch_0</td>\n",
       "      <td>bom dia! Meu nome é #######</td>\n",
       "    </tr>\n",
       "    <tr>\n",
       "      <th>2</th>\n",
       "      <td>265e5551-7fc3-40d4-b4e5-18e15b1f714b</td>\n",
       "      <td>5.0</td>\n",
       "      <td>0:00:14</td>\n",
       "      <td>0:00:14</td>\n",
       "      <td>ch_1</td>\n",
       "      <td>tudo bem. ######! Como eu posso te ajudar?</td>\n",
       "    </tr>\n",
       "    <tr>\n",
       "      <th>3</th>\n",
       "      <td>265e5551-7fc3-40d4-b4e5-18e15b1f714b</td>\n",
       "      <td>5.0</td>\n",
       "      <td>0:00:18</td>\n",
       "      <td>0:00:19</td>\n",
       "      <td>ch_0</td>\n",
       "      <td>O cartão, esse cartão ou conta jurídica? Ele t...</td>\n",
       "    </tr>\n",
       "    <tr>\n",
       "      <th>4</th>\n",
       "      <td>265e5551-7fc3-40d4-b4e5-18e15b1f714b</td>\n",
       "      <td>5.0</td>\n",
       "      <td>0:00:31</td>\n",
       "      <td>0:00:31</td>\n",
       "      <td>ch_1</td>\n",
       "      <td>É Vamos dar uma olhadinha. Qual é o teu CPF?</td>\n",
       "    </tr>\n",
       "    <tr>\n",
       "      <th>...</th>\n",
       "      <td>...</td>\n",
       "      <td>...</td>\n",
       "      <td>...</td>\n",
       "      <td>...</td>\n",
       "      <td>...</td>\n",
       "      <td>...</td>\n",
       "    </tr>\n",
       "    <tr>\n",
       "      <th>68755</th>\n",
       "      <td>3f59dd32-bd7c-47ed-a8ac-59af63a43a66</td>\n",
       "      <td>5.0</td>\n",
       "      <td>0:27:04</td>\n",
       "      <td>0:27:04</td>\n",
       "      <td>ch_1</td>\n",
       "      <td>##### e #### ###### ####.</td>\n",
       "    </tr>\n",
       "    <tr>\n",
       "      <th>68756</th>\n",
       "      <td>3f59dd32-bd7c-47ed-a8ac-59af63a43a66</td>\n",
       "      <td>5.0</td>\n",
       "      <td>0:27:06</td>\n",
       "      <td>0:27:07</td>\n",
       "      <td>ch_0</td>\n",
       "      <td>##### e #### ###### Muito obrigado pela sua at...</td>\n",
       "    </tr>\n",
       "    <tr>\n",
       "      <th>68757</th>\n",
       "      <td>3f59dd32-bd7c-47ed-a8ac-59af63a43a66</td>\n",
       "      <td>5.0</td>\n",
       "      <td>0:27:08</td>\n",
       "      <td>0:27:10</td>\n",
       "      <td>ch_1</td>\n",
       "      <td>Eu que agradeço se puder no final ## ligação. ...</td>\n",
       "    </tr>\n",
       "    <tr>\n",
       "      <th>68758</th>\n",
       "      <td>3f59dd32-bd7c-47ed-a8ac-59af63a43a66</td>\n",
       "      <td>5.0</td>\n",
       "      <td>0:27:16</td>\n",
       "      <td>0:27:16</td>\n",
       "      <td>ch_0</td>\n",
       "      <td>Tá, pode deixar que vou avaliá Muito obrigada,...</td>\n",
       "    </tr>\n",
       "    <tr>\n",
       "      <th>68759</th>\n",
       "      <td>3f59dd32-bd7c-47ed-a8ac-59af63a43a66</td>\n",
       "      <td>5.0</td>\n",
       "      <td>0:27:17</td>\n",
       "      <td>0:27:18</td>\n",
       "      <td>ch_1</td>\n",
       "      <td>##### e agora convido você para responder a no...</td>\n",
       "    </tr>\n",
       "  </tbody>\n",
       "</table>\n",
       "<p>68760 rows × 6 columns</p>\n",
       "</div>"
      ],
      "text/plain": [
       "                                         id  rating start_time end_time  \\\n",
       "0      265e5551-7fc3-40d4-b4e5-18e15b1f714b     5.0    0:00:01  0:00:01   \n",
       "1      265e5551-7fc3-40d4-b4e5-18e15b1f714b     5.0    0:00:12  0:00:13   \n",
       "2      265e5551-7fc3-40d4-b4e5-18e15b1f714b     5.0    0:00:14  0:00:14   \n",
       "3      265e5551-7fc3-40d4-b4e5-18e15b1f714b     5.0    0:00:18  0:00:19   \n",
       "4      265e5551-7fc3-40d4-b4e5-18e15b1f714b     5.0    0:00:31  0:00:31   \n",
       "...                                     ...     ...        ...      ...   \n",
       "68755  3f59dd32-bd7c-47ed-a8ac-59af63a43a66     5.0    0:27:04  0:27:04   \n",
       "68756  3f59dd32-bd7c-47ed-a8ac-59af63a43a66     5.0    0:27:06  0:27:07   \n",
       "68757  3f59dd32-bd7c-47ed-a8ac-59af63a43a66     5.0    0:27:08  0:27:10   \n",
       "68758  3f59dd32-bd7c-47ed-a8ac-59af63a43a66     5.0    0:27:16  0:27:16   \n",
       "68759  3f59dd32-bd7c-47ed-a8ac-59af63a43a66     5.0    0:27:17  0:27:18   \n",
       "\n",
       "      speaker                                            comment  \n",
       "0        ch_1  sua chamada será encaminhada para ## de nossos...  \n",
       "1        ch_0                        bom dia! Meu nome é #######  \n",
       "2        ch_1         tudo bem. ######! Como eu posso te ajudar?  \n",
       "3        ch_0  O cartão, esse cartão ou conta jurídica? Ele t...  \n",
       "4        ch_1       É Vamos dar uma olhadinha. Qual é o teu CPF?  \n",
       "...       ...                                                ...  \n",
       "68755    ch_1                          ##### e #### ###### ####.  \n",
       "68756    ch_0  ##### e #### ###### Muito obrigado pela sua at...  \n",
       "68757    ch_1  Eu que agradeço se puder no final ## ligação. ...  \n",
       "68758    ch_0  Tá, pode deixar que vou avaliá Muito obrigada,...  \n",
       "68759    ch_1  ##### e agora convido você para responder a no...  \n",
       "\n",
       "[68760 rows x 6 columns]"
      ]
     },
     "execution_count": 44,
     "metadata": {},
     "output_type": "execute_result"
    }
   ],
   "source": [
    "inner_df"
   ]
  },
  {
   "cell_type": "markdown",
   "metadata": {},
   "source": [
    "## General NPS Analysis"
   ]
  },
  {
   "cell_type": "markdown",
   "metadata": {},
   "source": [
    "In all dataset we just have 306 not-null values for nps-rating"
   ]
  },
  {
   "cell_type": "code",
   "execution_count": 45,
   "metadata": {},
   "outputs": [
    {
     "data": {
      "text/plain": [
       "306"
      ]
     },
     "execution_count": 45,
     "metadata": {},
     "output_type": "execute_result"
    }
   ],
   "source": [
    "df.rating.value_counts().sum()"
   ]
  },
  {
   "cell_type": "code",
   "execution_count": 46,
   "metadata": {},
   "outputs": [
    {
     "data": {
      "text/plain": [
       "305"
      ]
     },
     "execution_count": 46,
     "metadata": {},
     "output_type": "execute_result"
    }
   ],
   "source": [
    "inner_df.groupby('id').rating.first().value_counts().sum()"
   ]
  },
  {
   "cell_type": "markdown",
   "metadata": {},
   "source": [
    "We have A LOT of 5 stars rating for our customer service"
   ]
  },
  {
   "cell_type": "code",
   "execution_count": 101,
   "metadata": {},
   "outputs": [],
   "source": [
    "exp = df.copy()"
   ]
  },
  {
   "cell_type": "code",
   "execution_count": 140,
   "metadata": {},
   "outputs": [],
   "source": [
    "exp.dropna(inplace=True, subset='rating')"
   ]
  },
  {
   "cell_type": "code",
   "execution_count": 171,
   "metadata": {},
   "outputs": [
    {
     "data": {
      "text/plain": [
       "Text(0.5, 1.0, 'Customers vs Rating')"
      ]
     },
     "execution_count": 171,
     "metadata": {},
     "output_type": "execute_result"
    },
    {
     "data": {
      "image/png": "[encoded data removed]",
      "text/plain": [
       "<Figure size 1300x700 with 1 Axes>"
      ]
     },
     "metadata": {},
     "output_type": "display_data"
    }
   ],
   "source": [
    "fig, ax = plt.subplots(figsize = (13,7))\n",
    "sns.countplot(x='rating', data=df, palette=\"pastel\")\n",
    "ax.set_xlabel( \"Rating Category\" , size = 12)\n",
    "ax.set_ylabel( \"Number of Customers\" , size = 12)\n",
    "ax.set_title( \"Customers vs Rating\" , size = 24 )"
   ]
  },
  {
   "cell_type": "code",
   "execution_count": 142,
   "metadata": {},
   "outputs": [],
   "source": [
    "new_rating = []\n",
    "for row in exp['rating']:\n",
    "    if row < 5.0:\n",
    "        new_rating.append('Others')\n",
    "    else:\n",
    "        new_rating.append(5.0)\n",
    "exp['unbalanced_rating'] = new_rating"
   ]
  },
  {
   "cell_type": "code",
   "execution_count": 143,
   "metadata": {},
   "outputs": [
    {
     "data": {
      "text/plain": [
       "5.0       272\n",
       "Others     34\n",
       "Name: unbalanced_rating, dtype: int64"
      ]
     },
     "execution_count": 143,
     "metadata": {},
     "output_type": "execute_result"
    }
   ],
   "source": [
    "exp.unbalanced_rating.value_counts()"
   ]
  },
  {
   "cell_type": "code",
   "execution_count": 172,
   "metadata": {},
   "outputs": [
    {
     "data": {
      "text/plain": [
       "Text(0.5, 1.0, 'Customers vs Rating Classification')"
      ]
     },
     "execution_count": 172,
     "metadata": {},
     "output_type": "execute_result"
    },
    {
     "data": {
      "image/png": "[encoded data removed]",
      "text/plain": [
       "<Figure size 1300x700 with 1 Axes>"
      ]
     },
     "metadata": {},
     "output_type": "display_data"
    }
   ],
   "source": [
    "fig, ax = plt.subplots(figsize = (13,7))\n",
    "sns.countplot(x='unbalanced_rating', data=exp, palette=\"pastel\")\n",
    "ax.set_xlabel( \"Rating Category\" , size = 12)\n",
    "ax.set_ylabel( \"Number of Customers\" , size = 12)\n",
    "ax.set_title( \"Customers vs Rating Classification\" , size = 24 )"
   ]
  },
  {
   "cell_type": "code",
   "execution_count": 145,
   "metadata": {},
   "outputs": [],
   "source": [
    "nps_rating = []\n",
    "for row in exp['rating']:\n",
    "    if (row >= 4.0):\n",
    "        nps_rating.append('Promoters')\n",
    "    elif (row >= 3.0):\n",
    "        nps_rating.append('Passive')\n",
    "    else:\n",
    "        nps_rating.append('Detractors')\n",
    "exp['nps_rating'] = nps_rating"
   ]
  },
  {
   "cell_type": "code",
   "execution_count": 173,
   "metadata": {},
   "outputs": [
    {
     "data": {
      "image/png": "[encoded data removed]",
      "text/plain": [
       "<Figure size 1300x700 with 1 Axes>"
      ]
     },
     "metadata": {},
     "output_type": "display_data"
    }
   ],
   "source": [
    "fig, ax = plt.subplots(figsize = (13,7))\n",
    "sns.countplot(x='nps_rating', data=exp, palette=\"pastel\")\n",
    "ax.set_xlabel( \"NPS Category\" , size = 12)\n",
    "ax.set_ylabel( \"Number of Customers\" , size = 12)\n",
    "ax.set_title( \"Customers vs NPS Classification\" , size = 24 )\n",
    "plt.show()\n"
   ]
  },
  {
   "cell_type": "code",
   "execution_count": 50,
   "metadata": {},
   "outputs": [
    {
     "data": {
      "text/html": [
       "<div>\n",
       "<style scoped>\n",
       "    .dataframe tbody tr th:only-of-type {\n",
       "        vertical-align: middle;\n",
       "    }\n",
       "\n",
       "    .dataframe tbody tr th {\n",
       "        vertical-align: top;\n",
       "    }\n",
       "\n",
       "    .dataframe thead th {\n",
       "        text-align: right;\n",
       "    }\n",
       "</style>\n",
       "<table border=\"1\" class=\"dataframe\">\n",
       "  <thead>\n",
       "    <tr style=\"text-align: right;\">\n",
       "      <th></th>\n",
       "      <th>id</th>\n",
       "      <th>rating</th>\n",
       "      <th>start_time</th>\n",
       "      <th>end_time</th>\n",
       "      <th>speaker</th>\n",
       "      <th>comment</th>\n",
       "    </tr>\n",
       "  </thead>\n",
       "  <tbody>\n",
       "    <tr>\n",
       "      <th>0</th>\n",
       "      <td>265e5551-7fc3-40d4-b4e5-18e15b1f714b</td>\n",
       "      <td>5.0</td>\n",
       "      <td>0:00:01</td>\n",
       "      <td>0:00:01</td>\n",
       "      <td>ch_1</td>\n",
       "      <td>sua chamada será encaminhada para ## de nossos...</td>\n",
       "    </tr>\n",
       "  </tbody>\n",
       "</table>\n",
       "</div>"
      ],
      "text/plain": [
       "                                     id  rating start_time end_time speaker  \\\n",
       "0  265e5551-7fc3-40d4-b4e5-18e15b1f714b     5.0    0:00:01  0:00:01    ch_1   \n",
       "\n",
       "                                             comment  \n",
       "0  sua chamada será encaminhada para ## de nossos...  "
      ]
     },
     "execution_count": 50,
     "metadata": {},
     "output_type": "execute_result"
    }
   ],
   "source": [
    "inner_df.head(1)"
   ]
  },
  {
   "cell_type": "code",
   "execution_count": 69,
   "metadata": {},
   "outputs": [],
   "source": [
    "agg_funcs = {'rating' : 'first',\n",
    "            'comment' : 'size', \n",
    "            'end_time': 'last' }"
   ]
  },
  {
   "cell_type": "code",
   "execution_count": 93,
   "metadata": {},
   "outputs": [],
   "source": [
    "relation_rating_comment = inner_df.groupby('id').agg(agg_funcs).reset_index().dropna(subset='rating').rename(columns={'comment': 'number_comments', 'end_time': 'minutes'})\n",
    "relation_rating_comment.minutes = pd.to_datetime(relation_rating_comment.minutes, format='%H:%M:%S').dt.minute"
   ]
  },
  {
   "cell_type": "code",
   "execution_count": 94,
   "metadata": {},
   "outputs": [
    {
     "data": {
      "text/html": [
       "<div>\n",
       "<style scoped>\n",
       "    .dataframe tbody tr th:only-of-type {\n",
       "        vertical-align: middle;\n",
       "    }\n",
       "\n",
       "    .dataframe tbody tr th {\n",
       "        vertical-align: top;\n",
       "    }\n",
       "\n",
       "    .dataframe thead th {\n",
       "        text-align: right;\n",
       "    }\n",
       "</style>\n",
       "<table border=\"1\" class=\"dataframe\">\n",
       "  <thead>\n",
       "    <tr style=\"text-align: right;\">\n",
       "      <th></th>\n",
       "      <th>id</th>\n",
       "      <th>rating</th>\n",
       "      <th>number_comments</th>\n",
       "      <th>minutes</th>\n",
       "    </tr>\n",
       "  </thead>\n",
       "  <tbody>\n",
       "    <tr>\n",
       "      <th>935</th>\n",
       "      <td>3dfec752-5686-409b-b033-d108f908df66</td>\n",
       "      <td>5.0</td>\n",
       "      <td>53</td>\n",
       "      <td>17</td>\n",
       "    </tr>\n",
       "    <tr>\n",
       "      <th>522</th>\n",
       "      <td>337d285e-bcb4-460d-8d18-f48ad5471af0</td>\n",
       "      <td>5.0</td>\n",
       "      <td>89</td>\n",
       "      <td>13</td>\n",
       "    </tr>\n",
       "    <tr>\n",
       "      <th>589</th>\n",
       "      <td>350c1099-850a-4aa4-8fa2-5782c104f0d1</td>\n",
       "      <td>1.0</td>\n",
       "      <td>75</td>\n",
       "      <td>10</td>\n",
       "    </tr>\n",
       "  </tbody>\n",
       "</table>\n",
       "</div>"
      ],
      "text/plain": [
       "                                       id  rating  number_comments  minutes\n",
       "935  3dfec752-5686-409b-b033-d108f908df66     5.0               53       17\n",
       "522  337d285e-bcb4-460d-8d18-f48ad5471af0     5.0               89       13\n",
       "589  350c1099-850a-4aa4-8fa2-5782c104f0d1     1.0               75       10"
      ]
     },
     "execution_count": 94,
     "metadata": {},
     "output_type": "execute_result"
    }
   ],
   "source": [
    "relation_rating_comment.sample(3)"
   ]
  },
  {
   "cell_type": "code",
   "execution_count": 189,
   "metadata": {},
   "outputs": [
    {
     "data": {
      "image/png": "[encoded data removed]",
      "text/plain": [
       "<Figure size 1200x500 with 1 Axes>"
      ]
     },
     "metadata": {},
     "output_type": "display_data"
    }
   ],
   "source": [
    "fig, ax = plt.subplots(figsize = (12,5))\n",
    "sns.pointplot(data=relation_rating_comment, x='rating', y='number_comments', estimator='median')\n",
    "ax.set_ylabel( \"Comments\" , size = 12)\n",
    "ax.set_xlabel( \"Rating\" , size = 12)\n",
    "ax.set_title( \"Comments vs Rating\" , size = 20 )\n",
    "plt.show()"
   ]
  },
  {
   "cell_type": "code",
   "execution_count": 191,
   "metadata": {},
   "outputs": [
    {
     "data": {
      "image/png": "[encoded data removed]",
      "text/plain": [
       "<Figure size 1200x500 with 1 Axes>"
      ]
     },
     "metadata": {},
     "output_type": "display_data"
    }
   ],
   "source": [
    "fig, ax = plt.subplots(figsize = (12,5))\n",
    "sns.pointplot(data=relation_rating_comment, x='rating', y='minutes', estimator='median')\n",
    "ax.set_ylabel( \"Minutes\" , size = 12)\n",
    "ax.set_xlabel( \"Rating\" , size = 12)\n",
    "ax.set_title( \"Minutes vs Rating\" , size = 20 )\n",
    "plt.show()"
   ]
  },
  {
   "cell_type": "code",
   "execution_count": 68,
   "metadata": {},
   "outputs": [
    {
     "data": {
      "text/html": [
       "<div>\n",
       "<style scoped>\n",
       "    .dataframe tbody tr th:only-of-type {\n",
       "        vertical-align: middle;\n",
       "    }\n",
       "\n",
       "    .dataframe tbody tr th {\n",
       "        vertical-align: top;\n",
       "    }\n",
       "\n",
       "    .dataframe thead th {\n",
       "        text-align: right;\n",
       "    }\n",
       "</style>\n",
       "<table border=\"1\" class=\"dataframe\">\n",
       "  <thead>\n",
       "    <tr style=\"text-align: right;\">\n",
       "      <th></th>\n",
       "      <th>id</th>\n",
       "      <th>rating</th>\n",
       "      <th>start_time</th>\n",
       "      <th>end_time</th>\n",
       "      <th>speaker</th>\n",
       "      <th>comment</th>\n",
       "    </tr>\n",
       "  </thead>\n",
       "  <tbody>\n",
       "    <tr>\n",
       "      <th>0</th>\n",
       "      <td>265e5551-7fc3-40d4-b4e5-18e15b1f714b</td>\n",
       "      <td>5.0</td>\n",
       "      <td>0:00:01</td>\n",
       "      <td>0:00:01</td>\n",
       "      <td>ch_1</td>\n",
       "      <td>sua chamada será encaminhada para ## de nossos...</td>\n",
       "    </tr>\n",
       "    <tr>\n",
       "      <th>1</th>\n",
       "      <td>265e5551-7fc3-40d4-b4e5-18e15b1f714b</td>\n",
       "      <td>5.0</td>\n",
       "      <td>0:00:12</td>\n",
       "      <td>0:00:13</td>\n",
       "      <td>ch_0</td>\n",
       "      <td>bom dia! Meu nome é #######</td>\n",
       "    </tr>\n",
       "    <tr>\n",
       "      <th>2</th>\n",
       "      <td>265e5551-7fc3-40d4-b4e5-18e15b1f714b</td>\n",
       "      <td>5.0</td>\n",
       "      <td>0:00:14</td>\n",
       "      <td>0:00:14</td>\n",
       "      <td>ch_1</td>\n",
       "      <td>tudo bem. ######! Como eu posso te ajudar?</td>\n",
       "    </tr>\n",
       "    <tr>\n",
       "      <th>3</th>\n",
       "      <td>265e5551-7fc3-40d4-b4e5-18e15b1f714b</td>\n",
       "      <td>5.0</td>\n",
       "      <td>0:00:18</td>\n",
       "      <td>0:00:19</td>\n",
       "      <td>ch_0</td>\n",
       "      <td>O cartão, esse cartão ou conta jurídica? Ele t...</td>\n",
       "    </tr>\n",
       "    <tr>\n",
       "      <th>4</th>\n",
       "      <td>265e5551-7fc3-40d4-b4e5-18e15b1f714b</td>\n",
       "      <td>5.0</td>\n",
       "      <td>0:00:31</td>\n",
       "      <td>0:00:31</td>\n",
       "      <td>ch_1</td>\n",
       "      <td>É Vamos dar uma olhadinha. Qual é o teu CPF?</td>\n",
       "    </tr>\n",
       "    <tr>\n",
       "      <th>...</th>\n",
       "      <td>...</td>\n",
       "      <td>...</td>\n",
       "      <td>...</td>\n",
       "      <td>...</td>\n",
       "      <td>...</td>\n",
       "      <td>...</td>\n",
       "    </tr>\n",
       "    <tr>\n",
       "      <th>80</th>\n",
       "      <td>265e5551-7fc3-40d4-b4e5-18e15b1f714b</td>\n",
       "      <td>5.0</td>\n",
       "      <td>0:10:58</td>\n",
       "      <td>0:10:58</td>\n",
       "      <td>ch_1</td>\n",
       "      <td>Então, tá, Se tu puder aguardar pra avaliar o ...</td>\n",
       "    </tr>\n",
       "    <tr>\n",
       "      <th>81</th>\n",
       "      <td>265e5551-7fc3-40d4-b4e5-18e15b1f714b</td>\n",
       "      <td>5.0</td>\n",
       "      <td>0:11:03</td>\n",
       "      <td>0:11:04</td>\n",
       "      <td>ch_0</td>\n",
       "      <td>tá jóia Brigada</td>\n",
       "    </tr>\n",
       "    <tr>\n",
       "      <th>82</th>\n",
       "      <td>265e5551-7fc3-40d4-b4e5-18e15b1f714b</td>\n",
       "      <td>5.0</td>\n",
       "      <td>0:11:04</td>\n",
       "      <td>0:11:05</td>\n",
       "      <td>ch_1</td>\n",
       "      <td>Obrigada. Tchau. Tchau</td>\n",
       "    </tr>\n",
       "    <tr>\n",
       "      <th>83</th>\n",
       "      <td>265e5551-7fc3-40d4-b4e5-18e15b1f714b</td>\n",
       "      <td>5.0</td>\n",
       "      <td>0:11:06</td>\n",
       "      <td>0:11:07</td>\n",
       "      <td>ch_0</td>\n",
       "      <td>Tchau</td>\n",
       "    </tr>\n",
       "    <tr>\n",
       "      <th>84</th>\n",
       "      <td>265e5551-7fc3-40d4-b4e5-18e15b1f714b</td>\n",
       "      <td>5.0</td>\n",
       "      <td>0:11:11</td>\n",
       "      <td>0:11:11</td>\n",
       "      <td>ch_1</td>\n",
       "      <td>e agora? Convido você para responder. A nossa ...</td>\n",
       "    </tr>\n",
       "  </tbody>\n",
       "</table>\n",
       "<p>85 rows × 6 columns</p>\n",
       "</div>"
      ],
      "text/plain": [
       "                                      id  rating start_time end_time speaker  \\\n",
       "0   265e5551-7fc3-40d4-b4e5-18e15b1f714b     5.0    0:00:01  0:00:01    ch_1   \n",
       "1   265e5551-7fc3-40d4-b4e5-18e15b1f714b     5.0    0:00:12  0:00:13    ch_0   \n",
       "2   265e5551-7fc3-40d4-b4e5-18e15b1f714b     5.0    0:00:14  0:00:14    ch_1   \n",
       "3   265e5551-7fc3-40d4-b4e5-18e15b1f714b     5.0    0:00:18  0:00:19    ch_0   \n",
       "4   265e5551-7fc3-40d4-b4e5-18e15b1f714b     5.0    0:00:31  0:00:31    ch_1   \n",
       "..                                   ...     ...        ...      ...     ...   \n",
       "80  265e5551-7fc3-40d4-b4e5-18e15b1f714b     5.0    0:10:58  0:10:58    ch_1   \n",
       "81  265e5551-7fc3-40d4-b4e5-18e15b1f714b     5.0    0:11:03  0:11:04    ch_0   \n",
       "82  265e5551-7fc3-40d4-b4e5-18e15b1f714b     5.0    0:11:04  0:11:05    ch_1   \n",
       "83  265e5551-7fc3-40d4-b4e5-18e15b1f714b     5.0    0:11:06  0:11:07    ch_0   \n",
       "84  265e5551-7fc3-40d4-b4e5-18e15b1f714b     5.0    0:11:11  0:11:11    ch_1   \n",
       "\n",
       "                                              comment  \n",
       "0   sua chamada será encaminhada para ## de nossos...  \n",
       "1                         bom dia! Meu nome é #######  \n",
       "2          tudo bem. ######! Como eu posso te ajudar?  \n",
       "3   O cartão, esse cartão ou conta jurídica? Ele t...  \n",
       "4        É Vamos dar uma olhadinha. Qual é o teu CPF?  \n",
       "..                                                ...  \n",
       "80  Então, tá, Se tu puder aguardar pra avaliar o ...  \n",
       "81                                    tá jóia Brigada  \n",
       "82                             Obrigada. Tchau. Tchau  \n",
       "83                                              Tchau  \n",
       "84  e agora? Convido você para responder. A nossa ...  \n",
       "\n",
       "[85 rows x 6 columns]"
      ]
     },
     "execution_count": 68,
     "metadata": {},
     "output_type": "execute_result"
    }
   ],
   "source": [
    "inner_df[inner_df.id == '265e5551-7fc3-40d4-b4e5-18e15b1f714b']"
   ]
  }
 ],
 "metadata": {
  "kernelspec": {
   "display_name": "Python 3.9.13 ('dev')",
   "language": "python",
   "name": "python3"
  },
  "language_info": {
   "codemirror_mode": {
    "name": "ipython",
    "version": 3
   },
   "file_extension": ".py",
   "mimetype": "text/x-python",
   "name": "python",
   "nbconvert_exporter": "python",
   "pygments_lexer": "ipython3",
   "version": "3.9.13"
  },
  "orig_nbformat": 4,
  "vscode": {
   "interpreter": {
    "hash": "6ec50e2dddca2376d90d7f852e4579e00459be64bf68dd155a4947fa3ea19e2b"
   }
  }
 },
 "nbformat": 4,
 "nbformat_minor": 2
}
