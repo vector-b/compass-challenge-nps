{
 "cells": [
  {
   "cell_type": "markdown",
   "metadata": {},
   "source": [
    "## Libraries and Definitions"
   ]
  },
  {
   "cell_type": "code",
   "execution_count": 39,
   "metadata": {},
   "outputs": [],
   "source": [
    "import pandas as pd\n",
    "import seaborn as sns\n",
    "import matplotlib.pyplot as plt\n",
    "from sklearn.feature_extraction.text import CountVectorizer\n",
    "from sklearn.naive_bayes import MultinomialNB\n",
    "import numpy as np"
   ]
  },
  {
   "cell_type": "code",
   "execution_count": 40,
   "metadata": {},
   "outputs": [],
   "source": [
    "sns.set(style=\"darkgrid\", context=\"talk\")\n",
    "plt.rcParams.update({\"grid.linewidth\":0.5, \"grid.alpha\":0.5})\n",
    "plt.style.use(\"dark_background\")"
   ]
  },
  {
   "cell_type": "markdown",
   "metadata": {},
   "source": [
    "## Data Exploration"
   ]
  },
  {
   "cell_type": "code",
   "execution_count": 41,
   "metadata": {},
   "outputs": [],
   "source": [
    "file_path = 'data/conversation_nps.csv'"
   ]
  },
  {
   "cell_type": "markdown",
   "metadata": {},
   "source": [
    "Fix JSON and CSV filenames"
   ]
  },
  {
   "cell_type": "code",
   "execution_count": 42,
   "metadata": {},
   "outputs": [],
   "source": [
    "import os\n",
    "path = 'data/'\n",
    "separator = '__'\n",
    "items = [ name for name in os.listdir(path) if os.path.isdir(os.path.join(path, name))]"
   ]
  },
  {
   "cell_type": "code",
   "execution_count": 43,
   "metadata": {},
   "outputs": [],
   "source": [
    "for i in items:\n",
    "    path_to_items = path + i + '/'\n",
    "    files = os.listdir(path_to_items)\n",
    "    for filename in files:\n",
    "        os.rename(path_to_items + filename, path_to_items + filename.replace('1_conversation_', '').split(separator,1)[0] + '.' + i)"
   ]
  },
  {
   "cell_type": "markdown",
   "metadata": {},
   "source": [
    "Now we have all items with the same id pattern"
   ]
  },
  {
   "cell_type": "code",
   "execution_count": 44,
   "metadata": {},
   "outputs": [],
   "source": [
    "for i in items:\n",
    "    path_to_items = path + i + '/'\n",
    "    files = os.listdir(path_to_items)\n",
    "    #print(files)"
   ]
  },
  {
   "cell_type": "code",
   "execution_count": 45,
   "metadata": {},
   "outputs": [],
   "source": [
    "df = pd.read_csv(file_path, header=None, usecols=[0,1], delimiter=';')\n",
    "df = df.rename(columns={0: 'id', 1: 'rating'})"
   ]
  },
  {
   "cell_type": "code",
   "execution_count": 46,
   "metadata": {},
   "outputs": [
    {
     "data": {
      "text/plain": [
       "'data/output/'"
      ]
     },
     "execution_count": 46,
     "metadata": {},
     "output_type": "execute_result"
    }
   ],
   "source": [
    "path_to_items"
   ]
  },
  {
   "cell_type": "code",
   "execution_count": 47,
   "metadata": {},
   "outputs": [],
   "source": [
    "vals = df.id.unique()\n",
    "result = []\n",
    "for root, dir, files in os.walk(path_to_items):\n",
    "    for i in vals:\n",
    "        if any(i in f for f in files):\n",
    "            result.append(i)"
   ]
  },
  {
   "cell_type": "code",
   "execution_count": 48,
   "metadata": {},
   "outputs": [
    {
     "data": {
      "text/plain": [
       "0"
      ]
     },
     "execution_count": 48,
     "metadata": {},
     "output_type": "execute_result"
    }
   ],
   "source": [
    "len(result)"
   ]
  },
  {
   "cell_type": "markdown",
   "metadata": {},
   "source": [
    "We have 988 files loaded in df that contains a phone register"
   ]
  },
  {
   "cell_type": "code",
   "execution_count": 49,
   "metadata": {},
   "outputs": [
    {
     "data": {
      "text/html": [
       "<div>\n",
       "<style scoped>\n",
       "    .dataframe tbody tr th:only-of-type {\n",
       "        vertical-align: middle;\n",
       "    }\n",
       "\n",
       "    .dataframe tbody tr th {\n",
       "        vertical-align: top;\n",
       "    }\n",
       "\n",
       "    .dataframe thead th {\n",
       "        text-align: right;\n",
       "    }\n",
       "</style>\n",
       "<table border=\"1\" class=\"dataframe\">\n",
       "  <thead>\n",
       "    <tr style=\"text-align: right;\">\n",
       "      <th></th>\n",
       "      <th>id</th>\n",
       "      <th>rating</th>\n",
       "    </tr>\n",
       "  </thead>\n",
       "  <tbody>\n",
       "    <tr>\n",
       "      <th>0</th>\n",
       "      <td>265e5551-7fc3-40d4-b4e5-18e15b1f714b</td>\n",
       "      <td>5.0</td>\n",
       "    </tr>\n",
       "    <tr>\n",
       "      <th>1</th>\n",
       "      <td>265f3b20-d426-4bcc-b46d-375b0e920532</td>\n",
       "      <td>5.0</td>\n",
       "    </tr>\n",
       "    <tr>\n",
       "      <th>2</th>\n",
       "      <td>26614192-7d2d-4518-b315-c0ca74014461</td>\n",
       "      <td>5.0</td>\n",
       "    </tr>\n",
       "    <tr>\n",
       "      <th>3</th>\n",
       "      <td>266580c7-5f96-428b-bfc9-1749a490cf35</td>\n",
       "      <td>5.0</td>\n",
       "    </tr>\n",
       "    <tr>\n",
       "      <th>4</th>\n",
       "      <td>26670455-d46e-4a03-9e70-1560992ff04f</td>\n",
       "      <td>NaN</td>\n",
       "    </tr>\n",
       "    <tr>\n",
       "      <th>...</th>\n",
       "      <td>...</td>\n",
       "      <td>...</td>\n",
       "    </tr>\n",
       "    <tr>\n",
       "      <th>996</th>\n",
       "      <td>3f333e1f-67b5-48db-9112-1fd036f952c8</td>\n",
       "      <td>NaN</td>\n",
       "    </tr>\n",
       "    <tr>\n",
       "      <th>997</th>\n",
       "      <td>3f363ffb-ce63-439c-a3dd-0458f25476b7</td>\n",
       "      <td>NaN</td>\n",
       "    </tr>\n",
       "    <tr>\n",
       "      <th>998</th>\n",
       "      <td>3f41cbb4-3d15-4134-8eac-97506e2cf340</td>\n",
       "      <td>NaN</td>\n",
       "    </tr>\n",
       "    <tr>\n",
       "      <th>999</th>\n",
       "      <td>3f59dd32-bd7c-47ed-a8ac-59af63a43a66</td>\n",
       "      <td>5.0</td>\n",
       "    </tr>\n",
       "    <tr>\n",
       "      <th>1000</th>\n",
       "      <td>3f59dd32-bd7c-47ed-a8ac-59af63a43a66</td>\n",
       "      <td>5.0</td>\n",
       "    </tr>\n",
       "  </tbody>\n",
       "</table>\n",
       "<p>1001 rows × 2 columns</p>\n",
       "</div>"
      ],
      "text/plain": [
       "                                        id  rating\n",
       "0     265e5551-7fc3-40d4-b4e5-18e15b1f714b     5.0\n",
       "1     265f3b20-d426-4bcc-b46d-375b0e920532     5.0\n",
       "2     26614192-7d2d-4518-b315-c0ca74014461     5.0\n",
       "3     266580c7-5f96-428b-bfc9-1749a490cf35     5.0\n",
       "4     26670455-d46e-4a03-9e70-1560992ff04f     NaN\n",
       "...                                    ...     ...\n",
       "996   3f333e1f-67b5-48db-9112-1fd036f952c8     NaN\n",
       "997   3f363ffb-ce63-439c-a3dd-0458f25476b7     NaN\n",
       "998   3f41cbb4-3d15-4134-8eac-97506e2cf340     NaN\n",
       "999   3f59dd32-bd7c-47ed-a8ac-59af63a43a66     5.0\n",
       "1000  3f59dd32-bd7c-47ed-a8ac-59af63a43a66     5.0\n",
       "\n",
       "[1001 rows x 2 columns]"
      ]
     },
     "execution_count": 49,
     "metadata": {},
     "output_type": "execute_result"
    }
   ],
   "source": [
    "df"
   ]
  },
  {
   "cell_type": "code",
   "execution_count": 50,
   "metadata": {},
   "outputs": [
    {
     "data": {
      "text/plain": [
       "5.0    272\n",
       "4.0     19\n",
       "1.0      9\n",
       "3.0      4\n",
       "2.0      2\n",
       "Name: rating, dtype: int64"
      ]
     },
     "execution_count": 50,
     "metadata": {},
     "output_type": "execute_result"
    }
   ],
   "source": [
    "df.rating.value_counts()"
   ]
  },
  {
   "cell_type": "markdown",
   "metadata": {},
   "source": [
    "Merging CSV Files"
   ]
  },
  {
   "cell_type": "code",
   "execution_count": 51,
   "metadata": {},
   "outputs": [
    {
     "data": {
      "text/plain": [
       "'data/csv/'"
      ]
     },
     "execution_count": 51,
     "metadata": {},
     "output_type": "execute_result"
    }
   ],
   "source": [
    "path_to_csv = path + 'csv/'\n",
    "path_to_csv"
   ]
  },
  {
   "cell_type": "code",
   "execution_count": 52,
   "metadata": {},
   "outputs": [],
   "source": [
    "csv_files = os.listdir(path_to_csv)"
   ]
  },
  {
   "cell_type": "code",
   "execution_count": 53,
   "metadata": {},
   "outputs": [],
   "source": [
    "filtered = []\n",
    "\n",
    "for f in csv_files:\n",
    "    data = pd.read_csv(\n",
    "        path_to_csv + f,\n",
    "        index_col=[0]\n",
    "    )\n",
    "    data['id'] = f.replace('.csv', '')\n",
    "    filtered.append(data)"
   ]
  },
  {
   "cell_type": "code",
   "execution_count": 54,
   "metadata": {},
   "outputs": [],
   "source": [
    "concated = pd.concat(filtered, ignore_index=True)"
   ]
  },
  {
   "cell_type": "code",
   "execution_count": 55,
   "metadata": {},
   "outputs": [
    {
     "data": {
      "text/html": [
       "<div>\n",
       "<style scoped>\n",
       "    .dataframe tbody tr th:only-of-type {\n",
       "        vertical-align: middle;\n",
       "    }\n",
       "\n",
       "    .dataframe tbody tr th {\n",
       "        vertical-align: top;\n",
       "    }\n",
       "\n",
       "    .dataframe thead th {\n",
       "        text-align: right;\n",
       "    }\n",
       "</style>\n",
       "<table border=\"1\" class=\"dataframe\">\n",
       "  <thead>\n",
       "    <tr style=\"text-align: right;\">\n",
       "      <th></th>\n",
       "      <th>id</th>\n",
       "      <th>rating</th>\n",
       "    </tr>\n",
       "  </thead>\n",
       "  <tbody>\n",
       "    <tr>\n",
       "      <th>711</th>\n",
       "      <td>378b9381-9720-4b40-b1a6-033f26342f56</td>\n",
       "      <td>5.0</td>\n",
       "    </tr>\n",
       "    <tr>\n",
       "      <th>670</th>\n",
       "      <td>36be70fa-2e9a-4262-bf45-d6c6a3abc1c7</td>\n",
       "      <td>NaN</td>\n",
       "    </tr>\n",
       "    <tr>\n",
       "      <th>119</th>\n",
       "      <td>29158756-24e5-4afa-af8c-9e826c994b8d</td>\n",
       "      <td>NaN</td>\n",
       "    </tr>\n",
       "  </tbody>\n",
       "</table>\n",
       "</div>"
      ],
      "text/plain": [
       "                                       id  rating\n",
       "711  378b9381-9720-4b40-b1a6-033f26342f56     5.0\n",
       "670  36be70fa-2e9a-4262-bf45-d6c6a3abc1c7     NaN\n",
       "119  29158756-24e5-4afa-af8c-9e826c994b8d     NaN"
      ]
     },
     "execution_count": 55,
     "metadata": {},
     "output_type": "execute_result"
    }
   ],
   "source": [
    "df.sample(3)"
   ]
  },
  {
   "cell_type": "code",
   "execution_count": 56,
   "metadata": {},
   "outputs": [
    {
     "data": {
      "text/html": [
       "<div>\n",
       "<style scoped>\n",
       "    .dataframe tbody tr th:only-of-type {\n",
       "        vertical-align: middle;\n",
       "    }\n",
       "\n",
       "    .dataframe tbody tr th {\n",
       "        vertical-align: top;\n",
       "    }\n",
       "\n",
       "    .dataframe thead th {\n",
       "        text-align: right;\n",
       "    }\n",
       "</style>\n",
       "<table border=\"1\" class=\"dataframe\">\n",
       "  <thead>\n",
       "    <tr style=\"text-align: right;\">\n",
       "      <th></th>\n",
       "      <th>start_time</th>\n",
       "      <th>end_time</th>\n",
       "      <th>speaker</th>\n",
       "      <th>comment</th>\n",
       "      <th>id</th>\n",
       "    </tr>\n",
       "  </thead>\n",
       "  <tbody>\n",
       "    <tr>\n",
       "      <th>38775</th>\n",
       "      <td>0:02:01</td>\n",
       "      <td>0:02:02</td>\n",
       "      <td>ch_0</td>\n",
       "      <td>porque eu desinstale o aplicativo né do sicred...</td>\n",
       "      <td>3420f68b-2d80-4cfd-83e7-82a849b806a4</td>\n",
       "    </tr>\n",
       "    <tr>\n",
       "      <th>49443</th>\n",
       "      <td>0:13:21</td>\n",
       "      <td>0:13:21</td>\n",
       "      <td>ch_0</td>\n",
       "      <td>tá okay!</td>\n",
       "      <td>37c74cb2-fd1b-45d6-b7dd-819420688218</td>\n",
       "    </tr>\n",
       "    <tr>\n",
       "      <th>4179</th>\n",
       "      <td>0:32:35</td>\n",
       "      <td>0:32:35</td>\n",
       "      <td>ch_0</td>\n",
       "      <td>okay, eu tenho! Eu tenho assim como acompanhar...</td>\n",
       "      <td>27c462b8-7688-4318-9d8b-88964404072b</td>\n",
       "    </tr>\n",
       "  </tbody>\n",
       "</table>\n",
       "</div>"
      ],
      "text/plain": [
       "      start_time end_time speaker  \\\n",
       "38775    0:02:01  0:02:02    ch_0   \n",
       "49443    0:13:21  0:13:21    ch_0   \n",
       "4179     0:32:35  0:32:35    ch_0   \n",
       "\n",
       "                                                 comment  \\\n",
       "38775  porque eu desinstale o aplicativo né do sicred...   \n",
       "49443                                           tá okay!   \n",
       "4179   okay, eu tenho! Eu tenho assim como acompanhar...   \n",
       "\n",
       "                                         id  \n",
       "38775  3420f68b-2d80-4cfd-83e7-82a849b806a4  \n",
       "49443  37c74cb2-fd1b-45d6-b7dd-819420688218  \n",
       "4179   27c462b8-7688-4318-9d8b-88964404072b  "
      ]
     },
     "execution_count": 56,
     "metadata": {},
     "output_type": "execute_result"
    }
   ],
   "source": [
    "concated.sample(3)"
   ]
  },
  {
   "cell_type": "code",
   "execution_count": 57,
   "metadata": {},
   "outputs": [],
   "source": [
    "inner_df = pd.merge(df, concated, how='inner', on='id')"
   ]
  },
  {
   "cell_type": "code",
   "execution_count": 58,
   "metadata": {},
   "outputs": [
    {
     "data": {
      "text/html": [
       "<div>\n",
       "<style scoped>\n",
       "    .dataframe tbody tr th:only-of-type {\n",
       "        vertical-align: middle;\n",
       "    }\n",
       "\n",
       "    .dataframe tbody tr th {\n",
       "        vertical-align: top;\n",
       "    }\n",
       "\n",
       "    .dataframe thead th {\n",
       "        text-align: right;\n",
       "    }\n",
       "</style>\n",
       "<table border=\"1\" class=\"dataframe\">\n",
       "  <thead>\n",
       "    <tr style=\"text-align: right;\">\n",
       "      <th></th>\n",
       "      <th>id</th>\n",
       "      <th>rating</th>\n",
       "      <th>start_time</th>\n",
       "      <th>end_time</th>\n",
       "      <th>speaker</th>\n",
       "      <th>comment</th>\n",
       "    </tr>\n",
       "  </thead>\n",
       "  <tbody>\n",
       "    <tr>\n",
       "      <th>0</th>\n",
       "      <td>265e5551-7fc3-40d4-b4e5-18e15b1f714b</td>\n",
       "      <td>5.0</td>\n",
       "      <td>0:00:01</td>\n",
       "      <td>0:00:01</td>\n",
       "      <td>ch_1</td>\n",
       "      <td>sua chamada será encaminhada para ## de nossos...</td>\n",
       "    </tr>\n",
       "    <tr>\n",
       "      <th>1</th>\n",
       "      <td>265e5551-7fc3-40d4-b4e5-18e15b1f714b</td>\n",
       "      <td>5.0</td>\n",
       "      <td>0:00:12</td>\n",
       "      <td>0:00:13</td>\n",
       "      <td>ch_0</td>\n",
       "      <td>bom dia! Meu nome é #######</td>\n",
       "    </tr>\n",
       "    <tr>\n",
       "      <th>2</th>\n",
       "      <td>265e5551-7fc3-40d4-b4e5-18e15b1f714b</td>\n",
       "      <td>5.0</td>\n",
       "      <td>0:00:14</td>\n",
       "      <td>0:00:14</td>\n",
       "      <td>ch_1</td>\n",
       "      <td>tudo bem. ######! Como eu posso te ajudar?</td>\n",
       "    </tr>\n",
       "    <tr>\n",
       "      <th>3</th>\n",
       "      <td>265e5551-7fc3-40d4-b4e5-18e15b1f714b</td>\n",
       "      <td>5.0</td>\n",
       "      <td>0:00:18</td>\n",
       "      <td>0:00:19</td>\n",
       "      <td>ch_0</td>\n",
       "      <td>O cartão, esse cartão ou conta jurídica? Ele t...</td>\n",
       "    </tr>\n",
       "    <tr>\n",
       "      <th>4</th>\n",
       "      <td>265e5551-7fc3-40d4-b4e5-18e15b1f714b</td>\n",
       "      <td>5.0</td>\n",
       "      <td>0:00:31</td>\n",
       "      <td>0:00:31</td>\n",
       "      <td>ch_1</td>\n",
       "      <td>É Vamos dar uma olhadinha. Qual é o teu CPF?</td>\n",
       "    </tr>\n",
       "    <tr>\n",
       "      <th>...</th>\n",
       "      <td>...</td>\n",
       "      <td>...</td>\n",
       "      <td>...</td>\n",
       "      <td>...</td>\n",
       "      <td>...</td>\n",
       "      <td>...</td>\n",
       "    </tr>\n",
       "    <tr>\n",
       "      <th>68755</th>\n",
       "      <td>3f59dd32-bd7c-47ed-a8ac-59af63a43a66</td>\n",
       "      <td>5.0</td>\n",
       "      <td>0:27:04</td>\n",
       "      <td>0:27:04</td>\n",
       "      <td>ch_1</td>\n",
       "      <td>##### e #### ###### ####.</td>\n",
       "    </tr>\n",
       "    <tr>\n",
       "      <th>68756</th>\n",
       "      <td>3f59dd32-bd7c-47ed-a8ac-59af63a43a66</td>\n",
       "      <td>5.0</td>\n",
       "      <td>0:27:06</td>\n",
       "      <td>0:27:07</td>\n",
       "      <td>ch_0</td>\n",
       "      <td>##### e #### ###### Muito obrigado pela sua at...</td>\n",
       "    </tr>\n",
       "    <tr>\n",
       "      <th>68757</th>\n",
       "      <td>3f59dd32-bd7c-47ed-a8ac-59af63a43a66</td>\n",
       "      <td>5.0</td>\n",
       "      <td>0:27:08</td>\n",
       "      <td>0:27:10</td>\n",
       "      <td>ch_1</td>\n",
       "      <td>Eu que agradeço se puder no final ## ligação. ...</td>\n",
       "    </tr>\n",
       "    <tr>\n",
       "      <th>68758</th>\n",
       "      <td>3f59dd32-bd7c-47ed-a8ac-59af63a43a66</td>\n",
       "      <td>5.0</td>\n",
       "      <td>0:27:16</td>\n",
       "      <td>0:27:16</td>\n",
       "      <td>ch_0</td>\n",
       "      <td>Tá, pode deixar que vou avaliá Muito obrigada,...</td>\n",
       "    </tr>\n",
       "    <tr>\n",
       "      <th>68759</th>\n",
       "      <td>3f59dd32-bd7c-47ed-a8ac-59af63a43a66</td>\n",
       "      <td>5.0</td>\n",
       "      <td>0:27:17</td>\n",
       "      <td>0:27:18</td>\n",
       "      <td>ch_1</td>\n",
       "      <td>##### e agora convido você para responder a no...</td>\n",
       "    </tr>\n",
       "  </tbody>\n",
       "</table>\n",
       "<p>68760 rows × 6 columns</p>\n",
       "</div>"
      ],
      "text/plain": [
       "                                         id  rating start_time end_time  \\\n",
       "0      265e5551-7fc3-40d4-b4e5-18e15b1f714b     5.0    0:00:01  0:00:01   \n",
       "1      265e5551-7fc3-40d4-b4e5-18e15b1f714b     5.0    0:00:12  0:00:13   \n",
       "2      265e5551-7fc3-40d4-b4e5-18e15b1f714b     5.0    0:00:14  0:00:14   \n",
       "3      265e5551-7fc3-40d4-b4e5-18e15b1f714b     5.0    0:00:18  0:00:19   \n",
       "4      265e5551-7fc3-40d4-b4e5-18e15b1f714b     5.0    0:00:31  0:00:31   \n",
       "...                                     ...     ...        ...      ...   \n",
       "68755  3f59dd32-bd7c-47ed-a8ac-59af63a43a66     5.0    0:27:04  0:27:04   \n",
       "68756  3f59dd32-bd7c-47ed-a8ac-59af63a43a66     5.0    0:27:06  0:27:07   \n",
       "68757  3f59dd32-bd7c-47ed-a8ac-59af63a43a66     5.0    0:27:08  0:27:10   \n",
       "68758  3f59dd32-bd7c-47ed-a8ac-59af63a43a66     5.0    0:27:16  0:27:16   \n",
       "68759  3f59dd32-bd7c-47ed-a8ac-59af63a43a66     5.0    0:27:17  0:27:18   \n",
       "\n",
       "      speaker                                            comment  \n",
       "0        ch_1  sua chamada será encaminhada para ## de nossos...  \n",
       "1        ch_0                        bom dia! Meu nome é #######  \n",
       "2        ch_1         tudo bem. ######! Como eu posso te ajudar?  \n",
       "3        ch_0  O cartão, esse cartão ou conta jurídica? Ele t...  \n",
       "4        ch_1       É Vamos dar uma olhadinha. Qual é o teu CPF?  \n",
       "...       ...                                                ...  \n",
       "68755    ch_1                          ##### e #### ###### ####.  \n",
       "68756    ch_0  ##### e #### ###### Muito obrigado pela sua at...  \n",
       "68757    ch_1  Eu que agradeço se puder no final ## ligação. ...  \n",
       "68758    ch_0  Tá, pode deixar que vou avaliá Muito obrigada,...  \n",
       "68759    ch_1  ##### e agora convido você para responder a no...  \n",
       "\n",
       "[68760 rows x 6 columns]"
      ]
     },
     "execution_count": 58,
     "metadata": {},
     "output_type": "execute_result"
    }
   ],
   "source": [
    "inner_df"
   ]
  },
  {
   "cell_type": "markdown",
   "metadata": {},
   "source": [
    "## General NPS Analysis"
   ]
  },
  {
   "cell_type": "markdown",
   "metadata": {},
   "source": [
    "In all dataset we just have 306 not-null values for nps-rating"
   ]
  },
  {
   "cell_type": "code",
   "execution_count": 59,
   "metadata": {},
   "outputs": [
    {
     "data": {
      "text/plain": [
       "306"
      ]
     },
     "execution_count": 59,
     "metadata": {},
     "output_type": "execute_result"
    }
   ],
   "source": [
    "df.rating.value_counts().sum()"
   ]
  },
  {
   "cell_type": "code",
   "execution_count": 60,
   "metadata": {},
   "outputs": [
    {
     "data": {
      "text/plain": [
       "305"
      ]
     },
     "execution_count": 60,
     "metadata": {},
     "output_type": "execute_result"
    }
   ],
   "source": [
    "inner_df.groupby('id').rating.first().value_counts().sum()"
   ]
  },
  {
   "cell_type": "markdown",
   "metadata": {},
   "source": [
    "We have A LOT of 5 stars rating for our customer service"
   ]
  },
  {
   "cell_type": "code",
   "execution_count": 61,
   "metadata": {},
   "outputs": [],
   "source": [
    "exp = df.copy()\n",
    "exp2 = exp.copy()"
   ]
  },
  {
   "cell_type": "code",
   "execution_count": 62,
   "metadata": {},
   "outputs": [],
   "source": [
    "exp.rating = exp.rating.fillna('No Review')\n",
    "exp2.dropna(subset='rating', inplace=True)"
   ]
  },
  {
   "cell_type": "code",
   "execution_count": 63,
   "metadata": {},
   "outputs": [
    {
     "data": {
      "text/html": [
       "<div>\n",
       "<style scoped>\n",
       "    .dataframe tbody tr th:only-of-type {\n",
       "        vertical-align: middle;\n",
       "    }\n",
       "\n",
       "    .dataframe tbody tr th {\n",
       "        vertical-align: top;\n",
       "    }\n",
       "\n",
       "    .dataframe thead th {\n",
       "        text-align: right;\n",
       "    }\n",
       "</style>\n",
       "<table border=\"1\" class=\"dataframe\">\n",
       "  <thead>\n",
       "    <tr style=\"text-align: right;\">\n",
       "      <th></th>\n",
       "      <th>id</th>\n",
       "      <th>rating</th>\n",
       "    </tr>\n",
       "  </thead>\n",
       "  <tbody>\n",
       "    <tr>\n",
       "      <th>328</th>\n",
       "      <td>2ea8ad9e-1dac-4d89-a17a-4f2c90b20a22</td>\n",
       "      <td>No Review</td>\n",
       "    </tr>\n",
       "    <tr>\n",
       "      <th>968</th>\n",
       "      <td>3e944c94-7036-4136-beee-aff9819ded67</td>\n",
       "      <td>5.0</td>\n",
       "    </tr>\n",
       "    <tr>\n",
       "      <th>956</th>\n",
       "      <td>3e4a51a5-56ca-4df9-95a0-4065c18e4a1b</td>\n",
       "      <td>No Review</td>\n",
       "    </tr>\n",
       "    <tr>\n",
       "      <th>945</th>\n",
       "      <td>3ded3a0f-0bec-4367-8c15-0376404c01b9</td>\n",
       "      <td>No Review</td>\n",
       "    </tr>\n",
       "    <tr>\n",
       "      <th>385</th>\n",
       "      <td>2fdcbde1-c39a-4fc1-a5d7-8eceeae186f2</td>\n",
       "      <td>No Review</td>\n",
       "    </tr>\n",
       "  </tbody>\n",
       "</table>\n",
       "</div>"
      ],
      "text/plain": [
       "                                       id     rating\n",
       "328  2ea8ad9e-1dac-4d89-a17a-4f2c90b20a22  No Review\n",
       "968  3e944c94-7036-4136-beee-aff9819ded67        5.0\n",
       "956  3e4a51a5-56ca-4df9-95a0-4065c18e4a1b  No Review\n",
       "945  3ded3a0f-0bec-4367-8c15-0376404c01b9  No Review\n",
       "385  2fdcbde1-c39a-4fc1-a5d7-8eceeae186f2  No Review"
      ]
     },
     "execution_count": 63,
     "metadata": {},
     "output_type": "execute_result"
    }
   ],
   "source": [
    "exp.sample(5)"
   ]
  },
  {
   "cell_type": "code",
   "execution_count": 64,
   "metadata": {},
   "outputs": [
    {
     "data": {
      "text/plain": [
       "Text(0.5, 1.0, 'Customers vs Rating')"
      ]
     },
     "execution_count": 64,
     "metadata": {},
     "output_type": "execute_result"
    },
    {
     "data": {
      "image/png": "[encoded data removed]",
      "text/plain": [
       "<Figure size 1300x700 with 1 Axes>"
      ]
     },
     "metadata": {},
     "output_type": "display_data"
    }
   ],
   "source": [
    "fig, ax = plt.subplots(figsize = (13,7))\n",
    "sns.countplot(x='rating', data=exp, palette=\"pastel\")\n",
    "ax.set_xlabel( \"Rating Category\" , size = 12)\n",
    "ax.set_ylabel( \"Number of Customers\" , size = 12)\n",
    "ax.set_title( \"Customers vs Rating\" , size = 24 )"
   ]
  },
  {
   "cell_type": "code",
   "execution_count": 65,
   "metadata": {},
   "outputs": [],
   "source": [
    "new_rating = []\n",
    "for row in exp['rating']:\n",
    "    \n",
    "    if row == 'No Review':\n",
    "        new_rating.append('No Review')\n",
    "    elif row < 5.0:\n",
    "        new_rating.append('Others')\n",
    "    else:\n",
    "        new_rating.append(5.0)\n",
    "        \n",
    "exp['unbalanced_rating'] = new_rating"
   ]
  },
  {
   "cell_type": "code",
   "execution_count": 66,
   "metadata": {},
   "outputs": [
    {
     "data": {
      "text/plain": [
       "No Review    695\n",
       "5.0          272\n",
       "Others        34\n",
       "Name: unbalanced_rating, dtype: int64"
      ]
     },
     "execution_count": 66,
     "metadata": {},
     "output_type": "execute_result"
    }
   ],
   "source": [
    "exp.unbalanced_rating.value_counts()"
   ]
  },
  {
   "cell_type": "code",
   "execution_count": 67,
   "metadata": {},
   "outputs": [
    {
     "data": {
      "text/plain": [
       "Text(0.5, 1.0, 'Customers vs Rating Classification')"
      ]
     },
     "execution_count": 67,
     "metadata": {},
     "output_type": "execute_result"
    },
    {
     "data": {
      "image/png": "[encoded data removed]",
      "text/plain": [
       "<Figure size 1300x700 with 1 Axes>"
      ]
     },
     "metadata": {},
     "output_type": "display_data"
    }
   ],
   "source": [
    "fig, ax = plt.subplots(figsize = (13,7))\n",
    "sns.countplot(x='unbalanced_rating', data=exp, palette=\"pastel\")\n",
    "ax.set_xlabel( \"Rating Category\" , size = 12)\n",
    "ax.set_ylabel( \"Number of Customers\" , size = 12)\n",
    "ax.set_title( \"Customers vs Rating Classification\" , size = 24 )"
   ]
  },
  {
   "cell_type": "code",
   "execution_count": 68,
   "metadata": {},
   "outputs": [],
   "source": [
    "nps_rating = []\n",
    "for row in exp2['rating']:\n",
    "    if (row >= 4.0):\n",
    "        nps_rating.append('Promoters')\n",
    "    elif (row >= 3.0):\n",
    "        nps_rating.append('Passive')\n",
    "    else:\n",
    "        nps_rating.append('Detractors')\n",
    "exp2['nps_rating'] = nps_rating"
   ]
  },
  {
   "cell_type": "code",
   "execution_count": 69,
   "metadata": {},
   "outputs": [
    {
     "data": {
      "image/png": "[encoded data removed]",
      "text/plain": [
       "<Figure size 1300x700 with 1 Axes>"
      ]
     },
     "metadata": {},
     "output_type": "display_data"
    }
   ],
   "source": [
    "fig, ax = plt.subplots(figsize = (13,7))\n",
    "sns.countplot(x='nps_rating', data=exp2, palette=\"pastel\")\n",
    "ax.set_xlabel( \"NPS Category\" , size = 12)\n",
    "ax.set_ylabel( \"Number of Customers\" , size = 12)\n",
    "ax.set_title( \"Customers vs NPS Classification\" , size = 24 )\n",
    "plt.show()\n"
   ]
  },
  {
   "cell_type": "code",
   "execution_count": 70,
   "metadata": {},
   "outputs": [
    {
     "data": {
      "text/plain": [
       "id                0\n",
       "rating        45923\n",
       "start_time        0\n",
       "end_time          0\n",
       "speaker           0\n",
       "comment           0\n",
       "dtype: int64"
      ]
     },
     "execution_count": 70,
     "metadata": {},
     "output_type": "execute_result"
    }
   ],
   "source": [
    "inner_df.isna().sum()"
   ]
  },
  {
   "cell_type": "code",
   "execution_count": 71,
   "metadata": {},
   "outputs": [],
   "source": [
    "agg_funcs = {'rating' : 'first',\n",
    "            'comment' : 'size', \n",
    "            'end_time': 'last' }"
   ]
  },
  {
   "cell_type": "code",
   "execution_count": 72,
   "metadata": {},
   "outputs": [],
   "source": [
    "relation_rating_comment = inner_df.groupby('id').agg(agg_funcs).reset_index().rename(columns={'comment': 'number_comments', 'end_time': 'minutes'})\n",
    "relation_rating_comment.minutes = pd.to_datetime(relation_rating_comment.minutes, format='%H:%M:%S').dt.minute"
   ]
  },
  {
   "cell_type": "code",
   "execution_count": 73,
   "metadata": {},
   "outputs": [
    {
     "data": {
      "text/plain": [
       "id                   0\n",
       "rating             683\n",
       "number_comments      0\n",
       "minutes              0\n",
       "dtype: int64"
      ]
     },
     "execution_count": 73,
     "metadata": {},
     "output_type": "execute_result"
    }
   ],
   "source": [
    "relation_rating_comment.isna().sum()"
   ]
  },
  {
   "cell_type": "code",
   "execution_count": 74,
   "metadata": {},
   "outputs": [],
   "source": [
    "relation_rating_comment.rating.fillna('No Review', inplace=True)"
   ]
  },
  {
   "cell_type": "code",
   "execution_count": 75,
   "metadata": {},
   "outputs": [
    {
     "data": {
      "image/png": "[encoded data removed]",
      "text/plain": [
       "<Figure size 1200x500 with 1 Axes>"
      ]
     },
     "metadata": {},
     "output_type": "display_data"
    }
   ],
   "source": [
    "fig, ax = plt.subplots(figsize = (12,5))\n",
    "sns.pointplot(data=relation_rating_comment, x='rating', y='number_comments', estimator='median')\n",
    "ax.set_ylabel( \"Comments\" , size = 12)\n",
    "ax.set_xlabel( \"Rating\" , size = 12)\n",
    "ax.set_title( \"Comments vs Rating\" , size = 20 )\n",
    "plt.show()"
   ]
  },
  {
   "cell_type": "code",
   "execution_count": 76,
   "metadata": {},
   "outputs": [
    {
     "data": {
      "image/png": "[encoded data removed]",
      "text/plain": [
       "<Figure size 1200x500 with 1 Axes>"
      ]
     },
     "metadata": {},
     "output_type": "display_data"
    }
   ],
   "source": [
    "fig, ax = plt.subplots(figsize = (12,5))\n",
    "sns.pointplot(data=relation_rating_comment, x='rating', y='minutes', estimator='median')\n",
    "ax.set_ylabel( \"Minutes\" , size = 12)\n",
    "ax.set_xlabel( \"Rating\" , size = 12)\n",
    "ax.set_title( \"Minutes vs Rating\" , size = 20 )\n",
    "plt.show()"
   ]
  },
  {
   "cell_type": "code",
   "execution_count": 77,
   "metadata": {},
   "outputs": [
    {
     "data": {
      "text/html": [
       "<div>\n",
       "<style scoped>\n",
       "    .dataframe tbody tr th:only-of-type {\n",
       "        vertical-align: middle;\n",
       "    }\n",
       "\n",
       "    .dataframe tbody tr th {\n",
       "        vertical-align: top;\n",
       "    }\n",
       "\n",
       "    .dataframe thead th {\n",
       "        text-align: right;\n",
       "    }\n",
       "</style>\n",
       "<table border=\"1\" class=\"dataframe\">\n",
       "  <thead>\n",
       "    <tr style=\"text-align: right;\">\n",
       "      <th></th>\n",
       "      <th>id</th>\n",
       "      <th>rating</th>\n",
       "      <th>start_time</th>\n",
       "      <th>end_time</th>\n",
       "      <th>speaker</th>\n",
       "      <th>comment</th>\n",
       "    </tr>\n",
       "  </thead>\n",
       "  <tbody>\n",
       "    <tr>\n",
       "      <th>0</th>\n",
       "      <td>265e5551-7fc3-40d4-b4e5-18e15b1f714b</td>\n",
       "      <td>5.0</td>\n",
       "      <td>0:00:01</td>\n",
       "      <td>0:00:01</td>\n",
       "      <td>ch_1</td>\n",
       "      <td>sua chamada será encaminhada para ## de nossos...</td>\n",
       "    </tr>\n",
       "    <tr>\n",
       "      <th>1</th>\n",
       "      <td>265e5551-7fc3-40d4-b4e5-18e15b1f714b</td>\n",
       "      <td>5.0</td>\n",
       "      <td>0:00:12</td>\n",
       "      <td>0:00:13</td>\n",
       "      <td>ch_0</td>\n",
       "      <td>bom dia! Meu nome é #######</td>\n",
       "    </tr>\n",
       "    <tr>\n",
       "      <th>2</th>\n",
       "      <td>265e5551-7fc3-40d4-b4e5-18e15b1f714b</td>\n",
       "      <td>5.0</td>\n",
       "      <td>0:00:14</td>\n",
       "      <td>0:00:14</td>\n",
       "      <td>ch_1</td>\n",
       "      <td>tudo bem. ######! Como eu posso te ajudar?</td>\n",
       "    </tr>\n",
       "    <tr>\n",
       "      <th>3</th>\n",
       "      <td>265e5551-7fc3-40d4-b4e5-18e15b1f714b</td>\n",
       "      <td>5.0</td>\n",
       "      <td>0:00:18</td>\n",
       "      <td>0:00:19</td>\n",
       "      <td>ch_0</td>\n",
       "      <td>O cartão, esse cartão ou conta jurídica? Ele t...</td>\n",
       "    </tr>\n",
       "    <tr>\n",
       "      <th>4</th>\n",
       "      <td>265e5551-7fc3-40d4-b4e5-18e15b1f714b</td>\n",
       "      <td>5.0</td>\n",
       "      <td>0:00:31</td>\n",
       "      <td>0:00:31</td>\n",
       "      <td>ch_1</td>\n",
       "      <td>É Vamos dar uma olhadinha. Qual é o teu CPF?</td>\n",
       "    </tr>\n",
       "    <tr>\n",
       "      <th>...</th>\n",
       "      <td>...</td>\n",
       "      <td>...</td>\n",
       "      <td>...</td>\n",
       "      <td>...</td>\n",
       "      <td>...</td>\n",
       "      <td>...</td>\n",
       "    </tr>\n",
       "    <tr>\n",
       "      <th>80</th>\n",
       "      <td>265e5551-7fc3-40d4-b4e5-18e15b1f714b</td>\n",
       "      <td>5.0</td>\n",
       "      <td>0:10:58</td>\n",
       "      <td>0:10:58</td>\n",
       "      <td>ch_1</td>\n",
       "      <td>Então, tá, Se tu puder aguardar pra avaliar o ...</td>\n",
       "    </tr>\n",
       "    <tr>\n",
       "      <th>81</th>\n",
       "      <td>265e5551-7fc3-40d4-b4e5-18e15b1f714b</td>\n",
       "      <td>5.0</td>\n",
       "      <td>0:11:03</td>\n",
       "      <td>0:11:04</td>\n",
       "      <td>ch_0</td>\n",
       "      <td>tá jóia Brigada</td>\n",
       "    </tr>\n",
       "    <tr>\n",
       "      <th>82</th>\n",
       "      <td>265e5551-7fc3-40d4-b4e5-18e15b1f714b</td>\n",
       "      <td>5.0</td>\n",
       "      <td>0:11:04</td>\n",
       "      <td>0:11:05</td>\n",
       "      <td>ch_1</td>\n",
       "      <td>Obrigada. Tchau. Tchau</td>\n",
       "    </tr>\n",
       "    <tr>\n",
       "      <th>83</th>\n",
       "      <td>265e5551-7fc3-40d4-b4e5-18e15b1f714b</td>\n",
       "      <td>5.0</td>\n",
       "      <td>0:11:06</td>\n",
       "      <td>0:11:07</td>\n",
       "      <td>ch_0</td>\n",
       "      <td>Tchau</td>\n",
       "    </tr>\n",
       "    <tr>\n",
       "      <th>84</th>\n",
       "      <td>265e5551-7fc3-40d4-b4e5-18e15b1f714b</td>\n",
       "      <td>5.0</td>\n",
       "      <td>0:11:11</td>\n",
       "      <td>0:11:11</td>\n",
       "      <td>ch_1</td>\n",
       "      <td>e agora? Convido você para responder. A nossa ...</td>\n",
       "    </tr>\n",
       "  </tbody>\n",
       "</table>\n",
       "<p>85 rows × 6 columns</p>\n",
       "</div>"
      ],
      "text/plain": [
       "                                      id  rating start_time end_time speaker  \\\n",
       "0   265e5551-7fc3-40d4-b4e5-18e15b1f714b     5.0    0:00:01  0:00:01    ch_1   \n",
       "1   265e5551-7fc3-40d4-b4e5-18e15b1f714b     5.0    0:00:12  0:00:13    ch_0   \n",
       "2   265e5551-7fc3-40d4-b4e5-18e15b1f714b     5.0    0:00:14  0:00:14    ch_1   \n",
       "3   265e5551-7fc3-40d4-b4e5-18e15b1f714b     5.0    0:00:18  0:00:19    ch_0   \n",
       "4   265e5551-7fc3-40d4-b4e5-18e15b1f714b     5.0    0:00:31  0:00:31    ch_1   \n",
       "..                                   ...     ...        ...      ...     ...   \n",
       "80  265e5551-7fc3-40d4-b4e5-18e15b1f714b     5.0    0:10:58  0:10:58    ch_1   \n",
       "81  265e5551-7fc3-40d4-b4e5-18e15b1f714b     5.0    0:11:03  0:11:04    ch_0   \n",
       "82  265e5551-7fc3-40d4-b4e5-18e15b1f714b     5.0    0:11:04  0:11:05    ch_1   \n",
       "83  265e5551-7fc3-40d4-b4e5-18e15b1f714b     5.0    0:11:06  0:11:07    ch_0   \n",
       "84  265e5551-7fc3-40d4-b4e5-18e15b1f714b     5.0    0:11:11  0:11:11    ch_1   \n",
       "\n",
       "                                              comment  \n",
       "0   sua chamada será encaminhada para ## de nossos...  \n",
       "1                         bom dia! Meu nome é #######  \n",
       "2          tudo bem. ######! Como eu posso te ajudar?  \n",
       "3   O cartão, esse cartão ou conta jurídica? Ele t...  \n",
       "4        É Vamos dar uma olhadinha. Qual é o teu CPF?  \n",
       "..                                                ...  \n",
       "80  Então, tá, Se tu puder aguardar pra avaliar o ...  \n",
       "81                                    tá jóia Brigada  \n",
       "82                             Obrigada. Tchau. Tchau  \n",
       "83                                              Tchau  \n",
       "84  e agora? Convido você para responder. A nossa ...  \n",
       "\n",
       "[85 rows x 6 columns]"
      ]
     },
     "execution_count": 77,
     "metadata": {},
     "output_type": "execute_result"
    }
   ],
   "source": [
    "inner_df[inner_df.id == '265e5551-7fc3-40d4-b4e5-18e15b1f714b']"
   ]
  },
  {
   "cell_type": "markdown",
   "metadata": {},
   "source": [
    "## NLP Analysis"
   ]
  },
  {
   "cell_type": "code",
   "execution_count": 78,
   "metadata": {},
   "outputs": [],
   "source": [
    "import nltk\n",
    "#nltk.download('stopwords')\n",
    "from collections import Counter\n",
    "import re\n",
    "from nltk import ngrams"
   ]
  },
  {
   "cell_type": "code",
   "execution_count": 79,
   "metadata": {},
   "outputs": [],
   "source": [
    "stopwords = nltk.corpus.stopwords.words('portuguese')"
   ]
  },
  {
   "cell_type": "code",
   "execution_count": 80,
   "metadata": {},
   "outputs": [],
   "source": [
    "extra_list = ['t','pra','a','aqui','ento', 'no', 'eu', 'carto', 'n']\n",
    "stopwords.append(extra_list)"
   ]
  },
  {
   "cell_type": "code",
   "execution_count": 153,
   "metadata": {},
   "outputs": [],
   "source": [
    "import re\n",
    "def clean_text(data, column):\n",
    "    data[column] = data[column].apply(lambda x: ' '.join([word for word in x.split() if word not in (stopwords)])\\\n",
    "        .lower().encode('ascii', errors='ignore').decode('utf-8')).replace('t ', 'ta ')\n",
    "    data[column] = data[column].apply(lambda x: re.sub('\\W+',' ', x)) \n",
    "    return data"
   ]
  },
  {
   "cell_type": "code",
   "execution_count": 82,
   "metadata": {},
   "outputs": [],
   "source": [
    "def return_most_common(df, n_words, column, n_gram):\n",
    "    all_text = [' '.join(df[column])]\n",
    "    output_words = all_text[0].split()\n",
    "    ctr = Counter(ngrams(output_words, n_gram))\n",
    "    most_occur = ctr.most_common(n_words)\n",
    "    return most_occur"
   ]
  },
  {
   "cell_type": "markdown",
   "metadata": {},
   "source": [
    "98% of our conversation_id has actual data of comments and time "
   ]
  },
  {
   "cell_type": "code",
   "execution_count": 83,
   "metadata": {},
   "outputs": [
    {
     "data": {
      "text/plain": [
       "0.987012987012987"
      ]
     },
     "execution_count": 83,
     "metadata": {},
     "output_type": "execute_result"
    }
   ],
   "source": [
    "len(inner_df.id.unique())/len(df)"
   ]
  },
  {
   "cell_type": "markdown",
   "metadata": {},
   "source": [
    "Here we have all ratings with minutes of call and all customer comments in a string"
   ]
  },
  {
   "cell_type": "code",
   "execution_count": 84,
   "metadata": {},
   "outputs": [
    {
     "data": {
      "text/html": [
       "<div>\n",
       "<style scoped>\n",
       "    .dataframe tbody tr th:only-of-type {\n",
       "        vertical-align: middle;\n",
       "    }\n",
       "\n",
       "    .dataframe tbody tr th {\n",
       "        vertical-align: top;\n",
       "    }\n",
       "\n",
       "    .dataframe thead th {\n",
       "        text-align: right;\n",
       "    }\n",
       "</style>\n",
       "<table border=\"1\" class=\"dataframe\">\n",
       "  <thead>\n",
       "    <tr style=\"text-align: right;\">\n",
       "      <th></th>\n",
       "      <th>id</th>\n",
       "      <th>rating</th>\n",
       "      <th>speaker</th>\n",
       "      <th>comment</th>\n",
       "      <th>minutes</th>\n",
       "    </tr>\n",
       "  </thead>\n",
       "  <tbody>\n",
       "    <tr>\n",
       "      <th>0</th>\n",
       "      <td>265e5551-7fc3-40d4-b4e5-18e15b1f714b</td>\n",
       "      <td>5.0</td>\n",
       "      <td>ch_0</td>\n",
       "      <td>senha ah sim u pode falar t u sim u ento t jia...</td>\n",
       "      <td>11</td>\n",
       "    </tr>\n",
       "    <tr>\n",
       "      <th>1</th>\n",
       "      <td>265f3b20-d426-4bcc-b46d-375b0e920532</td>\n",
       "      <td>5.0</td>\n",
       "      <td>ch_0</td>\n",
       "      <td>sim t deixa perguntar outra coisa vai nmero c...</td>\n",
       "      <td>9</td>\n",
       "    </tr>\n",
       "    <tr>\n",
       "      <th>2</th>\n",
       "      <td>26614192-7d2d-4518-b315-c0ca74014461</td>\n",
       "      <td>5.0</td>\n",
       "      <td>ch_0</td>\n",
       "      <td>diminui valor parcela okay agradecer a caso ac...</td>\n",
       "      <td>11</td>\n",
       "    </tr>\n",
       "    <tr>\n",
       "      <th>3</th>\n",
       "      <td>266580c7-5f96-428b-bfc9-1749a490cf35</td>\n",
       "      <td>5.0</td>\n",
       "      <td>ch_0</td>\n",
       "      <td>queria saber detalhes caso fazer lance n cont...</td>\n",
       "      <td>4</td>\n",
       "    </tr>\n",
       "    <tr>\n",
       "      <th>4</th>\n",
       "      <td>26670455-d46e-4a03-9e70-1560992ff04f</td>\n",
       "      <td>NaN</td>\n",
       "      <td>ch_0</td>\n",
       "      <td>isso crdito carto n que dinheiro meu u existe ...</td>\n",
       "      <td>11</td>\n",
       "    </tr>\n",
       "    <tr>\n",
       "      <th>...</th>\n",
       "      <td>...</td>\n",
       "      <td>...</td>\n",
       "      <td>...</td>\n",
       "      <td>...</td>\n",
       "      <td>...</td>\n",
       "    </tr>\n",
       "    <tr>\n",
       "      <th>973</th>\n",
       "      <td>3f327a25-e87d-4c61-9327-9aa9f35a6ce7</td>\n",
       "      <td>4.0</td>\n",
       "      <td>ch_0</td>\n",
       "      <td>voc telefone isso t okay nome t jia eu fico ag...</td>\n",
       "      <td>16</td>\n",
       "    </tr>\n",
       "    <tr>\n",
       "      <th>974</th>\n",
       "      <td>3f333e1f-67b5-48db-9112-1fd036f952c8</td>\n",
       "      <td>NaN</td>\n",
       "      <td>ch_0</td>\n",
       "      <td>resumindo consegue fazer nada bloqueei meu car...</td>\n",
       "      <td>48</td>\n",
       "    </tr>\n",
       "    <tr>\n",
       "      <th>975</th>\n",
       "      <td>3f363ffb-ce63-439c-a3dd-0458f25476b7</td>\n",
       "      <td>NaN</td>\n",
       "      <td>ch_0</td>\n",
       "      <td>ah t obrigado hum faz assim pode conta poupana...</td>\n",
       "      <td>18</td>\n",
       "    </tr>\n",
       "    <tr>\n",
       "      <th>976</th>\n",
       "      <td>3f41cbb4-3d15-4134-8eac-97506e2cf340</td>\n",
       "      <td>NaN</td>\n",
       "      <td>ch_0</td>\n",
       "      <td>acha vou vou pra l mobi porque servio l lavour...</td>\n",
       "      <td>15</td>\n",
       "    </tr>\n",
       "    <tr>\n",
       "      <th>977</th>\n",
       "      <td>3f59dd32-bd7c-47ed-a8ac-59af63a43a66</td>\n",
       "      <td>5.0</td>\n",
       "      <td>ch_0</td>\n",
       "      <td>manivela isso isso mesmo quinta eh tinha foi f...</td>\n",
       "      <td>27</td>\n",
       "    </tr>\n",
       "  </tbody>\n",
       "</table>\n",
       "<p>978 rows × 5 columns</p>\n",
       "</div>"
      ],
      "text/plain": [
       "                                       id  rating speaker  \\\n",
       "0    265e5551-7fc3-40d4-b4e5-18e15b1f714b     5.0    ch_0   \n",
       "1    265f3b20-d426-4bcc-b46d-375b0e920532     5.0    ch_0   \n",
       "2    26614192-7d2d-4518-b315-c0ca74014461     5.0    ch_0   \n",
       "3    266580c7-5f96-428b-bfc9-1749a490cf35     5.0    ch_0   \n",
       "4    26670455-d46e-4a03-9e70-1560992ff04f     NaN    ch_0   \n",
       "..                                    ...     ...     ...   \n",
       "973  3f327a25-e87d-4c61-9327-9aa9f35a6ce7     4.0    ch_0   \n",
       "974  3f333e1f-67b5-48db-9112-1fd036f952c8     NaN    ch_0   \n",
       "975  3f363ffb-ce63-439c-a3dd-0458f25476b7     NaN    ch_0   \n",
       "976  3f41cbb4-3d15-4134-8eac-97506e2cf340     NaN    ch_0   \n",
       "977  3f59dd32-bd7c-47ed-a8ac-59af63a43a66     5.0    ch_0   \n",
       "\n",
       "                                               comment  minutes  \n",
       "0    senha ah sim u pode falar t u sim u ento t jia...       11  \n",
       "1     sim t deixa perguntar outra coisa vai nmero c...        9  \n",
       "2    diminui valor parcela okay agradecer a caso ac...       11  \n",
       "3     queria saber detalhes caso fazer lance n cont...        4  \n",
       "4    isso crdito carto n que dinheiro meu u existe ...       11  \n",
       "..                                                 ...      ...  \n",
       "973  voc telefone isso t okay nome t jia eu fico ag...       16  \n",
       "974  resumindo consegue fazer nada bloqueei meu car...       48  \n",
       "975  ah t obrigado hum faz assim pode conta poupana...       18  \n",
       "976  acha vou vou pra l mobi porque servio l lavour...       15  \n",
       "977  manivela isso isso mesmo quinta eh tinha foi f...       27  \n",
       "\n",
       "[978 rows x 5 columns]"
      ]
     },
     "execution_count": 84,
     "metadata": {},
     "output_type": "execute_result"
    }
   ],
   "source": [
    "sentiment_df = inner_df.query(\"speaker == 'ch_0'\").drop(columns=['start_time']).rename(columns={'end_time' : 'duration'})\n",
    "g = sentiment_df.groupby('id')\n",
    "sentiment_df.duration = (g['duration'].transform('last'))\n",
    "sentiment_df['minutes'] = pd.to_datetime(sentiment_df.duration, format='%H:%M:%S').dt.minute\n",
    "sentiment_df.drop(columns=['duration'], inplace=True)\n",
    "\n",
    "sentiment_df = sentiment_df.groupby('id').tail(10)\n",
    "\n",
    "sentiment_df = sentiment_df.groupby('id').agg({'rating' : 'first',\n",
    "                                'speaker': 'first',\n",
    "                                'comment': ' '.join,\n",
    "                                 'minutes': 'first' }).reset_index()\n",
    "sentiment_df = clean_text(sentiment_df, 'comment')\n",
    "\n",
    "\n",
    "sentiment_df"
   ]
  },
  {
   "cell_type": "code",
   "execution_count": 85,
   "metadata": {},
   "outputs": [
    {
     "data": {
      "text/plain": [
       "<AxesSubplot: >"
      ]
     },
     "execution_count": 85,
     "metadata": {},
     "output_type": "execute_result"
    },
    {
     "data": {
      "image/png": "[encoded data removed]",
      "text/plain": [
       "<Figure size 640x480 with 1 Axes>"
      ]
     },
     "metadata": {},
     "output_type": "display_data"
    }
   ],
   "source": [
    "sentiment_df.minutes.plot(kind='box')"
   ]
  },
  {
   "cell_type": "markdown",
   "metadata": {},
   "source": [
    "Sorting our dataset by comment len"
   ]
  },
  {
   "cell_type": "code",
   "execution_count": 86,
   "metadata": {},
   "outputs": [
    {
     "data": {
      "text/html": [
       "<div>\n",
       "<style scoped>\n",
       "    .dataframe tbody tr th:only-of-type {\n",
       "        vertical-align: middle;\n",
       "    }\n",
       "\n",
       "    .dataframe tbody tr th {\n",
       "        vertical-align: top;\n",
       "    }\n",
       "\n",
       "    .dataframe thead th {\n",
       "        text-align: right;\n",
       "    }\n",
       "</style>\n",
       "<table border=\"1\" class=\"dataframe\">\n",
       "  <thead>\n",
       "    <tr style=\"text-align: right;\">\n",
       "      <th></th>\n",
       "      <th>id</th>\n",
       "      <th>rating</th>\n",
       "      <th>speaker</th>\n",
       "      <th>comment</th>\n",
       "      <th>minutes</th>\n",
       "      <th>len</th>\n",
       "    </tr>\n",
       "  </thead>\n",
       "  <tbody>\n",
       "    <tr>\n",
       "      <th>650</th>\n",
       "      <td>36a651ee-cd6d-49cf-a849-7eb661e3d8a2</td>\n",
       "      <td>NaN</td>\n",
       "      <td>ch_0</td>\n",
       "      <td>al al al</td>\n",
       "      <td>6</td>\n",
       "      <td>9</td>\n",
       "    </tr>\n",
       "    <tr>\n",
       "      <th>248</th>\n",
       "      <td>2ca33a2a-ab95-469b-b0c7-139564891653</td>\n",
       "      <td>NaN</td>\n",
       "      <td>ch_0</td>\n",
       "      <td>t entendeu</td>\n",
       "      <td>1</td>\n",
       "      <td>11</td>\n",
       "    </tr>\n",
       "    <tr>\n",
       "      <th>306</th>\n",
       "      <td>2e63c84f-6c1f-4a15-a2b2-4a0aa2cfab4c</td>\n",
       "      <td>NaN</td>\n",
       "      <td>ch_0</td>\n",
       "      <td>ai desgraa</td>\n",
       "      <td>2</td>\n",
       "      <td>12</td>\n",
       "    </tr>\n",
       "  </tbody>\n",
       "</table>\n",
       "</div>"
      ],
      "text/plain": [
       "                                       id  rating speaker       comment  \\\n",
       "650  36a651ee-cd6d-49cf-a849-7eb661e3d8a2     NaN    ch_0     al al al    \n",
       "248  2ca33a2a-ab95-469b-b0c7-139564891653     NaN    ch_0   t entendeu    \n",
       "306  2e63c84f-6c1f-4a15-a2b2-4a0aa2cfab4c     NaN    ch_0   ai desgraa    \n",
       "\n",
       "     minutes  len  \n",
       "650        6    9  \n",
       "248        1   11  \n",
       "306        2   12  "
      ]
     },
     "execution_count": 86,
     "metadata": {},
     "output_type": "execute_result"
    }
   ],
   "source": [
    "sentiment_df['len'] = sentiment_df['comment'].str.len() \n",
    "sentiment_df = sentiment_df.sort_values(['len'], ascending=True)\n",
    "sentiment_df = sentiment_df.query(\"len > 5\").query(\"minutes >= 1\")\n",
    "sentiment_df.head(3)"
   ]
  },
  {
   "cell_type": "markdown",
   "metadata": {},
   "source": [
    "Checking for Gramatical Errors"
   ]
  },
  {
   "cell_type": "code",
   "execution_count": 87,
   "metadata": {},
   "outputs": [
    {
     "data": {
      "text/plain": [
       "592    deixa ver minutinho ah sim t certo t bom obrig...\n",
       "57     t u tudo bem descontado sexta conta no dia rea...\n",
       "629    ah okay ento ah t bom no isso ento protocolo a...\n",
       "611    hum u sim u entendi t vi aqui bom vou verifica...\n",
       "306                                          ai desgraa \n",
       "Name: comment, dtype: object"
      ]
     },
     "execution_count": 87,
     "metadata": {},
     "output_type": "execute_result"
    }
   ],
   "source": [
    "sentiment_df.comment.sample(5)"
   ]
  },
  {
   "cell_type": "markdown",
   "metadata": {},
   "source": [
    "Tokenization"
   ]
  },
  {
   "cell_type": "code",
   "execution_count": 88,
   "metadata": {},
   "outputs": [],
   "source": [
    "from gensim.parsing.porter import PorterStemmer\n",
    "from gensim.utils import simple_preprocess\n",
    "\n",
    "sentiment_df['tokenized_text'] = [simple_preprocess(line, deacc=True) for line in sentiment_df['comment']] "
   ]
  },
  {
   "cell_type": "code",
   "execution_count": 89,
   "metadata": {},
   "outputs": [
    {
     "data": {
      "text/html": [
       "<div>\n",
       "<style scoped>\n",
       "    .dataframe tbody tr th:only-of-type {\n",
       "        vertical-align: middle;\n",
       "    }\n",
       "\n",
       "    .dataframe tbody tr th {\n",
       "        vertical-align: top;\n",
       "    }\n",
       "\n",
       "    .dataframe thead th {\n",
       "        text-align: right;\n",
       "    }\n",
       "</style>\n",
       "<table border=\"1\" class=\"dataframe\">\n",
       "  <thead>\n",
       "    <tr style=\"text-align: right;\">\n",
       "      <th></th>\n",
       "      <th>id</th>\n",
       "      <th>rating</th>\n",
       "      <th>speaker</th>\n",
       "      <th>comment</th>\n",
       "      <th>minutes</th>\n",
       "      <th>len</th>\n",
       "      <th>tokenized_text</th>\n",
       "    </tr>\n",
       "  </thead>\n",
       "  <tbody>\n",
       "    <tr>\n",
       "      <th>650</th>\n",
       "      <td>36a651ee-cd6d-49cf-a849-7eb661e3d8a2</td>\n",
       "      <td>NaN</td>\n",
       "      <td>ch_0</td>\n",
       "      <td>al al al</td>\n",
       "      <td>6</td>\n",
       "      <td>9</td>\n",
       "      <td>[al, al, al]</td>\n",
       "    </tr>\n",
       "    <tr>\n",
       "      <th>248</th>\n",
       "      <td>2ca33a2a-ab95-469b-b0c7-139564891653</td>\n",
       "      <td>NaN</td>\n",
       "      <td>ch_0</td>\n",
       "      <td>t entendeu</td>\n",
       "      <td>1</td>\n",
       "      <td>11</td>\n",
       "      <td>[entendeu]</td>\n",
       "    </tr>\n",
       "    <tr>\n",
       "      <th>306</th>\n",
       "      <td>2e63c84f-6c1f-4a15-a2b2-4a0aa2cfab4c</td>\n",
       "      <td>NaN</td>\n",
       "      <td>ch_0</td>\n",
       "      <td>ai desgraa</td>\n",
       "      <td>2</td>\n",
       "      <td>12</td>\n",
       "      <td>[ai, desgraa]</td>\n",
       "    </tr>\n",
       "    <tr>\n",
       "      <th>927</th>\n",
       "      <td>3e0230ea-a9d8-4a57-a2aa-993753943927</td>\n",
       "      <td>NaN</td>\n",
       "      <td>ch_0</td>\n",
       "      <td>boa noite boa noite</td>\n",
       "      <td>2</td>\n",
       "      <td>20</td>\n",
       "      <td>[boa, noite, boa, noite]</td>\n",
       "    </tr>\n",
       "    <tr>\n",
       "      <th>322</th>\n",
       "      <td>2ea8ad9e-1dac-4d89-a17a-4f2c90b20a22</td>\n",
       "      <td>NaN</td>\n",
       "      <td>ch_0</td>\n",
       "      <td>foi t certo certo pode</td>\n",
       "      <td>4</td>\n",
       "      <td>23</td>\n",
       "      <td>[foi, certo, certo, pode]</td>\n",
       "    </tr>\n",
       "    <tr>\n",
       "      <th>...</th>\n",
       "      <td>...</td>\n",
       "      <td>...</td>\n",
       "      <td>...</td>\n",
       "      <td>...</td>\n",
       "      <td>...</td>\n",
       "      <td>...</td>\n",
       "      <td>...</td>\n",
       "    </tr>\n",
       "    <tr>\n",
       "      <th>430</th>\n",
       "      <td>314cdcdc-ab58-4e5e-a307-71ff78e383dd</td>\n",
       "      <td>5.0</td>\n",
       "      <td>ch_0</td>\n",
       "      <td>pois t vendo t dando t dando t dando exatament...</td>\n",
       "      <td>22</td>\n",
       "      <td>1638</td>\n",
       "      <td>[pois, vendo, dando, dando, dando, exatamente,...</td>\n",
       "    </tr>\n",
       "    <tr>\n",
       "      <th>229</th>\n",
       "      <td>2c22d9b8-751d-472b-a48a-7dba4944da5c</td>\n",
       "      <td>NaN</td>\n",
       "      <td>ch_0</td>\n",
       "      <td>t entendendo ver alterar horrio entendendo a b...</td>\n",
       "      <td>11</td>\n",
       "      <td>1646</td>\n",
       "      <td>[entendendo, ver, alterar, horrio, entendendo,...</td>\n",
       "    </tr>\n",
       "    <tr>\n",
       "      <th>79</th>\n",
       "      <td>282f055d-33b3-4aa8-a213-17f71e5dd564</td>\n",
       "      <td>NaN</td>\n",
       "      <td>ch_0</td>\n",
       "      <td>entendeu s assim vanice esperaria prxima respo...</td>\n",
       "      <td>48</td>\n",
       "      <td>1766</td>\n",
       "      <td>[entendeu, assim, vanice, esperaria, prxima, r...</td>\n",
       "    </tr>\n",
       "    <tr>\n",
       "      <th>614</th>\n",
       "      <td>35c1650e-eaa5-4c62-a9f3-ae5d653f5a66</td>\n",
       "      <td>NaN</td>\n",
       "      <td>ch_0</td>\n",
       "      <td>eu quero ter tem ter nmero sorteio eu conferir...</td>\n",
       "      <td>13</td>\n",
       "      <td>1924</td>\n",
       "      <td>[eu, quero, ter, tem, ter, nmero, sorteio, eu,...</td>\n",
       "    </tr>\n",
       "    <tr>\n",
       "      <th>182</th>\n",
       "      <td>2af6b27e-654d-4053-b855-8f804301715a</td>\n",
       "      <td>NaN</td>\n",
       "      <td>ch_0</td>\n",
       "      <td>eu entendi vender vida entendo conta vou pegar...</td>\n",
       "      <td>25</td>\n",
       "      <td>3300</td>\n",
       "      <td>[eu, entendi, vender, vida, entendo, conta, vo...</td>\n",
       "    </tr>\n",
       "  </tbody>\n",
       "</table>\n",
       "<p>949 rows × 7 columns</p>\n",
       "</div>"
      ],
      "text/plain": [
       "                                       id  rating speaker  \\\n",
       "650  36a651ee-cd6d-49cf-a849-7eb661e3d8a2     NaN    ch_0   \n",
       "248  2ca33a2a-ab95-469b-b0c7-139564891653     NaN    ch_0   \n",
       "306  2e63c84f-6c1f-4a15-a2b2-4a0aa2cfab4c     NaN    ch_0   \n",
       "927  3e0230ea-a9d8-4a57-a2aa-993753943927     NaN    ch_0   \n",
       "322  2ea8ad9e-1dac-4d89-a17a-4f2c90b20a22     NaN    ch_0   \n",
       "..                                    ...     ...     ...   \n",
       "430  314cdcdc-ab58-4e5e-a307-71ff78e383dd     5.0    ch_0   \n",
       "229  2c22d9b8-751d-472b-a48a-7dba4944da5c     NaN    ch_0   \n",
       "79   282f055d-33b3-4aa8-a213-17f71e5dd564     NaN    ch_0   \n",
       "614  35c1650e-eaa5-4c62-a9f3-ae5d653f5a66     NaN    ch_0   \n",
       "182  2af6b27e-654d-4053-b855-8f804301715a     NaN    ch_0   \n",
       "\n",
       "                                               comment  minutes   len  \\\n",
       "650                                          al al al         6     9   \n",
       "248                                        t entendeu         1    11   \n",
       "306                                        ai desgraa         2    12   \n",
       "927                               boa noite boa noite         2    20   \n",
       "322                            foi t certo certo pode         4    23   \n",
       "..                                                 ...      ...   ...   \n",
       "430  pois t vendo t dando t dando t dando exatament...       22  1638   \n",
       "229  t entendendo ver alterar horrio entendendo a b...       11  1646   \n",
       "79   entendeu s assim vanice esperaria prxima respo...       48  1766   \n",
       "614  eu quero ter tem ter nmero sorteio eu conferir...       13  1924   \n",
       "182  eu entendi vender vida entendo conta vou pegar...       25  3300   \n",
       "\n",
       "                                        tokenized_text  \n",
       "650                                       [al, al, al]  \n",
       "248                                         [entendeu]  \n",
       "306                                      [ai, desgraa]  \n",
       "927                           [boa, noite, boa, noite]  \n",
       "322                          [foi, certo, certo, pode]  \n",
       "..                                                 ...  \n",
       "430  [pois, vendo, dando, dando, dando, exatamente,...  \n",
       "229  [entendendo, ver, alterar, horrio, entendendo,...  \n",
       "79   [entendeu, assim, vanice, esperaria, prxima, r...  \n",
       "614  [eu, quero, ter, tem, ter, nmero, sorteio, eu,...  \n",
       "182  [eu, entendi, vender, vida, entendo, conta, vo...  \n",
       "\n",
       "[949 rows x 7 columns]"
      ]
     },
     "execution_count": 89,
     "metadata": {},
     "output_type": "execute_result"
    }
   ],
   "source": [
    "sentiment_df"
   ]
  },
  {
   "cell_type": "markdown",
   "metadata": {},
   "source": [
    "### Using BOW"
   ]
  },
  {
   "cell_type": "code",
   "execution_count": 154,
   "metadata": {},
   "outputs": [],
   "source": [
    "clean_df = clean_text(inner_df, column='comment')"
   ]
  },
  {
   "cell_type": "code",
   "execution_count": 155,
   "metadata": {},
   "outputs": [
    {
     "data": {
      "text/plain": [
       "[(('tempo', 'espera', 'estimado'), 281),\n",
       " (('fazemos', 'juntos', 'desde'), 277),\n",
       " (('juntos', 'desde', 'incio'), 277),\n",
       " (('desde', 'incio', 'tempos'), 277),\n",
       " (('incio', 'tempos', 'fazemos'), 275),\n",
       " (('tempos', 'fazemos', 'juntos'), 274),\n",
       " (('fazemos', 'juntos', 'amizade'), 271),\n",
       " (('juntos', 'amizade', 'amor'), 271),\n",
       " (('amizade', 'amor', 'tradio'), 271),\n",
       " (('amor', 'tradio', 'ideal'), 269)]"
      ]
     },
     "execution_count": 155,
     "metadata": {},
     "output_type": "execute_result"
    }
   ],
   "source": [
    "return_most_common(clean_df.query('rating >= 5'), 10, 'comment', 3)"
   ]
  },
  {
   "cell_type": "code",
   "execution_count": 156,
   "metadata": {},
   "outputs": [
    {
     "data": {
      "text/plain": [
       "[(('pessoa', 'fsica', 'jurdica'), 15),\n",
       " (('chamada', 'encaminhada', 'atendentes'), 15),\n",
       " (('encaminhada', 'atendentes', 'favor'), 15),\n",
       " (('atendentes', 'favor', 'aguarde'), 15),\n",
       " (('fsica', 'jurdica', 'informe'), 14),\n",
       " (('jurdica', 'informe', 'nmero'), 13),\n",
       " (('vamos', 'l', 'experincia'), 13),\n",
       " (('ol', 'hotel', 'inteligncia'), 12),\n",
       " (('hotel', 'inteligncia', 'artificial'), 12),\n",
       " (('bom', 'ter', 'gente'), 12)]"
      ]
     },
     "execution_count": 156,
     "metadata": {},
     "output_type": "execute_result"
    }
   ],
   "source": [
    "return_most_common(clean_df.query('rating <= 3'), 10, 'comment', 3)"
   ]
  },
  {
   "cell_type": "code",
   "execution_count": 157,
   "metadata": {},
   "outputs": [
    {
     "data": {
      "text/plain": [
       "5.0    0.884617\n",
       "4.0    0.058195\n",
       "1.0    0.032053\n",
       "3.0    0.016902\n",
       "2.0    0.008232\n",
       "Name: rating, dtype: float64"
      ]
     },
     "execution_count": 157,
     "metadata": {},
     "output_type": "execute_result"
    }
   ],
   "source": [
    "clean_df.rating.value_counts(normalize=True)"
   ]
  },
  {
   "cell_type": "code",
   "execution_count": 158,
   "metadata": {},
   "outputs": [
    {
     "data": {
      "text/html": [
       "<div>\n",
       "<style scoped>\n",
       "    .dataframe tbody tr th:only-of-type {\n",
       "        vertical-align: middle;\n",
       "    }\n",
       "\n",
       "    .dataframe tbody tr th {\n",
       "        vertical-align: top;\n",
       "    }\n",
       "\n",
       "    .dataframe thead th {\n",
       "        text-align: right;\n",
       "    }\n",
       "</style>\n",
       "<table border=\"1\" class=\"dataframe\">\n",
       "  <thead>\n",
       "    <tr style=\"text-align: right;\">\n",
       "      <th></th>\n",
       "      <th>id</th>\n",
       "      <th>rating</th>\n",
       "      <th>speaker</th>\n",
       "      <th>comment</th>\n",
       "      <th>tokenized_text</th>\n",
       "    </tr>\n",
       "  </thead>\n",
       "  <tbody>\n",
       "    <tr>\n",
       "      <th>0</th>\n",
       "      <td>265e5551-7fc3-40d4-b4e5-18e15b1f714b</td>\n",
       "      <td>5.0</td>\n",
       "      <td>ch_0</td>\n",
       "      <td>senha ah sim u</td>\n",
       "      <td>[senha, ah, sim]</td>\n",
       "    </tr>\n",
       "    <tr>\n",
       "      <th>1</th>\n",
       "      <td>265f3b20-d426-4bcc-b46d-375b0e920532</td>\n",
       "      <td>5.0</td>\n",
       "      <td>ch_0</td>\n",
       "      <td>sim  t deixa perguntar outra coisa vai nmero c...</td>\n",
       "      <td>[sim, deixa, perguntar, outra, coisa, vai, nme...</td>\n",
       "    </tr>\n",
       "    <tr>\n",
       "      <th>2</th>\n",
       "      <td>26614192-7d2d-4518-b315-c0ca74014461</td>\n",
       "      <td>5.0</td>\n",
       "      <td>ch_0</td>\n",
       "      <td>diminui valor parcela</td>\n",
       "      <td>[diminui, valor, parcela]</td>\n",
       "    </tr>\n",
       "    <tr>\n",
       "      <th>3</th>\n",
       "      <td>266580c7-5f96-428b-bfc9-1749a490cf35</td>\n",
       "      <td>5.0</td>\n",
       "      <td>ch_0</td>\n",
       "      <td>queria saber detalhes caso fazer lance n cont...</td>\n",
       "      <td>[queria, saber, detalhes, caso, fazer, lance, ...</td>\n",
       "    </tr>\n",
       "    <tr>\n",
       "      <th>4</th>\n",
       "      <td>26711b60-a685-4abc-a7ff-aad89cba5bbe</td>\n",
       "      <td>5.0</td>\n",
       "      <td>ch_0</td>\n",
       "      <td>alberto boa noite t contrato emprstimo pra ass...</td>\n",
       "      <td>[alberto, boa, noite, contrato, emprstimo, pra...</td>\n",
       "    </tr>\n",
       "  </tbody>\n",
       "</table>\n",
       "</div>"
      ],
      "text/plain": [
       "                                     id  rating speaker  \\\n",
       "0  265e5551-7fc3-40d4-b4e5-18e15b1f714b     5.0    ch_0   \n",
       "1  265f3b20-d426-4bcc-b46d-375b0e920532     5.0    ch_0   \n",
       "2  26614192-7d2d-4518-b315-c0ca74014461     5.0    ch_0   \n",
       "3  266580c7-5f96-428b-bfc9-1749a490cf35     5.0    ch_0   \n",
       "4  26711b60-a685-4abc-a7ff-aad89cba5bbe     5.0    ch_0   \n",
       "\n",
       "                                             comment  \\\n",
       "0                                    senha ah sim u    \n",
       "1  sim  t deixa perguntar outra coisa vai nmero c...   \n",
       "2                            diminui valor parcela     \n",
       "3   queria saber detalhes caso fazer lance n cont...   \n",
       "4  alberto boa noite t contrato emprstimo pra ass...   \n",
       "\n",
       "                                      tokenized_text  \n",
       "0                                   [senha, ah, sim]  \n",
       "1  [sim, deixa, perguntar, outra, coisa, vai, nme...  \n",
       "2                          [diminui, valor, parcela]  \n",
       "3  [queria, saber, detalhes, caso, fazer, lance, ...  \n",
       "4  [alberto, boa, noite, contrato, emprstimo, pra...  "
      ]
     },
     "execution_count": 158,
     "metadata": {},
     "output_type": "execute_result"
    }
   ],
   "source": [
    "sent = clean_df[~clean_df.rating.isna()].query(\"speaker == 'ch_0'\").groupby('id').tail(10).groupby('id').head(3).groupby('id').agg({'rating' : 'first',\n",
    "                                'speaker': 'first',\n",
    "                                'comment': ' '.join}).reset_index()\n",
    "\n",
    "sent['tokenized_text'] = [simple_preprocess(line, deacc=True) for line in sent['comment']] \n",
    "sent.head(5)"
   ]
  },
  {
   "cell_type": "markdown",
   "metadata": {},
   "source": [
    "Corrigindo palavras"
   ]
  },
  {
   "cell_type": "markdown",
   "metadata": {},
   "source": [
    "Demonstração Hunspell"
   ]
  },
  {
   "cell_type": "code",
   "execution_count": 159,
   "metadata": {},
   "outputs": [],
   "source": [
    "from hunspell import Hunspell\n",
    "\n",
    "h = Hunspell('Portuguese (Brazilian)', hunspell_data_dir=r'data\\dict')"
   ]
  },
  {
   "cell_type": "code",
   "execution_count": 160,
   "metadata": {},
   "outputs": [
    {
     "name": "stdout",
     "output_type": "stream",
     "text": [
      "('empréstimo', 'impersistimo', 'prestimoso')\n"
     ]
    }
   ],
   "source": [
    "word = 'emprstimo'\n",
    "print(h.suggest(word))"
   ]
  },
  {
   "cell_type": "code",
   "execution_count": 161,
   "metadata": {},
   "outputs": [],
   "source": [
    "def correct_word(word):\n",
    "    if(h.spell(word)):\n",
    "        return word\n",
    "    else:\n",
    "        return h.suggest(word)[0]"
   ]
  },
  {
   "cell_type": "code",
   "execution_count": 162,
   "metadata": {},
   "outputs": [],
   "source": [
    "def correct_sentence(sentence):\n",
    "    sentence_split = sentence.split()\n",
    "    output = list(map(correct_word, sentence_split ))\n",
    "    sentence_OUTPUT =' '.join(word for word in output)\n",
    "    return sentence_OUTPUT"
   ]
  },
  {
   "cell_type": "markdown",
   "metadata": {},
   "source": [
    "Aplicação no Dataset"
   ]
  },
  {
   "cell_type": "code",
   "execution_count": 163,
   "metadata": {},
   "outputs": [],
   "source": [
    "sent['clean_comment'] = sent.tokenized_text.apply(lambda x: ' '.join(word for word in x))"
   ]
  },
  {
   "cell_type": "code",
   "execution_count": 164,
   "metadata": {},
   "outputs": [
    {
     "data": {
      "text/plain": [
       "0                                       [senha, ah, sim]\n",
       "1      [sim, deixa, perguntar, outra, coisa, vai, nme...\n",
       "2                              [diminui, valor, parcela]\n",
       "3      [queria, saber, detalhes, caso, fazer, lance, ...\n",
       "4      [alberto, boa, noite, contrato, emprstimo, pra...\n",
       "                             ...                        \n",
       "300    [silva, cordeiro, alexandre, silva, poder, ano...\n",
       "301    [reais, ah, coop, ontem, perodo, manh, horas, ...\n",
       "302                              [sim, boa, tarde, fala]\n",
       "303                          [voc, telefone, okay, nome]\n",
       "304    [manivela, quinta, eh, pode, meio, horrio, mei...\n",
       "Name: tokenized_text, Length: 305, dtype: object"
      ]
     },
     "execution_count": 164,
     "metadata": {},
     "output_type": "execute_result"
    }
   ],
   "source": [
    "sent.tokenized_text"
   ]
  },
  {
   "cell_type": "code",
   "execution_count": 165,
   "metadata": {},
   "outputs": [
    {
     "data": {
      "text/plain": [
       "0                                           senha ah sim\n",
       "1        sim deixa perguntar outra coisa vai nmero conta\n",
       "2                                  diminui valor parcela\n",
       "3      queria saber detalhes caso fazer lance contemp...\n",
       "4      alberto boa noite contrato emprstimo pra assin...\n",
       "                             ...                        \n",
       "300    silva cordeiro alexandre silva poder anos nmer...\n",
       "301           reais ah coop ontem perodo manh horas acho\n",
       "302                                   sim boa tarde fala\n",
       "303                               voc telefone okay nome\n",
       "304    manivela quinta eh pode meio horrio meio dia h...\n",
       "Name: clean_comment, Length: 305, dtype: object"
      ]
     },
     "execution_count": 165,
     "metadata": {},
     "output_type": "execute_result"
    }
   ],
   "source": [
    "sent['clean_comment']"
   ]
  },
  {
   "cell_type": "code",
   "execution_count": 166,
   "metadata": {},
   "outputs": [],
   "source": [
    "sent['clean_comment'] = sent['clean_comment'].apply(lambda x: correct_sentence(x))"
   ]
  },
  {
   "cell_type": "code",
   "execution_count": 167,
   "metadata": {},
   "outputs": [
    {
     "data": {
      "text/html": [
       "<div>\n",
       "<style scoped>\n",
       "    .dataframe tbody tr th:only-of-type {\n",
       "        vertical-align: middle;\n",
       "    }\n",
       "\n",
       "    .dataframe tbody tr th {\n",
       "        vertical-align: top;\n",
       "    }\n",
       "\n",
       "    .dataframe thead th {\n",
       "        text-align: right;\n",
       "    }\n",
       "</style>\n",
       "<table border=\"1\" class=\"dataframe\">\n",
       "  <thead>\n",
       "    <tr style=\"text-align: right;\">\n",
       "      <th></th>\n",
       "      <th>comment</th>\n",
       "      <th>clean_comment</th>\n",
       "    </tr>\n",
       "  </thead>\n",
       "  <tbody>\n",
       "    <tr>\n",
       "      <th>257</th>\n",
       "      <td>contrrio</td>\n",
       "      <td>contrario</td>\n",
       "    </tr>\n",
       "    <tr>\n",
       "      <th>139</th>\n",
       "      <td>ah protocolo antes nmero</td>\n",
       "      <td>ah protocolo antes nm ero</td>\n",
       "    </tr>\n",
       "    <tr>\n",
       "      <th>231</th>\n",
       "      <td>ah t pequeno aparece comandar instruo</td>\n",
       "      <td>ah pequeno aparece comandar instruo</td>\n",
       "    </tr>\n",
       "    <tr>\n",
       "      <th>23</th>\n",
       "      <td>meses</td>\n",
       "      <td>meses</td>\n",
       "    </tr>\n",
       "    <tr>\n",
       "      <th>266</th>\n",
       "      <td>u t t okay ah entendi</td>\n",
       "      <td>okay ah entendi</td>\n",
       "    </tr>\n",
       "    <tr>\n",
       "      <th>20</th>\n",
       "      <td>t okay sim sim sim sim t perfeito sim t vou en...</td>\n",
       "      <td>okay sim sim sim sim perfeito sim vou entrar c...</td>\n",
       "    </tr>\n",
       "    <tr>\n",
       "      <th>216</th>\n",
       "      <td>acho aproximao passaram tempo quanto cento pri...</td>\n",
       "      <td>acho aproximativo passaram tempo quanto cento ...</td>\n",
       "    </tr>\n",
       "    <tr>\n",
       "      <th>235</th>\n",
       "      <td>agora julho ah certo t ento ento pra entender ...</td>\n",
       "      <td>agora julho ah certo neto neto pra entender ne...</td>\n",
       "    </tr>\n",
       "    <tr>\n",
       "      <th>158</th>\n",
       "      <td>conta fiz muita conta conta conjunta poupana i...</td>\n",
       "      <td>conta fiz muita conta conta conjunta popana im...</td>\n",
       "    </tr>\n",
       "    <tr>\n",
       "      <th>3</th>\n",
       "      <td>queria saber detalhes caso fazer lance n cont...</td>\n",
       "      <td>queria saber detalhes caso fazer lance contemp...</td>\n",
       "    </tr>\n",
       "    <tr>\n",
       "      <th>175</th>\n",
       "      <td>enquanto chega email sicredi site ligao ah t p...</td>\n",
       "      <td>enquanto chega e-mail dicresilo site logai ah ...</td>\n",
       "    </tr>\n",
       "    <tr>\n",
       "      <th>44</th>\n",
       "      <td>t okay okay confirmao carto coloca acima carto...</td>\n",
       "      <td>okay okay confirmativo carto coloca acima cart...</td>\n",
       "    </tr>\n",
       "    <tr>\n",
       "      <th>147</th>\n",
       "      <td>entendi ah t filho romano silva</td>\n",
       "      <td>entendi ah filho romano silva</td>\n",
       "    </tr>\n",
       "    <tr>\n",
       "      <th>183</th>\n",
       "      <td>t t bem parece recebeu tambm disse mensagem co...</td>\n",
       "      <td>bem parece recebeu também disse mensagem compr...</td>\n",
       "    </tr>\n",
       "    <tr>\n",
       "      <th>1</th>\n",
       "      <td>sim  t deixa perguntar outra coisa vai nmero c...</td>\n",
       "      <td>sim deixa perguntar outra coisa vai nm ero conta</td>\n",
       "    </tr>\n",
       "    <tr>\n",
       "      <th>191</th>\n",
       "      <td>so jos campos ento t aguardando pra cair acer...</td>\n",
       "      <td>só gios campos neto aguardando pra cair acerto...</td>\n",
       "    </tr>\n",
       "    <tr>\n",
       "      <th>297</th>\n",
       "      <td>opa nada pode u</td>\n",
       "      <td>opa nada pode</td>\n",
       "    </tr>\n",
       "    <tr>\n",
       "      <th>304</th>\n",
       "      <td>manivela  quinta eh pode meio horrio meio dia ...</td>\n",
       "      <td>manivela quinta eh pode meio horror meio dia h...</td>\n",
       "    </tr>\n",
       "    <tr>\n",
       "      <th>202</th>\n",
       "      <td>grossa t abrindo posso ligar agncia daqui agnc...</td>\n",
       "      <td>grossa abrindo posso ligar agencia daqui agenc...</td>\n",
       "    </tr>\n",
       "    <tr>\n",
       "      <th>97</th>\n",
       "      <td>iria configurao microsoft confirmar hoje acho ...</td>\n",
       "      <td>iria anfigurítico microsficto confirmar hoje a...</td>\n",
       "    </tr>\n",
       "  </tbody>\n",
       "</table>\n",
       "</div>"
      ],
      "text/plain": [
       "                                               comment  \\\n",
       "257                                           contrrio   \n",
       "139                           ah protocolo antes nmero   \n",
       "231              ah t pequeno aparece comandar instruo   \n",
       "23                                             meses     \n",
       "266                              u t t okay ah entendi   \n",
       "20   t okay sim sim sim sim t perfeito sim t vou en...   \n",
       "216  acho aproximao passaram tempo quanto cento pri...   \n",
       "235  agora julho ah certo t ento ento pra entender ...   \n",
       "158  conta fiz muita conta conta conjunta poupana i...   \n",
       "3     queria saber detalhes caso fazer lance n cont...   \n",
       "175  enquanto chega email sicredi site ligao ah t p...   \n",
       "44   t okay okay confirmao carto coloca acima carto...   \n",
       "147                   entendi ah t filho romano silva    \n",
       "183  t t bem parece recebeu tambm disse mensagem co...   \n",
       "1    sim  t deixa perguntar outra coisa vai nmero c...   \n",
       "191   so jos campos ento t aguardando pra cair acer...   \n",
       "297                                    opa nada pode u   \n",
       "304  manivela  quinta eh pode meio horrio meio dia ...   \n",
       "202  grossa t abrindo posso ligar agncia daqui agnc...   \n",
       "97   iria configurao microsoft confirmar hoje acho ...   \n",
       "\n",
       "                                         clean_comment  \n",
       "257                                          contrario  \n",
       "139                          ah protocolo antes nm ero  \n",
       "231                ah pequeno aparece comandar instruo  \n",
       "23                                               meses  \n",
       "266                                    okay ah entendi  \n",
       "20   okay sim sim sim sim perfeito sim vou entrar c...  \n",
       "216  acho aproximativo passaram tempo quanto cento ...  \n",
       "235  agora julho ah certo neto neto pra entender ne...  \n",
       "158  conta fiz muita conta conta conjunta popana im...  \n",
       "3    queria saber detalhes caso fazer lance contemp...  \n",
       "175  enquanto chega e-mail dicresilo site logai ah ...  \n",
       "44   okay okay confirmativo carto coloca acima cart...  \n",
       "147                      entendi ah filho romano silva  \n",
       "183  bem parece recebeu também disse mensagem compr...  \n",
       "1     sim deixa perguntar outra coisa vai nm ero conta  \n",
       "191  só gios campos neto aguardando pra cair acerto...  \n",
       "297                                      opa nada pode  \n",
       "304  manivela quinta eh pode meio horror meio dia h...  \n",
       "202  grossa abrindo posso ligar agencia daqui agenc...  \n",
       "97   iria anfigurítico microsficto confirmar hoje a...  "
      ]
     },
     "execution_count": 167,
     "metadata": {},
     "output_type": "execute_result"
    }
   ],
   "source": [
    "sent[['comment', 'clean_comment']].sample(20)"
   ]
  },
  {
   "cell_type": "markdown",
   "metadata": {},
   "source": [
    "Data Augmentation"
   ]
  },
  {
   "cell_type": "code",
   "execution_count": null,
   "metadata": {},
   "outputs": [],
   "source": []
  },
  {
   "cell_type": "code",
   "execution_count": null,
   "metadata": {},
   "outputs": [],
   "source": []
  },
  {
   "cell_type": "code",
   "execution_count": null,
   "metadata": {},
   "outputs": [],
   "source": []
  },
  {
   "cell_type": "code",
   "execution_count": null,
   "metadata": {},
   "outputs": [],
   "source": []
  },
  {
   "cell_type": "markdown",
   "metadata": {},
   "source": [
    "Choosing Sets"
   ]
  },
  {
   "cell_type": "code",
   "execution_count": 168,
   "metadata": {},
   "outputs": [
    {
     "data": {
      "text/plain": [
       "array([5., 5., 5., 5., 5., 5., 5., 5., 5., 5., 4., 5., 5., 5., 5., 5., 5.,\n",
       "       5., 5., 5., 5., 5., 4., 5., 5., 5., 5., 5., 5., 5., 1., 5., 5., 5.,\n",
       "       5., 4., 5., 5., 5., 5., 1., 5., 5., 5., 5., 5., 5., 5., 5., 5., 5.,\n",
       "       5., 5., 5., 5., 5., 5., 5., 5., 5., 5., 4., 5., 1., 5., 5., 5., 5.,\n",
       "       5., 5., 4., 5., 2., 5., 5., 5., 1., 5., 5., 5., 5., 5., 5., 3., 5.,\n",
       "       5., 5., 5., 5., 5., 5., 5., 5., 4., 5., 4., 5., 2., 5., 5., 5., 5.,\n",
       "       5., 5., 5., 5., 5., 5., 5., 5., 5., 5., 5., 5., 5., 5., 5., 5., 3.,\n",
       "       5., 5., 5., 5., 5., 5., 5., 5., 5., 5., 5., 5., 5., 1., 5., 5., 5.,\n",
       "       5., 5., 5., 5., 5., 5., 5., 5., 5., 5., 5., 5., 5., 5., 5., 5., 5.,\n",
       "       5., 5., 5., 5., 5., 3., 5., 5., 5., 5., 5., 5., 5., 5., 5., 5., 5.,\n",
       "       5., 5., 5., 5., 5., 5., 4., 5., 5., 4., 5., 5., 5., 5., 1., 5., 5.,\n",
       "       5., 4., 5., 5., 5., 5., 5., 4., 5., 5., 5., 5., 5., 5., 5., 5., 5.,\n",
       "       5., 5., 5., 5., 5., 5., 5., 4., 5., 4., 5., 5., 5., 5., 5., 5., 5.,\n",
       "       5., 5., 5., 5., 1., 5., 5., 4., 5., 5., 5., 5., 5., 5., 4., 1., 5.,\n",
       "       5., 5., 5., 5., 5., 5., 5., 5., 5., 5., 5., 5., 5., 5., 5., 5., 5.,\n",
       "       5., 5., 5., 5., 3., 5., 5., 5., 5., 5., 5., 5., 5., 5., 5., 5., 5.,\n",
       "       5., 1., 5., 5., 5., 5., 5., 5., 5., 5., 5., 4., 5., 5., 5., 5., 5.,\n",
       "       5., 5., 5., 5., 4., 5., 5., 5., 5., 5., 4., 5., 5., 5., 4., 5.])"
      ]
     },
     "execution_count": 168,
     "metadata": {},
     "output_type": "execute_result"
    }
   ],
   "source": [
    "comments = sent.clean_comment.values\n",
    "classes = sent.rating.values\n",
    "classes"
   ]
  },
  {
   "cell_type": "markdown",
   "metadata": {},
   "source": [
    "**Vectorizer**"
   ]
  },
  {
   "cell_type": "markdown",
   "metadata": {},
   "source": [
    "Bow"
   ]
  },
  {
   "cell_type": "code",
   "execution_count": 169,
   "metadata": {},
   "outputs": [],
   "source": [
    "vectorizer = CountVectorizer(ngram_range=(1,1))\n",
    "freq_rating = vectorizer.fit_transform(comments)"
   ]
  },
  {
   "cell_type": "markdown",
   "metadata": {},
   "source": [
    "TF-IDF"
   ]
  },
  {
   "cell_type": "code",
   "execution_count": null,
   "metadata": {},
   "outputs": [],
   "source": [
    "from sklearn.feature_extraction.text import TfidfVectorizer\n",
    "tfidf = TfidfVectorizer(\n",
    "    sublinear_tf= True,\n",
    "    lowercase=True,\n",
    "    norm= False, \n",
    "    ngram_range= (1,1),\n",
    "    use_idf=False,\n",
    "    binary=True,\n",
    "    smooth_idf=False\n",
    ")\n",
    "\n",
    "freq_rating = tfidf.fit_transform(comments)"
   ]
  },
  {
   "cell_type": "markdown",
   "metadata": {},
   "source": [
    "Sets"
   ]
  },
  {
   "cell_type": "code",
   "execution_count": 170,
   "metadata": {},
   "outputs": [],
   "source": [
    "from sklearn.model_selection import train_test_split\n",
    "X_train, X_test, y_train, y_test = train_test_split(comments, classes, test_size=0.1, random_state=42)"
   ]
  },
  {
   "cell_type": "markdown",
   "metadata": {},
   "source": [
    "Model"
   ]
  },
  {
   "cell_type": "code",
   "execution_count": 171,
   "metadata": {},
   "outputs": [
    {
     "name": "stderr",
     "output_type": "stream",
     "text": [
      "c:\\Users\\victo\\anaconda3\\envs\\dev\\lib\\site-packages\\xgboost\\compat.py:36: FutureWarning: pandas.Int64Index is deprecated and will be removed from pandas in a future version. Use pandas.Index with the appropriate dtype instead.\n",
      "  from pandas import MultiIndex, Int64Index\n",
      "c:\\Users\\victo\\anaconda3\\envs\\dev\\lib\\site-packages\\xgboost\\sklearn.py:1224: UserWarning: The use of label encoder in XGBClassifier is deprecated and will be removed in a future release. To remove this warning, do the following: 1) Pass option use_label_encoder=False when constructing XGBClassifier object; and 2) Encode your labels (y) as integers starting with 0, i.e. 0, 1, 2, ..., [num_class - 1].\n",
      "  warnings.warn(label_encoder_deprecation_msg, UserWarning)\n"
     ]
    },
    {
     "name": "stdout",
     "output_type": "stream",
     "text": [
      "[18:48:00] WARNING: C:/Users/Administrator/workspace/xgboost-win64_release_1.5.0/src/learner.cc:1115: Starting in XGBoost 1.3.0, the default evaluation metric used with the objective 'multi:softprob' was changed from 'merror' to 'mlogloss'. Explicitly set eval_metric if you'd like to restore the old behavior.\n"
     ]
    },
    {
     "data": {
      "text/html": [
       "<style>#sk-container-id-1 {color: black;background-color: white;}#sk-container-id-1 pre{padding: 0;}#sk-container-id-1 div.sk-toggleable {background-color: white;}#sk-container-id-1 label.sk-toggleable__label {cursor: pointer;display: block;width: 100%;margin-bottom: 0;padding: 0.3em;box-sizing: border-box;text-align: center;}#sk-container-id-1 label.sk-toggleable__label-arrow:before {content: \"▸\";float: left;margin-right: 0.25em;color: #696969;}#sk-container-id-1 label.sk-toggleable__label-arrow:hover:before {color: black;}#sk-container-id-1 div.sk-estimator:hover label.sk-toggleable__label-arrow:before {color: black;}#sk-container-id-1 div.sk-toggleable__content {max-height: 0;max-width: 0;overflow: hidden;text-align: left;background-color: #f0f8ff;}#sk-container-id-1 div.sk-toggleable__content pre {margin: 0.2em;color: black;border-radius: 0.25em;background-color: #f0f8ff;}#sk-container-id-1 input.sk-toggleable__control:checked~div.sk-toggleable__content {max-height: 200px;max-width: 100%;overflow: auto;}#sk-container-id-1 input.sk-toggleable__control:checked~label.sk-toggleable__label-arrow:before {content: \"▾\";}#sk-container-id-1 div.sk-estimator input.sk-toggleable__control:checked~label.sk-toggleable__label {background-color: #d4ebff;}#sk-container-id-1 div.sk-label input.sk-toggleable__control:checked~label.sk-toggleable__label {background-color: #d4ebff;}#sk-container-id-1 input.sk-hidden--visually {border: 0;clip: rect(1px 1px 1px 1px);clip: rect(1px, 1px, 1px, 1px);height: 1px;margin: -1px;overflow: hidden;padding: 0;position: absolute;width: 1px;}#sk-container-id-1 div.sk-estimator {font-family: monospace;background-color: #f0f8ff;border: 1px dotted black;border-radius: 0.25em;box-sizing: border-box;margin-bottom: 0.5em;}#sk-container-id-1 div.sk-estimator:hover {background-color: #d4ebff;}#sk-container-id-1 div.sk-parallel-item::after {content: \"\";width: 100%;border-bottom: 1px solid gray;flex-grow: 1;}#sk-container-id-1 div.sk-label:hover label.sk-toggleable__label {background-color: #d4ebff;}#sk-container-id-1 div.sk-serial::before {content: \"\";position: absolute;border-left: 1px solid gray;box-sizing: border-box;top: 0;bottom: 0;left: 50%;z-index: 0;}#sk-container-id-1 div.sk-serial {display: flex;flex-direction: column;align-items: center;background-color: white;padding-right: 0.2em;padding-left: 0.2em;position: relative;}#sk-container-id-1 div.sk-item {position: relative;z-index: 1;}#sk-container-id-1 div.sk-parallel {display: flex;align-items: stretch;justify-content: center;background-color: white;position: relative;}#sk-container-id-1 div.sk-item::before, #sk-container-id-1 div.sk-parallel-item::before {content: \"\";position: absolute;border-left: 1px solid gray;box-sizing: border-box;top: 0;bottom: 0;left: 50%;z-index: -1;}#sk-container-id-1 div.sk-parallel-item {display: flex;flex-direction: column;z-index: 1;position: relative;background-color: white;}#sk-container-id-1 div.sk-parallel-item:first-child::after {align-self: flex-end;width: 50%;}#sk-container-id-1 div.sk-parallel-item:last-child::after {align-self: flex-start;width: 50%;}#sk-container-id-1 div.sk-parallel-item:only-child::after {width: 0;}#sk-container-id-1 div.sk-dashed-wrapped {border: 1px dashed gray;margin: 0 0.4em 0.5em 0.4em;box-sizing: border-box;padding-bottom: 0.4em;background-color: white;}#sk-container-id-1 div.sk-label label {font-family: monospace;font-weight: bold;display: inline-block;line-height: 1.2em;}#sk-container-id-1 div.sk-label-container {text-align: center;}#sk-container-id-1 div.sk-container {/* jupyter's `normalize.less` sets `[hidden] { display: none; }` but bootstrap.min.css set `[hidden] { display: none !important; }` so we also need the `!important` here to be able to override the default hidden behavior on the sphinx rendered scikit-learn.org. See: https://github.com/scikit-learn/scikit-learn/issues/21755 */display: inline-block !important;position: relative;}#sk-container-id-1 div.sk-text-repr-fallback {display: none;}</style><div id=\"sk-container-id-1\" class=\"sk-top-container\"><div class=\"sk-text-repr-fallback\"><pre>XGBClassifier(base_score=0.5, booster=&#x27;gbtree&#x27;, colsample_bylevel=1,\n",
       "              colsample_bynode=1, colsample_bytree=1, enable_categorical=False,\n",
       "              gamma=0, gpu_id=-1, importance_type=None,\n",
       "              interaction_constraints=&#x27;&#x27;, learning_rate=0.300000012,\n",
       "              max_delta_step=0, max_depth=6, min_child_weight=1, missing=nan,\n",
       "              monotone_constraints=&#x27;()&#x27;, n_estimators=100, n_jobs=16,\n",
       "              num_parallel_tree=1, objective=&#x27;multi:softprob&#x27;, predictor=&#x27;auto&#x27;,\n",
       "              random_state=0, reg_alpha=0, reg_lambda=1, scale_pos_weight=None,\n",
       "              subsample=1, tree_method=&#x27;exact&#x27;, validate_parameters=1,\n",
       "              verbosity=None)</pre><b>In a Jupyter environment, please rerun this cell to show the HTML representation or trust the notebook. <br />On GitHub, the HTML representation is unable to render, please try loading this page with nbviewer.org.</b></div><div class=\"sk-container\" hidden><div class=\"sk-item\"><div class=\"sk-estimator sk-toggleable\"><input class=\"sk-toggleable__control sk-hidden--visually\" id=\"sk-estimator-id-1\" type=\"checkbox\" checked><label for=\"sk-estimator-id-1\" class=\"sk-toggleable__label sk-toggleable__label-arrow\">XGBClassifier</label><div class=\"sk-toggleable__content\"><pre>XGBClassifier(base_score=0.5, booster=&#x27;gbtree&#x27;, colsample_bylevel=1,\n",
       "              colsample_bynode=1, colsample_bytree=1, enable_categorical=False,\n",
       "              gamma=0, gpu_id=-1, importance_type=None,\n",
       "              interaction_constraints=&#x27;&#x27;, learning_rate=0.300000012,\n",
       "              max_delta_step=0, max_depth=6, min_child_weight=1, missing=nan,\n",
       "              monotone_constraints=&#x27;()&#x27;, n_estimators=100, n_jobs=16,\n",
       "              num_parallel_tree=1, objective=&#x27;multi:softprob&#x27;, predictor=&#x27;auto&#x27;,\n",
       "              random_state=0, reg_alpha=0, reg_lambda=1, scale_pos_weight=None,\n",
       "              subsample=1, tree_method=&#x27;exact&#x27;, validate_parameters=1,\n",
       "              verbosity=None)</pre></div></div></div></div></div>"
      ],
      "text/plain": [
       "XGBClassifier(base_score=0.5, booster='gbtree', colsample_bylevel=1,\n",
       "              colsample_bynode=1, colsample_bytree=1, enable_categorical=False,\n",
       "              gamma=0, gpu_id=-1, importance_type=None,\n",
       "              interaction_constraints='', learning_rate=0.300000012,\n",
       "              max_delta_step=0, max_depth=6, min_child_weight=1, missing=nan,\n",
       "              monotone_constraints='()', n_estimators=100, n_jobs=16,\n",
       "              num_parallel_tree=1, objective='multi:softprob', predictor='auto',\n",
       "              random_state=0, reg_alpha=0, reg_lambda=1, scale_pos_weight=None,\n",
       "              subsample=1, tree_method='exact', validate_parameters=1,\n",
       "              verbosity=None)"
      ]
     },
     "execution_count": 171,
     "metadata": {},
     "output_type": "execute_result"
    }
   ],
   "source": [
    "import xgboost as xgb\n",
    "\n",
    "model = xgb.XGBClassifier()\n",
    "model.fit(freq_rating, classes)"
   ]
  },
  {
   "cell_type": "code",
   "execution_count": 172,
   "metadata": {},
   "outputs": [
    {
     "data": {
      "text/plain": [
       "array([5., 5., 5.])"
      ]
     },
     "execution_count": 172,
     "metadata": {},
     "output_type": "execute_result"
    }
   ],
   "source": [
    "tests = [\"vou na agncia resolver com o gerente na sexta\",\n",
    "          \"Muito obrigado por resolver meu problema, amei seu atendimento\",\n",
    "          \"OK, fico no aguardo\"]\n",
    "\n",
    "vect_test = vectorizer.transform(tests)\n",
    "tests_predict = model.predict(vect_test)\n",
    "tests_predict"
   ]
  },
  {
   "cell_type": "markdown",
   "metadata": {},
   "source": [
    "Métricas"
   ]
  },
  {
   "cell_type": "code",
   "execution_count": 173,
   "metadata": {},
   "outputs": [],
   "source": [
    "from sklearn.metrics import accuracy_score, f1_score, recall_score, precision_score"
   ]
  },
  {
   "cell_type": "code",
   "execution_count": 174,
   "metadata": {},
   "outputs": [
    {
     "name": "stdout",
     "output_type": "stream",
     "text": [
      "F1-Score:  1.0\n",
      "Precision:  1.0\n",
      "Recall:  1.0\n"
     ]
    }
   ],
   "source": [
    "predict = model.predict(vectorizer.transform(X_test))\n",
    "print('F1-Score: ', f1_score(predict, y_test, average='macro'))\n",
    "print('Precision: ', precision_score(predict, y_test, average='macro'))\n",
    "print('Recall: ', recall_score(predict, y_test, average='macro'))"
   ]
  },
  {
   "cell_type": "markdown",
   "metadata": {},
   "source": [
    "We have here more than 60k lines of textual content from 2 speakers per ID \n",
    "\n",
    "***ch_1 = bot or attendant***\n",
    "\n",
    "***ch_2 = customer***"
   ]
  },
  {
   "cell_type": "code",
   "execution_count": null,
   "metadata": {},
   "outputs": [],
   "source": [
    "inner_df_2 = inner_df.copy()"
   ]
  },
  {
   "cell_type": "code",
   "execution_count": null,
   "metadata": {},
   "outputs": [
    {
     "data": {
      "text/html": [
       "<div>\n",
       "<style scoped>\n",
       "    .dataframe tbody tr th:only-of-type {\n",
       "        vertical-align: middle;\n",
       "    }\n",
       "\n",
       "    .dataframe tbody tr th {\n",
       "        vertical-align: top;\n",
       "    }\n",
       "\n",
       "    .dataframe thead th {\n",
       "        text-align: right;\n",
       "    }\n",
       "</style>\n",
       "<table border=\"1\" class=\"dataframe\">\n",
       "  <thead>\n",
       "    <tr style=\"text-align: right;\">\n",
       "      <th></th>\n",
       "      <th>id</th>\n",
       "      <th>rating</th>\n",
       "      <th>start_time</th>\n",
       "      <th>end_time</th>\n",
       "      <th>speaker</th>\n",
       "      <th>comment</th>\n",
       "    </tr>\n",
       "  </thead>\n",
       "  <tbody>\n",
       "    <tr>\n",
       "      <th>13586</th>\n",
       "      <td>2b0bf061-84a1-400b-a861-ae301e3d7791</td>\n",
       "      <td>NaN</td>\n",
       "      <td>0:03:32</td>\n",
       "      <td>0:03:32</td>\n",
       "      <td>ch_1</td>\n",
       "      <td>porque ele</td>\n",
       "    </tr>\n",
       "    <tr>\n",
       "      <th>26200</th>\n",
       "      <td>2fc7afa9-2b3d-4401-bce9-e8d327b2753d</td>\n",
       "      <td>5.0</td>\n",
       "      <td>0:05:47</td>\n",
       "      <td>0:05:47</td>\n",
       "      <td>ch_1</td>\n",
       "      <td>nada obrigado ter aguardado t vai seguir atend...</td>\n",
       "    </tr>\n",
       "    <tr>\n",
       "      <th>68027</th>\n",
       "      <td>3f197860-e551-4b93-a044-e8318d387242</td>\n",
       "      <td>NaN</td>\n",
       "      <td>0:22:23</td>\n",
       "      <td>0:22:24</td>\n",
       "      <td>ch_0</td>\n",
       "      <td>assim ele vai passar pra ligao</td>\n",
       "    </tr>\n",
       "  </tbody>\n",
       "</table>\n",
       "</div>"
      ],
      "text/plain": [
       "                                         id  rating start_time end_time  \\\n",
       "13586  2b0bf061-84a1-400b-a861-ae301e3d7791     NaN    0:03:32  0:03:32   \n",
       "26200  2fc7afa9-2b3d-4401-bce9-e8d327b2753d     5.0    0:05:47  0:05:47   \n",
       "68027  3f197860-e551-4b93-a044-e8318d387242     NaN    0:22:23  0:22:24   \n",
       "\n",
       "      speaker                                            comment  \n",
       "13586    ch_1                                        porque ele   \n",
       "26200    ch_1  nada obrigado ter aguardado t vai seguir atend...  \n",
       "68027    ch_0                    assim ele vai passar pra ligao   "
      ]
     },
     "execution_count": 59,
     "metadata": {},
     "output_type": "execute_result"
    }
   ],
   "source": [
    "inner_df.sample(3)"
   ]
  },
  {
   "cell_type": "code",
   "execution_count": null,
   "metadata": {},
   "outputs": [
    {
     "data": {
      "text/html": [
       "<div>\n",
       "<style scoped>\n",
       "    .dataframe tbody tr th:only-of-type {\n",
       "        vertical-align: middle;\n",
       "    }\n",
       "\n",
       "    .dataframe tbody tr th {\n",
       "        vertical-align: top;\n",
       "    }\n",
       "\n",
       "    .dataframe thead th {\n",
       "        text-align: right;\n",
       "    }\n",
       "</style>\n",
       "<table border=\"1\" class=\"dataframe\">\n",
       "  <thead>\n",
       "    <tr style=\"text-align: right;\">\n",
       "      <th></th>\n",
       "      <th>id</th>\n",
       "      <th>rating</th>\n",
       "      <th>start_time</th>\n",
       "      <th>end_time</th>\n",
       "      <th>speaker</th>\n",
       "      <th>comment</th>\n",
       "    </tr>\n",
       "  </thead>\n",
       "  <tbody>\n",
       "    <tr>\n",
       "      <th>66344</th>\n",
       "      <td>3e8f0dcf-4e95-4149-ac7a-27b71deab2cf</td>\n",
       "      <td>5.0</td>\n",
       "      <td>0:13:27</td>\n",
       "      <td>0:13:27</td>\n",
       "      <td>ch_1</td>\n",
       "      <td>voc lembra dessa compra</td>\n",
       "    </tr>\n",
       "    <tr>\n",
       "      <th>4769</th>\n",
       "      <td>27f93d9e-307b-45aa-bf3d-3499e4903de5</td>\n",
       "      <td>5.0</td>\n",
       "      <td>0:01:15</td>\n",
       "      <td>0:01:15</td>\n",
       "      <td>ch_1</td>\n",
       "      <td>t eu posso fazer isso ento entro contato agnci...</td>\n",
       "    </tr>\n",
       "    <tr>\n",
       "      <th>7731</th>\n",
       "      <td>28e8b791-1196-4168-9d03-b31b0380bd56</td>\n",
       "      <td>NaN</td>\n",
       "      <td>0:03:00</td>\n",
       "      <td>0:03:01</td>\n",
       "      <td>ch_0</td>\n",
       "      <td>contra</td>\n",
       "    </tr>\n",
       "  </tbody>\n",
       "</table>\n",
       "</div>"
      ],
      "text/plain": [
       "                                         id  rating start_time end_time  \\\n",
       "66344  3e8f0dcf-4e95-4149-ac7a-27b71deab2cf     5.0    0:13:27  0:13:27   \n",
       "4769   27f93d9e-307b-45aa-bf3d-3499e4903de5     5.0    0:01:15  0:01:15   \n",
       "7731   28e8b791-1196-4168-9d03-b31b0380bd56     NaN    0:03:00  0:03:01   \n",
       "\n",
       "      speaker                                            comment  \n",
       "66344    ch_1                           voc lembra dessa compra   \n",
       "4769     ch_1  t eu posso fazer isso ento entro contato agnci...  \n",
       "7731     ch_0                                            contra   "
      ]
     },
     "execution_count": 60,
     "metadata": {},
     "output_type": "execute_result"
    }
   ],
   "source": [
    "inner_df_2.sample(3)"
   ]
  },
  {
   "cell_type": "code",
   "execution_count": null,
   "metadata": {},
   "outputs": [
    {
     "name": "stderr",
     "output_type": "stream",
     "text": [
      "C:\\Users\\victo\\AppData\\Local\\Temp\\ipykernel_26896\\3622667897.py:1: UserWarning: Boolean Series key will be reindexed to match DataFrame index.\n",
      "  inner_df[inner_df.id == '265e5551-7fc3-40d4-b4e5-18e15b1f714b'][inner_df.speaker == 'ch_0'].tail(5)\n"
     ]
    },
    {
     "data": {
      "text/html": [
       "<div>\n",
       "<style scoped>\n",
       "    .dataframe tbody tr th:only-of-type {\n",
       "        vertical-align: middle;\n",
       "    }\n",
       "\n",
       "    .dataframe tbody tr th {\n",
       "        vertical-align: top;\n",
       "    }\n",
       "\n",
       "    .dataframe thead th {\n",
       "        text-align: right;\n",
       "    }\n",
       "</style>\n",
       "<table border=\"1\" class=\"dataframe\">\n",
       "  <thead>\n",
       "    <tr style=\"text-align: right;\">\n",
       "      <th></th>\n",
       "      <th>id</th>\n",
       "      <th>rating</th>\n",
       "      <th>start_time</th>\n",
       "      <th>end_time</th>\n",
       "      <th>speaker</th>\n",
       "      <th>comment</th>\n",
       "    </tr>\n",
       "  </thead>\n",
       "  <tbody>\n",
       "    <tr>\n",
       "      <th>75</th>\n",
       "      <td>265e5551-7fc3-40d4-b4e5-18e15b1f714b</td>\n",
       "      <td>5.0</td>\n",
       "      <td>0:10:28</td>\n",
       "      <td>0:10:29</td>\n",
       "      <td>ch_0</td>\n",
       "      <td>t</td>\n",
       "    </tr>\n",
       "    <tr>\n",
       "      <th>77</th>\n",
       "      <td>265e5551-7fc3-40d4-b4e5-18e15b1f714b</td>\n",
       "      <td>5.0</td>\n",
       "      <td>0:10:37</td>\n",
       "      <td>0:10:38</td>\n",
       "      <td>ch_0</td>\n",
       "      <td>u sim u ento t jia</td>\n",
       "    </tr>\n",
       "    <tr>\n",
       "      <th>79</th>\n",
       "      <td>265e5551-7fc3-40d4-b4e5-18e15b1f714b</td>\n",
       "      <td>5.0</td>\n",
       "      <td>0:10:56</td>\n",
       "      <td>0:10:57</td>\n",
       "      <td>ch_0</td>\n",
       "      <td></td>\n",
       "    </tr>\n",
       "    <tr>\n",
       "      <th>81</th>\n",
       "      <td>265e5551-7fc3-40d4-b4e5-18e15b1f714b</td>\n",
       "      <td>5.0</td>\n",
       "      <td>0:11:03</td>\n",
       "      <td>0:11:04</td>\n",
       "      <td>ch_0</td>\n",
       "      <td>t jia brigada</td>\n",
       "    </tr>\n",
       "    <tr>\n",
       "      <th>83</th>\n",
       "      <td>265e5551-7fc3-40d4-b4e5-18e15b1f714b</td>\n",
       "      <td>5.0</td>\n",
       "      <td>0:11:06</td>\n",
       "      <td>0:11:07</td>\n",
       "      <td>ch_0</td>\n",
       "      <td>tchau</td>\n",
       "    </tr>\n",
       "  </tbody>\n",
       "</table>\n",
       "</div>"
      ],
      "text/plain": [
       "                                      id  rating start_time end_time speaker  \\\n",
       "75  265e5551-7fc3-40d4-b4e5-18e15b1f714b     5.0    0:10:28  0:10:29    ch_0   \n",
       "77  265e5551-7fc3-40d4-b4e5-18e15b1f714b     5.0    0:10:37  0:10:38    ch_0   \n",
       "79  265e5551-7fc3-40d4-b4e5-18e15b1f714b     5.0    0:10:56  0:10:57    ch_0   \n",
       "81  265e5551-7fc3-40d4-b4e5-18e15b1f714b     5.0    0:11:03  0:11:04    ch_0   \n",
       "83  265e5551-7fc3-40d4-b4e5-18e15b1f714b     5.0    0:11:06  0:11:07    ch_0   \n",
       "\n",
       "               comment  \n",
       "75                   t  \n",
       "77  u sim u ento t jia  \n",
       "79                      \n",
       "81       t jia brigada  \n",
       "83               tchau  "
      ]
     },
     "execution_count": 61,
     "metadata": {},
     "output_type": "execute_result"
    }
   ],
   "source": [
    "inner_df[inner_df.id == '265e5551-7fc3-40d4-b4e5-18e15b1f714b'][inner_df.speaker == 'ch_0'].tail(5)"
   ]
  },
  {
   "cell_type": "code",
   "execution_count": null,
   "metadata": {},
   "outputs": [],
   "source": []
  }
 ],
 "metadata": {
  "kernelspec": {
   "display_name": "Python 3.9.13 ('dev')",
   "language": "python",
   "name": "python3"
  },
  "language_info": {
   "codemirror_mode": {
    "name": "ipython",
    "version": 3
   },
   "file_extension": ".py",
   "mimetype": "text/x-python",
   "name": "python",
   "nbconvert_exporter": "python",
   "pygments_lexer": "ipython3",
   "version": "3.9.13"
  },
  "orig_nbformat": 4,
  "vscode": {
   "interpreter": {
    "hash": "6ec50e2dddca2376d90d7f852e4579e00459be64bf68dd155a4947fa3ea19e2b"
   }
  }
 },
 "nbformat": 4,
 "nbformat_minor": 2
}
