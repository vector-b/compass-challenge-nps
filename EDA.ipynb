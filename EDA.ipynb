{
 "cells": [
  {
   "cell_type": "code",
   "execution_count": 3,
   "metadata": {},
   "outputs": [],
   "source": [
    "#!pip install seaborn"
   ]
  },
  {
   "cell_type": "code",
   "execution_count": 268,
   "metadata": {},
   "outputs": [],
   "source": [
    "import pandas as pd\n",
    "import seaborn as sns\n",
    "import matplotlib.pyplot as plt\n",
    "import numpy as np"
   ]
  },
  {
   "cell_type": "code",
   "execution_count": 5,
   "metadata": {},
   "outputs": [],
   "source": [
    "sns.set(style=\"darkgrid\", context=\"talk\")\n",
    "plt.rcParams.update({\"grid.linewidth\":0.5, \"grid.alpha\":0.5})\n",
    "plt.style.use(\"dark_background\")\n",
    "\n"
   ]
  },
  {
   "cell_type": "code",
   "execution_count": 6,
   "metadata": {},
   "outputs": [],
   "source": [
    "file_path = 'data/conversation_nps.csv'"
   ]
  },
  {
   "cell_type": "markdown",
   "metadata": {},
   "source": [
    "Fix JSON and CSV filenames"
   ]
  },
  {
   "cell_type": "code",
   "execution_count": 7,
   "metadata": {},
   "outputs": [],
   "source": [
    "import os\n",
    "path = 'data/'\n",
    "separator = '__'\n",
    "items = [ name for name in os.listdir(path) if os.path.isdir(os.path.join(path, name))]"
   ]
  },
  {
   "cell_type": "code",
   "execution_count": 8,
   "metadata": {},
   "outputs": [],
   "source": [
    "for i in items:\n",
    "    path_to_items = path + i + '/'\n",
    "    files = os.listdir(path_to_items)\n",
    "    for filename in files:\n",
    "        os.rename(path_to_items + filename, path_to_items + filename.replace('1_conversation_', '').split(separator,1)[0] + '.' + i)"
   ]
  },
  {
   "cell_type": "markdown",
   "metadata": {},
   "source": [
    "Now we have all items with the same id pattern"
   ]
  },
  {
   "cell_type": "code",
   "execution_count": 9,
   "metadata": {},
   "outputs": [],
   "source": [
    "for i in items:\n",
    "    path_to_items = path + i + '/'\n",
    "    files = os.listdir(path_to_items)\n",
    "    #print(files)"
   ]
  },
  {
   "cell_type": "code",
   "execution_count": 10,
   "metadata": {},
   "outputs": [],
   "source": [
    "df = pd.read_csv(file_path, header=None, usecols=[0,1], delimiter=';')\n",
    "df = df.rename(columns={0: 'id', 1: 'rating'})"
   ]
  },
  {
   "cell_type": "code",
   "execution_count": 11,
   "metadata": {},
   "outputs": [
    {
     "data": {
      "text/plain": [
       "'data/json/'"
      ]
     },
     "execution_count": 11,
     "metadata": {},
     "output_type": "execute_result"
    }
   ],
   "source": [
    "path_to_items"
   ]
  },
  {
   "cell_type": "code",
   "execution_count": 12,
   "metadata": {},
   "outputs": [],
   "source": [
    "vals = df.id.unique()\n",
    "result = []\n",
    "for root, dir, files in os.walk(path_to_items):\n",
    "    for i in vals:\n",
    "        if any(i in f for f in files):\n",
    "            result.append(i)"
   ]
  },
  {
   "cell_type": "code",
   "execution_count": 13,
   "metadata": {},
   "outputs": [
    {
     "data": {
      "text/plain": [
       "988"
      ]
     },
     "execution_count": 13,
     "metadata": {},
     "output_type": "execute_result"
    }
   ],
   "source": [
    "len(result)"
   ]
  },
  {
   "cell_type": "markdown",
   "metadata": {},
   "source": [
    "We have 988 files loaded in df that contains a phone register"
   ]
  },
  {
   "cell_type": "code",
   "execution_count": 14,
   "metadata": {},
   "outputs": [
    {
     "data": {
      "text/html": [
       "<div>\n",
       "<style scoped>\n",
       "    .dataframe tbody tr th:only-of-type {\n",
       "        vertical-align: middle;\n",
       "    }\n",
       "\n",
       "    .dataframe tbody tr th {\n",
       "        vertical-align: top;\n",
       "    }\n",
       "\n",
       "    .dataframe thead th {\n",
       "        text-align: right;\n",
       "    }\n",
       "</style>\n",
       "<table border=\"1\" class=\"dataframe\">\n",
       "  <thead>\n",
       "    <tr style=\"text-align: right;\">\n",
       "      <th></th>\n",
       "      <th>id</th>\n",
       "      <th>rating</th>\n",
       "    </tr>\n",
       "  </thead>\n",
       "  <tbody>\n",
       "    <tr>\n",
       "      <th>0</th>\n",
       "      <td>265e5551-7fc3-40d4-b4e5-18e15b1f714b</td>\n",
       "      <td>5.0</td>\n",
       "    </tr>\n",
       "    <tr>\n",
       "      <th>1</th>\n",
       "      <td>265f3b20-d426-4bcc-b46d-375b0e920532</td>\n",
       "      <td>5.0</td>\n",
       "    </tr>\n",
       "    <tr>\n",
       "      <th>2</th>\n",
       "      <td>26614192-7d2d-4518-b315-c0ca74014461</td>\n",
       "      <td>5.0</td>\n",
       "    </tr>\n",
       "    <tr>\n",
       "      <th>3</th>\n",
       "      <td>266580c7-5f96-428b-bfc9-1749a490cf35</td>\n",
       "      <td>5.0</td>\n",
       "    </tr>\n",
       "    <tr>\n",
       "      <th>4</th>\n",
       "      <td>26670455-d46e-4a03-9e70-1560992ff04f</td>\n",
       "      <td>NaN</td>\n",
       "    </tr>\n",
       "    <tr>\n",
       "      <th>...</th>\n",
       "      <td>...</td>\n",
       "      <td>...</td>\n",
       "    </tr>\n",
       "    <tr>\n",
       "      <th>996</th>\n",
       "      <td>3f333e1f-67b5-48db-9112-1fd036f952c8</td>\n",
       "      <td>NaN</td>\n",
       "    </tr>\n",
       "    <tr>\n",
       "      <th>997</th>\n",
       "      <td>3f363ffb-ce63-439c-a3dd-0458f25476b7</td>\n",
       "      <td>NaN</td>\n",
       "    </tr>\n",
       "    <tr>\n",
       "      <th>998</th>\n",
       "      <td>3f41cbb4-3d15-4134-8eac-97506e2cf340</td>\n",
       "      <td>NaN</td>\n",
       "    </tr>\n",
       "    <tr>\n",
       "      <th>999</th>\n",
       "      <td>3f59dd32-bd7c-47ed-a8ac-59af63a43a66</td>\n",
       "      <td>5.0</td>\n",
       "    </tr>\n",
       "    <tr>\n",
       "      <th>1000</th>\n",
       "      <td>3f59dd32-bd7c-47ed-a8ac-59af63a43a66</td>\n",
       "      <td>5.0</td>\n",
       "    </tr>\n",
       "  </tbody>\n",
       "</table>\n",
       "<p>1001 rows × 2 columns</p>\n",
       "</div>"
      ],
      "text/plain": [
       "                                        id  rating\n",
       "0     265e5551-7fc3-40d4-b4e5-18e15b1f714b     5.0\n",
       "1     265f3b20-d426-4bcc-b46d-375b0e920532     5.0\n",
       "2     26614192-7d2d-4518-b315-c0ca74014461     5.0\n",
       "3     266580c7-5f96-428b-bfc9-1749a490cf35     5.0\n",
       "4     26670455-d46e-4a03-9e70-1560992ff04f     NaN\n",
       "...                                    ...     ...\n",
       "996   3f333e1f-67b5-48db-9112-1fd036f952c8     NaN\n",
       "997   3f363ffb-ce63-439c-a3dd-0458f25476b7     NaN\n",
       "998   3f41cbb4-3d15-4134-8eac-97506e2cf340     NaN\n",
       "999   3f59dd32-bd7c-47ed-a8ac-59af63a43a66     5.0\n",
       "1000  3f59dd32-bd7c-47ed-a8ac-59af63a43a66     5.0\n",
       "\n",
       "[1001 rows x 2 columns]"
      ]
     },
     "execution_count": 14,
     "metadata": {},
     "output_type": "execute_result"
    }
   ],
   "source": [
    "df"
   ]
  },
  {
   "cell_type": "code",
   "execution_count": 15,
   "metadata": {},
   "outputs": [
    {
     "data": {
      "text/plain": [
       "5.0    272\n",
       "4.0     19\n",
       "1.0      9\n",
       "3.0      4\n",
       "2.0      2\n",
       "Name: rating, dtype: int64"
      ]
     },
     "execution_count": 15,
     "metadata": {},
     "output_type": "execute_result"
    }
   ],
   "source": [
    "df.rating.value_counts()"
   ]
  },
  {
   "cell_type": "markdown",
   "metadata": {},
   "source": [
    "Merging CSV Files"
   ]
  },
  {
   "cell_type": "code",
   "execution_count": 16,
   "metadata": {},
   "outputs": [
    {
     "data": {
      "text/plain": [
       "'data/csv/'"
      ]
     },
     "execution_count": 16,
     "metadata": {},
     "output_type": "execute_result"
    }
   ],
   "source": [
    "path_to_csv = path + 'csv/'\n",
    "path_to_csv"
   ]
  },
  {
   "cell_type": "code",
   "execution_count": 17,
   "metadata": {},
   "outputs": [],
   "source": [
    "csv_files = os.listdir(path_to_csv)"
   ]
  },
  {
   "cell_type": "code",
   "execution_count": 18,
   "metadata": {},
   "outputs": [],
   "source": [
    "filtered = []\n",
    "\n",
    "for f in csv_files:\n",
    "    data = pd.read_csv(\n",
    "        path_to_csv + f,\n",
    "        index_col=[0]\n",
    "    )\n",
    "    data['id'] = f.replace('.csv', '')\n",
    "    filtered.append(data)"
   ]
  },
  {
   "cell_type": "code",
   "execution_count": 19,
   "metadata": {},
   "outputs": [],
   "source": [
    "concated = pd.concat(filtered, ignore_index=True)"
   ]
  },
  {
   "cell_type": "code",
   "execution_count": 20,
   "metadata": {},
   "outputs": [
    {
     "data": {
      "text/html": [
       "<div>\n",
       "<style scoped>\n",
       "    .dataframe tbody tr th:only-of-type {\n",
       "        vertical-align: middle;\n",
       "    }\n",
       "\n",
       "    .dataframe tbody tr th {\n",
       "        vertical-align: top;\n",
       "    }\n",
       "\n",
       "    .dataframe thead th {\n",
       "        text-align: right;\n",
       "    }\n",
       "</style>\n",
       "<table border=\"1\" class=\"dataframe\">\n",
       "  <thead>\n",
       "    <tr style=\"text-align: right;\">\n",
       "      <th></th>\n",
       "      <th>id</th>\n",
       "      <th>rating</th>\n",
       "    </tr>\n",
       "  </thead>\n",
       "  <tbody>\n",
       "    <tr>\n",
       "      <th>603</th>\n",
       "      <td>352b5852-2e6e-4cf5-badd-78fec2d1095f</td>\n",
       "      <td>5.0</td>\n",
       "    </tr>\n",
       "    <tr>\n",
       "      <th>767</th>\n",
       "      <td>39126ad5-2237-46d8-8a73-0c7b1af3b057</td>\n",
       "      <td>5.0</td>\n",
       "    </tr>\n",
       "    <tr>\n",
       "      <th>621</th>\n",
       "      <td>359bc74c-7de5-4e04-b3b1-2de8bf52b234</td>\n",
       "      <td>NaN</td>\n",
       "    </tr>\n",
       "  </tbody>\n",
       "</table>\n",
       "</div>"
      ],
      "text/plain": [
       "                                       id  rating\n",
       "603  352b5852-2e6e-4cf5-badd-78fec2d1095f     5.0\n",
       "767  39126ad5-2237-46d8-8a73-0c7b1af3b057     5.0\n",
       "621  359bc74c-7de5-4e04-b3b1-2de8bf52b234     NaN"
      ]
     },
     "execution_count": 20,
     "metadata": {},
     "output_type": "execute_result"
    }
   ],
   "source": [
    "df.sample(3)"
   ]
  },
  {
   "cell_type": "code",
   "execution_count": 21,
   "metadata": {},
   "outputs": [
    {
     "data": {
      "text/html": [
       "<div>\n",
       "<style scoped>\n",
       "    .dataframe tbody tr th:only-of-type {\n",
       "        vertical-align: middle;\n",
       "    }\n",
       "\n",
       "    .dataframe tbody tr th {\n",
       "        vertical-align: top;\n",
       "    }\n",
       "\n",
       "    .dataframe thead th {\n",
       "        text-align: right;\n",
       "    }\n",
       "</style>\n",
       "<table border=\"1\" class=\"dataframe\">\n",
       "  <thead>\n",
       "    <tr style=\"text-align: right;\">\n",
       "      <th></th>\n",
       "      <th>start_time</th>\n",
       "      <th>end_time</th>\n",
       "      <th>speaker</th>\n",
       "      <th>comment</th>\n",
       "      <th>id</th>\n",
       "    </tr>\n",
       "  </thead>\n",
       "  <tbody>\n",
       "    <tr>\n",
       "      <th>30763</th>\n",
       "      <td>0:04:00</td>\n",
       "      <td>0:04:01</td>\n",
       "      <td>ch_0</td>\n",
       "      <td>não,</td>\n",
       "      <td>31459d5c-aed0-4511-b26c-50ab0bd631b5</td>\n",
       "    </tr>\n",
       "    <tr>\n",
       "      <th>59821</th>\n",
       "      <td>0:26:24</td>\n",
       "      <td>0:26:24</td>\n",
       "      <td>ch_1</td>\n",
       "      <td>Só mais ## momento que eu tô digitando em temp...</td>\n",
       "      <td>3c3a06fe-681e-4172-a54b-1a81b3d2a91d</td>\n",
       "    </tr>\n",
       "    <tr>\n",
       "      <th>15026</th>\n",
       "      <td>0:05:09</td>\n",
       "      <td>0:05:09</td>\n",
       "      <td>ch_1</td>\n",
       "      <td>aguardar até segunda é que depende o horário q...</td>\n",
       "      <td>2b9cbd1e-8493-4119-ad35-ee4f7d06d5ef</td>\n",
       "    </tr>\n",
       "  </tbody>\n",
       "</table>\n",
       "</div>"
      ],
      "text/plain": [
       "      start_time end_time speaker  \\\n",
       "30763    0:04:00  0:04:01    ch_0   \n",
       "59821    0:26:24  0:26:24    ch_1   \n",
       "15026    0:05:09  0:05:09    ch_1   \n",
       "\n",
       "                                                 comment  \\\n",
       "30763                                               não,   \n",
       "59821  Só mais ## momento que eu tô digitando em temp...   \n",
       "15026  aguardar até segunda é que depende o horário q...   \n",
       "\n",
       "                                         id  \n",
       "30763  31459d5c-aed0-4511-b26c-50ab0bd631b5  \n",
       "59821  3c3a06fe-681e-4172-a54b-1a81b3d2a91d  \n",
       "15026  2b9cbd1e-8493-4119-ad35-ee4f7d06d5ef  "
      ]
     },
     "execution_count": 21,
     "metadata": {},
     "output_type": "execute_result"
    }
   ],
   "source": [
    "concated.sample(3)"
   ]
  },
  {
   "cell_type": "code",
   "execution_count": 113,
   "metadata": {},
   "outputs": [],
   "source": [
    "inner_df = pd.merge(df, concated, how='inner', on='id')"
   ]
  },
  {
   "cell_type": "code",
   "execution_count": 114,
   "metadata": {},
   "outputs": [
    {
     "data": {
      "text/html": [
       "<div>\n",
       "<style scoped>\n",
       "    .dataframe tbody tr th:only-of-type {\n",
       "        vertical-align: middle;\n",
       "    }\n",
       "\n",
       "    .dataframe tbody tr th {\n",
       "        vertical-align: top;\n",
       "    }\n",
       "\n",
       "    .dataframe thead th {\n",
       "        text-align: right;\n",
       "    }\n",
       "</style>\n",
       "<table border=\"1\" class=\"dataframe\">\n",
       "  <thead>\n",
       "    <tr style=\"text-align: right;\">\n",
       "      <th></th>\n",
       "      <th>id</th>\n",
       "      <th>rating</th>\n",
       "      <th>start_time</th>\n",
       "      <th>end_time</th>\n",
       "      <th>speaker</th>\n",
       "      <th>comment</th>\n",
       "    </tr>\n",
       "  </thead>\n",
       "  <tbody>\n",
       "    <tr>\n",
       "      <th>0</th>\n",
       "      <td>265e5551-7fc3-40d4-b4e5-18e15b1f714b</td>\n",
       "      <td>5.0</td>\n",
       "      <td>0:00:01</td>\n",
       "      <td>0:00:01</td>\n",
       "      <td>ch_1</td>\n",
       "      <td>sua chamada será encaminhada para ## de nossos...</td>\n",
       "    </tr>\n",
       "    <tr>\n",
       "      <th>1</th>\n",
       "      <td>265e5551-7fc3-40d4-b4e5-18e15b1f714b</td>\n",
       "      <td>5.0</td>\n",
       "      <td>0:00:12</td>\n",
       "      <td>0:00:13</td>\n",
       "      <td>ch_0</td>\n",
       "      <td>bom dia! Meu nome é #######</td>\n",
       "    </tr>\n",
       "    <tr>\n",
       "      <th>2</th>\n",
       "      <td>265e5551-7fc3-40d4-b4e5-18e15b1f714b</td>\n",
       "      <td>5.0</td>\n",
       "      <td>0:00:14</td>\n",
       "      <td>0:00:14</td>\n",
       "      <td>ch_1</td>\n",
       "      <td>tudo bem. ######! Como eu posso te ajudar?</td>\n",
       "    </tr>\n",
       "    <tr>\n",
       "      <th>3</th>\n",
       "      <td>265e5551-7fc3-40d4-b4e5-18e15b1f714b</td>\n",
       "      <td>5.0</td>\n",
       "      <td>0:00:18</td>\n",
       "      <td>0:00:19</td>\n",
       "      <td>ch_0</td>\n",
       "      <td>O cartão, esse cartão ou conta jurídica? Ele t...</td>\n",
       "    </tr>\n",
       "    <tr>\n",
       "      <th>4</th>\n",
       "      <td>265e5551-7fc3-40d4-b4e5-18e15b1f714b</td>\n",
       "      <td>5.0</td>\n",
       "      <td>0:00:31</td>\n",
       "      <td>0:00:31</td>\n",
       "      <td>ch_1</td>\n",
       "      <td>É Vamos dar uma olhadinha. Qual é o teu CPF?</td>\n",
       "    </tr>\n",
       "    <tr>\n",
       "      <th>...</th>\n",
       "      <td>...</td>\n",
       "      <td>...</td>\n",
       "      <td>...</td>\n",
       "      <td>...</td>\n",
       "      <td>...</td>\n",
       "      <td>...</td>\n",
       "    </tr>\n",
       "    <tr>\n",
       "      <th>68755</th>\n",
       "      <td>3f59dd32-bd7c-47ed-a8ac-59af63a43a66</td>\n",
       "      <td>5.0</td>\n",
       "      <td>0:27:04</td>\n",
       "      <td>0:27:04</td>\n",
       "      <td>ch_1</td>\n",
       "      <td>##### e #### ###### ####.</td>\n",
       "    </tr>\n",
       "    <tr>\n",
       "      <th>68756</th>\n",
       "      <td>3f59dd32-bd7c-47ed-a8ac-59af63a43a66</td>\n",
       "      <td>5.0</td>\n",
       "      <td>0:27:06</td>\n",
       "      <td>0:27:07</td>\n",
       "      <td>ch_0</td>\n",
       "      <td>##### e #### ###### Muito obrigado pela sua at...</td>\n",
       "    </tr>\n",
       "    <tr>\n",
       "      <th>68757</th>\n",
       "      <td>3f59dd32-bd7c-47ed-a8ac-59af63a43a66</td>\n",
       "      <td>5.0</td>\n",
       "      <td>0:27:08</td>\n",
       "      <td>0:27:10</td>\n",
       "      <td>ch_1</td>\n",
       "      <td>Eu que agradeço se puder no final ## ligação. ...</td>\n",
       "    </tr>\n",
       "    <tr>\n",
       "      <th>68758</th>\n",
       "      <td>3f59dd32-bd7c-47ed-a8ac-59af63a43a66</td>\n",
       "      <td>5.0</td>\n",
       "      <td>0:27:16</td>\n",
       "      <td>0:27:16</td>\n",
       "      <td>ch_0</td>\n",
       "      <td>Tá, pode deixar que vou avaliá Muito obrigada,...</td>\n",
       "    </tr>\n",
       "    <tr>\n",
       "      <th>68759</th>\n",
       "      <td>3f59dd32-bd7c-47ed-a8ac-59af63a43a66</td>\n",
       "      <td>5.0</td>\n",
       "      <td>0:27:17</td>\n",
       "      <td>0:27:18</td>\n",
       "      <td>ch_1</td>\n",
       "      <td>##### e agora convido você para responder a no...</td>\n",
       "    </tr>\n",
       "  </tbody>\n",
       "</table>\n",
       "<p>68760 rows × 6 columns</p>\n",
       "</div>"
      ],
      "text/plain": [
       "                                         id  rating start_time end_time  \\\n",
       "0      265e5551-7fc3-40d4-b4e5-18e15b1f714b     5.0    0:00:01  0:00:01   \n",
       "1      265e5551-7fc3-40d4-b4e5-18e15b1f714b     5.0    0:00:12  0:00:13   \n",
       "2      265e5551-7fc3-40d4-b4e5-18e15b1f714b     5.0    0:00:14  0:00:14   \n",
       "3      265e5551-7fc3-40d4-b4e5-18e15b1f714b     5.0    0:00:18  0:00:19   \n",
       "4      265e5551-7fc3-40d4-b4e5-18e15b1f714b     5.0    0:00:31  0:00:31   \n",
       "...                                     ...     ...        ...      ...   \n",
       "68755  3f59dd32-bd7c-47ed-a8ac-59af63a43a66     5.0    0:27:04  0:27:04   \n",
       "68756  3f59dd32-bd7c-47ed-a8ac-59af63a43a66     5.0    0:27:06  0:27:07   \n",
       "68757  3f59dd32-bd7c-47ed-a8ac-59af63a43a66     5.0    0:27:08  0:27:10   \n",
       "68758  3f59dd32-bd7c-47ed-a8ac-59af63a43a66     5.0    0:27:16  0:27:16   \n",
       "68759  3f59dd32-bd7c-47ed-a8ac-59af63a43a66     5.0    0:27:17  0:27:18   \n",
       "\n",
       "      speaker                                            comment  \n",
       "0        ch_1  sua chamada será encaminhada para ## de nossos...  \n",
       "1        ch_0                        bom dia! Meu nome é #######  \n",
       "2        ch_1         tudo bem. ######! Como eu posso te ajudar?  \n",
       "3        ch_0  O cartão, esse cartão ou conta jurídica? Ele t...  \n",
       "4        ch_1       É Vamos dar uma olhadinha. Qual é o teu CPF?  \n",
       "...       ...                                                ...  \n",
       "68755    ch_1                          ##### e #### ###### ####.  \n",
       "68756    ch_0  ##### e #### ###### Muito obrigado pela sua at...  \n",
       "68757    ch_1  Eu que agradeço se puder no final ## ligação. ...  \n",
       "68758    ch_0  Tá, pode deixar que vou avaliá Muito obrigada,...  \n",
       "68759    ch_1  ##### e agora convido você para responder a no...  \n",
       "\n",
       "[68760 rows x 6 columns]"
      ]
     },
     "execution_count": 114,
     "metadata": {},
     "output_type": "execute_result"
    }
   ],
   "source": [
    "inner_df"
   ]
  },
  {
   "cell_type": "markdown",
   "metadata": {},
   "source": [
    "## General NPS Analysis"
   ]
  },
  {
   "cell_type": "markdown",
   "metadata": {},
   "source": [
    "In all dataset we just have 306 not-null values for nps-rating"
   ]
  },
  {
   "cell_type": "code",
   "execution_count": 24,
   "metadata": {},
   "outputs": [
    {
     "data": {
      "text/plain": [
       "306"
      ]
     },
     "execution_count": 24,
     "metadata": {},
     "output_type": "execute_result"
    }
   ],
   "source": [
    "df.rating.value_counts().sum()"
   ]
  },
  {
   "cell_type": "code",
   "execution_count": 25,
   "metadata": {},
   "outputs": [
    {
     "data": {
      "text/plain": [
       "305"
      ]
     },
     "execution_count": 25,
     "metadata": {},
     "output_type": "execute_result"
    }
   ],
   "source": [
    "inner_df.groupby('id').rating.first().value_counts().sum()"
   ]
  },
  {
   "cell_type": "markdown",
   "metadata": {},
   "source": [
    "We have A LOT of 5 stars rating for our customer service"
   ]
  },
  {
   "cell_type": "code",
   "execution_count": 26,
   "metadata": {},
   "outputs": [],
   "source": [
    "exp = df.copy()"
   ]
  },
  {
   "cell_type": "code",
   "execution_count": 27,
   "metadata": {},
   "outputs": [],
   "source": [
    "exp.dropna(inplace=True, subset='rating')"
   ]
  },
  {
   "cell_type": "code",
   "execution_count": 28,
   "metadata": {},
   "outputs": [
    {
     "data": {
      "text/plain": [
       "Text(0.5, 1.0, 'Customers vs Rating')"
      ]
     },
     "execution_count": 28,
     "metadata": {},
     "output_type": "execute_result"
    },
    {
     "data": {
      "image/png": "[encoded data removed]",
      "text/plain": [
       "<Figure size 1300x700 with 1 Axes>"
      ]
     },
     "metadata": {},
     "output_type": "display_data"
    }
   ],
   "source": [
    "fig, ax = plt.subplots(figsize = (13,7))\n",
    "sns.countplot(x='rating', data=df, palette=\"pastel\")\n",
    "ax.set_xlabel( \"Rating Category\" , size = 12)\n",
    "ax.set_ylabel( \"Number of Customers\" , size = 12)\n",
    "ax.set_title( \"Customers vs Rating\" , size = 24 )"
   ]
  },
  {
   "cell_type": "code",
   "execution_count": 29,
   "metadata": {},
   "outputs": [],
   "source": [
    "new_rating = []\n",
    "for row in exp['rating']:\n",
    "    if row < 5.0:\n",
    "        new_rating.append('Others')\n",
    "    else:\n",
    "        new_rating.append(5.0)\n",
    "exp['unbalanced_rating'] = new_rating"
   ]
  },
  {
   "cell_type": "code",
   "execution_count": 30,
   "metadata": {},
   "outputs": [
    {
     "data": {
      "text/plain": [
       "5.0       272\n",
       "Others     34\n",
       "Name: unbalanced_rating, dtype: int64"
      ]
     },
     "execution_count": 30,
     "metadata": {},
     "output_type": "execute_result"
    }
   ],
   "source": [
    "exp.unbalanced_rating.value_counts()"
   ]
  },
  {
   "cell_type": "code",
   "execution_count": 31,
   "metadata": {},
   "outputs": [
    {
     "data": {
      "text/plain": [
       "Text(0.5, 1.0, 'Customers vs Rating Classification')"
      ]
     },
     "execution_count": 31,
     "metadata": {},
     "output_type": "execute_result"
    },
    {
     "data": {
      "image/png": "[encoded data removed]",
      "text/plain": [
       "<Figure size 1300x700 with 1 Axes>"
      ]
     },
     "metadata": {},
     "output_type": "display_data"
    }
   ],
   "source": [
    "fig, ax = plt.subplots(figsize = (13,7))\n",
    "sns.countplot(x='unbalanced_rating', data=exp, palette=\"pastel\")\n",
    "ax.set_xlabel( \"Rating Category\" , size = 12)\n",
    "ax.set_ylabel( \"Number of Customers\" , size = 12)\n",
    "ax.set_title( \"Customers vs Rating Classification\" , size = 24 )"
   ]
  },
  {
   "cell_type": "code",
   "execution_count": 32,
   "metadata": {},
   "outputs": [],
   "source": [
    "nps_rating = []\n",
    "for row in exp['rating']:\n",
    "    if (row >= 4.0):\n",
    "        nps_rating.append('Promoters')\n",
    "    elif (row >= 3.0):\n",
    "        nps_rating.append('Passive')\n",
    "    else:\n",
    "        nps_rating.append('Detractors')\n",
    "exp['nps_rating'] = nps_rating"
   ]
  },
  {
   "cell_type": "code",
   "execution_count": 33,
   "metadata": {},
   "outputs": [
    {
     "data": {
      "image/png": "[encoded data removed]",
      "text/plain": [
       "<Figure size 1300x700 with 1 Axes>"
      ]
     },
     "metadata": {},
     "output_type": "display_data"
    }
   ],
   "source": [
    "fig, ax = plt.subplots(figsize = (13,7))\n",
    "sns.countplot(x='nps_rating', data=exp, palette=\"pastel\")\n",
    "ax.set_xlabel( \"NPS Category\" , size = 12)\n",
    "ax.set_ylabel( \"Number of Customers\" , size = 12)\n",
    "ax.set_title( \"Customers vs NPS Classification\" , size = 24 )\n",
    "plt.show()\n"
   ]
  },
  {
   "cell_type": "code",
   "execution_count": 34,
   "metadata": {},
   "outputs": [
    {
     "data": {
      "text/html": [
       "<div>\n",
       "<style scoped>\n",
       "    .dataframe tbody tr th:only-of-type {\n",
       "        vertical-align: middle;\n",
       "    }\n",
       "\n",
       "    .dataframe tbody tr th {\n",
       "        vertical-align: top;\n",
       "    }\n",
       "\n",
       "    .dataframe thead th {\n",
       "        text-align: right;\n",
       "    }\n",
       "</style>\n",
       "<table border=\"1\" class=\"dataframe\">\n",
       "  <thead>\n",
       "    <tr style=\"text-align: right;\">\n",
       "      <th></th>\n",
       "      <th>id</th>\n",
       "      <th>rating</th>\n",
       "      <th>start_time</th>\n",
       "      <th>end_time</th>\n",
       "      <th>speaker</th>\n",
       "      <th>comment</th>\n",
       "    </tr>\n",
       "  </thead>\n",
       "  <tbody>\n",
       "    <tr>\n",
       "      <th>0</th>\n",
       "      <td>265e5551-7fc3-40d4-b4e5-18e15b1f714b</td>\n",
       "      <td>5.0</td>\n",
       "      <td>0:00:01</td>\n",
       "      <td>0:00:01</td>\n",
       "      <td>ch_1</td>\n",
       "      <td>sua chamada será encaminhada para ## de nossos...</td>\n",
       "    </tr>\n",
       "  </tbody>\n",
       "</table>\n",
       "</div>"
      ],
      "text/plain": [
       "                                     id  rating start_time end_time speaker  \\\n",
       "0  265e5551-7fc3-40d4-b4e5-18e15b1f714b     5.0    0:00:01  0:00:01    ch_1   \n",
       "\n",
       "                                             comment  \n",
       "0  sua chamada será encaminhada para ## de nossos...  "
      ]
     },
     "execution_count": 34,
     "metadata": {},
     "output_type": "execute_result"
    }
   ],
   "source": [
    "inner_df.head(1)"
   ]
  },
  {
   "cell_type": "code",
   "execution_count": 35,
   "metadata": {},
   "outputs": [],
   "source": [
    "agg_funcs = {'rating' : 'first',\n",
    "            'comment' : 'size', \n",
    "            'end_time': 'last' }"
   ]
  },
  {
   "cell_type": "code",
   "execution_count": 36,
   "metadata": {},
   "outputs": [],
   "source": [
    "relation_rating_comment = inner_df.groupby('id').agg(agg_funcs).reset_index().dropna(subset='rating').rename(columns={'comment': 'number_comments', 'end_time': 'minutes'})\n",
    "relation_rating_comment.minutes = pd.to_datetime(relation_rating_comment.minutes, format='%H:%M:%S').dt.minute"
   ]
  },
  {
   "cell_type": "code",
   "execution_count": 37,
   "metadata": {},
   "outputs": [
    {
     "data": {
      "text/html": [
       "<div>\n",
       "<style scoped>\n",
       "    .dataframe tbody tr th:only-of-type {\n",
       "        vertical-align: middle;\n",
       "    }\n",
       "\n",
       "    .dataframe tbody tr th {\n",
       "        vertical-align: top;\n",
       "    }\n",
       "\n",
       "    .dataframe thead th {\n",
       "        text-align: right;\n",
       "    }\n",
       "</style>\n",
       "<table border=\"1\" class=\"dataframe\">\n",
       "  <thead>\n",
       "    <tr style=\"text-align: right;\">\n",
       "      <th></th>\n",
       "      <th>id</th>\n",
       "      <th>rating</th>\n",
       "      <th>number_comments</th>\n",
       "      <th>minutes</th>\n",
       "    </tr>\n",
       "  </thead>\n",
       "  <tbody>\n",
       "    <tr>\n",
       "      <th>798</th>\n",
       "      <td>3a9d3468-d485-4ae0-81c3-082928d3f90a</td>\n",
       "      <td>5.0</td>\n",
       "      <td>55</td>\n",
       "      <td>7</td>\n",
       "    </tr>\n",
       "    <tr>\n",
       "      <th>203</th>\n",
       "      <td>2b793cc4-c73e-44db-ae2a-791b036ef664</td>\n",
       "      <td>4.0</td>\n",
       "      <td>20</td>\n",
       "      <td>2</td>\n",
       "    </tr>\n",
       "    <tr>\n",
       "      <th>876</th>\n",
       "      <td>3c9dd454-4d90-48bc-8834-dcd0620b107b</td>\n",
       "      <td>5.0</td>\n",
       "      <td>26</td>\n",
       "      <td>3</td>\n",
       "    </tr>\n",
       "  </tbody>\n",
       "</table>\n",
       "</div>"
      ],
      "text/plain": [
       "                                       id  rating  number_comments  minutes\n",
       "798  3a9d3468-d485-4ae0-81c3-082928d3f90a     5.0               55        7\n",
       "203  2b793cc4-c73e-44db-ae2a-791b036ef664     4.0               20        2\n",
       "876  3c9dd454-4d90-48bc-8834-dcd0620b107b     5.0               26        3"
      ]
     },
     "execution_count": 37,
     "metadata": {},
     "output_type": "execute_result"
    }
   ],
   "source": [
    "relation_rating_comment.sample(3)"
   ]
  },
  {
   "cell_type": "code",
   "execution_count": 38,
   "metadata": {},
   "outputs": [
    {
     "data": {
      "image/png": "[encoded data removed]",
      "text/plain": [
       "<Figure size 1200x500 with 1 Axes>"
      ]
     },
     "metadata": {},
     "output_type": "display_data"
    }
   ],
   "source": [
    "fig, ax = plt.subplots(figsize = (12,5))\n",
    "sns.pointplot(data=relation_rating_comment, x='rating', y='number_comments', estimator='median')\n",
    "ax.set_ylabel( \"Comments\" , size = 12)\n",
    "ax.set_xlabel( \"Rating\" , size = 12)\n",
    "ax.set_title( \"Comments vs Rating\" , size = 20 )\n",
    "plt.show()"
   ]
  },
  {
   "cell_type": "code",
   "execution_count": 39,
   "metadata": {},
   "outputs": [
    {
     "data": {
      "image/png": "[encoded data removed]",
      "text/plain": [
       "<Figure size 1200x500 with 1 Axes>"
      ]
     },
     "metadata": {},
     "output_type": "display_data"
    }
   ],
   "source": [
    "fig, ax = plt.subplots(figsize = (12,5))\n",
    "sns.pointplot(data=relation_rating_comment, x='rating', y='minutes', estimator='median')\n",
    "ax.set_ylabel( \"Minutes\" , size = 12)\n",
    "ax.set_xlabel( \"Rating\" , size = 12)\n",
    "ax.set_title( \"Minutes vs Rating\" , size = 20 )\n",
    "plt.show()"
   ]
  },
  {
   "cell_type": "code",
   "execution_count": 40,
   "metadata": {},
   "outputs": [
    {
     "data": {
      "text/html": [
       "<div>\n",
       "<style scoped>\n",
       "    .dataframe tbody tr th:only-of-type {\n",
       "        vertical-align: middle;\n",
       "    }\n",
       "\n",
       "    .dataframe tbody tr th {\n",
       "        vertical-align: top;\n",
       "    }\n",
       "\n",
       "    .dataframe thead th {\n",
       "        text-align: right;\n",
       "    }\n",
       "</style>\n",
       "<table border=\"1\" class=\"dataframe\">\n",
       "  <thead>\n",
       "    <tr style=\"text-align: right;\">\n",
       "      <th></th>\n",
       "      <th>id</th>\n",
       "      <th>rating</th>\n",
       "      <th>start_time</th>\n",
       "      <th>end_time</th>\n",
       "      <th>speaker</th>\n",
       "      <th>comment</th>\n",
       "    </tr>\n",
       "  </thead>\n",
       "  <tbody>\n",
       "    <tr>\n",
       "      <th>0</th>\n",
       "      <td>265e5551-7fc3-40d4-b4e5-18e15b1f714b</td>\n",
       "      <td>5.0</td>\n",
       "      <td>0:00:01</td>\n",
       "      <td>0:00:01</td>\n",
       "      <td>ch_1</td>\n",
       "      <td>sua chamada será encaminhada para ## de nossos...</td>\n",
       "    </tr>\n",
       "    <tr>\n",
       "      <th>1</th>\n",
       "      <td>265e5551-7fc3-40d4-b4e5-18e15b1f714b</td>\n",
       "      <td>5.0</td>\n",
       "      <td>0:00:12</td>\n",
       "      <td>0:00:13</td>\n",
       "      <td>ch_0</td>\n",
       "      <td>bom dia! Meu nome é #######</td>\n",
       "    </tr>\n",
       "    <tr>\n",
       "      <th>2</th>\n",
       "      <td>265e5551-7fc3-40d4-b4e5-18e15b1f714b</td>\n",
       "      <td>5.0</td>\n",
       "      <td>0:00:14</td>\n",
       "      <td>0:00:14</td>\n",
       "      <td>ch_1</td>\n",
       "      <td>tudo bem. ######! Como eu posso te ajudar?</td>\n",
       "    </tr>\n",
       "    <tr>\n",
       "      <th>3</th>\n",
       "      <td>265e5551-7fc3-40d4-b4e5-18e15b1f714b</td>\n",
       "      <td>5.0</td>\n",
       "      <td>0:00:18</td>\n",
       "      <td>0:00:19</td>\n",
       "      <td>ch_0</td>\n",
       "      <td>O cartão, esse cartão ou conta jurídica? Ele t...</td>\n",
       "    </tr>\n",
       "    <tr>\n",
       "      <th>4</th>\n",
       "      <td>265e5551-7fc3-40d4-b4e5-18e15b1f714b</td>\n",
       "      <td>5.0</td>\n",
       "      <td>0:00:31</td>\n",
       "      <td>0:00:31</td>\n",
       "      <td>ch_1</td>\n",
       "      <td>É Vamos dar uma olhadinha. Qual é o teu CPF?</td>\n",
       "    </tr>\n",
       "    <tr>\n",
       "      <th>...</th>\n",
       "      <td>...</td>\n",
       "      <td>...</td>\n",
       "      <td>...</td>\n",
       "      <td>...</td>\n",
       "      <td>...</td>\n",
       "      <td>...</td>\n",
       "    </tr>\n",
       "    <tr>\n",
       "      <th>80</th>\n",
       "      <td>265e5551-7fc3-40d4-b4e5-18e15b1f714b</td>\n",
       "      <td>5.0</td>\n",
       "      <td>0:10:58</td>\n",
       "      <td>0:10:58</td>\n",
       "      <td>ch_1</td>\n",
       "      <td>Então, tá, Se tu puder aguardar pra avaliar o ...</td>\n",
       "    </tr>\n",
       "    <tr>\n",
       "      <th>81</th>\n",
       "      <td>265e5551-7fc3-40d4-b4e5-18e15b1f714b</td>\n",
       "      <td>5.0</td>\n",
       "      <td>0:11:03</td>\n",
       "      <td>0:11:04</td>\n",
       "      <td>ch_0</td>\n",
       "      <td>tá jóia Brigada</td>\n",
       "    </tr>\n",
       "    <tr>\n",
       "      <th>82</th>\n",
       "      <td>265e5551-7fc3-40d4-b4e5-18e15b1f714b</td>\n",
       "      <td>5.0</td>\n",
       "      <td>0:11:04</td>\n",
       "      <td>0:11:05</td>\n",
       "      <td>ch_1</td>\n",
       "      <td>Obrigada. Tchau. Tchau</td>\n",
       "    </tr>\n",
       "    <tr>\n",
       "      <th>83</th>\n",
       "      <td>265e5551-7fc3-40d4-b4e5-18e15b1f714b</td>\n",
       "      <td>5.0</td>\n",
       "      <td>0:11:06</td>\n",
       "      <td>0:11:07</td>\n",
       "      <td>ch_0</td>\n",
       "      <td>Tchau</td>\n",
       "    </tr>\n",
       "    <tr>\n",
       "      <th>84</th>\n",
       "      <td>265e5551-7fc3-40d4-b4e5-18e15b1f714b</td>\n",
       "      <td>5.0</td>\n",
       "      <td>0:11:11</td>\n",
       "      <td>0:11:11</td>\n",
       "      <td>ch_1</td>\n",
       "      <td>e agora? Convido você para responder. A nossa ...</td>\n",
       "    </tr>\n",
       "  </tbody>\n",
       "</table>\n",
       "<p>85 rows × 6 columns</p>\n",
       "</div>"
      ],
      "text/plain": [
       "                                      id  rating start_time end_time speaker  \\\n",
       "0   265e5551-7fc3-40d4-b4e5-18e15b1f714b     5.0    0:00:01  0:00:01    ch_1   \n",
       "1   265e5551-7fc3-40d4-b4e5-18e15b1f714b     5.0    0:00:12  0:00:13    ch_0   \n",
       "2   265e5551-7fc3-40d4-b4e5-18e15b1f714b     5.0    0:00:14  0:00:14    ch_1   \n",
       "3   265e5551-7fc3-40d4-b4e5-18e15b1f714b     5.0    0:00:18  0:00:19    ch_0   \n",
       "4   265e5551-7fc3-40d4-b4e5-18e15b1f714b     5.0    0:00:31  0:00:31    ch_1   \n",
       "..                                   ...     ...        ...      ...     ...   \n",
       "80  265e5551-7fc3-40d4-b4e5-18e15b1f714b     5.0    0:10:58  0:10:58    ch_1   \n",
       "81  265e5551-7fc3-40d4-b4e5-18e15b1f714b     5.0    0:11:03  0:11:04    ch_0   \n",
       "82  265e5551-7fc3-40d4-b4e5-18e15b1f714b     5.0    0:11:04  0:11:05    ch_1   \n",
       "83  265e5551-7fc3-40d4-b4e5-18e15b1f714b     5.0    0:11:06  0:11:07    ch_0   \n",
       "84  265e5551-7fc3-40d4-b4e5-18e15b1f714b     5.0    0:11:11  0:11:11    ch_1   \n",
       "\n",
       "                                              comment  \n",
       "0   sua chamada será encaminhada para ## de nossos...  \n",
       "1                         bom dia! Meu nome é #######  \n",
       "2          tudo bem. ######! Como eu posso te ajudar?  \n",
       "3   O cartão, esse cartão ou conta jurídica? Ele t...  \n",
       "4        É Vamos dar uma olhadinha. Qual é o teu CPF?  \n",
       "..                                                ...  \n",
       "80  Então, tá, Se tu puder aguardar pra avaliar o ...  \n",
       "81                                    tá jóia Brigada  \n",
       "82                             Obrigada. Tchau. Tchau  \n",
       "83                                              Tchau  \n",
       "84  e agora? Convido você para responder. A nossa ...  \n",
       "\n",
       "[85 rows x 6 columns]"
      ]
     },
     "execution_count": 40,
     "metadata": {},
     "output_type": "execute_result"
    }
   ],
   "source": [
    "inner_df[inner_df.id == '265e5551-7fc3-40d4-b4e5-18e15b1f714b']"
   ]
  },
  {
   "cell_type": "markdown",
   "metadata": {},
   "source": [
    "## NLP Analysis"
   ]
  },
  {
   "cell_type": "code",
   "execution_count": 141,
   "metadata": {},
   "outputs": [],
   "source": [
    "import nltk\n",
    "#nltk.download('stopwords')\n",
    "from collections import Counter\n",
    "import re"
   ]
  },
  {
   "cell_type": "code",
   "execution_count": 132,
   "metadata": {},
   "outputs": [],
   "source": [
    "stopwords = nltk.corpus.stopwords.words('portuguese')"
   ]
  },
  {
   "cell_type": "code",
   "execution_count": 209,
   "metadata": {},
   "outputs": [],
   "source": [
    "import re\n",
    "def clean_text(data, column):\n",
    "    data[column] = data[column].apply(lambda x: ' '.join([word for word in x.split() if word not in (stopwords)])\\\n",
    "        .lower().encode('ascii', errors='ignore').decode('utf-8'))\n",
    "    data[column] = data[column].apply(lambda x: re.sub('\\W+',' ', x))    \n",
    "    return data"
   ]
  },
  {
   "cell_type": "code",
   "execution_count": 138,
   "metadata": {},
   "outputs": [],
   "source": [
    "def return_most_common(df, n_words, column):\n",
    "    all_text = [' '.join(df[column])]\n",
    "    output_words = all_text[0].split()\n",
    "    ctr = Counter(output_words)\n",
    "    most_occur = ctr.most_common(n_words)\n",
    "    return most_occur"
   ]
  },
  {
   "cell_type": "markdown",
   "metadata": {},
   "source": [
    "98% of our conversation_id has actual data of comments and time "
   ]
  },
  {
   "cell_type": "code",
   "execution_count": 130,
   "metadata": {},
   "outputs": [
    {
     "data": {
      "text/plain": [
       "0.987012987012987"
      ]
     },
     "execution_count": 130,
     "metadata": {},
     "output_type": "execute_result"
    }
   ],
   "source": [
    "len(inner_df.id.unique())/len(df)"
   ]
  },
  {
   "cell_type": "markdown",
   "metadata": {},
   "source": [
    "Here we have all ratings with minutes of call and all customer comments in a string"
   ]
  },
  {
   "cell_type": "code",
   "execution_count": 210,
   "metadata": {},
   "outputs": [
    {
     "data": {
      "text/html": [
       "<div>\n",
       "<style scoped>\n",
       "    .dataframe tbody tr th:only-of-type {\n",
       "        vertical-align: middle;\n",
       "    }\n",
       "\n",
       "    .dataframe tbody tr th {\n",
       "        vertical-align: top;\n",
       "    }\n",
       "\n",
       "    .dataframe thead th {\n",
       "        text-align: right;\n",
       "    }\n",
       "</style>\n",
       "<table border=\"1\" class=\"dataframe\">\n",
       "  <thead>\n",
       "    <tr style=\"text-align: right;\">\n",
       "      <th></th>\n",
       "      <th>id</th>\n",
       "      <th>rating</th>\n",
       "      <th>speaker</th>\n",
       "      <th>comment</th>\n",
       "      <th>minutes</th>\n",
       "    </tr>\n",
       "  </thead>\n",
       "  <tbody>\n",
       "    <tr>\n",
       "      <th>0</th>\n",
       "      <td>265e5551-7fc3-40d4-b4e5-18e15b1f714b</td>\n",
       "      <td>5.0</td>\n",
       "      <td>ch_0</td>\n",
       "      <td>senha ah sim u pode falar t u sim u ento t jia...</td>\n",
       "      <td>11</td>\n",
       "    </tr>\n",
       "    <tr>\n",
       "      <th>1</th>\n",
       "      <td>265f3b20-d426-4bcc-b46d-375b0e920532</td>\n",
       "      <td>5.0</td>\n",
       "      <td>ch_0</td>\n",
       "      <td>sim t deixa perguntar outra coisa vai nmero c...</td>\n",
       "      <td>9</td>\n",
       "    </tr>\n",
       "    <tr>\n",
       "      <th>2</th>\n",
       "      <td>26614192-7d2d-4518-b315-c0ca74014461</td>\n",
       "      <td>5.0</td>\n",
       "      <td>ch_0</td>\n",
       "      <td>diminui valor parcela okay agradecer a caso ac...</td>\n",
       "      <td>11</td>\n",
       "    </tr>\n",
       "    <tr>\n",
       "      <th>3</th>\n",
       "      <td>266580c7-5f96-428b-bfc9-1749a490cf35</td>\n",
       "      <td>5.0</td>\n",
       "      <td>ch_0</td>\n",
       "      <td>queria saber detalhes caso fazer lance n cont...</td>\n",
       "      <td>4</td>\n",
       "    </tr>\n",
       "    <tr>\n",
       "      <th>4</th>\n",
       "      <td>26670455-d46e-4a03-9e70-1560992ff04f</td>\n",
       "      <td>NaN</td>\n",
       "      <td>ch_0</td>\n",
       "      <td>isso crdito carto n que dinheiro meu u existe ...</td>\n",
       "      <td>11</td>\n",
       "    </tr>\n",
       "    <tr>\n",
       "      <th>...</th>\n",
       "      <td>...</td>\n",
       "      <td>...</td>\n",
       "      <td>...</td>\n",
       "      <td>...</td>\n",
       "      <td>...</td>\n",
       "    </tr>\n",
       "    <tr>\n",
       "      <th>973</th>\n",
       "      <td>3f327a25-e87d-4c61-9327-9aa9f35a6ce7</td>\n",
       "      <td>4.0</td>\n",
       "      <td>ch_0</td>\n",
       "      <td>voc telefone isso t okay nome t jia eu fico ag...</td>\n",
       "      <td>16</td>\n",
       "    </tr>\n",
       "    <tr>\n",
       "      <th>974</th>\n",
       "      <td>3f333e1f-67b5-48db-9112-1fd036f952c8</td>\n",
       "      <td>NaN</td>\n",
       "      <td>ch_0</td>\n",
       "      <td>resumindo consegue fazer nada bloqueei meu car...</td>\n",
       "      <td>48</td>\n",
       "    </tr>\n",
       "    <tr>\n",
       "      <th>975</th>\n",
       "      <td>3f363ffb-ce63-439c-a3dd-0458f25476b7</td>\n",
       "      <td>NaN</td>\n",
       "      <td>ch_0</td>\n",
       "      <td>ah t obrigado hum faz assim pode conta poupana...</td>\n",
       "      <td>18</td>\n",
       "    </tr>\n",
       "    <tr>\n",
       "      <th>976</th>\n",
       "      <td>3f41cbb4-3d15-4134-8eac-97506e2cf340</td>\n",
       "      <td>NaN</td>\n",
       "      <td>ch_0</td>\n",
       "      <td>acha vou vou pra l mobi porque servio l lavour...</td>\n",
       "      <td>15</td>\n",
       "    </tr>\n",
       "    <tr>\n",
       "      <th>977</th>\n",
       "      <td>3f59dd32-bd7c-47ed-a8ac-59af63a43a66</td>\n",
       "      <td>5.0</td>\n",
       "      <td>ch_0</td>\n",
       "      <td>manivela isso isso mesmo quinta eh tinha foi f...</td>\n",
       "      <td>27</td>\n",
       "    </tr>\n",
       "  </tbody>\n",
       "</table>\n",
       "<p>978 rows × 5 columns</p>\n",
       "</div>"
      ],
      "text/plain": [
       "                                       id  rating speaker  \\\n",
       "0    265e5551-7fc3-40d4-b4e5-18e15b1f714b     5.0    ch_0   \n",
       "1    265f3b20-d426-4bcc-b46d-375b0e920532     5.0    ch_0   \n",
       "2    26614192-7d2d-4518-b315-c0ca74014461     5.0    ch_0   \n",
       "3    266580c7-5f96-428b-bfc9-1749a490cf35     5.0    ch_0   \n",
       "4    26670455-d46e-4a03-9e70-1560992ff04f     NaN    ch_0   \n",
       "..                                    ...     ...     ...   \n",
       "973  3f327a25-e87d-4c61-9327-9aa9f35a6ce7     4.0    ch_0   \n",
       "974  3f333e1f-67b5-48db-9112-1fd036f952c8     NaN    ch_0   \n",
       "975  3f363ffb-ce63-439c-a3dd-0458f25476b7     NaN    ch_0   \n",
       "976  3f41cbb4-3d15-4134-8eac-97506e2cf340     NaN    ch_0   \n",
       "977  3f59dd32-bd7c-47ed-a8ac-59af63a43a66     5.0    ch_0   \n",
       "\n",
       "                                               comment  minutes  \n",
       "0    senha ah sim u pode falar t u sim u ento t jia...       11  \n",
       "1     sim t deixa perguntar outra coisa vai nmero c...        9  \n",
       "2    diminui valor parcela okay agradecer a caso ac...       11  \n",
       "3     queria saber detalhes caso fazer lance n cont...        4  \n",
       "4    isso crdito carto n que dinheiro meu u existe ...       11  \n",
       "..                                                 ...      ...  \n",
       "973  voc telefone isso t okay nome t jia eu fico ag...       16  \n",
       "974  resumindo consegue fazer nada bloqueei meu car...       48  \n",
       "975  ah t obrigado hum faz assim pode conta poupana...       18  \n",
       "976  acha vou vou pra l mobi porque servio l lavour...       15  \n",
       "977  manivela isso isso mesmo quinta eh tinha foi f...       27  \n",
       "\n",
       "[978 rows x 5 columns]"
      ]
     },
     "execution_count": 210,
     "metadata": {},
     "output_type": "execute_result"
    }
   ],
   "source": [
    "sentiment_df = inner_df.query(\"speaker == 'ch_0'\").drop(columns=['start_time']).rename(columns={'end_time' : 'duration'})\n",
    "g = sentiment_df.groupby('id')\n",
    "sentiment_df.duration = (g['duration'].transform('last'))\n",
    "sentiment_df['minutes'] = pd.to_datetime(sentiment_df.duration, format='%H:%M:%S').dt.minute\n",
    "sentiment_df.drop(columns=['duration'], inplace=True)\n",
    "\n",
    "sentiment_df = sentiment_df.groupby('id').tail(10)\n",
    "\n",
    "sentiment_df = sentiment_df.groupby('id').agg({'rating' : 'first',\n",
    "                                'speaker': 'first',\n",
    "                                'comment': ' '.join,\n",
    "                                 'minutes': 'first' }).reset_index()\n",
    "sentiment_df = clean_text(sentiment_df, 'comment')\n",
    "\n",
    "\n",
    "sentiment_df"
   ]
  },
  {
   "cell_type": "code",
   "execution_count": 211,
   "metadata": {},
   "outputs": [
    {
     "data": {
      "text/plain": [
       "<AxesSubplot: >"
      ]
     },
     "execution_count": 211,
     "metadata": {},
     "output_type": "execute_result"
    },
    {
     "data": {
      "image/png": "[encoded data removed]",
      "text/plain": [
       "<Figure size 640x480 with 1 Axes>"
      ]
     },
     "metadata": {},
     "output_type": "display_data"
    }
   ],
   "source": [
    "sentiment_df.minutes.plot(kind='box')"
   ]
  },
  {
   "cell_type": "markdown",
   "metadata": {},
   "source": [
    "Sorting our dataset by comment len"
   ]
  },
  {
   "cell_type": "code",
   "execution_count": 201,
   "metadata": {},
   "outputs": [
    {
     "data": {
      "text/html": [
       "<div>\n",
       "<style scoped>\n",
       "    .dataframe tbody tr th:only-of-type {\n",
       "        vertical-align: middle;\n",
       "    }\n",
       "\n",
       "    .dataframe tbody tr th {\n",
       "        vertical-align: top;\n",
       "    }\n",
       "\n",
       "    .dataframe thead th {\n",
       "        text-align: right;\n",
       "    }\n",
       "</style>\n",
       "<table border=\"1\" class=\"dataframe\">\n",
       "  <thead>\n",
       "    <tr style=\"text-align: right;\">\n",
       "      <th></th>\n",
       "      <th>id</th>\n",
       "      <th>rating</th>\n",
       "      <th>speaker</th>\n",
       "      <th>comment</th>\n",
       "      <th>minutes</th>\n",
       "      <th>len</th>\n",
       "    </tr>\n",
       "  </thead>\n",
       "  <tbody>\n",
       "    <tr>\n",
       "      <th>650</th>\n",
       "      <td>36a651ee-cd6d-49cf-a849-7eb661e3d8a2</td>\n",
       "      <td>NaN</td>\n",
       "      <td>ch_0</td>\n",
       "      <td>al al al</td>\n",
       "      <td>6</td>\n",
       "      <td>9</td>\n",
       "    </tr>\n",
       "    <tr>\n",
       "      <th>248</th>\n",
       "      <td>2ca33a2a-ab95-469b-b0c7-139564891653</td>\n",
       "      <td>NaN</td>\n",
       "      <td>ch_0</td>\n",
       "      <td>t entendeu</td>\n",
       "      <td>1</td>\n",
       "      <td>11</td>\n",
       "    </tr>\n",
       "    <tr>\n",
       "      <th>306</th>\n",
       "      <td>2e63c84f-6c1f-4a15-a2b2-4a0aa2cfab4c</td>\n",
       "      <td>NaN</td>\n",
       "      <td>ch_0</td>\n",
       "      <td>ai desgraa</td>\n",
       "      <td>2</td>\n",
       "      <td>12</td>\n",
       "    </tr>\n",
       "  </tbody>\n",
       "</table>\n",
       "</div>"
      ],
      "text/plain": [
       "                                       id  rating speaker       comment  \\\n",
       "650  36a651ee-cd6d-49cf-a849-7eb661e3d8a2     NaN    ch_0     al al al    \n",
       "248  2ca33a2a-ab95-469b-b0c7-139564891653     NaN    ch_0   t entendeu    \n",
       "306  2e63c84f-6c1f-4a15-a2b2-4a0aa2cfab4c     NaN    ch_0   ai desgraa    \n",
       "\n",
       "     minutes  len  \n",
       "650        6    9  \n",
       "248        1   11  \n",
       "306        2   12  "
      ]
     },
     "execution_count": 201,
     "metadata": {},
     "output_type": "execute_result"
    }
   ],
   "source": [
    "sentiment_df['len'] = sentiment_df['comment'].str.len() \n",
    "sentiment_df = sentiment_df.sort_values(['len'], ascending=True)\n",
    "sentiment_df = sentiment_df.query(\"len > 5\").query(\"minutes >= 1\")\n",
    "sentiment_df.head(3)"
   ]
  },
  {
   "cell_type": "markdown",
   "metadata": {},
   "source": [
    "Checking for Gramatical Errors"
   ]
  },
  {
   "cell_type": "code",
   "execution_count": 191,
   "metadata": {},
   "outputs": [
    {
     "data": {
      "text/plain": [
       "93      ontem pai fez resgate pontos pra gente usar l...\n",
       "226    ah sim ento fosco sim ento bem chegando l sim ...\n",
       "181    oi boa tarde oi preciso ver contigo preciso ca...\n",
       "223    bom dia eu t conseguindo fatura carto estou te...\n",
       "579    boa noite eu queria fazer denncia eu identific...\n",
       "Name: comment, dtype: object"
      ]
     },
     "execution_count": 191,
     "metadata": {},
     "output_type": "execute_result"
    }
   ],
   "source": [
    "sentiment_df.comment.sample(5)"
   ]
  },
  {
   "cell_type": "markdown",
   "metadata": {},
   "source": [
    "Tokenization"
   ]
  },
  {
   "cell_type": "code",
   "execution_count": 216,
   "metadata": {},
   "outputs": [],
   "source": [
    "from gensim.parsing.porter import PorterStemmer\n",
    "from gensim.utils import simple_preprocess\n",
    "\n",
    "sentiment_df['tokenized_text'] = [simple_preprocess(line, deacc=True) for line in sentiment_df['comment']] "
   ]
  },
  {
   "cell_type": "code",
   "execution_count": 219,
   "metadata": {},
   "outputs": [
    {
     "data": {
      "text/html": [
       "<div>\n",
       "<style scoped>\n",
       "    .dataframe tbody tr th:only-of-type {\n",
       "        vertical-align: middle;\n",
       "    }\n",
       "\n",
       "    .dataframe tbody tr th {\n",
       "        vertical-align: top;\n",
       "    }\n",
       "\n",
       "    .dataframe thead th {\n",
       "        text-align: right;\n",
       "    }\n",
       "</style>\n",
       "<table border=\"1\" class=\"dataframe\">\n",
       "  <thead>\n",
       "    <tr style=\"text-align: right;\">\n",
       "      <th></th>\n",
       "      <th>id</th>\n",
       "      <th>rating</th>\n",
       "      <th>speaker</th>\n",
       "      <th>comment</th>\n",
       "      <th>minutes</th>\n",
       "      <th>tokenized_text</th>\n",
       "      <th>stemmed_tokens</th>\n",
       "    </tr>\n",
       "  </thead>\n",
       "  <tbody>\n",
       "    <tr>\n",
       "      <th>0</th>\n",
       "      <td>265e5551-7fc3-40d4-b4e5-18e15b1f714b</td>\n",
       "      <td>5.0</td>\n",
       "      <td>ch_0</td>\n",
       "      <td>senha ah sim u pode falar t u sim u ento t jia...</td>\n",
       "      <td>11</td>\n",
       "      <td>[senha, ah, sim, pode, falar, sim, ento, jia, ...</td>\n",
       "      <td>[senha, ah, sim, pode, falar, sim, ento, jia, ...</td>\n",
       "    </tr>\n",
       "    <tr>\n",
       "      <th>1</th>\n",
       "      <td>265f3b20-d426-4bcc-b46d-375b0e920532</td>\n",
       "      <td>5.0</td>\n",
       "      <td>ch_0</td>\n",
       "      <td>sim t deixa perguntar outra coisa vai nmero c...</td>\n",
       "      <td>9</td>\n",
       "      <td>[sim, deixa, perguntar, outra, coisa, vai, nme...</td>\n",
       "      <td>[sim, deixa, perguntar, outra, coisa, vai, nme...</td>\n",
       "    </tr>\n",
       "    <tr>\n",
       "      <th>2</th>\n",
       "      <td>26614192-7d2d-4518-b315-c0ca74014461</td>\n",
       "      <td>5.0</td>\n",
       "      <td>ch_0</td>\n",
       "      <td>diminui valor parcela okay agradecer a caso ac...</td>\n",
       "      <td>11</td>\n",
       "      <td>[diminui, valor, parcela, okay, agradecer, cas...</td>\n",
       "      <td>[diminui, valor, parcela, okai, agradec, caso,...</td>\n",
       "    </tr>\n",
       "    <tr>\n",
       "      <th>3</th>\n",
       "      <td>266580c7-5f96-428b-bfc9-1749a490cf35</td>\n",
       "      <td>5.0</td>\n",
       "      <td>ch_0</td>\n",
       "      <td>queria saber detalhes caso fazer lance n cont...</td>\n",
       "      <td>4</td>\n",
       "      <td>[queria, saber, detalhes, caso, fazer, lance, ...</td>\n",
       "      <td>[queria, saber, detalh, caso, fazer, lanc, con...</td>\n",
       "    </tr>\n",
       "    <tr>\n",
       "      <th>4</th>\n",
       "      <td>26670455-d46e-4a03-9e70-1560992ff04f</td>\n",
       "      <td>NaN</td>\n",
       "      <td>ch_0</td>\n",
       "      <td>isso crdito carto n que dinheiro meu u existe ...</td>\n",
       "      <td>11</td>\n",
       "      <td>[isso, crdito, carto, que, dinheiro, meu, exis...</td>\n",
       "      <td>[isso, crdito, carto, que, dinheiro, meu, exis...</td>\n",
       "    </tr>\n",
       "    <tr>\n",
       "      <th>...</th>\n",
       "      <td>...</td>\n",
       "      <td>...</td>\n",
       "      <td>...</td>\n",
       "      <td>...</td>\n",
       "      <td>...</td>\n",
       "      <td>...</td>\n",
       "      <td>...</td>\n",
       "    </tr>\n",
       "    <tr>\n",
       "      <th>973</th>\n",
       "      <td>3f327a25-e87d-4c61-9327-9aa9f35a6ce7</td>\n",
       "      <td>4.0</td>\n",
       "      <td>ch_0</td>\n",
       "      <td>voc telefone isso t okay nome t jia eu fico ag...</td>\n",
       "      <td>16</td>\n",
       "      <td>[voc, telefone, isso, okay, nome, jia, eu, fic...</td>\n",
       "      <td>[voc, telefon, isso, okai, nome, jia, eu, fico...</td>\n",
       "    </tr>\n",
       "    <tr>\n",
       "      <th>974</th>\n",
       "      <td>3f333e1f-67b5-48db-9112-1fd036f952c8</td>\n",
       "      <td>NaN</td>\n",
       "      <td>ch_0</td>\n",
       "      <td>resumindo consegue fazer nada bloqueei meu car...</td>\n",
       "      <td>48</td>\n",
       "      <td>[resumindo, consegue, fazer, nada, bloqueei, m...</td>\n",
       "      <td>[resumindo, consegu, fazer, nada, bloqueei, me...</td>\n",
       "    </tr>\n",
       "    <tr>\n",
       "      <th>975</th>\n",
       "      <td>3f363ffb-ce63-439c-a3dd-0458f25476b7</td>\n",
       "      <td>NaN</td>\n",
       "      <td>ch_0</td>\n",
       "      <td>ah t obrigado hum faz assim pode conta poupana...</td>\n",
       "      <td>18</td>\n",
       "      <td>[ah, obrigado, hum, faz, assim, pode, conta, p...</td>\n",
       "      <td>[ah, obrigado, hum, faz, assim, pode, conta, p...</td>\n",
       "    </tr>\n",
       "    <tr>\n",
       "      <th>976</th>\n",
       "      <td>3f41cbb4-3d15-4134-8eac-97506e2cf340</td>\n",
       "      <td>NaN</td>\n",
       "      <td>ch_0</td>\n",
       "      <td>acha vou vou pra l mobi porque servio l lavour...</td>\n",
       "      <td>15</td>\n",
       "      <td>[acha, vou, vou, pra, mobi, porque, servio, la...</td>\n",
       "      <td>[acha, vou, vou, pra, mobi, porqu, servio, lav...</td>\n",
       "    </tr>\n",
       "    <tr>\n",
       "      <th>977</th>\n",
       "      <td>3f59dd32-bd7c-47ed-a8ac-59af63a43a66</td>\n",
       "      <td>5.0</td>\n",
       "      <td>ch_0</td>\n",
       "      <td>manivela isso isso mesmo quinta eh tinha foi f...</td>\n",
       "      <td>27</td>\n",
       "      <td>[manivela, isso, isso, mesmo, quinta, eh, tinh...</td>\n",
       "      <td>[manivela, isso, isso, mesmo, quinta, eh, tinh...</td>\n",
       "    </tr>\n",
       "  </tbody>\n",
       "</table>\n",
       "<p>978 rows × 7 columns</p>\n",
       "</div>"
      ],
      "text/plain": [
       "                                       id  rating speaker  \\\n",
       "0    265e5551-7fc3-40d4-b4e5-18e15b1f714b     5.0    ch_0   \n",
       "1    265f3b20-d426-4bcc-b46d-375b0e920532     5.0    ch_0   \n",
       "2    26614192-7d2d-4518-b315-c0ca74014461     5.0    ch_0   \n",
       "3    266580c7-5f96-428b-bfc9-1749a490cf35     5.0    ch_0   \n",
       "4    26670455-d46e-4a03-9e70-1560992ff04f     NaN    ch_0   \n",
       "..                                    ...     ...     ...   \n",
       "973  3f327a25-e87d-4c61-9327-9aa9f35a6ce7     4.0    ch_0   \n",
       "974  3f333e1f-67b5-48db-9112-1fd036f952c8     NaN    ch_0   \n",
       "975  3f363ffb-ce63-439c-a3dd-0458f25476b7     NaN    ch_0   \n",
       "976  3f41cbb4-3d15-4134-8eac-97506e2cf340     NaN    ch_0   \n",
       "977  3f59dd32-bd7c-47ed-a8ac-59af63a43a66     5.0    ch_0   \n",
       "\n",
       "                                               comment  minutes  \\\n",
       "0    senha ah sim u pode falar t u sim u ento t jia...       11   \n",
       "1     sim t deixa perguntar outra coisa vai nmero c...        9   \n",
       "2    diminui valor parcela okay agradecer a caso ac...       11   \n",
       "3     queria saber detalhes caso fazer lance n cont...        4   \n",
       "4    isso crdito carto n que dinheiro meu u existe ...       11   \n",
       "..                                                 ...      ...   \n",
       "973  voc telefone isso t okay nome t jia eu fico ag...       16   \n",
       "974  resumindo consegue fazer nada bloqueei meu car...       48   \n",
       "975  ah t obrigado hum faz assim pode conta poupana...       18   \n",
       "976  acha vou vou pra l mobi porque servio l lavour...       15   \n",
       "977  manivela isso isso mesmo quinta eh tinha foi f...       27   \n",
       "\n",
       "                                        tokenized_text  \\\n",
       "0    [senha, ah, sim, pode, falar, sim, ento, jia, ...   \n",
       "1    [sim, deixa, perguntar, outra, coisa, vai, nme...   \n",
       "2    [diminui, valor, parcela, okay, agradecer, cas...   \n",
       "3    [queria, saber, detalhes, caso, fazer, lance, ...   \n",
       "4    [isso, crdito, carto, que, dinheiro, meu, exis...   \n",
       "..                                                 ...   \n",
       "973  [voc, telefone, isso, okay, nome, jia, eu, fic...   \n",
       "974  [resumindo, consegue, fazer, nada, bloqueei, m...   \n",
       "975  [ah, obrigado, hum, faz, assim, pode, conta, p...   \n",
       "976  [acha, vou, vou, pra, mobi, porque, servio, la...   \n",
       "977  [manivela, isso, isso, mesmo, quinta, eh, tinh...   \n",
       "\n",
       "                                        stemmed_tokens  \n",
       "0    [senha, ah, sim, pode, falar, sim, ento, jia, ...  \n",
       "1    [sim, deixa, perguntar, outra, coisa, vai, nme...  \n",
       "2    [diminui, valor, parcela, okai, agradec, caso,...  \n",
       "3    [queria, saber, detalh, caso, fazer, lanc, con...  \n",
       "4    [isso, crdito, carto, que, dinheiro, meu, exis...  \n",
       "..                                                 ...  \n",
       "973  [voc, telefon, isso, okai, nome, jia, eu, fico...  \n",
       "974  [resumindo, consegu, fazer, nada, bloqueei, me...  \n",
       "975  [ah, obrigado, hum, faz, assim, pode, conta, p...  \n",
       "976  [acha, vou, vou, pra, mobi, porqu, servio, lav...  \n",
       "977  [manivela, isso, isso, mesmo, quinta, eh, tinh...  \n",
       "\n",
       "[978 rows x 7 columns]"
      ]
     },
     "execution_count": 219,
     "metadata": {},
     "output_type": "execute_result"
    }
   ],
   "source": [
    "sentiment_df"
   ]
  },
  {
   "cell_type": "markdown",
   "metadata": {},
   "source": [
    "**Word2Vec**"
   ]
  },
  {
   "cell_type": "code",
   "execution_count": 212,
   "metadata": {},
   "outputs": [],
   "source": [
    "from gensim.models import Word2Vec\n",
    "import time"
   ]
  },
  {
   "cell_type": "code",
   "execution_count": 213,
   "metadata": {},
   "outputs": [],
   "source": [
    "size = 100\n",
    "window = 4\n",
    "min_count = 1\n",
    "sg = 0"
   ]
  },
  {
   "cell_type": "code",
   "execution_count": 220,
   "metadata": {},
   "outputs": [],
   "source": [
    "OUTPUT_PATH = 'output/'"
   ]
  },
  {
   "cell_type": "code",
   "execution_count": 274,
   "metadata": {},
   "outputs": [
    {
     "name": "stdout",
     "output_type": "stream",
     "text": [
      "Time taken to train word2vec model: 0.12911677360534668\n"
     ]
    }
   ],
   "source": [
    "word2vec_model_file = OUTPUT_PATH + 'word2vec_' + str(size) + '.model'\n",
    "start_time = time.time()\n",
    "tokenized = pd.Series(sentiment_df['tokenized_text']).values\n",
    "# Train the Word2Vec Model\n",
    "w2v_model = Word2Vec(tokenized , min_count = min_count,  window = window, sg = sg)\n",
    "print(\"Time taken to train word2vec model: \" + str(time.time() - start_time))\n",
    "w2v_model.save('word2vec_.model')"
   ]
  },
  {
   "cell_type": "markdown",
   "metadata": {},
   "source": [
    "Generating a csv file encoded with Word2Vec"
   ]
  },
  {
   "cell_type": "code",
   "execution_count": 253,
   "metadata": {},
   "outputs": [
    {
     "data": {
      "text/html": [
       "<div>\n",
       "<style scoped>\n",
       "    .dataframe tbody tr th:only-of-type {\n",
       "        vertical-align: middle;\n",
       "    }\n",
       "\n",
       "    .dataframe tbody tr th {\n",
       "        vertical-align: top;\n",
       "    }\n",
       "\n",
       "    .dataframe thead th {\n",
       "        text-align: right;\n",
       "    }\n",
       "</style>\n",
       "<table border=\"1\" class=\"dataframe\">\n",
       "  <thead>\n",
       "    <tr style=\"text-align: right;\">\n",
       "      <th></th>\n",
       "      <th>id</th>\n",
       "      <th>rating</th>\n",
       "      <th>speaker</th>\n",
       "      <th>comment</th>\n",
       "      <th>minutes</th>\n",
       "      <th>tokenized_text</th>\n",
       "      <th>stemmed_tokens</th>\n",
       "    </tr>\n",
       "  </thead>\n",
       "  <tbody>\n",
       "    <tr>\n",
       "      <th>0</th>\n",
       "      <td>265e5551-7fc3-40d4-b4e5-18e15b1f714b</td>\n",
       "      <td>5.0</td>\n",
       "      <td>ch_0</td>\n",
       "      <td>senha ah sim u pode falar t u sim u ento t jia...</td>\n",
       "      <td>11</td>\n",
       "      <td>[senha, ah, sim, pode, falar, sim, ento, jia, ...</td>\n",
       "      <td>[senha, ah, sim, pode, falar, sim, ento, jia, ...</td>\n",
       "    </tr>\n",
       "    <tr>\n",
       "      <th>1</th>\n",
       "      <td>265f3b20-d426-4bcc-b46d-375b0e920532</td>\n",
       "      <td>5.0</td>\n",
       "      <td>ch_0</td>\n",
       "      <td>sim t deixa perguntar outra coisa vai nmero c...</td>\n",
       "      <td>9</td>\n",
       "      <td>[sim, deixa, perguntar, outra, coisa, vai, nme...</td>\n",
       "      <td>[sim, deixa, perguntar, outra, coisa, vai, nme...</td>\n",
       "    </tr>\n",
       "    <tr>\n",
       "      <th>2</th>\n",
       "      <td>26614192-7d2d-4518-b315-c0ca74014461</td>\n",
       "      <td>5.0</td>\n",
       "      <td>ch_0</td>\n",
       "      <td>diminui valor parcela okay agradecer a caso ac...</td>\n",
       "      <td>11</td>\n",
       "      <td>[diminui, valor, parcela, okay, agradecer, cas...</td>\n",
       "      <td>[diminui, valor, parcela, okai, agradec, caso,...</td>\n",
       "    </tr>\n",
       "    <tr>\n",
       "      <th>3</th>\n",
       "      <td>266580c7-5f96-428b-bfc9-1749a490cf35</td>\n",
       "      <td>5.0</td>\n",
       "      <td>ch_0</td>\n",
       "      <td>queria saber detalhes caso fazer lance n cont...</td>\n",
       "      <td>4</td>\n",
       "      <td>[queria, saber, detalhes, caso, fazer, lance, ...</td>\n",
       "      <td>[queria, saber, detalh, caso, fazer, lanc, con...</td>\n",
       "    </tr>\n",
       "    <tr>\n",
       "      <th>5</th>\n",
       "      <td>26711b60-a685-4abc-a7ff-aad89cba5bbe</td>\n",
       "      <td>5.0</td>\n",
       "      <td>ch_0</td>\n",
       "      <td>alberto boa noite t contrato emprstimo pra ass...</td>\n",
       "      <td>5</td>\n",
       "      <td>[alberto, boa, noite, contrato, emprstimo, pra...</td>\n",
       "      <td>[alberto, boa, noit, contrato, emprstimo, pra,...</td>\n",
       "    </tr>\n",
       "    <tr>\n",
       "      <th>...</th>\n",
       "      <td>...</td>\n",
       "      <td>...</td>\n",
       "      <td>...</td>\n",
       "      <td>...</td>\n",
       "      <td>...</td>\n",
       "      <td>...</td>\n",
       "      <td>...</td>\n",
       "    </tr>\n",
       "    <tr>\n",
       "      <th>959</th>\n",
       "      <td>3ef88282-ac03-4e3a-8387-ad953d3273ea</td>\n",
       "      <td>5.0</td>\n",
       "      <td>ch_0</td>\n",
       "      <td>silva cordeiro alexandre silva poder anos nmer...</td>\n",
       "      <td>4</td>\n",
       "      <td>[silva, cordeiro, alexandre, silva, poder, ano...</td>\n",
       "      <td>[silva, cordeiro, alexandr, silva, poder, ano,...</td>\n",
       "    </tr>\n",
       "    <tr>\n",
       "      <th>964</th>\n",
       "      <td>3f05cae7-0ea9-4815-9fe2-c7e606ed98ae</td>\n",
       "      <td>5.0</td>\n",
       "      <td>ch_0</td>\n",
       "      <td>reais ah coop ontem perodo manh horas acho ex...</td>\n",
       "      <td>8</td>\n",
       "      <td>[reais, ah, coop, ontem, perodo, manh, horas, ...</td>\n",
       "      <td>[reai, ah, coop, ontem, perodo, manh, hora, ac...</td>\n",
       "    </tr>\n",
       "    <tr>\n",
       "      <th>966</th>\n",
       "      <td>3f086356-5308-42b7-a3f7-cdc327e92ca6</td>\n",
       "      <td>5.0</td>\n",
       "      <td>ch_0</td>\n",
       "      <td>sim boa tarde fala t certo amigo eu fiz agenda...</td>\n",
       "      <td>3</td>\n",
       "      <td>[sim, boa, tarde, fala, certo, amigo, eu, fiz,...</td>\n",
       "      <td>[sim, boa, tard, fala, certo, amigo, eu, fiz, ...</td>\n",
       "    </tr>\n",
       "    <tr>\n",
       "      <th>973</th>\n",
       "      <td>3f327a25-e87d-4c61-9327-9aa9f35a6ce7</td>\n",
       "      <td>4.0</td>\n",
       "      <td>ch_0</td>\n",
       "      <td>voc telefone isso t okay nome t jia eu fico ag...</td>\n",
       "      <td>16</td>\n",
       "      <td>[voc, telefone, isso, okay, nome, jia, eu, fic...</td>\n",
       "      <td>[voc, telefon, isso, okai, nome, jia, eu, fico...</td>\n",
       "    </tr>\n",
       "    <tr>\n",
       "      <th>977</th>\n",
       "      <td>3f59dd32-bd7c-47ed-a8ac-59af63a43a66</td>\n",
       "      <td>5.0</td>\n",
       "      <td>ch_0</td>\n",
       "      <td>manivela isso isso mesmo quinta eh tinha foi f...</td>\n",
       "      <td>27</td>\n",
       "      <td>[manivela, isso, isso, mesmo, quinta, eh, tinh...</td>\n",
       "      <td>[manivela, isso, isso, mesmo, quinta, eh, tinh...</td>\n",
       "    </tr>\n",
       "  </tbody>\n",
       "</table>\n",
       "<p>305 rows × 7 columns</p>\n",
       "</div>"
      ],
      "text/plain": [
       "                                       id  rating speaker  \\\n",
       "0    265e5551-7fc3-40d4-b4e5-18e15b1f714b     5.0    ch_0   \n",
       "1    265f3b20-d426-4bcc-b46d-375b0e920532     5.0    ch_0   \n",
       "2    26614192-7d2d-4518-b315-c0ca74014461     5.0    ch_0   \n",
       "3    266580c7-5f96-428b-bfc9-1749a490cf35     5.0    ch_0   \n",
       "5    26711b60-a685-4abc-a7ff-aad89cba5bbe     5.0    ch_0   \n",
       "..                                    ...     ...     ...   \n",
       "959  3ef88282-ac03-4e3a-8387-ad953d3273ea     5.0    ch_0   \n",
       "964  3f05cae7-0ea9-4815-9fe2-c7e606ed98ae     5.0    ch_0   \n",
       "966  3f086356-5308-42b7-a3f7-cdc327e92ca6     5.0    ch_0   \n",
       "973  3f327a25-e87d-4c61-9327-9aa9f35a6ce7     4.0    ch_0   \n",
       "977  3f59dd32-bd7c-47ed-a8ac-59af63a43a66     5.0    ch_0   \n",
       "\n",
       "                                               comment  minutes  \\\n",
       "0    senha ah sim u pode falar t u sim u ento t jia...       11   \n",
       "1     sim t deixa perguntar outra coisa vai nmero c...        9   \n",
       "2    diminui valor parcela okay agradecer a caso ac...       11   \n",
       "3     queria saber detalhes caso fazer lance n cont...        4   \n",
       "5    alberto boa noite t contrato emprstimo pra ass...        5   \n",
       "..                                                 ...      ...   \n",
       "959  silva cordeiro alexandre silva poder anos nmer...        4   \n",
       "964   reais ah coop ontem perodo manh horas acho ex...        8   \n",
       "966  sim boa tarde fala t certo amigo eu fiz agenda...        3   \n",
       "973  voc telefone isso t okay nome t jia eu fico ag...       16   \n",
       "977  manivela isso isso mesmo quinta eh tinha foi f...       27   \n",
       "\n",
       "                                        tokenized_text  \\\n",
       "0    [senha, ah, sim, pode, falar, sim, ento, jia, ...   \n",
       "1    [sim, deixa, perguntar, outra, coisa, vai, nme...   \n",
       "2    [diminui, valor, parcela, okay, agradecer, cas...   \n",
       "3    [queria, saber, detalhes, caso, fazer, lance, ...   \n",
       "5    [alberto, boa, noite, contrato, emprstimo, pra...   \n",
       "..                                                 ...   \n",
       "959  [silva, cordeiro, alexandre, silva, poder, ano...   \n",
       "964  [reais, ah, coop, ontem, perodo, manh, horas, ...   \n",
       "966  [sim, boa, tarde, fala, certo, amigo, eu, fiz,...   \n",
       "973  [voc, telefone, isso, okay, nome, jia, eu, fic...   \n",
       "977  [manivela, isso, isso, mesmo, quinta, eh, tinh...   \n",
       "\n",
       "                                        stemmed_tokens  \n",
       "0    [senha, ah, sim, pode, falar, sim, ento, jia, ...  \n",
       "1    [sim, deixa, perguntar, outra, coisa, vai, nme...  \n",
       "2    [diminui, valor, parcela, okai, agradec, caso,...  \n",
       "3    [queria, saber, detalh, caso, fazer, lanc, con...  \n",
       "5    [alberto, boa, noit, contrato, emprstimo, pra,...  \n",
       "..                                                 ...  \n",
       "959  [silva, cordeiro, alexandr, silva, poder, ano,...  \n",
       "964  [reai, ah, coop, ontem, perodo, manh, hora, ac...  \n",
       "966  [sim, boa, tard, fala, certo, amigo, eu, fiz, ...  \n",
       "973  [voc, telefon, isso, okai, nome, jia, eu, fico...  \n",
       "977  [manivela, isso, isso, mesmo, quinta, eh, tinh...  \n",
       "\n",
       "[305 rows x 7 columns]"
      ]
     },
     "execution_count": 253,
     "metadata": {},
     "output_type": "execute_result"
    }
   ],
   "source": [
    "train_df"
   ]
  },
  {
   "cell_type": "code",
   "execution_count": 260,
   "metadata": {},
   "outputs": [],
   "source": [
    "from sklearn.model_selection import train_test_split"
   ]
  },
  {
   "cell_type": "code",
   "execution_count": 262,
   "metadata": {},
   "outputs": [],
   "source": [
    "train_df = sentiment_df[~sentiment_df.rating.isna()]\n",
    "X = train_df.iloc[ :, 4:6]\n",
    "y = train_df.rating.values\n",
    "X_train, X_test, y_train, y_test = train_test_split(X, y, test_size=0.1, random_state=42 )\n",
    "validation_df = sentiment_df[sentiment_df.rating.isna()]"
   ]
  },
  {
   "cell_type": "code",
   "execution_count": 267,
   "metadata": {},
   "outputs": [
    {
     "data": {
      "text/plain": [
       "array([5., 5., 5., 5., 5., 1., 5., 5., 5., 5., 5., 4., 5., 5., 5., 4., 5.,\n",
       "       5., 5., 5., 5., 1., 5., 5., 5., 5., 5., 5., 4., 5., 5., 4., 5., 5.,\n",
       "       5., 5., 4., 5., 5., 1., 4., 3., 5., 5., 5., 1., 1., 5., 5., 5., 5.,\n",
       "       5., 5., 5., 5., 5., 5., 5., 5., 5., 5., 2., 5., 4., 5., 5., 2., 5.,\n",
       "       5., 5., 5., 5., 5., 5., 5., 5., 5., 5., 4., 5., 5., 5., 5., 5., 5.,\n",
       "       5., 5., 5., 5., 5., 5., 5., 4., 5., 5., 5., 5., 5., 5., 5., 5., 5.,\n",
       "       5., 5., 1., 5., 5., 5., 5., 5., 5., 5., 5., 5., 5., 5., 5., 5., 4.,\n",
       "       5., 5., 5., 5., 3., 5., 5., 3., 5., 5., 5., 5., 5., 5., 5., 5., 5.,\n",
       "       5., 4., 5., 5., 5., 5., 5., 5., 4., 5., 5., 5., 5., 5., 5., 5., 5.,\n",
       "       5., 5., 5., 1., 5., 5., 5., 5., 5., 5., 5., 4., 5., 5., 5., 5., 5.,\n",
       "       5., 5., 5., 5., 1., 5., 5., 5., 5., 5., 5., 5., 5., 5., 5., 5., 5.,\n",
       "       5., 4., 5., 5., 5., 5., 5., 1., 5., 5., 5., 5., 5., 5., 5., 5., 5.,\n",
       "       5., 5., 5., 5., 5., 5., 5., 5., 5., 5., 5., 5., 5., 5., 5., 5., 5.,\n",
       "       5., 5., 5., 5., 5., 5., 5., 5., 5., 5., 5., 5., 5., 5., 5., 5., 5.,\n",
       "       5., 5., 4., 5., 5., 5., 5., 5., 5., 5., 4., 5., 5., 5., 5., 4., 5.,\n",
       "       5., 5., 5., 5., 5., 5., 5., 5., 5., 5., 5., 5., 5., 5., 4., 5., 5.,\n",
       "       5., 5.])"
      ]
     },
     "execution_count": 267,
     "metadata": {},
     "output_type": "execute_result"
    }
   ],
   "source": [
    "y_train"
   ]
  },
  {
   "cell_type": "code",
   "execution_count": 270,
   "metadata": {},
   "outputs": [
    {
     "data": {
      "text/plain": [
       "'train_review_word2vec.csv'"
      ]
     },
     "execution_count": 270,
     "metadata": {},
     "output_type": "execute_result"
    }
   ],
   "source": [
    "word2vec_filename = 'train_review_word2vec.csv'\n",
    "word2vec_filename"
   ]
  },
  {
   "cell_type": "code",
   "execution_count": 277,
   "metadata": {},
   "outputs": [
    {
     "data": {
      "text/plain": [
       "array([-3.78870927e-02,  4.96748000e-01, -8.13546404e-02,  1.01547882e-01,\n",
       "        1.04021456e-03, -6.48142338e-01,  2.61507690e-01,  1.07613647e+00,\n",
       "       -4.32356596e-01, -2.85059988e-01, -1.85660675e-01, -7.78895497e-01,\n",
       "       -4.30283919e-02,  2.39418089e-01,  5.11148386e-02, -3.74349952e-01,\n",
       "        3.92411679e-01, -4.37225223e-01,  3.28598656e-02, -1.00378585e+00,\n",
       "        3.33530575e-01,  2.29152024e-01,  3.61594707e-01, -2.57111102e-01,\n",
       "       -1.06957950e-01, -1.36817783e-01, -3.54277164e-01, -8.26237798e-02,\n",
       "       -5.23542106e-01,  4.82788570e-02,  5.19354284e-01, -1.33582324e-01,\n",
       "        2.37425819e-01, -6.20735407e-01, -3.02030921e-01,  4.43900198e-01,\n",
       "        2.37895936e-01, -2.90323228e-01, -3.29508483e-01, -7.62672663e-01,\n",
       "       -9.10154805e-02, -4.04000819e-01, -1.73094124e-01, -1.66086197e-01,\n",
       "        4.59817201e-01, -4.93484199e-01, -3.19152921e-01, -1.73858151e-01,\n",
       "        2.64698565e-01,  5.39133787e-01,  1.26276881e-01, -4.26939577e-01,\n",
       "       -1.22087806e-01, -4.37634028e-02, -2.54036754e-01,  1.43695354e-01,\n",
       "        4.08160031e-01, -3.83717157e-02, -4.25022125e-01,  1.28455132e-01,\n",
       "        7.09869191e-02,  1.09671295e-01,  1.43534869e-01,  4.97393459e-02,\n",
       "       -5.20420551e-01,  5.85374653e-01,  2.45022088e-01,  4.25257057e-01,\n",
       "       -6.95076466e-01,  5.37620485e-01, -2.17175722e-01,  3.03340942e-01,\n",
       "        6.13609076e-01, -1.08108267e-01,  5.62918186e-01,  1.08205691e-01,\n",
       "        4.99600321e-02,  2.04664692e-02, -4.79469031e-01, -3.44965309e-02,\n",
       "       -2.74189711e-01,  1.49894044e-01, -4.44249600e-01,  5.34506440e-01,\n",
       "       -1.08267434e-01, -1.96225882e-01,  5.00653386e-02,  3.65694821e-01,\n",
       "        5.64223349e-01,  2.68138707e-01,  7.01999366e-01,  3.21041197e-01,\n",
       "       -1.69774089e-02, -4.03263271e-02,  6.64750695e-01,  4.18946475e-01,\n",
       "        2.68471658e-01, -4.21232522e-01,  1.30255833e-01, -1.33314863e-01],\n",
       "      dtype=float32)"
      ]
     },
     "execution_count": 277,
     "metadata": {},
     "output_type": "execute_result"
    }
   ],
   "source": [
    "w2v_model.wv[0]"
   ]
  },
  {
   "cell_type": "code",
   "execution_count": 276,
   "metadata": {},
   "outputs": [],
   "source": [
    "with open(word2vec_filename, 'w+') as word2vec_file:\n",
    "    for index, row in X_train.iterrows():\n",
    "        model_vector = (np.mean([w2v_model.wv[token] for token in row['tokenized_text']], axis=0)).tolist()\n",
    "        if index == 0:\n",
    "            header = \",\".join(str(ele) for ele in range(1000))\n",
    "            word2vec_file.write(header)\n",
    "            word2vec_file.write(\"\\n\")\n",
    "        # Check if the line exists else it is vector of zeros\n",
    "        if type(model_vector) is list:  \n",
    "            line1 = \",\".join( [str(vector_element) for vector_element in model_vector] )\n",
    "        else:\n",
    "            line1 = \",\".join([str(0) for i in range(1000)])\n",
    "        word2vec_file.write(line1)\n",
    "        word2vec_file.write('\\n')"
   ]
  },
  {
   "cell_type": "markdown",
   "metadata": {},
   "source": [
    "Training the Model"
   ]
  },
  {
   "cell_type": "code",
   "execution_count": 230,
   "metadata": {},
   "outputs": [],
   "source": [
    "from sklearn.tree import DecisionTreeClassifier"
   ]
  },
  {
   "cell_type": "code",
   "execution_count": 283,
   "metadata": {},
   "outputs": [],
   "source": [
    "word2vec_df = pd.read_csv(word2vec_filename, on_bad_lines='skip', header=None)"
   ]
  },
  {
   "cell_type": "code",
   "execution_count": 284,
   "metadata": {},
   "outputs": [
    {
     "data": {
      "text/html": [
       "<div>\n",
       "<style scoped>\n",
       "    .dataframe tbody tr th:only-of-type {\n",
       "        vertical-align: middle;\n",
       "    }\n",
       "\n",
       "    .dataframe tbody tr th {\n",
       "        vertical-align: top;\n",
       "    }\n",
       "\n",
       "    .dataframe thead th {\n",
       "        text-align: right;\n",
       "    }\n",
       "</style>\n",
       "<table border=\"1\" class=\"dataframe\">\n",
       "  <thead>\n",
       "    <tr style=\"text-align: right;\">\n",
       "      <th></th>\n",
       "      <th>0</th>\n",
       "      <th>1</th>\n",
       "      <th>2</th>\n",
       "      <th>3</th>\n",
       "      <th>4</th>\n",
       "      <th>5</th>\n",
       "      <th>6</th>\n",
       "      <th>7</th>\n",
       "      <th>8</th>\n",
       "      <th>9</th>\n",
       "      <th>...</th>\n",
       "      <th>90</th>\n",
       "      <th>91</th>\n",
       "      <th>92</th>\n",
       "      <th>93</th>\n",
       "      <th>94</th>\n",
       "      <th>95</th>\n",
       "      <th>96</th>\n",
       "      <th>97</th>\n",
       "      <th>98</th>\n",
       "      <th>99</th>\n",
       "    </tr>\n",
       "  </thead>\n",
       "  <tbody>\n",
       "    <tr>\n",
       "      <th>0</th>\n",
       "      <td>-0.022668</td>\n",
       "      <td>0.379893</td>\n",
       "      <td>-0.031711</td>\n",
       "      <td>-0.006952</td>\n",
       "      <td>0.072488</td>\n",
       "      <td>-0.517230</td>\n",
       "      <td>0.143644</td>\n",
       "      <td>0.787028</td>\n",
       "      <td>-0.309155</td>\n",
       "      <td>-0.209407</td>\n",
       "      <td>...</td>\n",
       "      <td>0.557417</td>\n",
       "      <td>0.265097</td>\n",
       "      <td>0.025805</td>\n",
       "      <td>0.033108</td>\n",
       "      <td>0.477271</td>\n",
       "      <td>0.375044</td>\n",
       "      <td>0.219378</td>\n",
       "      <td>-0.328598</td>\n",
       "      <td>0.051790</td>\n",
       "      <td>-0.116472</td>\n",
       "    </tr>\n",
       "    <tr>\n",
       "      <th>1</th>\n",
       "      <td>-0.021377</td>\n",
       "      <td>0.380650</td>\n",
       "      <td>-0.033799</td>\n",
       "      <td>0.008511</td>\n",
       "      <td>0.055713</td>\n",
       "      <td>-0.503260</td>\n",
       "      <td>0.149666</td>\n",
       "      <td>0.784577</td>\n",
       "      <td>-0.311338</td>\n",
       "      <td>-0.201504</td>\n",
       "      <td>...</td>\n",
       "      <td>0.549092</td>\n",
       "      <td>0.256837</td>\n",
       "      <td>0.014864</td>\n",
       "      <td>0.020641</td>\n",
       "      <td>0.474756</td>\n",
       "      <td>0.359317</td>\n",
       "      <td>0.216273</td>\n",
       "      <td>-0.319196</td>\n",
       "      <td>0.058398</td>\n",
       "      <td>-0.112670</td>\n",
       "    </tr>\n",
       "    <tr>\n",
       "      <th>2</th>\n",
       "      <td>-0.025666</td>\n",
       "      <td>0.427940</td>\n",
       "      <td>-0.032132</td>\n",
       "      <td>-0.013167</td>\n",
       "      <td>0.085499</td>\n",
       "      <td>-0.581332</td>\n",
       "      <td>0.157314</td>\n",
       "      <td>0.884786</td>\n",
       "      <td>-0.348743</td>\n",
       "      <td>-0.229851</td>\n",
       "      <td>...</td>\n",
       "      <td>0.630008</td>\n",
       "      <td>0.299127</td>\n",
       "      <td>0.036255</td>\n",
       "      <td>0.038755</td>\n",
       "      <td>0.537943</td>\n",
       "      <td>0.426671</td>\n",
       "      <td>0.251310</td>\n",
       "      <td>-0.369132</td>\n",
       "      <td>0.057499</td>\n",
       "      <td>-0.133255</td>\n",
       "    </tr>\n",
       "    <tr>\n",
       "      <th>3</th>\n",
       "      <td>-0.020243</td>\n",
       "      <td>0.342564</td>\n",
       "      <td>-0.022693</td>\n",
       "      <td>-0.013499</td>\n",
       "      <td>0.068834</td>\n",
       "      <td>-0.468733</td>\n",
       "      <td>0.124935</td>\n",
       "      <td>0.708177</td>\n",
       "      <td>-0.279898</td>\n",
       "      <td>-0.183758</td>\n",
       "      <td>...</td>\n",
       "      <td>0.506606</td>\n",
       "      <td>0.241593</td>\n",
       "      <td>0.029281</td>\n",
       "      <td>0.034338</td>\n",
       "      <td>0.427689</td>\n",
       "      <td>0.344646</td>\n",
       "      <td>0.202213</td>\n",
       "      <td>-0.296523</td>\n",
       "      <td>0.042707</td>\n",
       "      <td>-0.105278</td>\n",
       "    </tr>\n",
       "    <tr>\n",
       "      <th>4</th>\n",
       "      <td>-0.020957</td>\n",
       "      <td>0.382200</td>\n",
       "      <td>-0.035113</td>\n",
       "      <td>-0.000457</td>\n",
       "      <td>0.066698</td>\n",
       "      <td>-0.515257</td>\n",
       "      <td>0.150408</td>\n",
       "      <td>0.793494</td>\n",
       "      <td>-0.311884</td>\n",
       "      <td>-0.209114</td>\n",
       "      <td>...</td>\n",
       "      <td>0.559571</td>\n",
       "      <td>0.264481</td>\n",
       "      <td>0.025745</td>\n",
       "      <td>0.028276</td>\n",
       "      <td>0.483129</td>\n",
       "      <td>0.370630</td>\n",
       "      <td>0.223074</td>\n",
       "      <td>-0.327294</td>\n",
       "      <td>0.056749</td>\n",
       "      <td>-0.117382</td>\n",
       "    </tr>\n",
       "    <tr>\n",
       "      <th>...</th>\n",
       "      <td>...</td>\n",
       "      <td>...</td>\n",
       "      <td>...</td>\n",
       "      <td>...</td>\n",
       "      <td>...</td>\n",
       "      <td>...</td>\n",
       "      <td>...</td>\n",
       "      <td>...</td>\n",
       "      <td>...</td>\n",
       "      <td>...</td>\n",
       "      <td>...</td>\n",
       "      <td>...</td>\n",
       "      <td>...</td>\n",
       "      <td>...</td>\n",
       "      <td>...</td>\n",
       "      <td>...</td>\n",
       "      <td>...</td>\n",
       "      <td>...</td>\n",
       "      <td>...</td>\n",
       "      <td>...</td>\n",
       "      <td>...</td>\n",
       "    </tr>\n",
       "    <tr>\n",
       "      <th>269</th>\n",
       "      <td>-0.026707</td>\n",
       "      <td>0.391533</td>\n",
       "      <td>-0.045328</td>\n",
       "      <td>0.022643</td>\n",
       "      <td>0.050601</td>\n",
       "      <td>-0.517923</td>\n",
       "      <td>0.166535</td>\n",
       "      <td>0.817188</td>\n",
       "      <td>-0.326894</td>\n",
       "      <td>-0.212863</td>\n",
       "      <td>...</td>\n",
       "      <td>0.562385</td>\n",
       "      <td>0.263687</td>\n",
       "      <td>0.011358</td>\n",
       "      <td>0.013695</td>\n",
       "      <td>0.498673</td>\n",
       "      <td>0.360576</td>\n",
       "      <td>0.224447</td>\n",
       "      <td>-0.332419</td>\n",
       "      <td>0.071803</td>\n",
       "      <td>-0.117439</td>\n",
       "    </tr>\n",
       "    <tr>\n",
       "      <th>270</th>\n",
       "      <td>-0.037770</td>\n",
       "      <td>0.480366</td>\n",
       "      <td>-0.053947</td>\n",
       "      <td>0.030446</td>\n",
       "      <td>0.049678</td>\n",
       "      <td>-0.634990</td>\n",
       "      <td>0.214275</td>\n",
       "      <td>1.013306</td>\n",
       "      <td>-0.401252</td>\n",
       "      <td>-0.266920</td>\n",
       "      <td>...</td>\n",
       "      <td>0.700058</td>\n",
       "      <td>0.323449</td>\n",
       "      <td>0.007685</td>\n",
       "      <td>-0.004232</td>\n",
       "      <td>0.615384</td>\n",
       "      <td>0.436244</td>\n",
       "      <td>0.277103</td>\n",
       "      <td>-0.401826</td>\n",
       "      <td>0.090456</td>\n",
       "      <td>-0.137816</td>\n",
       "    </tr>\n",
       "    <tr>\n",
       "      <th>271</th>\n",
       "      <td>-0.018615</td>\n",
       "      <td>0.330613</td>\n",
       "      <td>-0.044735</td>\n",
       "      <td>0.022263</td>\n",
       "      <td>0.035718</td>\n",
       "      <td>-0.436994</td>\n",
       "      <td>0.143944</td>\n",
       "      <td>0.691336</td>\n",
       "      <td>-0.272764</td>\n",
       "      <td>-0.180742</td>\n",
       "      <td>...</td>\n",
       "      <td>0.472789</td>\n",
       "      <td>0.221626</td>\n",
       "      <td>0.005405</td>\n",
       "      <td>0.005838</td>\n",
       "      <td>0.422020</td>\n",
       "      <td>0.293563</td>\n",
       "      <td>0.187363</td>\n",
       "      <td>-0.278285</td>\n",
       "      <td>0.063978</td>\n",
       "      <td>-0.098943</td>\n",
       "    </tr>\n",
       "    <tr>\n",
       "      <th>272</th>\n",
       "      <td>-0.020560</td>\n",
       "      <td>0.341047</td>\n",
       "      <td>-0.027641</td>\n",
       "      <td>-0.001196</td>\n",
       "      <td>0.063196</td>\n",
       "      <td>-0.459479</td>\n",
       "      <td>0.131961</td>\n",
       "      <td>0.708284</td>\n",
       "      <td>-0.280174</td>\n",
       "      <td>-0.182770</td>\n",
       "      <td>...</td>\n",
       "      <td>0.495838</td>\n",
       "      <td>0.237179</td>\n",
       "      <td>0.021869</td>\n",
       "      <td>0.028977</td>\n",
       "      <td>0.430584</td>\n",
       "      <td>0.332849</td>\n",
       "      <td>0.197147</td>\n",
       "      <td>-0.292868</td>\n",
       "      <td>0.050119</td>\n",
       "      <td>-0.103762</td>\n",
       "    </tr>\n",
       "    <tr>\n",
       "      <th>273</th>\n",
       "      <td>-0.024878</td>\n",
       "      <td>0.386402</td>\n",
       "      <td>-0.030699</td>\n",
       "      <td>0.001111</td>\n",
       "      <td>0.067076</td>\n",
       "      <td>-0.519368</td>\n",
       "      <td>0.148613</td>\n",
       "      <td>0.797791</td>\n",
       "      <td>-0.317093</td>\n",
       "      <td>-0.207723</td>\n",
       "      <td>...</td>\n",
       "      <td>0.562531</td>\n",
       "      <td>0.269641</td>\n",
       "      <td>0.025674</td>\n",
       "      <td>0.027272</td>\n",
       "      <td>0.485213</td>\n",
       "      <td>0.377419</td>\n",
       "      <td>0.223126</td>\n",
       "      <td>-0.327305</td>\n",
       "      <td>0.054895</td>\n",
       "      <td>-0.117139</td>\n",
       "    </tr>\n",
       "  </tbody>\n",
       "</table>\n",
       "<p>274 rows × 100 columns</p>\n",
       "</div>"
      ],
      "text/plain": [
       "           0         1         2         3         4         5         6   \\\n",
       "0   -0.022668  0.379893 -0.031711 -0.006952  0.072488 -0.517230  0.143644   \n",
       "1   -0.021377  0.380650 -0.033799  0.008511  0.055713 -0.503260  0.149666   \n",
       "2   -0.025666  0.427940 -0.032132 -0.013167  0.085499 -0.581332  0.157314   \n",
       "3   -0.020243  0.342564 -0.022693 -0.013499  0.068834 -0.468733  0.124935   \n",
       "4   -0.020957  0.382200 -0.035113 -0.000457  0.066698 -0.515257  0.150408   \n",
       "..        ...       ...       ...       ...       ...       ...       ...   \n",
       "269 -0.026707  0.391533 -0.045328  0.022643  0.050601 -0.517923  0.166535   \n",
       "270 -0.037770  0.480366 -0.053947  0.030446  0.049678 -0.634990  0.214275   \n",
       "271 -0.018615  0.330613 -0.044735  0.022263  0.035718 -0.436994  0.143944   \n",
       "272 -0.020560  0.341047 -0.027641 -0.001196  0.063196 -0.459479  0.131961   \n",
       "273 -0.024878  0.386402 -0.030699  0.001111  0.067076 -0.519368  0.148613   \n",
       "\n",
       "           7         8         9   ...        90        91        92  \\\n",
       "0    0.787028 -0.309155 -0.209407  ...  0.557417  0.265097  0.025805   \n",
       "1    0.784577 -0.311338 -0.201504  ...  0.549092  0.256837  0.014864   \n",
       "2    0.884786 -0.348743 -0.229851  ...  0.630008  0.299127  0.036255   \n",
       "3    0.708177 -0.279898 -0.183758  ...  0.506606  0.241593  0.029281   \n",
       "4    0.793494 -0.311884 -0.209114  ...  0.559571  0.264481  0.025745   \n",
       "..        ...       ...       ...  ...       ...       ...       ...   \n",
       "269  0.817188 -0.326894 -0.212863  ...  0.562385  0.263687  0.011358   \n",
       "270  1.013306 -0.401252 -0.266920  ...  0.700058  0.323449  0.007685   \n",
       "271  0.691336 -0.272764 -0.180742  ...  0.472789  0.221626  0.005405   \n",
       "272  0.708284 -0.280174 -0.182770  ...  0.495838  0.237179  0.021869   \n",
       "273  0.797791 -0.317093 -0.207723  ...  0.562531  0.269641  0.025674   \n",
       "\n",
       "           93        94        95        96        97        98        99  \n",
       "0    0.033108  0.477271  0.375044  0.219378 -0.328598  0.051790 -0.116472  \n",
       "1    0.020641  0.474756  0.359317  0.216273 -0.319196  0.058398 -0.112670  \n",
       "2    0.038755  0.537943  0.426671  0.251310 -0.369132  0.057499 -0.133255  \n",
       "3    0.034338  0.427689  0.344646  0.202213 -0.296523  0.042707 -0.105278  \n",
       "4    0.028276  0.483129  0.370630  0.223074 -0.327294  0.056749 -0.117382  \n",
       "..        ...       ...       ...       ...       ...       ...       ...  \n",
       "269  0.013695  0.498673  0.360576  0.224447 -0.332419  0.071803 -0.117439  \n",
       "270 -0.004232  0.615384  0.436244  0.277103 -0.401826  0.090456 -0.137816  \n",
       "271  0.005838  0.422020  0.293563  0.187363 -0.278285  0.063978 -0.098943  \n",
       "272  0.028977  0.430584  0.332849  0.197147 -0.292868  0.050119 -0.103762  \n",
       "273  0.027272  0.485213  0.377419  0.223126 -0.327305  0.054895 -0.117139  \n",
       "\n",
       "[274 rows x 100 columns]"
      ]
     },
     "execution_count": 284,
     "metadata": {},
     "output_type": "execute_result"
    }
   ],
   "source": [
    "word2vec_df"
   ]
  },
  {
   "cell_type": "code",
   "execution_count": 285,
   "metadata": {},
   "outputs": [],
   "source": [
    "dsc_word2vec = DecisionTreeClassifier()"
   ]
  },
  {
   "cell_type": "code",
   "execution_count": 287,
   "metadata": {},
   "outputs": [
    {
     "data": {
      "text/plain": [
       "array([5., 5., 5., 5., 5., 1., 5., 5., 5., 5., 5., 4., 5., 5., 5., 4., 5.,\n",
       "       5., 5., 5., 5., 1., 5., 5., 5., 5., 5., 5., 4., 5., 5., 4., 5., 5.,\n",
       "       5., 5., 4., 5., 5., 1., 4., 3., 5., 5., 5., 1., 1., 5., 5., 5., 5.,\n",
       "       5., 5., 5., 5., 5., 5., 5., 5., 5., 5., 2., 5., 4., 5., 5., 2., 5.,\n",
       "       5., 5., 5., 5., 5., 5., 5., 5., 5., 5., 4., 5., 5., 5., 5., 5., 5.,\n",
       "       5., 5., 5., 5., 5., 5., 5., 4., 5., 5., 5., 5., 5., 5., 5., 5., 5.,\n",
       "       5., 5., 1., 5., 5., 5., 5., 5., 5., 5., 5., 5., 5., 5., 5., 5., 4.,\n",
       "       5., 5., 5., 5., 3., 5., 5., 3., 5., 5., 5., 5., 5., 5., 5., 5., 5.,\n",
       "       5., 4., 5., 5., 5., 5., 5., 5., 4., 5., 5., 5., 5., 5., 5., 5., 5.,\n",
       "       5., 5., 5., 1., 5., 5., 5., 5., 5., 5., 5., 4., 5., 5., 5., 5., 5.,\n",
       "       5., 5., 5., 5., 1., 5., 5., 5., 5., 5., 5., 5., 5., 5., 5., 5., 5.,\n",
       "       5., 4., 5., 5., 5., 5., 5., 1., 5., 5., 5., 5., 5., 5., 5., 5., 5.,\n",
       "       5., 5., 5., 5., 5., 5., 5., 5., 5., 5., 5., 5., 5., 5., 5., 5., 5.,\n",
       "       5., 5., 5., 5., 5., 5., 5., 5., 5., 5., 5., 5., 5., 5., 5., 5., 5.,\n",
       "       5., 5., 4., 5., 5., 5., 5., 5., 5., 5., 4., 5., 5., 5., 5., 4., 5.,\n",
       "       5., 5., 5., 5., 5., 5., 5., 5., 5., 5., 5., 5., 5., 5., 4., 5., 5.,\n",
       "       5., 5.])"
      ]
     },
     "execution_count": 287,
     "metadata": {},
     "output_type": "execute_result"
    }
   ],
   "source": [
    "y_train"
   ]
  },
  {
   "cell_type": "code",
   "execution_count": 288,
   "metadata": {},
   "outputs": [
    {
     "data": {
      "text/html": [
       "<style>#sk-container-id-1 {color: black;background-color: white;}#sk-container-id-1 pre{padding: 0;}#sk-container-id-1 div.sk-toggleable {background-color: white;}#sk-container-id-1 label.sk-toggleable__label {cursor: pointer;display: block;width: 100%;margin-bottom: 0;padding: 0.3em;box-sizing: border-box;text-align: center;}#sk-container-id-1 label.sk-toggleable__label-arrow:before {content: \"▸\";float: left;margin-right: 0.25em;color: #696969;}#sk-container-id-1 label.sk-toggleable__label-arrow:hover:before {color: black;}#sk-container-id-1 div.sk-estimator:hover label.sk-toggleable__label-arrow:before {color: black;}#sk-container-id-1 div.sk-toggleable__content {max-height: 0;max-width: 0;overflow: hidden;text-align: left;background-color: #f0f8ff;}#sk-container-id-1 div.sk-toggleable__content pre {margin: 0.2em;color: black;border-radius: 0.25em;background-color: #f0f8ff;}#sk-container-id-1 input.sk-toggleable__control:checked~div.sk-toggleable__content {max-height: 200px;max-width: 100%;overflow: auto;}#sk-container-id-1 input.sk-toggleable__control:checked~label.sk-toggleable__label-arrow:before {content: \"▾\";}#sk-container-id-1 div.sk-estimator input.sk-toggleable__control:checked~label.sk-toggleable__label {background-color: #d4ebff;}#sk-container-id-1 div.sk-label input.sk-toggleable__control:checked~label.sk-toggleable__label {background-color: #d4ebff;}#sk-container-id-1 input.sk-hidden--visually {border: 0;clip: rect(1px 1px 1px 1px);clip: rect(1px, 1px, 1px, 1px);height: 1px;margin: -1px;overflow: hidden;padding: 0;position: absolute;width: 1px;}#sk-container-id-1 div.sk-estimator {font-family: monospace;background-color: #f0f8ff;border: 1px dotted black;border-radius: 0.25em;box-sizing: border-box;margin-bottom: 0.5em;}#sk-container-id-1 div.sk-estimator:hover {background-color: #d4ebff;}#sk-container-id-1 div.sk-parallel-item::after {content: \"\";width: 100%;border-bottom: 1px solid gray;flex-grow: 1;}#sk-container-id-1 div.sk-label:hover label.sk-toggleable__label {background-color: #d4ebff;}#sk-container-id-1 div.sk-serial::before {content: \"\";position: absolute;border-left: 1px solid gray;box-sizing: border-box;top: 0;bottom: 0;left: 50%;z-index: 0;}#sk-container-id-1 div.sk-serial {display: flex;flex-direction: column;align-items: center;background-color: white;padding-right: 0.2em;padding-left: 0.2em;position: relative;}#sk-container-id-1 div.sk-item {position: relative;z-index: 1;}#sk-container-id-1 div.sk-parallel {display: flex;align-items: stretch;justify-content: center;background-color: white;position: relative;}#sk-container-id-1 div.sk-item::before, #sk-container-id-1 div.sk-parallel-item::before {content: \"\";position: absolute;border-left: 1px solid gray;box-sizing: border-box;top: 0;bottom: 0;left: 50%;z-index: -1;}#sk-container-id-1 div.sk-parallel-item {display: flex;flex-direction: column;z-index: 1;position: relative;background-color: white;}#sk-container-id-1 div.sk-parallel-item:first-child::after {align-self: flex-end;width: 50%;}#sk-container-id-1 div.sk-parallel-item:last-child::after {align-self: flex-start;width: 50%;}#sk-container-id-1 div.sk-parallel-item:only-child::after {width: 0;}#sk-container-id-1 div.sk-dashed-wrapped {border: 1px dashed gray;margin: 0 0.4em 0.5em 0.4em;box-sizing: border-box;padding-bottom: 0.4em;background-color: white;}#sk-container-id-1 div.sk-label label {font-family: monospace;font-weight: bold;display: inline-block;line-height: 1.2em;}#sk-container-id-1 div.sk-label-container {text-align: center;}#sk-container-id-1 div.sk-container {/* jupyter's `normalize.less` sets `[hidden] { display: none; }` but bootstrap.min.css set `[hidden] { display: none !important; }` so we also need the `!important` here to be able to override the default hidden behavior on the sphinx rendered scikit-learn.org. See: https://github.com/scikit-learn/scikit-learn/issues/21755 */display: inline-block !important;position: relative;}#sk-container-id-1 div.sk-text-repr-fallback {display: none;}</style><div id=\"sk-container-id-1\" class=\"sk-top-container\"><div class=\"sk-text-repr-fallback\"><pre>DecisionTreeClassifier()</pre><b>In a Jupyter environment, please rerun this cell to show the HTML representation or trust the notebook. <br />On GitHub, the HTML representation is unable to render, please try loading this page with nbviewer.org.</b></div><div class=\"sk-container\" hidden><div class=\"sk-item\"><div class=\"sk-estimator sk-toggleable\"><input class=\"sk-toggleable__control sk-hidden--visually\" id=\"sk-estimator-id-1\" type=\"checkbox\" checked><label for=\"sk-estimator-id-1\" class=\"sk-toggleable__label sk-toggleable__label-arrow\">DecisionTreeClassifier</label><div class=\"sk-toggleable__content\"><pre>DecisionTreeClassifier()</pre></div></div></div></div></div>"
      ],
      "text/plain": [
       "DecisionTreeClassifier()"
      ]
     },
     "execution_count": 288,
     "metadata": {},
     "output_type": "execute_result"
    }
   ],
   "source": [
    "dsc_word2vec.fit(word2vec_df, y_train )"
   ]
  },
  {
   "cell_type": "markdown",
   "metadata": {},
   "source": [
    "Separating Train and Test Data to Sentiment Analysis, our goal is to fill empty the rating column with actual ratings doing predictions"
   ]
  },
  {
   "cell_type": "code",
   "execution_count": null,
   "metadata": {},
   "outputs": [],
   "source": []
  },
  {
   "cell_type": "markdown",
   "metadata": {},
   "source": [
    "Dealing with missing data of inner_df"
   ]
  },
  {
   "cell_type": "code",
   "execution_count": 149,
   "metadata": {},
   "outputs": [
    {
     "data": {
      "text/html": [
       "<div>\n",
       "<style scoped>\n",
       "    .dataframe tbody tr th:only-of-type {\n",
       "        vertical-align: middle;\n",
       "    }\n",
       "\n",
       "    .dataframe tbody tr th {\n",
       "        vertical-align: top;\n",
       "    }\n",
       "\n",
       "    .dataframe thead th {\n",
       "        text-align: right;\n",
       "    }\n",
       "</style>\n",
       "<table border=\"1\" class=\"dataframe\">\n",
       "  <thead>\n",
       "    <tr style=\"text-align: right;\">\n",
       "      <th></th>\n",
       "      <th>id</th>\n",
       "      <th>rating</th>\n",
       "      <th>start_time</th>\n",
       "      <th>end_time</th>\n",
       "      <th>speaker</th>\n",
       "      <th>comment</th>\n",
       "    </tr>\n",
       "  </thead>\n",
       "  <tbody>\n",
       "    <tr>\n",
       "      <th>276</th>\n",
       "      <td>26670455-d46e-4a03-9e70-1560992ff04f</td>\n",
       "      <td>NaN</td>\n",
       "      <td>0:00:01</td>\n",
       "      <td>0:00:02</td>\n",
       "      <td>ch_1</td>\n",
       "      <td>Olá, eu sou a inteligência artificial do sicre...</td>\n",
       "    </tr>\n",
       "    <tr>\n",
       "      <th>277</th>\n",
       "      <td>26670455-d46e-4a03-9e70-1560992ff04f</td>\n",
       "      <td>NaN</td>\n",
       "      <td>0:00:50</td>\n",
       "      <td>0:00:51</td>\n",
       "      <td>ch_0</td>\n",
       "      <td>ele</td>\n",
       "    </tr>\n",
       "    <tr>\n",
       "      <th>278</th>\n",
       "      <td>26670455-d46e-4a03-9e70-1560992ff04f</td>\n",
       "      <td>NaN</td>\n",
       "      <td>0:01:06</td>\n",
       "      <td>0:01:07</td>\n",
       "      <td>ch_1</td>\n",
       "      <td>certo, Mas antes, preciso saber sobre o que vo...</td>\n",
       "    </tr>\n",
       "    <tr>\n",
       "      <th>279</th>\n",
       "      <td>26670455-d46e-4a03-9e70-1560992ff04f</td>\n",
       "      <td>NaN</td>\n",
       "      <td>0:01:47</td>\n",
       "      <td>0:01:48</td>\n",
       "      <td>ch_0</td>\n",
       "      <td>Eu</td>\n",
       "    </tr>\n",
       "    <tr>\n",
       "      <th>280</th>\n",
       "      <td>26670455-d46e-4a03-9e70-1560992ff04f</td>\n",
       "      <td>NaN</td>\n",
       "      <td>0:01:48</td>\n",
       "      <td>0:01:49</td>\n",
       "      <td>ch_1</td>\n",
       "      <td>tudo bem que eu posso ajudar.</td>\n",
       "    </tr>\n",
       "    <tr>\n",
       "      <th>...</th>\n",
       "      <td>...</td>\n",
       "      <td>...</td>\n",
       "      <td>...</td>\n",
       "      <td>...</td>\n",
       "      <td>...</td>\n",
       "      <td>...</td>\n",
       "    </tr>\n",
       "    <tr>\n",
       "      <th>68609</th>\n",
       "      <td>3f41cbb4-3d15-4134-8eac-97506e2cf340</td>\n",
       "      <td>NaN</td>\n",
       "      <td>0:14:54</td>\n",
       "      <td>0:14:54</td>\n",
       "      <td>ch_0</td>\n",
       "      <td>com as empresas que estavam creditando pra ess...</td>\n",
       "    </tr>\n",
       "    <tr>\n",
       "      <th>68610</th>\n",
       "      <td>3f41cbb4-3d15-4134-8eac-97506e2cf340</td>\n",
       "      <td>NaN</td>\n",
       "      <td>0:14:56</td>\n",
       "      <td>0:14:56</td>\n",
       "      <td>ch_1</td>\n",
       "      <td>##, ##, tá sim, entendi é realmente pra tratar...</td>\n",
       "    </tr>\n",
       "    <tr>\n",
       "      <th>68611</th>\n",
       "      <td>3f41cbb4-3d15-4134-8eac-97506e2cf340</td>\n",
       "      <td>NaN</td>\n",
       "      <td>0:15:12</td>\n",
       "      <td>0:15:13</td>\n",
       "      <td>ch_0</td>\n",
       "      <td>hum é ué, tá legal? Tá! Obrigada Bom dia, então,</td>\n",
       "    </tr>\n",
       "    <tr>\n",
       "      <th>68612</th>\n",
       "      <td>3f41cbb4-3d15-4134-8eac-97506e2cf340</td>\n",
       "      <td>NaN</td>\n",
       "      <td>0:15:28</td>\n",
       "      <td>0:15:28</td>\n",
       "      <td>ch_1</td>\n",
       "      <td>certo, Muito obrigado. Tenha uma ótima semana!</td>\n",
       "    </tr>\n",
       "    <tr>\n",
       "      <th>68613</th>\n",
       "      <td>3f41cbb4-3d15-4134-8eac-97506e2cf340</td>\n",
       "      <td>NaN</td>\n",
       "      <td>0:15:31</td>\n",
       "      <td>0:15:32</td>\n",
       "      <td>ch_0</td>\n",
       "      <td>ué, tem avaliação?</td>\n",
       "    </tr>\n",
       "  </tbody>\n",
       "</table>\n",
       "<p>45923 rows × 6 columns</p>\n",
       "</div>"
      ],
      "text/plain": [
       "                                         id  rating start_time end_time  \\\n",
       "276    26670455-d46e-4a03-9e70-1560992ff04f     NaN    0:00:01  0:00:02   \n",
       "277    26670455-d46e-4a03-9e70-1560992ff04f     NaN    0:00:50  0:00:51   \n",
       "278    26670455-d46e-4a03-9e70-1560992ff04f     NaN    0:01:06  0:01:07   \n",
       "279    26670455-d46e-4a03-9e70-1560992ff04f     NaN    0:01:47  0:01:48   \n",
       "280    26670455-d46e-4a03-9e70-1560992ff04f     NaN    0:01:48  0:01:49   \n",
       "...                                     ...     ...        ...      ...   \n",
       "68609  3f41cbb4-3d15-4134-8eac-97506e2cf340     NaN    0:14:54  0:14:54   \n",
       "68610  3f41cbb4-3d15-4134-8eac-97506e2cf340     NaN    0:14:56  0:14:56   \n",
       "68611  3f41cbb4-3d15-4134-8eac-97506e2cf340     NaN    0:15:12  0:15:13   \n",
       "68612  3f41cbb4-3d15-4134-8eac-97506e2cf340     NaN    0:15:28  0:15:28   \n",
       "68613  3f41cbb4-3d15-4134-8eac-97506e2cf340     NaN    0:15:31  0:15:32   \n",
       "\n",
       "      speaker                                            comment  \n",
       "276      ch_1  Olá, eu sou a inteligência artificial do sicre...  \n",
       "277      ch_0                                                ele  \n",
       "278      ch_1  certo, Mas antes, preciso saber sobre o que vo...  \n",
       "279      ch_0                                                 Eu  \n",
       "280      ch_1                      tudo bem que eu posso ajudar.  \n",
       "...       ...                                                ...  \n",
       "68609    ch_0  com as empresas que estavam creditando pra ess...  \n",
       "68610    ch_1  ##, ##, tá sim, entendi é realmente pra tratar...  \n",
       "68611    ch_0   hum é ué, tá legal? Tá! Obrigada Bom dia, então,  \n",
       "68612    ch_1     certo, Muito obrigado. Tenha uma ótima semana!  \n",
       "68613    ch_0                                 ué, tem avaliação?  \n",
       "\n",
       "[45923 rows x 6 columns]"
      ]
     },
     "execution_count": 149,
     "metadata": {},
     "output_type": "execute_result"
    }
   ],
   "source": [
    "inner_df[inner_df.rating.isna()].groupby(id).tail(5)"
   ]
  },
  {
   "cell_type": "code",
   "execution_count": 145,
   "metadata": {},
   "outputs": [
    {
     "data": {
      "text/plain": [
       "rating\n",
       "5.0       271\n",
       "4.0        19\n",
       "1.0         9\n",
       "3.0         4\n",
       "2.0         2\n",
       "dtype: int64"
      ]
     },
     "execution_count": 145,
     "metadata": {},
     "output_type": "execute_result"
    }
   ],
   "source": [
    "inner_df.groupby('id').agg({'rating':'first'}).value_counts()"
   ]
  },
  {
   "cell_type": "markdown",
   "metadata": {},
   "source": [
    "We have here more than 60k lines of textual content from 2 speakers per ID \n",
    "\n",
    "***ch_1 = bot or attendant***\n",
    "\n",
    "***ch_2 = customer***"
   ]
  },
  {
   "cell_type": "code",
   "execution_count": 136,
   "metadata": {},
   "outputs": [],
   "source": [
    "inner_df_2 = inner_df.copy()"
   ]
  },
  {
   "cell_type": "code",
   "execution_count": 135,
   "metadata": {},
   "outputs": [
    {
     "data": {
      "text/html": [
       "<div>\n",
       "<style scoped>\n",
       "    .dataframe tbody tr th:only-of-type {\n",
       "        vertical-align: middle;\n",
       "    }\n",
       "\n",
       "    .dataframe tbody tr th {\n",
       "        vertical-align: top;\n",
       "    }\n",
       "\n",
       "    .dataframe thead th {\n",
       "        text-align: right;\n",
       "    }\n",
       "</style>\n",
       "<table border=\"1\" class=\"dataframe\">\n",
       "  <thead>\n",
       "    <tr style=\"text-align: right;\">\n",
       "      <th></th>\n",
       "      <th>id</th>\n",
       "      <th>rating</th>\n",
       "      <th>start_time</th>\n",
       "      <th>end_time</th>\n",
       "      <th>speaker</th>\n",
       "      <th>comment</th>\n",
       "    </tr>\n",
       "  </thead>\n",
       "  <tbody>\n",
       "    <tr>\n",
       "      <th>7255</th>\n",
       "      <td>28d0657d-d1fe-4fe9-9ea6-21359c604bae</td>\n",
       "      <td>NaN</td>\n",
       "      <td>0:08:51</td>\n",
       "      <td>0:08:51</td>\n",
       "      <td>ch_1</td>\n",
       "      <td>Entendi, era dia ####. Você realizou alteração...</td>\n",
       "    </tr>\n",
       "    <tr>\n",
       "      <th>68126</th>\n",
       "      <td>3f27f20d-2bac-4828-a914-796482d141fe</td>\n",
       "      <td>NaN</td>\n",
       "      <td>0:04:19</td>\n",
       "      <td>0:04:19</td>\n",
       "      <td>ch_0</td>\n",
       "      <td>Okay</td>\n",
       "    </tr>\n",
       "    <tr>\n",
       "      <th>38906</th>\n",
       "      <td>34323ec9-bccd-4db7-8a74-cb0a21a9fcb2</td>\n",
       "      <td>5.0</td>\n",
       "      <td>0:03:40</td>\n",
       "      <td>0:03:40</td>\n",
       "      <td>ch_0</td>\n",
       "      <td>é, só ######## e #### anos, já deu pra conhece...</td>\n",
       "    </tr>\n",
       "  </tbody>\n",
       "</table>\n",
       "</div>"
      ],
      "text/plain": [
       "                                         id  rating start_time end_time  \\\n",
       "7255   28d0657d-d1fe-4fe9-9ea6-21359c604bae     NaN    0:08:51  0:08:51   \n",
       "68126  3f27f20d-2bac-4828-a914-796482d141fe     NaN    0:04:19  0:04:19   \n",
       "38906  34323ec9-bccd-4db7-8a74-cb0a21a9fcb2     5.0    0:03:40  0:03:40   \n",
       "\n",
       "      speaker                                            comment  \n",
       "7255     ch_1  Entendi, era dia ####. Você realizou alteração...  \n",
       "68126    ch_0                                               Okay  \n",
       "38906    ch_0  é, só ######## e #### anos, já deu pra conhece...  "
      ]
     },
     "execution_count": 135,
     "metadata": {},
     "output_type": "execute_result"
    }
   ],
   "source": [
    "inner_df.sample(3)"
   ]
  },
  {
   "cell_type": "code",
   "execution_count": 134,
   "metadata": {},
   "outputs": [
    {
     "data": {
      "text/html": [
       "<div>\n",
       "<style scoped>\n",
       "    .dataframe tbody tr th:only-of-type {\n",
       "        vertical-align: middle;\n",
       "    }\n",
       "\n",
       "    .dataframe tbody tr th {\n",
       "        vertical-align: top;\n",
       "    }\n",
       "\n",
       "    .dataframe thead th {\n",
       "        text-align: right;\n",
       "    }\n",
       "</style>\n",
       "<table border=\"1\" class=\"dataframe\">\n",
       "  <thead>\n",
       "    <tr style=\"text-align: right;\">\n",
       "      <th></th>\n",
       "      <th>id</th>\n",
       "      <th>rating</th>\n",
       "      <th>start_time</th>\n",
       "      <th>end_time</th>\n",
       "      <th>speaker</th>\n",
       "      <th>comment</th>\n",
       "    </tr>\n",
       "  </thead>\n",
       "  <tbody>\n",
       "    <tr>\n",
       "      <th>46297</th>\n",
       "      <td>36dbe7ca-aca6-4744-af4c-44dce0076a9c</td>\n",
       "      <td>NaN</td>\n",
       "      <td>0:02:56</td>\n",
       "      <td>0:02:56</td>\n",
       "      <td>ch_1</td>\n",
       "      <td>me passa teu c P f Por favor</td>\n",
       "    </tr>\n",
       "    <tr>\n",
       "      <th>37931</th>\n",
       "      <td>33d10100-477e-45ac-8103-7ea2755016e8</td>\n",
       "      <td>5.0</td>\n",
       "      <td>0:05:59</td>\n",
       "      <td>0:06:00</td>\n",
       "      <td>ch_1</td>\n",
       "      <td>sim, é a cota. ######. #### #### ela é #######...</td>\n",
       "    </tr>\n",
       "    <tr>\n",
       "      <th>51953</th>\n",
       "      <td>38b4ea06-8d15-41f5-b182-743c3d2013dc</td>\n",
       "      <td>NaN</td>\n",
       "      <td>0:08:11</td>\n",
       "      <td>0:08:12</td>\n",
       "      <td>ch_1</td>\n",
       "      <td>Isso agora quanto com</td>\n",
       "    </tr>\n",
       "  </tbody>\n",
       "</table>\n",
       "</div>"
      ],
      "text/plain": [
       "                                         id  rating start_time end_time  \\\n",
       "46297  36dbe7ca-aca6-4744-af4c-44dce0076a9c     NaN    0:02:56  0:02:56   \n",
       "37931  33d10100-477e-45ac-8103-7ea2755016e8     5.0    0:05:59  0:06:00   \n",
       "51953  38b4ea06-8d15-41f5-b182-743c3d2013dc     NaN    0:08:11  0:08:12   \n",
       "\n",
       "      speaker                                            comment  \n",
       "46297    ch_1                       me passa teu c P f Por favor  \n",
       "37931    ch_1  sim, é a cota. ######. #### #### ela é #######...  \n",
       "51953    ch_1                              Isso agora quanto com  "
      ]
     },
     "execution_count": 134,
     "metadata": {},
     "output_type": "execute_result"
    }
   ],
   "source": [
    "inner_df_2.sample(3)"
   ]
  },
  {
   "cell_type": "code",
   "execution_count": 139,
   "metadata": {},
   "outputs": [],
   "source": [
    "output = inner_df.query(\"speaker == 'ch_0'\").groupby(\"id\").tail(10)"
   ]
  },
  {
   "cell_type": "code",
   "execution_count": 140,
   "metadata": {},
   "outputs": [
    {
     "data": {
      "text/plain": [
       "[('t', 22399),\n",
       " ('pra', 18881),\n",
       " ('a', 8765),\n",
       " ('aqui', 7395),\n",
       " ('eu', 6826),\n",
       " ('ento', 6742),\n",
       " ('carto', 6694),\n",
       " ('no', 6571),\n",
       " ('conta', 6096),\n",
       " ('n', 5429)]"
      ]
     },
     "execution_count": 140,
     "metadata": {},
     "output_type": "execute_result"
    }
   ],
   "source": [
    "return_most_common(clean_text(inner_df_2, 'comment'), 10, 'comment')"
   ]
  },
  {
   "cell_type": "code",
   "execution_count": 76,
   "metadata": {},
   "outputs": [
    {
     "name": "stdout",
     "output_type": "stream",
     "text": [
      "[('o', 34622), ('que', 28754), ('de', 25876), ('e', 23418), ('a', 23390), ('eu', 22287), ('####', 21772), ('##', 18752), ('é', 18133), ('pra', 17504)]\n"
     ]
    }
   ],
   "source": []
  },
  {
   "cell_type": "code",
   "execution_count": 45,
   "metadata": {},
   "outputs": [
    {
     "name": "stderr",
     "output_type": "stream",
     "text": [
      "C:\\Users\\victo\\AppData\\Local\\Temp\\ipykernel_15116\\3622667897.py:1: UserWarning: Boolean Series key will be reindexed to match DataFrame index.\n",
      "  inner_df[inner_df.id == '265e5551-7fc3-40d4-b4e5-18e15b1f714b'][inner_df.speaker == 'ch_0'].tail(5)\n"
     ]
    },
    {
     "data": {
      "text/html": [
       "<div>\n",
       "<style scoped>\n",
       "    .dataframe tbody tr th:only-of-type {\n",
       "        vertical-align: middle;\n",
       "    }\n",
       "\n",
       "    .dataframe tbody tr th {\n",
       "        vertical-align: top;\n",
       "    }\n",
       "\n",
       "    .dataframe thead th {\n",
       "        text-align: right;\n",
       "    }\n",
       "</style>\n",
       "<table border=\"1\" class=\"dataframe\">\n",
       "  <thead>\n",
       "    <tr style=\"text-align: right;\">\n",
       "      <th></th>\n",
       "      <th>id</th>\n",
       "      <th>rating</th>\n",
       "      <th>start_time</th>\n",
       "      <th>end_time</th>\n",
       "      <th>speaker</th>\n",
       "      <th>comment</th>\n",
       "    </tr>\n",
       "  </thead>\n",
       "  <tbody>\n",
       "    <tr>\n",
       "      <th>75</th>\n",
       "      <td>265e5551-7fc3-40d4-b4e5-18e15b1f714b</td>\n",
       "      <td>5.0</td>\n",
       "      <td>0:10:28</td>\n",
       "      <td>0:10:29</td>\n",
       "      <td>ch_0</td>\n",
       "      <td>tá</td>\n",
       "    </tr>\n",
       "    <tr>\n",
       "      <th>77</th>\n",
       "      <td>265e5551-7fc3-40d4-b4e5-18e15b1f714b</td>\n",
       "      <td>5.0</td>\n",
       "      <td>0:10:37</td>\n",
       "      <td>0:10:38</td>\n",
       "      <td>ch_0</td>\n",
       "      <td>ué Sim, ué, então tá jóia</td>\n",
       "    </tr>\n",
       "    <tr>\n",
       "      <th>79</th>\n",
       "      <td>265e5551-7fc3-40d4-b4e5-18e15b1f714b</td>\n",
       "      <td>5.0</td>\n",
       "      <td>0:10:56</td>\n",
       "      <td>0:10:57</td>\n",
       "      <td>ch_0</td>\n",
       "      <td>só isso</td>\n",
       "    </tr>\n",
       "    <tr>\n",
       "      <th>81</th>\n",
       "      <td>265e5551-7fc3-40d4-b4e5-18e15b1f714b</td>\n",
       "      <td>5.0</td>\n",
       "      <td>0:11:03</td>\n",
       "      <td>0:11:04</td>\n",
       "      <td>ch_0</td>\n",
       "      <td>tá jóia Brigada</td>\n",
       "    </tr>\n",
       "    <tr>\n",
       "      <th>83</th>\n",
       "      <td>265e5551-7fc3-40d4-b4e5-18e15b1f714b</td>\n",
       "      <td>5.0</td>\n",
       "      <td>0:11:06</td>\n",
       "      <td>0:11:07</td>\n",
       "      <td>ch_0</td>\n",
       "      <td>Tchau</td>\n",
       "    </tr>\n",
       "  </tbody>\n",
       "</table>\n",
       "</div>"
      ],
      "text/plain": [
       "                                      id  rating start_time end_time speaker  \\\n",
       "75  265e5551-7fc3-40d4-b4e5-18e15b1f714b     5.0    0:10:28  0:10:29    ch_0   \n",
       "77  265e5551-7fc3-40d4-b4e5-18e15b1f714b     5.0    0:10:37  0:10:38    ch_0   \n",
       "79  265e5551-7fc3-40d4-b4e5-18e15b1f714b     5.0    0:10:56  0:10:57    ch_0   \n",
       "81  265e5551-7fc3-40d4-b4e5-18e15b1f714b     5.0    0:11:03  0:11:04    ch_0   \n",
       "83  265e5551-7fc3-40d4-b4e5-18e15b1f714b     5.0    0:11:06  0:11:07    ch_0   \n",
       "\n",
       "                      comment  \n",
       "75                         tá  \n",
       "77  ué Sim, ué, então tá jóia  \n",
       "79                    só isso  \n",
       "81            tá jóia Brigada  \n",
       "83                      Tchau  "
      ]
     },
     "execution_count": 45,
     "metadata": {},
     "output_type": "execute_result"
    }
   ],
   "source": [
    "inner_df[inner_df.id == '265e5551-7fc3-40d4-b4e5-18e15b1f714b'][inner_df.speaker == 'ch_0'].tail(5)"
   ]
  },
  {
   "cell_type": "code",
   "execution_count": null,
   "metadata": {},
   "outputs": [],
   "source": []
  }
 ],
 "metadata": {
  "kernelspec": {
   "display_name": "Python 3.9.13 ('dev')",
   "language": "python",
   "name": "python3"
  },
  "language_info": {
   "codemirror_mode": {
    "name": "ipython",
    "version": 3
   },
   "file_extension": ".py",
   "mimetype": "text/x-python",
   "name": "python",
   "nbconvert_exporter": "python",
   "pygments_lexer": "ipython3",
   "version": "3.9.13"
  },
  "orig_nbformat": 4,
  "vscode": {
   "interpreter": {
    "hash": "6ec50e2dddca2376d90d7f852e4579e00459be64bf68dd155a4947fa3ea19e2b"
   }
  }
 },
 "nbformat": 4,
 "nbformat_minor": 2
}
